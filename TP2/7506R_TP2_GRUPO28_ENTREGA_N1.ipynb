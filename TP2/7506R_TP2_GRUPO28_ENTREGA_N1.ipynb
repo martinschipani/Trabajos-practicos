{
  "cells": [
    {
      "cell_type": "markdown",
      "metadata": {
        "id": "ID6N1uTlMAmm"
      },
      "source": [
        "# <center>Trabajo Práctico N°2 : Criticas Cinematograficas</center>\n",
        "\n",
        "**Grupo:** N°28 - The Kingdom\n",
        "\n",
        "**Alumnos**:\n",
        "\n",
        "\n",
        "*   Jurgens, Cecilia Ines\n",
        "*   Schipani, Martin Sebastian\n",
        "*   Soto, Marylin Nicole\n",
        "\n",
        "**Corrector:** Franco Mastelli\n",
        "\n",
        "Todos los modelos y summits ingresados en kaggle fueron subidos a este [drive](https://drive.google.com/drive/folders/1-DGJCpWqsaQr9HeSF3--MXjqxYuMJX5g?usp=sharing).\n",
        "\n",
        "---\n"
      ]
    },
    {
      "cell_type": "code",
      "execution_count": null,
      "metadata": {
        "colab": {
          "base_uri": "https://localhost:8080/"
        },
        "id": "AJdRewQsL_Mv",
        "outputId": "2a9d5345-10f3-45e3-92db-ba8c17137bbb"
      },
      "outputs": [
        {
          "name": "stderr",
          "output_type": "stream",
          "text": [
            "[nltk_data] Downloading package punkt to /root/nltk_data...\n",
            "[nltk_data]   Package punkt is already up-to-date!\n",
            "[nltk_data] Downloading package wordnet to /root/nltk_data...\n",
            "[nltk_data]   Package wordnet is already up-to-date!\n",
            "[nltk_data] Downloading package stopwords to /root/nltk_data...\n",
            "[nltk_data]   Package stopwords is already up-to-date!\n",
            "[nltk_data] Downloading package words to /root/nltk_data...\n",
            "[nltk_data]   Package words is already up-to-date!\n",
            "[nltk_data] Downloading package omw-1.4 to /root/nltk_data...\n",
            "[nltk_data]   Package omw-1.4 is already up-to-date!\n",
            "[nltk_data] Downloading package snowball_data to /root/nltk_data...\n",
            "[nltk_data]   Package snowball_data is already up-to-date!\n"
          ]
        },
        {
          "name": "stdout",
          "output_type": "stream",
          "text": [
            "Drive already mounted at /content/drive; to attempt to forcibly remount, call drive.mount(\"/content/drive\", force_remount=True).\n"
          ]
        }
      ],
      "source": [
        "import pandas as pd\n",
        "import numpy as np\n",
        "import matplotlib.pyplot as plt\n",
        "import seaborn as sns\n",
        "import xgboost as xgb\n",
        "import tensorflow as tf\n",
        "import string\n",
        "import nltk\n",
        "\n",
        "from nltk.stem import WordNetLemmatizer\n",
        "from nltk.tokenize import word_tokenize\n",
        "from nltk.corpus import stopwords\n",
        "\n",
        "nltk.download('punkt')\n",
        "nltk.download('wordnet')\n",
        "nltk.download('stopwords')\n",
        "nltk.download('words')\n",
        "nltk.download('omw-1.4')\n",
        "nltk.download('snowball_data')\n",
        "\n",
        "from sklearn.model_selection import GridSearchCV, train_test_split, RandomizedSearchCV, cross_val_score, StratifiedKFold, RepeatedStratifiedKFold\n",
        "from sklearn.metrics import f1_score, accuracy_score, precision_score, recall_score, classification_report, confusion_matrix, make_scorer\n",
        "from sklearn.ensemble import RandomForestClassifier, VotingClassifier, StackingClassifier\n",
        "from sklearn.svm import SVC\n",
        "from sklearn.linear_model import LogisticRegression\n",
        "from sklearn.pipeline import Pipeline\n",
        "from sklearn.preprocessing import LabelEncoder\n",
        "from sklearn.feature_extraction import text\n",
        "from sklearn.feature_extraction.text import CountVectorizer, TfidfVectorizer\n",
        "from sklearn.naive_bayes import MultinomialNB, BernoulliNB\n",
        "from xgboost import XGBClassifier\n",
        "\n",
        "from tensorflow import keras\n",
        "from tensorflow.keras import layers\n",
        "from tensorflow.keras.models import Sequential\n",
        "from tensorflow.keras.layers import Embedding, LSTM, Dense, Dropout\n",
        "#from keras.wrappers.scikit_learn import KerasClassifier\n",
        "#from tensorflow.keras.preprocessing.text import Tokenizer\n",
        "#from tensorflow.keras.preprocessing.sequence import pad_sequences\n",
        "\n",
        "from scipy.stats import uniform, randint\n",
        "\n",
        "from nltk.stem.snowball import SpanishStemmer\n",
        "from nltk.tokenize import word_tokenize\n",
        "from nltk.corpus import stopwords\n",
        "\n",
        "import joblib\n",
        "\n",
        "from google.colab import drive\n",
        "drive.mount('/content/drive')"
      ]
    },
    {
      "cell_type": "code",
      "execution_count": null,
      "metadata": {
        "colab": {
          "base_uri": "https://localhost:8080/"
        },
        "id": "2lXYsBTYSBIP",
        "outputId": "05055d45-ac1d-488a-f97a-f9d5a19edc24"
      },
      "outputs": [
        {
          "name": "stdout",
          "output_type": "stream",
          "text": [
            "Requirement already satisfied: Unidecode in /usr/local/lib/python3.10/dist-packages (1.3.7)\n"
          ]
        }
      ],
      "source": [
        "!pip install Unidecode\n",
        "\n",
        "from unidecode import unidecode"
      ]
    },
    {
      "cell_type": "markdown",
      "metadata": {
        "id": "_aYeOwKccc_E"
      },
      "source": [
        "# Importacion de los Dataset"
      ]
    },
    {
      "cell_type": "markdown",
      "metadata": {
        "id": "6FnBTvE9P2c5"
      },
      "source": [
        "## Dataset Train"
      ]
    },
    {
      "cell_type": "code",
      "execution_count": null,
      "metadata": {
        "colab": {
          "base_uri": "https://localhost:8080/",
          "height": 206
        },
        "id": "Rmz0ZM_pQx4h",
        "outputId": "dcdbbd39-43d4-4207-9ac1-10c4451109e2"
      },
      "outputs": [
        {
          "data": {
            "text/html": [
              "\n",
              "  <div id=\"df-70451868-b993-447d-98f2-5df43a56f90b\" class=\"colab-df-container\">\n",
              "    <div>\n",
              "<style scoped>\n",
              "    .dataframe tbody tr th:only-of-type {\n",
              "        vertical-align: middle;\n",
              "    }\n",
              "\n",
              "    .dataframe tbody tr th {\n",
              "        vertical-align: top;\n",
              "    }\n",
              "\n",
              "    .dataframe thead th {\n",
              "        text-align: right;\n",
              "    }\n",
              "</style>\n",
              "<table border=\"1\" class=\"dataframe\">\n",
              "  <thead>\n",
              "    <tr style=\"text-align: right;\">\n",
              "      <th></th>\n",
              "      <th>ID</th>\n",
              "      <th>review_es</th>\n",
              "      <th>sentimiento</th>\n",
              "    </tr>\n",
              "  </thead>\n",
              "  <tbody>\n",
              "    <tr>\n",
              "      <th>0</th>\n",
              "      <td>0</td>\n",
              "      <td>Uno de los otros críticos ha mencionado que de...</td>\n",
              "      <td>positivo</td>\n",
              "    </tr>\n",
              "    <tr>\n",
              "      <th>1</th>\n",
              "      <td>1</td>\n",
              "      <td>Una pequeña pequeña producción.La técnica de f...</td>\n",
              "      <td>positivo</td>\n",
              "    </tr>\n",
              "    <tr>\n",
              "      <th>2</th>\n",
              "      <td>2</td>\n",
              "      <td>Pensé que esta era una manera maravillosa de p...</td>\n",
              "      <td>positivo</td>\n",
              "    </tr>\n",
              "    <tr>\n",
              "      <th>3</th>\n",
              "      <td>3</td>\n",
              "      <td>Básicamente, hay una familia donde un niño peq...</td>\n",
              "      <td>negativo</td>\n",
              "    </tr>\n",
              "    <tr>\n",
              "      <th>4</th>\n",
              "      <td>4</td>\n",
              "      <td>El \"amor en el tiempo\" de Petter Mattei es una...</td>\n",
              "      <td>positivo</td>\n",
              "    </tr>\n",
              "  </tbody>\n",
              "</table>\n",
              "</div>\n",
              "    <div class=\"colab-df-buttons\">\n",
              "\n",
              "  <div class=\"colab-df-container\">\n",
              "    <button class=\"colab-df-convert\" onclick=\"convertToInteractive('df-70451868-b993-447d-98f2-5df43a56f90b')\"\n",
              "            title=\"Convert this dataframe to an interactive table.\"\n",
              "            style=\"display:none;\">\n",
              "\n",
              "  <svg xmlns=\"http://www.w3.org/2000/svg\" height=\"24px\" viewBox=\"0 -960 960 960\">\n",
              "    <path d=\"M120-120v-720h720v720H120Zm60-500h600v-160H180v160Zm220 220h160v-160H400v160Zm0 220h160v-160H400v160ZM180-400h160v-160H180v160Zm440 0h160v-160H620v160ZM180-180h160v-160H180v160Zm440 0h160v-160H620v160Z\"/>\n",
              "  </svg>\n",
              "    </button>\n",
              "\n",
              "  <style>\n",
              "    .colab-df-container {\n",
              "      display:flex;\n",
              "      gap: 12px;\n",
              "    }\n",
              "\n",
              "    .colab-df-convert {\n",
              "      background-color: #E8F0FE;\n",
              "      border: none;\n",
              "      border-radius: 50%;\n",
              "      cursor: pointer;\n",
              "      display: none;\n",
              "      fill: #1967D2;\n",
              "      height: 32px;\n",
              "      padding: 0 0 0 0;\n",
              "      width: 32px;\n",
              "    }\n",
              "\n",
              "    .colab-df-convert:hover {\n",
              "      background-color: #E2EBFA;\n",
              "      box-shadow: 0px 1px 2px rgba(60, 64, 67, 0.3), 0px 1px 3px 1px rgba(60, 64, 67, 0.15);\n",
              "      fill: #174EA6;\n",
              "    }\n",
              "\n",
              "    .colab-df-buttons div {\n",
              "      margin-bottom: 4px;\n",
              "    }\n",
              "\n",
              "    [theme=dark] .colab-df-convert {\n",
              "      background-color: #3B4455;\n",
              "      fill: #D2E3FC;\n",
              "    }\n",
              "\n",
              "    [theme=dark] .colab-df-convert:hover {\n",
              "      background-color: #434B5C;\n",
              "      box-shadow: 0px 1px 3px 1px rgba(0, 0, 0, 0.15);\n",
              "      filter: drop-shadow(0px 1px 2px rgba(0, 0, 0, 0.3));\n",
              "      fill: #FFFFFF;\n",
              "    }\n",
              "  </style>\n",
              "\n",
              "    <script>\n",
              "      const buttonEl =\n",
              "        document.querySelector('#df-70451868-b993-447d-98f2-5df43a56f90b button.colab-df-convert');\n",
              "      buttonEl.style.display =\n",
              "        google.colab.kernel.accessAllowed ? 'block' : 'none';\n",
              "\n",
              "      async function convertToInteractive(key) {\n",
              "        const element = document.querySelector('#df-70451868-b993-447d-98f2-5df43a56f90b');\n",
              "        const dataTable =\n",
              "          await google.colab.kernel.invokeFunction('convertToInteractive',\n",
              "                                                    [key], {});\n",
              "        if (!dataTable) return;\n",
              "\n",
              "        const docLinkHtml = 'Like what you see? Visit the ' +\n",
              "          '<a target=\"_blank\" href=https://colab.research.google.com/notebooks/data_table.ipynb>data table notebook</a>'\n",
              "          + ' to learn more about interactive tables.';\n",
              "        element.innerHTML = '';\n",
              "        dataTable['output_type'] = 'display_data';\n",
              "        await google.colab.output.renderOutput(dataTable, element);\n",
              "        const docLink = document.createElement('div');\n",
              "        docLink.innerHTML = docLinkHtml;\n",
              "        element.appendChild(docLink);\n",
              "      }\n",
              "    </script>\n",
              "  </div>\n",
              "\n",
              "\n",
              "<div id=\"df-e444cd2e-f799-44dd-8842-11e7fe02694a\">\n",
              "  <button class=\"colab-df-quickchart\" onclick=\"quickchart('df-e444cd2e-f799-44dd-8842-11e7fe02694a')\"\n",
              "            title=\"Suggest charts\"\n",
              "            style=\"display:none;\">\n",
              "\n",
              "<svg xmlns=\"http://www.w3.org/2000/svg\" height=\"24px\"viewBox=\"0 0 24 24\"\n",
              "     width=\"24px\">\n",
              "    <g>\n",
              "        <path d=\"M19 3H5c-1.1 0-2 .9-2 2v14c0 1.1.9 2 2 2h14c1.1 0 2-.9 2-2V5c0-1.1-.9-2-2-2zM9 17H7v-7h2v7zm4 0h-2V7h2v10zm4 0h-2v-4h2v4z\"/>\n",
              "    </g>\n",
              "</svg>\n",
              "  </button>\n",
              "\n",
              "<style>\n",
              "  .colab-df-quickchart {\n",
              "      --bg-color: #E8F0FE;\n",
              "      --fill-color: #1967D2;\n",
              "      --hover-bg-color: #E2EBFA;\n",
              "      --hover-fill-color: #174EA6;\n",
              "      --disabled-fill-color: #AAA;\n",
              "      --disabled-bg-color: #DDD;\n",
              "  }\n",
              "\n",
              "  [theme=dark] .colab-df-quickchart {\n",
              "      --bg-color: #3B4455;\n",
              "      --fill-color: #D2E3FC;\n",
              "      --hover-bg-color: #434B5C;\n",
              "      --hover-fill-color: #FFFFFF;\n",
              "      --disabled-bg-color: #3B4455;\n",
              "      --disabled-fill-color: #666;\n",
              "  }\n",
              "\n",
              "  .colab-df-quickchart {\n",
              "    background-color: var(--bg-color);\n",
              "    border: none;\n",
              "    border-radius: 50%;\n",
              "    cursor: pointer;\n",
              "    display: none;\n",
              "    fill: var(--fill-color);\n",
              "    height: 32px;\n",
              "    padding: 0;\n",
              "    width: 32px;\n",
              "  }\n",
              "\n",
              "  .colab-df-quickchart:hover {\n",
              "    background-color: var(--hover-bg-color);\n",
              "    box-shadow: 0 1px 2px rgba(60, 64, 67, 0.3), 0 1px 3px 1px rgba(60, 64, 67, 0.15);\n",
              "    fill: var(--button-hover-fill-color);\n",
              "  }\n",
              "\n",
              "  .colab-df-quickchart-complete:disabled,\n",
              "  .colab-df-quickchart-complete:disabled:hover {\n",
              "    background-color: var(--disabled-bg-color);\n",
              "    fill: var(--disabled-fill-color);\n",
              "    box-shadow: none;\n",
              "  }\n",
              "\n",
              "  .colab-df-spinner {\n",
              "    border: 2px solid var(--fill-color);\n",
              "    border-color: transparent;\n",
              "    border-bottom-color: var(--fill-color);\n",
              "    animation:\n",
              "      spin 1s steps(1) infinite;\n",
              "  }\n",
              "\n",
              "  @keyframes spin {\n",
              "    0% {\n",
              "      border-color: transparent;\n",
              "      border-bottom-color: var(--fill-color);\n",
              "      border-left-color: var(--fill-color);\n",
              "    }\n",
              "    20% {\n",
              "      border-color: transparent;\n",
              "      border-left-color: var(--fill-color);\n",
              "      border-top-color: var(--fill-color);\n",
              "    }\n",
              "    30% {\n",
              "      border-color: transparent;\n",
              "      border-left-color: var(--fill-color);\n",
              "      border-top-color: var(--fill-color);\n",
              "      border-right-color: var(--fill-color);\n",
              "    }\n",
              "    40% {\n",
              "      border-color: transparent;\n",
              "      border-right-color: var(--fill-color);\n",
              "      border-top-color: var(--fill-color);\n",
              "    }\n",
              "    60% {\n",
              "      border-color: transparent;\n",
              "      border-right-color: var(--fill-color);\n",
              "    }\n",
              "    80% {\n",
              "      border-color: transparent;\n",
              "      border-right-color: var(--fill-color);\n",
              "      border-bottom-color: var(--fill-color);\n",
              "    }\n",
              "    90% {\n",
              "      border-color: transparent;\n",
              "      border-bottom-color: var(--fill-color);\n",
              "    }\n",
              "  }\n",
              "</style>\n",
              "\n",
              "  <script>\n",
              "    async function quickchart(key) {\n",
              "      const quickchartButtonEl =\n",
              "        document.querySelector('#' + key + ' button');\n",
              "      quickchartButtonEl.disabled = true;  // To prevent multiple clicks.\n",
              "      quickchartButtonEl.classList.add('colab-df-spinner');\n",
              "      try {\n",
              "        const charts = await google.colab.kernel.invokeFunction(\n",
              "            'suggestCharts', [key], {});\n",
              "      } catch (error) {\n",
              "        console.error('Error during call to suggestCharts:', error);\n",
              "      }\n",
              "      quickchartButtonEl.classList.remove('colab-df-spinner');\n",
              "      quickchartButtonEl.classList.add('colab-df-quickchart-complete');\n",
              "    }\n",
              "    (() => {\n",
              "      let quickchartButtonEl =\n",
              "        document.querySelector('#df-e444cd2e-f799-44dd-8842-11e7fe02694a button');\n",
              "      quickchartButtonEl.style.display =\n",
              "        google.colab.kernel.accessAllowed ? 'block' : 'none';\n",
              "    })();\n",
              "  </script>\n",
              "</div>\n",
              "    </div>\n",
              "  </div>\n"
            ],
            "text/plain": [
              "   ID                                          review_es sentimiento\n",
              "0   0  Uno de los otros críticos ha mencionado que de...    positivo\n",
              "1   1  Una pequeña pequeña producción.La técnica de f...    positivo\n",
              "2   2  Pensé que esta era una manera maravillosa de p...    positivo\n",
              "3   3  Básicamente, hay una familia donde un niño peq...    negativo\n",
              "4   4  El \"amor en el tiempo\" de Petter Mattei es una...    positivo"
            ]
          },
          "execution_count": 3,
          "metadata": {},
          "output_type": "execute_result"
        }
      ],
      "source": [
        "dataset_train_original = pd.read_csv(\"/content/drive/MyDrive/Orga Datos - TP2/train.csv\")\n",
        "df_train = dataset_train_original.copy()\n",
        "df_train.head()"
      ]
    },
    {
      "cell_type": "markdown",
      "metadata": {
        "id": "ub9EUop3w89N"
      },
      "source": [
        "Realizamos un pequeño analisis del dataset y sus variables."
      ]
    },
    {
      "cell_type": "code",
      "execution_count": null,
      "metadata": {
        "colab": {
          "base_uri": "https://localhost:8080/"
        },
        "id": "wdYlGsC6Stwf",
        "outputId": "d45a8ee0-a1d5-4387-c277-15b7ab20e17e"
      },
      "outputs": [
        {
          "data": {
            "text/plain": [
              "(50000, 3)"
            ]
          },
          "execution_count": 4,
          "metadata": {},
          "output_type": "execute_result"
        }
      ],
      "source": [
        "df_train.shape"
      ]
    },
    {
      "cell_type": "code",
      "execution_count": null,
      "metadata": {
        "colab": {
          "base_uri": "https://localhost:8080/"
        },
        "id": "GRWshAaJS0cG",
        "outputId": "fa7eb7c4-c8c4-4bc5-b56b-e60963fc8648"
      },
      "outputs": [
        {
          "data": {
            "text/plain": [
              "ID              int64\n",
              "review_es      object\n",
              "sentimiento    object\n",
              "dtype: object"
            ]
          },
          "execution_count": 5,
          "metadata": {},
          "output_type": "execute_result"
        }
      ],
      "source": [
        "df_train.dtypes"
      ]
    },
    {
      "cell_type": "code",
      "execution_count": null,
      "metadata": {
        "colab": {
          "base_uri": "https://localhost:8080/"
        },
        "id": "drza6-YrS6Zm",
        "outputId": "4d150fac-84b9-4cb1-f8eb-3c1d58e9ce4d"
      },
      "outputs": [
        {
          "data": {
            "text/plain": [
              "positivo    25000\n",
              "negativo    25000\n",
              "Name: sentimiento, dtype: int64"
            ]
          },
          "execution_count": 6,
          "metadata": {},
          "output_type": "execute_result"
        }
      ],
      "source": [
        "df_train.sentimiento.value_counts()"
      ]
    },
    {
      "cell_type": "code",
      "execution_count": null,
      "metadata": {
        "colab": {
          "base_uri": "https://localhost:8080/"
        },
        "id": "golQpCRWTBpZ",
        "outputId": "bfec13a5-4595-4572-8f56-a006880036fc"
      },
      "outputs": [
        {
          "data": {
            "text/plain": [
              "ID             0\n",
              "review_es      0\n",
              "sentimiento    0\n",
              "dtype: int64"
            ]
          },
          "execution_count": 7,
          "metadata": {},
          "output_type": "execute_result"
        }
      ],
      "source": [
        "df_train.isna().sum()"
      ]
    },
    {
      "cell_type": "markdown",
      "metadata": {
        "id": "x19jYkwtP6pY"
      },
      "source": [
        "## Dataset Test"
      ]
    },
    {
      "cell_type": "code",
      "execution_count": null,
      "metadata": {
        "colab": {
          "base_uri": "https://localhost:8080/",
          "height": 206
        },
        "id": "eZ1SJ-gccN4a",
        "outputId": "abf1ba4c-1f51-4767-ad96-aafbf9b9dba8"
      },
      "outputs": [
        {
          "data": {
            "text/html": [
              "\n",
              "  <div id=\"df-e71d26f9-5559-40fb-a84e-a4fea1893495\" class=\"colab-df-container\">\n",
              "    <div>\n",
              "<style scoped>\n",
              "    .dataframe tbody tr th:only-of-type {\n",
              "        vertical-align: middle;\n",
              "    }\n",
              "\n",
              "    .dataframe tbody tr th {\n",
              "        vertical-align: top;\n",
              "    }\n",
              "\n",
              "    .dataframe thead th {\n",
              "        text-align: right;\n",
              "    }\n",
              "</style>\n",
              "<table border=\"1\" class=\"dataframe\">\n",
              "  <thead>\n",
              "    <tr style=\"text-align: right;\">\n",
              "      <th></th>\n",
              "      <th>ID</th>\n",
              "      <th>review_es</th>\n",
              "    </tr>\n",
              "  </thead>\n",
              "  <tbody>\n",
              "    <tr>\n",
              "      <th>0</th>\n",
              "      <td>60000</td>\n",
              "      <td>La mayor virtud de esta película es su existen...</td>\n",
              "    </tr>\n",
              "    <tr>\n",
              "      <th>1</th>\n",
              "      <td>60001</td>\n",
              "      <td>No soy un experto cinéfilo, pero pocas veces m...</td>\n",
              "    </tr>\n",
              "    <tr>\n",
              "      <th>2</th>\n",
              "      <td>60002</td>\n",
              "      <td>Si no eres un incondicional del humor estilo T...</td>\n",
              "    </tr>\n",
              "    <tr>\n",
              "      <th>3</th>\n",
              "      <td>60003</td>\n",
              "      <td>No sé qué está pasando, si la gente se deja ll...</td>\n",
              "    </tr>\n",
              "    <tr>\n",
              "      <th>4</th>\n",
              "      <td>60004</td>\n",
              "      <td>Pero cuando amanece,y me quedo solo,siento en ...</td>\n",
              "    </tr>\n",
              "  </tbody>\n",
              "</table>\n",
              "</div>\n",
              "    <div class=\"colab-df-buttons\">\n",
              "\n",
              "  <div class=\"colab-df-container\">\n",
              "    <button class=\"colab-df-convert\" onclick=\"convertToInteractive('df-e71d26f9-5559-40fb-a84e-a4fea1893495')\"\n",
              "            title=\"Convert this dataframe to an interactive table.\"\n",
              "            style=\"display:none;\">\n",
              "\n",
              "  <svg xmlns=\"http://www.w3.org/2000/svg\" height=\"24px\" viewBox=\"0 -960 960 960\">\n",
              "    <path d=\"M120-120v-720h720v720H120Zm60-500h600v-160H180v160Zm220 220h160v-160H400v160Zm0 220h160v-160H400v160ZM180-400h160v-160H180v160Zm440 0h160v-160H620v160ZM180-180h160v-160H180v160Zm440 0h160v-160H620v160Z\"/>\n",
              "  </svg>\n",
              "    </button>\n",
              "\n",
              "  <style>\n",
              "    .colab-df-container {\n",
              "      display:flex;\n",
              "      gap: 12px;\n",
              "    }\n",
              "\n",
              "    .colab-df-convert {\n",
              "      background-color: #E8F0FE;\n",
              "      border: none;\n",
              "      border-radius: 50%;\n",
              "      cursor: pointer;\n",
              "      display: none;\n",
              "      fill: #1967D2;\n",
              "      height: 32px;\n",
              "      padding: 0 0 0 0;\n",
              "      width: 32px;\n",
              "    }\n",
              "\n",
              "    .colab-df-convert:hover {\n",
              "      background-color: #E2EBFA;\n",
              "      box-shadow: 0px 1px 2px rgba(60, 64, 67, 0.3), 0px 1px 3px 1px rgba(60, 64, 67, 0.15);\n",
              "      fill: #174EA6;\n",
              "    }\n",
              "\n",
              "    .colab-df-buttons div {\n",
              "      margin-bottom: 4px;\n",
              "    }\n",
              "\n",
              "    [theme=dark] .colab-df-convert {\n",
              "      background-color: #3B4455;\n",
              "      fill: #D2E3FC;\n",
              "    }\n",
              "\n",
              "    [theme=dark] .colab-df-convert:hover {\n",
              "      background-color: #434B5C;\n",
              "      box-shadow: 0px 1px 3px 1px rgba(0, 0, 0, 0.15);\n",
              "      filter: drop-shadow(0px 1px 2px rgba(0, 0, 0, 0.3));\n",
              "      fill: #FFFFFF;\n",
              "    }\n",
              "  </style>\n",
              "\n",
              "    <script>\n",
              "      const buttonEl =\n",
              "        document.querySelector('#df-e71d26f9-5559-40fb-a84e-a4fea1893495 button.colab-df-convert');\n",
              "      buttonEl.style.display =\n",
              "        google.colab.kernel.accessAllowed ? 'block' : 'none';\n",
              "\n",
              "      async function convertToInteractive(key) {\n",
              "        const element = document.querySelector('#df-e71d26f9-5559-40fb-a84e-a4fea1893495');\n",
              "        const dataTable =\n",
              "          await google.colab.kernel.invokeFunction('convertToInteractive',\n",
              "                                                    [key], {});\n",
              "        if (!dataTable) return;\n",
              "\n",
              "        const docLinkHtml = 'Like what you see? Visit the ' +\n",
              "          '<a target=\"_blank\" href=https://colab.research.google.com/notebooks/data_table.ipynb>data table notebook</a>'\n",
              "          + ' to learn more about interactive tables.';\n",
              "        element.innerHTML = '';\n",
              "        dataTable['output_type'] = 'display_data';\n",
              "        await google.colab.output.renderOutput(dataTable, element);\n",
              "        const docLink = document.createElement('div');\n",
              "        docLink.innerHTML = docLinkHtml;\n",
              "        element.appendChild(docLink);\n",
              "      }\n",
              "    </script>\n",
              "  </div>\n",
              "\n",
              "\n",
              "<div id=\"df-4f283e83-58a6-4b76-ab9e-5409257ed4d8\">\n",
              "  <button class=\"colab-df-quickchart\" onclick=\"quickchart('df-4f283e83-58a6-4b76-ab9e-5409257ed4d8')\"\n",
              "            title=\"Suggest charts\"\n",
              "            style=\"display:none;\">\n",
              "\n",
              "<svg xmlns=\"http://www.w3.org/2000/svg\" height=\"24px\"viewBox=\"0 0 24 24\"\n",
              "     width=\"24px\">\n",
              "    <g>\n",
              "        <path d=\"M19 3H5c-1.1 0-2 .9-2 2v14c0 1.1.9 2 2 2h14c1.1 0 2-.9 2-2V5c0-1.1-.9-2-2-2zM9 17H7v-7h2v7zm4 0h-2V7h2v10zm4 0h-2v-4h2v4z\"/>\n",
              "    </g>\n",
              "</svg>\n",
              "  </button>\n",
              "\n",
              "<style>\n",
              "  .colab-df-quickchart {\n",
              "      --bg-color: #E8F0FE;\n",
              "      --fill-color: #1967D2;\n",
              "      --hover-bg-color: #E2EBFA;\n",
              "      --hover-fill-color: #174EA6;\n",
              "      --disabled-fill-color: #AAA;\n",
              "      --disabled-bg-color: #DDD;\n",
              "  }\n",
              "\n",
              "  [theme=dark] .colab-df-quickchart {\n",
              "      --bg-color: #3B4455;\n",
              "      --fill-color: #D2E3FC;\n",
              "      --hover-bg-color: #434B5C;\n",
              "      --hover-fill-color: #FFFFFF;\n",
              "      --disabled-bg-color: #3B4455;\n",
              "      --disabled-fill-color: #666;\n",
              "  }\n",
              "\n",
              "  .colab-df-quickchart {\n",
              "    background-color: var(--bg-color);\n",
              "    border: none;\n",
              "    border-radius: 50%;\n",
              "    cursor: pointer;\n",
              "    display: none;\n",
              "    fill: var(--fill-color);\n",
              "    height: 32px;\n",
              "    padding: 0;\n",
              "    width: 32px;\n",
              "  }\n",
              "\n",
              "  .colab-df-quickchart:hover {\n",
              "    background-color: var(--hover-bg-color);\n",
              "    box-shadow: 0 1px 2px rgba(60, 64, 67, 0.3), 0 1px 3px 1px rgba(60, 64, 67, 0.15);\n",
              "    fill: var(--button-hover-fill-color);\n",
              "  }\n",
              "\n",
              "  .colab-df-quickchart-complete:disabled,\n",
              "  .colab-df-quickchart-complete:disabled:hover {\n",
              "    background-color: var(--disabled-bg-color);\n",
              "    fill: var(--disabled-fill-color);\n",
              "    box-shadow: none;\n",
              "  }\n",
              "\n",
              "  .colab-df-spinner {\n",
              "    border: 2px solid var(--fill-color);\n",
              "    border-color: transparent;\n",
              "    border-bottom-color: var(--fill-color);\n",
              "    animation:\n",
              "      spin 1s steps(1) infinite;\n",
              "  }\n",
              "\n",
              "  @keyframes spin {\n",
              "    0% {\n",
              "      border-color: transparent;\n",
              "      border-bottom-color: var(--fill-color);\n",
              "      border-left-color: var(--fill-color);\n",
              "    }\n",
              "    20% {\n",
              "      border-color: transparent;\n",
              "      border-left-color: var(--fill-color);\n",
              "      border-top-color: var(--fill-color);\n",
              "    }\n",
              "    30% {\n",
              "      border-color: transparent;\n",
              "      border-left-color: var(--fill-color);\n",
              "      border-top-color: var(--fill-color);\n",
              "      border-right-color: var(--fill-color);\n",
              "    }\n",
              "    40% {\n",
              "      border-color: transparent;\n",
              "      border-right-color: var(--fill-color);\n",
              "      border-top-color: var(--fill-color);\n",
              "    }\n",
              "    60% {\n",
              "      border-color: transparent;\n",
              "      border-right-color: var(--fill-color);\n",
              "    }\n",
              "    80% {\n",
              "      border-color: transparent;\n",
              "      border-right-color: var(--fill-color);\n",
              "      border-bottom-color: var(--fill-color);\n",
              "    }\n",
              "    90% {\n",
              "      border-color: transparent;\n",
              "      border-bottom-color: var(--fill-color);\n",
              "    }\n",
              "  }\n",
              "</style>\n",
              "\n",
              "  <script>\n",
              "    async function quickchart(key) {\n",
              "      const quickchartButtonEl =\n",
              "        document.querySelector('#' + key + ' button');\n",
              "      quickchartButtonEl.disabled = true;  // To prevent multiple clicks.\n",
              "      quickchartButtonEl.classList.add('colab-df-spinner');\n",
              "      try {\n",
              "        const charts = await google.colab.kernel.invokeFunction(\n",
              "            'suggestCharts', [key], {});\n",
              "      } catch (error) {\n",
              "        console.error('Error during call to suggestCharts:', error);\n",
              "      }\n",
              "      quickchartButtonEl.classList.remove('colab-df-spinner');\n",
              "      quickchartButtonEl.classList.add('colab-df-quickchart-complete');\n",
              "    }\n",
              "    (() => {\n",
              "      let quickchartButtonEl =\n",
              "        document.querySelector('#df-4f283e83-58a6-4b76-ab9e-5409257ed4d8 button');\n",
              "      quickchartButtonEl.style.display =\n",
              "        google.colab.kernel.accessAllowed ? 'block' : 'none';\n",
              "    })();\n",
              "  </script>\n",
              "</div>\n",
              "    </div>\n",
              "  </div>\n"
            ],
            "text/plain": [
              "      ID                                          review_es\n",
              "0  60000  La mayor virtud de esta película es su existen...\n",
              "1  60001  No soy un experto cinéfilo, pero pocas veces m...\n",
              "2  60002  Si no eres un incondicional del humor estilo T...\n",
              "3  60003  No sé qué está pasando, si la gente se deja ll...\n",
              "4  60004  Pero cuando amanece,y me quedo solo,siento en ..."
            ]
          },
          "execution_count": 8,
          "metadata": {},
          "output_type": "execute_result"
        }
      ],
      "source": [
        "dataset_test_original = pd.read_csv(\"/content/drive/MyDrive/Orga Datos - TP2/test.csv\")\n",
        "df_test = dataset_test_original.copy()\n",
        "df_test.head()"
      ]
    },
    {
      "cell_type": "markdown",
      "metadata": {
        "id": "Dxr5zlYdxGVe"
      },
      "source": [
        "Realizamos un pequeño analisis del dataset y sus variables."
      ]
    },
    {
      "cell_type": "code",
      "execution_count": null,
      "metadata": {
        "colab": {
          "base_uri": "https://localhost:8080/"
        },
        "id": "UrwqhdxkQSny",
        "outputId": "5045d227-c446-4e51-b6bb-9bf16759f5b6"
      },
      "outputs": [
        {
          "data": {
            "text/plain": [
              "(8599, 2)"
            ]
          },
          "execution_count": 9,
          "metadata": {},
          "output_type": "execute_result"
        }
      ],
      "source": [
        "df_test.shape"
      ]
    },
    {
      "cell_type": "code",
      "execution_count": null,
      "metadata": {
        "colab": {
          "base_uri": "https://localhost:8080/"
        },
        "id": "04PSlbMFQgWJ",
        "outputId": "0ca6473c-aa9b-480f-fa92-5b11603750a4"
      },
      "outputs": [
        {
          "data": {
            "text/plain": [
              "ID            int64\n",
              "review_es    object\n",
              "dtype: object"
            ]
          },
          "execution_count": 10,
          "metadata": {},
          "output_type": "execute_result"
        }
      ],
      "source": [
        "df_test.dtypes"
      ]
    },
    {
      "cell_type": "code",
      "execution_count": null,
      "metadata": {
        "colab": {
          "base_uri": "https://localhost:8080/"
        },
        "id": "PATjO0rzQpS1",
        "outputId": "13f2c550-3aa9-4c5c-eea6-ee0ba9018917"
      },
      "outputs": [
        {
          "data": {
            "text/plain": [
              "ID           0\n",
              "review_es    0\n",
              "dtype: int64"
            ]
          },
          "execution_count": 11,
          "metadata": {},
          "output_type": "execute_result"
        }
      ],
      "source": [
        "df_test.isna().sum()"
      ]
    },
    {
      "cell_type": "markdown",
      "metadata": {
        "id": "teCqodGIufet"
      },
      "source": [
        "## Funciones Auxiliares"
      ]
    },
    {
      "cell_type": "code",
      "execution_count": null,
      "metadata": {
        "id": "s_i73DyKuDf0"
      },
      "outputs": [],
      "source": [
        "def imprimir_matriz_confusion(x, y):\n",
        "  print(classification_report(x, y, digits = 5))\n",
        "  tabla = confusion_matrix(x, y)\n",
        "  sns.heatmap(tabla, cmap = 'cubehelix', annot = True, fmt = 'g')\n",
        "  plt.xlabel('Predicho')\n",
        "  plt.ylabel('True')"
      ]
    },
    {
      "cell_type": "code",
      "execution_count": null,
      "metadata": {
        "id": "qsu7D60iulSd"
      },
      "outputs": [],
      "source": [
        "def imprimir_metricas(y1, y2):\n",
        "  accuracy = accuracy_score(y1, y2)\n",
        "  recall = recall_score(y1, y2)\n",
        "  f1 = f1_score(y1, y2)\n",
        "  precision = precision_score(y1, y2)\n",
        "\n",
        "  print('Metricas del modelo: ')\n",
        "  print()\n",
        "  print(\"Accuracy: \" + str(accuracy))\n",
        "  print(\"Recall: \" + str(recall))\n",
        "  print(\"F1 Score: \" + str(f1))\n",
        "  print(\"Precision: \" + str(precision))"
      ]
    },
    {
      "cell_type": "code",
      "execution_count": null,
      "metadata": {
        "id": "4ADwsnF_NWn5"
      },
      "outputs": [],
      "source": [
        "stopword_es = set(stopwords.words('spanish'))\n",
        "def preprocesamiento(texto):\n",
        "  texto = unidecode(texto.lower())\n",
        "  tokens = word_tokenize(texto)\n",
        "  texto = \" \".join([word for word in tokens if word not in string.punctuation])\n",
        "  tokens = word_tokenize(texto)\n",
        "  texto = \" \".join([word for word in tokens if word not in stopword_es])\n",
        "  tokens = word_tokenize(texto)\n",
        "  texto = \" \".join([word for word in tokens if len(word) > 4 and not word.isdigit()])\n",
        "  return texto\n",
        "\n",
        "stemmer = SpanishStemmer()"
      ]
    },
    {
      "cell_type": "markdown",
      "metadata": {
        "id": "c8lu5LipflBa"
      },
      "source": [
        "# Preprocesamiento"
      ]
    },
    {
      "cell_type": "markdown",
      "metadata": {
        "id": "fjIZjTxzxPYn"
      },
      "source": [
        "Primero realizamos una transformacion de la variable sentimiento para poder entrenar a nuestros modelos y realizar las predicciones. Le asignamos variables numericas a esta variable. El valor 'positivo' lo reemplazamos por 1 y el valor 'negativo' por 0."
      ]
    },
    {
      "cell_type": "code",
      "execution_count": null,
      "metadata": {
        "id": "LGosyX_UkgJU"
      },
      "outputs": [],
      "source": [
        "df_train['sentimiento'] = df_train['sentimiento'].map({'positivo':1, 'negativo': 0})"
      ]
    },
    {
      "cell_type": "markdown",
      "metadata": {
        "id": "KygW18rJyBlo"
      },
      "source": [
        "Utilizamos el metodo de bag of words para realizar el preprocesamiento de las criticas y asi reducir el tamaño del conjunto de datos. Filtramos las stopwords usando la libreria de NLTK, transformamos todo el texto en minuscula, eliminamos las puntuaciones, eliminamos todas las palabras que tengas un largo de 3 o menos caracteres y sus digitos. Asi obtenemos un dataset limpio y se puede procesar con más facilidad."
      ]
    },
    {
      "cell_type": "code",
      "execution_count": null,
      "metadata": {
        "id": "5jpc8-ZTT06f"
      },
      "outputs": [],
      "source": [
        "df_train['review_es'] = df_train['review_es'].apply(lambda x: preprocesamiento(x))\n",
        "df_train['review_es'] = df_train['review_es'].apply(lambda x: ' '.join([stemmer.stem(word) for word in word_tokenize(x)]))"
      ]
    },
    {
      "cell_type": "code",
      "execution_count": null,
      "metadata": {
        "id": "cNoQvGMzVFjr"
      },
      "outputs": [],
      "source": [
        "#vectorizer = CountVectorizer(max_features= 10000, min_df = 20)\n",
        "vectorizer = TfidfVectorizer(max_features= 10000, min_df = 20)\n",
        "bag_of_words = vectorizer.fit_transform(df_train['review_es'])\n",
        "vocabulary = vectorizer.get_feature_names_out()"
      ]
    },
    {
      "cell_type": "code",
      "execution_count": null,
      "metadata": {
        "colab": {
          "base_uri": "https://localhost:8080/"
        },
        "id": "0WDH3vPlXe7W",
        "outputId": "a36dda5b-22b8-4f2f-d6ff-03e94eeaa192"
      },
      "outputs": [
        {
          "data": {
            "text/plain": [
              "10000"
            ]
          },
          "execution_count": 28,
          "metadata": {},
          "output_type": "execute_result"
        }
      ],
      "source": [
        "len(vocabulary)"
      ]
    },
    {
      "cell_type": "code",
      "execution_count": null,
      "metadata": {
        "id": "Z91wvYD7XkDr"
      },
      "outputs": [],
      "source": [
        "labels = df_train['sentimiento'].tolist()"
      ]
    },
    {
      "cell_type": "markdown",
      "metadata": {
        "id": "k0TgvszJnwjc"
      },
      "source": [
        "# Modelos"
      ]
    },
    {
      "cell_type": "markdown",
      "metadata": {
        "id": "rV-fHXR6Y6wX"
      },
      "source": [
        "## Random Forest"
      ]
    },
    {
      "cell_type": "code",
      "execution_count": null,
      "metadata": {
        "id": "_flt4A6VY-fD"
      },
      "outputs": [],
      "source": [
        "x_train, x_test, y_train, y_test = train_test_split(bag_of_words,\n",
        "                                                    labels,\n",
        "                                                    test_size= 0.2,\n",
        "                                                    random_state = 28)"
      ]
    },
    {
      "cell_type": "code",
      "execution_count": null,
      "metadata": {
        "colab": {
          "base_uri": "https://localhost:8080/",
          "height": 610
        },
        "id": "zVzkFIm6ZS7Q",
        "outputId": "77d622f5-9ee8-4b4c-f264-dc01a71d132c"
      },
      "outputs": [
        {
          "name": "stdout",
          "output_type": "stream",
          "text": [
            "              precision    recall  f1-score   support\n",
            "\n",
            "           0    0.80800   0.84199   0.82464      4968\n",
            "           1    0.83724   0.80246   0.81948      5032\n",
            "\n",
            "    accuracy                        0.82210     10000\n",
            "   macro avg    0.82262   0.82223   0.82206     10000\n",
            "weighted avg    0.82271   0.82210   0.82205     10000\n",
            "\n"
          ]
        },
        {
          "data": {
            "image/png": "[encoded data removed]",
            "text/plain": [
              "<Figure size 640x480 with 2 Axes>"
            ]
          },
          "metadata": {},
          "output_type": "display_data"
        }
      ],
      "source": [
        "random_forest = RandomForestClassifier(n_estimators=100, random_state= 28)\n",
        "random_forest.fit(x_train, y_train)\n",
        "y_pred_rf_default = random_forest.predict(x_test)\n",
        "imprimir_matriz_confusion(y_test, y_pred_rf_default)"
      ]
    },
    {
      "cell_type": "code",
      "execution_count": null,
      "metadata": {
        "colab": {
          "base_uri": "https://localhost:8080/"
        },
        "id": "bltbfhuim3qk",
        "outputId": "fdc78507-3439-439a-bebe-d6ae286bef38"
      },
      "outputs": [
        {
          "name": "stdout",
          "output_type": "stream",
          "text": [
            "Metricas del modelo: \n",
            "\n",
            "Accuracy: 0.8221\n",
            "Recall: 0.8024642289348172\n",
            "F1 Score: 0.819482496194825\n",
            "Precision: 0.8372382334646485\n"
          ]
        }
      ],
      "source": [
        "imprimir_metricas(y_test, y_pred_rf_default)"
      ]
    },
    {
      "cell_type": "markdown",
      "metadata": {
        "id": "7brhAhd9brwF"
      },
      "source": [
        "### Busqueda de Hiperparametros"
      ]
    },
    {
      "cell_type": "code",
      "execution_count": null,
      "metadata": {
        "id": "f-jDI_D4buZk"
      },
      "outputs": [],
      "source": [
        "n = 10\n",
        "params_grid = {\n",
        "    'criterion': ['gini', 'entropy', 'log_loss'],\n",
        "    'n_estimators': list(range(50,500)),\n",
        "    'max_features': ['sqrt', 'log2'],\n",
        "    'min_samples_leaf': list(range(1,30)),\n",
        "    'max_depth': list(range(1,30))\n",
        "}\n",
        "\n",
        "folds = 5\n",
        "\n",
        "kfoldcv = StratifiedKFold(n_splits = folds)\n",
        "\n",
        "scorer_fn = make_scorer(f1_score, average= 'weighted')"
      ]
    },
    {
      "cell_type": "code",
      "execution_count": null,
      "metadata": {
        "colab": {
          "base_uri": "https://localhost:8080/"
        },
        "id": "P8rMPVzPccdP",
        "outputId": "645ab09f-5f37-4e18-ed91-54af1787d808"
      },
      "outputs": [
        {
          "name": "stdout",
          "output_type": "stream",
          "text": [
            "Fitting 5 folds for each of 10 candidates, totalling 50 fits\n",
            "[CV 1/5] END criterion=entropy, max_depth=21, max_features=sqrt, min_samples_leaf=18, n_estimators=184;, score=0.808 total time=  19.6s\n",
            "[CV 2/5] END criterion=entropy, max_depth=21, max_features=sqrt, min_samples_leaf=18, n_estimators=184;, score=0.807 total time=  19.7s\n",
            "[CV 3/5] END criterion=entropy, max_depth=21, max_features=sqrt, min_samples_leaf=18, n_estimators=184;, score=0.814 total time=  19.2s\n",
            "[CV 4/5] END criterion=entropy, max_depth=21, max_features=sqrt, min_samples_leaf=18, n_estimators=184;, score=0.814 total time=  18.7s\n",
            "[CV 5/5] END criterion=entropy, max_depth=21, max_features=sqrt, min_samples_leaf=18, n_estimators=184;, score=0.807 total time=  18.7s\n",
            "[CV 1/5] END criterion=gini, max_depth=17, max_features=sqrt, min_samples_leaf=22, n_estimators=183;, score=0.805 total time=  13.4s\n",
            "[CV 2/5] END criterion=gini, max_depth=17, max_features=sqrt, min_samples_leaf=22, n_estimators=183;, score=0.806 total time=  12.1s\n",
            "[CV 3/5] END criterion=gini, max_depth=17, max_features=sqrt, min_samples_leaf=22, n_estimators=183;, score=0.808 total time=  12.6s\n",
            "[CV 4/5] END criterion=gini, max_depth=17, max_features=sqrt, min_samples_leaf=22, n_estimators=183;, score=0.813 total time=  13.3s\n",
            "[CV 5/5] END criterion=gini, max_depth=17, max_features=sqrt, min_samples_leaf=22, n_estimators=183;, score=0.804 total time=  13.4s\n",
            "[CV 1/5] END criterion=gini, max_depth=6, max_features=log2, min_samples_leaf=6, n_estimators=81;, score=0.750 total time=   0.9s\n",
            "[CV 2/5] END criterion=gini, max_depth=6, max_features=log2, min_samples_leaf=6, n_estimators=81;, score=0.740 total time=   1.0s\n",
            "[CV 3/5] END criterion=gini, max_depth=6, max_features=log2, min_samples_leaf=6, n_estimators=81;, score=0.754 total time=   0.9s\n",
            "[CV 4/5] END criterion=gini, max_depth=6, max_features=log2, min_samples_leaf=6, n_estimators=81;, score=0.744 total time=   1.0s\n",
            "[CV 5/5] END criterion=gini, max_depth=6, max_features=log2, min_samples_leaf=6, n_estimators=81;, score=0.745 total time=   1.0s\n",
            "[CV 1/5] END criterion=log_loss, max_depth=7, max_features=log2, min_samples_leaf=5, n_estimators=89;, score=0.761 total time=   1.2s\n",
            "[CV 2/5] END criterion=log_loss, max_depth=7, max_features=log2, min_samples_leaf=5, n_estimators=89;, score=0.764 total time=   1.1s\n",
            "[CV 3/5] END criterion=log_loss, max_depth=7, max_features=log2, min_samples_leaf=5, n_estimators=89;, score=0.768 total time=   1.1s\n",
            "[CV 4/5] END criterion=log_loss, max_depth=7, max_features=log2, min_samples_leaf=5, n_estimators=89;, score=0.759 total time=   1.5s\n",
            "[CV 5/5] END criterion=log_loss, max_depth=7, max_features=log2, min_samples_leaf=5, n_estimators=89;, score=0.767 total time=   1.6s\n",
            "[CV 1/5] END criterion=entropy, max_depth=11, max_features=sqrt, min_samples_leaf=13, n_estimators=226;, score=0.799 total time=  12.7s\n",
            "[CV 2/5] END criterion=entropy, max_depth=11, max_features=sqrt, min_samples_leaf=13, n_estimators=226;, score=0.801 total time=  13.6s\n",
            "[CV 3/5] END criterion=entropy, max_depth=11, max_features=sqrt, min_samples_leaf=13, n_estimators=226;, score=0.807 total time=  13.5s\n",
            "[CV 4/5] END criterion=entropy, max_depth=11, max_features=sqrt, min_samples_leaf=13, n_estimators=226;, score=0.808 total time=  12.8s\n",
            "[CV 5/5] END criterion=entropy, max_depth=11, max_features=sqrt, min_samples_leaf=13, n_estimators=226;, score=0.798 total time=  12.4s\n",
            "[CV 1/5] END criterion=log_loss, max_depth=17, max_features=sqrt, min_samples_leaf=29, n_estimators=228;, score=0.801 total time=  17.8s\n",
            "[CV 2/5] END criterion=log_loss, max_depth=17, max_features=sqrt, min_samples_leaf=29, n_estimators=228;, score=0.803 total time=  17.8s\n",
            "[CV 3/5] END criterion=log_loss, max_depth=17, max_features=sqrt, min_samples_leaf=29, n_estimators=228;, score=0.811 total time=  17.9s\n",
            "[CV 4/5] END criterion=log_loss, max_depth=17, max_features=sqrt, min_samples_leaf=29, n_estimators=228;, score=0.811 total time=  17.4s\n",
            "[CV 5/5] END criterion=log_loss, max_depth=17, max_features=sqrt, min_samples_leaf=29, n_estimators=228;, score=0.806 total time=  17.2s\n",
            "[CV 1/5] END criterion=gini, max_depth=9, max_features=log2, min_samples_leaf=28, n_estimators=377;, score=0.805 total time=   5.1s\n",
            "[CV 2/5] END criterion=gini, max_depth=9, max_features=log2, min_samples_leaf=28, n_estimators=377;, score=0.810 total time=   4.3s\n",
            "[CV 3/5] END criterion=gini, max_depth=9, max_features=log2, min_samples_leaf=28, n_estimators=377;, score=0.815 total time=   4.7s\n",
            "[CV 4/5] END criterion=gini, max_depth=9, max_features=log2, min_samples_leaf=28, n_estimators=377;, score=0.807 total time=   5.8s\n",
            "[CV 5/5] END criterion=gini, max_depth=9, max_features=log2, min_samples_leaf=28, n_estimators=377;, score=0.809 total time=   4.3s\n",
            "[CV 1/5] END criterion=log_loss, max_depth=22, max_features=log2, min_samples_leaf=1, n_estimators=376;, score=0.826 total time=  12.5s\n",
            "[CV 2/5] END criterion=log_loss, max_depth=22, max_features=log2, min_samples_leaf=1, n_estimators=376;, score=0.827 total time=  11.1s\n",
            "[CV 3/5] END criterion=log_loss, max_depth=22, max_features=log2, min_samples_leaf=1, n_estimators=376;, score=0.832 total time=  12.0s\n",
            "[CV 4/5] END criterion=log_loss, max_depth=22, max_features=log2, min_samples_leaf=1, n_estimators=376;, score=0.829 total time=  12.6s\n",
            "[CV 5/5] END criterion=log_loss, max_depth=22, max_features=log2, min_samples_leaf=1, n_estimators=376;, score=0.827 total time=  12.1s\n",
            "[CV 1/5] END criterion=entropy, max_depth=4, max_features=log2, min_samples_leaf=4, n_estimators=288;, score=0.785 total time=   3.3s\n",
            "[CV 2/5] END criterion=entropy, max_depth=4, max_features=log2, min_samples_leaf=4, n_estimators=288;, score=0.785 total time=   2.9s\n",
            "[CV 3/5] END criterion=entropy, max_depth=4, max_features=log2, min_samples_leaf=4, n_estimators=288;, score=0.791 total time=   2.9s\n",
            "[CV 4/5] END criterion=entropy, max_depth=4, max_features=log2, min_samples_leaf=4, n_estimators=288;, score=0.785 total time=   3.0s\n",
            "[CV 5/5] END criterion=entropy, max_depth=4, max_features=log2, min_samples_leaf=4, n_estimators=288;, score=0.788 total time=   4.0s\n",
            "[CV 1/5] END criterion=log_loss, max_depth=20, max_features=log2, min_samples_leaf=13, n_estimators=221;, score=0.814 total time=   4.6s\n",
            "[CV 2/5] END criterion=log_loss, max_depth=20, max_features=log2, min_samples_leaf=13, n_estimators=221;, score=0.824 total time=   3.9s\n",
            "[CV 3/5] END criterion=log_loss, max_depth=20, max_features=log2, min_samples_leaf=13, n_estimators=221;, score=0.823 total time=   4.1s\n",
            "[CV 4/5] END criterion=log_loss, max_depth=20, max_features=log2, min_samples_leaf=13, n_estimators=221;, score=0.820 total time=   5.7s\n",
            "[CV 5/5] END criterion=log_loss, max_depth=20, max_features=log2, min_samples_leaf=13, n_estimators=221;, score=0.816 total time=   4.0s\n"
          ]
        },
        {
          "data": {
            "text/plain": [
              "array([0.8099946 , 0.80717576, 0.74665244, 0.76347542, 0.80273695,\n",
              "       0.806473  , 0.80915946, 0.82811475, 0.78694079, 0.81953862])"
            ]
          },
          "execution_count": 416,
          "metadata": {},
          "output_type": "execute_result"
        }
      ],
      "source": [
        "random_forest = RandomForestClassifier(random_state= 28)\n",
        "rf_rs = RandomizedSearchCV(estimator = random_forest, param_distributions= params_grid, cv = kfoldcv, verbose = 3, scoring = scorer_fn)\n",
        "\n",
        "rf_rs.fit(x_train,y_train)\n",
        "rf_rs.cv_results_['mean_test_score']"
      ]
    },
    {
      "cell_type": "code",
      "execution_count": null,
      "metadata": {
        "colab": {
          "base_uri": "https://localhost:8080/"
        },
        "id": "xbNjwwwYdFX5",
        "outputId": "33f99a92-5078-48bd-a347-649ae4270b35"
      },
      "outputs": [
        {
          "name": "stdout",
          "output_type": "stream",
          "text": [
            "Mejores Hiperparametros: {'n_estimators': 376, 'min_samples_leaf': 1, 'max_features': 'log2', 'max_depth': 22, 'criterion': 'log_loss'}\n",
            "Mejor F1 Score:  0.8281147496735999\n"
          ]
        }
      ],
      "source": [
        "best_params = rf_rs.best_params_\n",
        "best_estimator = rf_rs.best_estimator_\n",
        "print(\"Mejores Hiperparametros:\", rf_rs.best_params_)\n",
        "print('Mejor F1 Score: ', rf_rs.best_score_)"
      ]
    },
    {
      "cell_type": "code",
      "execution_count": null,
      "metadata": {
        "colab": {
          "base_uri": "https://localhost:8080/",
          "height": 610
        },
        "id": "O0Rcyp80hx-F",
        "outputId": "15cb73c0-6a1c-416f-9635-c0767c24e25a"
      },
      "outputs": [
        {
          "name": "stdout",
          "output_type": "stream",
          "text": [
            "              precision    recall  f1-score   support\n",
            "\n",
            "           0    0.83898   0.80757   0.82297      4968\n",
            "           1    0.81679   0.84698   0.83161      5032\n",
            "\n",
            "    accuracy                        0.82740     10000\n",
            "   macro avg    0.82788   0.82727   0.82729     10000\n",
            "weighted avg    0.82781   0.82740   0.82732     10000\n",
            "\n"
          ]
        },
        {
          "data": {
            "image/png": "[encoded data removed]",
            "text/plain": [
              "<Figure size 640x480 with 2 Axes>"
            ]
          },
          "metadata": {},
          "output_type": "display_data"
        }
      ],
      "source": [
        "y_pred_rf = best_estimator.predict(x_test)\n",
        "imprimir_matriz_confusion(y_test, y_pred_rf)"
      ]
    },
    {
      "cell_type": "code",
      "execution_count": null,
      "metadata": {
        "colab": {
          "base_uri": "https://localhost:8080/"
        },
        "id": "a6DyBXpwqwGF",
        "outputId": "9a9ad067-3432-4f40-9626-62ab8c328a18"
      },
      "outputs": [
        {
          "name": "stdout",
          "output_type": "stream",
          "text": [
            "Metricas del modelo: \n",
            "\n",
            "Accuracy: 0.8274\n",
            "Recall: 0.8469793322734499\n",
            "F1 Score: 0.831609756097561\n",
            "Precision: 0.8167880413951706\n"
          ]
        }
      ],
      "source": [
        "imprimir_metricas(y_test, y_pred_rf)"
      ]
    },
    {
      "cell_type": "code",
      "execution_count": null,
      "metadata": {
        "colab": {
          "base_uri": "https://localhost:8080/"
        },
        "id": "NFjpUq8UzgpB",
        "outputId": "9b42bf91-811c-435f-8364-4f3478ff7e92"
      },
      "outputs": [
        {
          "data": {
            "text/plain": [
              "['model_rf.joblib']"
            ]
          },
          "execution_count": 421,
          "metadata": {},
          "output_type": "execute_result"
        }
      ],
      "source": [
        "joblib.dump(best_estimator, 'model_rf.joblib')"
      ]
    },
    {
      "cell_type": "code",
      "execution_count": null,
      "metadata": {
        "colab": {
          "base_uri": "https://localhost:8080/",
          "height": 424
        },
        "id": "9JfXjDc1rghY",
        "outputId": "f6c56997-b383-409b-a259-618b5dbeb5ff"
      },
      "outputs": [
        {
          "data": {
            "text/html": [
              "\n",
              "  <div id=\"df-58ab4efd-f121-4799-a139-64d8ef5676ac\" class=\"colab-df-container\">\n",
              "    <div>\n",
              "<style scoped>\n",
              "    .dataframe tbody tr th:only-of-type {\n",
              "        vertical-align: middle;\n",
              "    }\n",
              "\n",
              "    .dataframe tbody tr th {\n",
              "        vertical-align: top;\n",
              "    }\n",
              "\n",
              "    .dataframe thead th {\n",
              "        text-align: right;\n",
              "    }\n",
              "</style>\n",
              "<table border=\"1\" class=\"dataframe\">\n",
              "  <thead>\n",
              "    <tr style=\"text-align: right;\">\n",
              "      <th></th>\n",
              "      <th>ID</th>\n",
              "      <th>sentimiento</th>\n",
              "    </tr>\n",
              "  </thead>\n",
              "  <tbody>\n",
              "    <tr>\n",
              "      <th>0</th>\n",
              "      <td>60000</td>\n",
              "      <td>negativo</td>\n",
              "    </tr>\n",
              "    <tr>\n",
              "      <th>1</th>\n",
              "      <td>60001</td>\n",
              "      <td>negativo</td>\n",
              "    </tr>\n",
              "    <tr>\n",
              "      <th>2</th>\n",
              "      <td>60002</td>\n",
              "      <td>negativo</td>\n",
              "    </tr>\n",
              "    <tr>\n",
              "      <th>3</th>\n",
              "      <td>60003</td>\n",
              "      <td>negativo</td>\n",
              "    </tr>\n",
              "    <tr>\n",
              "      <th>4</th>\n",
              "      <td>60004</td>\n",
              "      <td>negativo</td>\n",
              "    </tr>\n",
              "    <tr>\n",
              "      <th>...</th>\n",
              "      <td>...</td>\n",
              "      <td>...</td>\n",
              "    </tr>\n",
              "    <tr>\n",
              "      <th>8594</th>\n",
              "      <td>68594</td>\n",
              "      <td>positivo</td>\n",
              "    </tr>\n",
              "    <tr>\n",
              "      <th>8595</th>\n",
              "      <td>68595</td>\n",
              "      <td>negativo</td>\n",
              "    </tr>\n",
              "    <tr>\n",
              "      <th>8596</th>\n",
              "      <td>68596</td>\n",
              "      <td>positivo</td>\n",
              "    </tr>\n",
              "    <tr>\n",
              "      <th>8597</th>\n",
              "      <td>68597</td>\n",
              "      <td>negativo</td>\n",
              "    </tr>\n",
              "    <tr>\n",
              "      <th>8598</th>\n",
              "      <td>68598</td>\n",
              "      <td>negativo</td>\n",
              "    </tr>\n",
              "  </tbody>\n",
              "</table>\n",
              "<p>8599 rows × 2 columns</p>\n",
              "</div>\n",
              "    <div class=\"colab-df-buttons\">\n",
              "\n",
              "  <div class=\"colab-df-container\">\n",
              "    <button class=\"colab-df-convert\" onclick=\"convertToInteractive('df-58ab4efd-f121-4799-a139-64d8ef5676ac')\"\n",
              "            title=\"Convert this dataframe to an interactive table.\"\n",
              "            style=\"display:none;\">\n",
              "\n",
              "  <svg xmlns=\"http://www.w3.org/2000/svg\" height=\"24px\" viewBox=\"0 -960 960 960\">\n",
              "    <path d=\"M120-120v-720h720v720H120Zm60-500h600v-160H180v160Zm220 220h160v-160H400v160Zm0 220h160v-160H400v160ZM180-400h160v-160H180v160Zm440 0h160v-160H620v160ZM180-180h160v-160H180v160Zm440 0h160v-160H620v160Z\"/>\n",
              "  </svg>\n",
              "    </button>\n",
              "\n",
              "  <style>\n",
              "    .colab-df-container {\n",
              "      display:flex;\n",
              "      gap: 12px;\n",
              "    }\n",
              "\n",
              "    .colab-df-convert {\n",
              "      background-color: #E8F0FE;\n",
              "      border: none;\n",
              "      border-radius: 50%;\n",
              "      cursor: pointer;\n",
              "      display: none;\n",
              "      fill: #1967D2;\n",
              "      height: 32px;\n",
              "      padding: 0 0 0 0;\n",
              "      width: 32px;\n",
              "    }\n",
              "\n",
              "    .colab-df-convert:hover {\n",
              "      background-color: #E2EBFA;\n",
              "      box-shadow: 0px 1px 2px rgba(60, 64, 67, 0.3), 0px 1px 3px 1px rgba(60, 64, 67, 0.15);\n",
              "      fill: #174EA6;\n",
              "    }\n",
              "\n",
              "    .colab-df-buttons div {\n",
              "      margin-bottom: 4px;\n",
              "    }\n",
              "\n",
              "    [theme=dark] .colab-df-convert {\n",
              "      background-color: #3B4455;\n",
              "      fill: #D2E3FC;\n",
              "    }\n",
              "\n",
              "    [theme=dark] .colab-df-convert:hover {\n",
              "      background-color: #434B5C;\n",
              "      box-shadow: 0px 1px 3px 1px rgba(0, 0, 0, 0.15);\n",
              "      filter: drop-shadow(0px 1px 2px rgba(0, 0, 0, 0.3));\n",
              "      fill: #FFFFFF;\n",
              "    }\n",
              "  </style>\n",
              "\n",
              "    <script>\n",
              "      const buttonEl =\n",
              "        document.querySelector('#df-58ab4efd-f121-4799-a139-64d8ef5676ac button.colab-df-convert');\n",
              "      buttonEl.style.display =\n",
              "        google.colab.kernel.accessAllowed ? 'block' : 'none';\n",
              "\n",
              "      async function convertToInteractive(key) {\n",
              "        const element = document.querySelector('#df-58ab4efd-f121-4799-a139-64d8ef5676ac');\n",
              "        const dataTable =\n",
              "          await google.colab.kernel.invokeFunction('convertToInteractive',\n",
              "                                                    [key], {});\n",
              "        if (!dataTable) return;\n",
              "\n",
              "        const docLinkHtml = 'Like what you see? Visit the ' +\n",
              "          '<a target=\"_blank\" href=https://colab.research.google.com/notebooks/data_table.ipynb>data table notebook</a>'\n",
              "          + ' to learn more about interactive tables.';\n",
              "        element.innerHTML = '';\n",
              "        dataTable['output_type'] = 'display_data';\n",
              "        await google.colab.output.renderOutput(dataTable, element);\n",
              "        const docLink = document.createElement('div');\n",
              "        docLink.innerHTML = docLinkHtml;\n",
              "        element.appendChild(docLink);\n",
              "      }\n",
              "    </script>\n",
              "  </div>\n",
              "\n",
              "\n",
              "<div id=\"df-d7fac137-79d1-400b-a556-7b6d8443099f\">\n",
              "  <button class=\"colab-df-quickchart\" onclick=\"quickchart('df-d7fac137-79d1-400b-a556-7b6d8443099f')\"\n",
              "            title=\"Suggest charts\"\n",
              "            style=\"display:none;\">\n",
              "\n",
              "<svg xmlns=\"http://www.w3.org/2000/svg\" height=\"24px\"viewBox=\"0 0 24 24\"\n",
              "     width=\"24px\">\n",
              "    <g>\n",
              "        <path d=\"M19 3H5c-1.1 0-2 .9-2 2v14c0 1.1.9 2 2 2h14c1.1 0 2-.9 2-2V5c0-1.1-.9-2-2-2zM9 17H7v-7h2v7zm4 0h-2V7h2v10zm4 0h-2v-4h2v4z\"/>\n",
              "    </g>\n",
              "</svg>\n",
              "  </button>\n",
              "\n",
              "<style>\n",
              "  .colab-df-quickchart {\n",
              "      --bg-color: #E8F0FE;\n",
              "      --fill-color: #1967D2;\n",
              "      --hover-bg-color: #E2EBFA;\n",
              "      --hover-fill-color: #174EA6;\n",
              "      --disabled-fill-color: #AAA;\n",
              "      --disabled-bg-color: #DDD;\n",
              "  }\n",
              "\n",
              "  [theme=dark] .colab-df-quickchart {\n",
              "      --bg-color: #3B4455;\n",
              "      --fill-color: #D2E3FC;\n",
              "      --hover-bg-color: #434B5C;\n",
              "      --hover-fill-color: #FFFFFF;\n",
              "      --disabled-bg-color: #3B4455;\n",
              "      --disabled-fill-color: #666;\n",
              "  }\n",
              "\n",
              "  .colab-df-quickchart {\n",
              "    background-color: var(--bg-color);\n",
              "    border: none;\n",
              "    border-radius: 50%;\n",
              "    cursor: pointer;\n",
              "    display: none;\n",
              "    fill: var(--fill-color);\n",
              "    height: 32px;\n",
              "    padding: 0;\n",
              "    width: 32px;\n",
              "  }\n",
              "\n",
              "  .colab-df-quickchart:hover {\n",
              "    background-color: var(--hover-bg-color);\n",
              "    box-shadow: 0 1px 2px rgba(60, 64, 67, 0.3), 0 1px 3px 1px rgba(60, 64, 67, 0.15);\n",
              "    fill: var(--button-hover-fill-color);\n",
              "  }\n",
              "\n",
              "  .colab-df-quickchart-complete:disabled,\n",
              "  .colab-df-quickchart-complete:disabled:hover {\n",
              "    background-color: var(--disabled-bg-color);\n",
              "    fill: var(--disabled-fill-color);\n",
              "    box-shadow: none;\n",
              "  }\n",
              "\n",
              "  .colab-df-spinner {\n",
              "    border: 2px solid var(--fill-color);\n",
              "    border-color: transparent;\n",
              "    border-bottom-color: var(--fill-color);\n",
              "    animation:\n",
              "      spin 1s steps(1) infinite;\n",
              "  }\n",
              "\n",
              "  @keyframes spin {\n",
              "    0% {\n",
              "      border-color: transparent;\n",
              "      border-bottom-color: var(--fill-color);\n",
              "      border-left-color: var(--fill-color);\n",
              "    }\n",
              "    20% {\n",
              "      border-color: transparent;\n",
              "      border-left-color: var(--fill-color);\n",
              "      border-top-color: var(--fill-color);\n",
              "    }\n",
              "    30% {\n",
              "      border-color: transparent;\n",
              "      border-left-color: var(--fill-color);\n",
              "      border-top-color: var(--fill-color);\n",
              "      border-right-color: var(--fill-color);\n",
              "    }\n",
              "    40% {\n",
              "      border-color: transparent;\n",
              "      border-right-color: var(--fill-color);\n",
              "      border-top-color: var(--fill-color);\n",
              "    }\n",
              "    60% {\n",
              "      border-color: transparent;\n",
              "      border-right-color: var(--fill-color);\n",
              "    }\n",
              "    80% {\n",
              "      border-color: transparent;\n",
              "      border-right-color: var(--fill-color);\n",
              "      border-bottom-color: var(--fill-color);\n",
              "    }\n",
              "    90% {\n",
              "      border-color: transparent;\n",
              "      border-bottom-color: var(--fill-color);\n",
              "    }\n",
              "  }\n",
              "</style>\n",
              "\n",
              "  <script>\n",
              "    async function quickchart(key) {\n",
              "      const quickchartButtonEl =\n",
              "        document.querySelector('#' + key + ' button');\n",
              "      quickchartButtonEl.disabled = true;  // To prevent multiple clicks.\n",
              "      quickchartButtonEl.classList.add('colab-df-spinner');\n",
              "      try {\n",
              "        const charts = await google.colab.kernel.invokeFunction(\n",
              "            'suggestCharts', [key], {});\n",
              "      } catch (error) {\n",
              "        console.error('Error during call to suggestCharts:', error);\n",
              "      }\n",
              "      quickchartButtonEl.classList.remove('colab-df-spinner');\n",
              "      quickchartButtonEl.classList.add('colab-df-quickchart-complete');\n",
              "    }\n",
              "    (() => {\n",
              "      let quickchartButtonEl =\n",
              "        document.querySelector('#df-d7fac137-79d1-400b-a556-7b6d8443099f button');\n",
              "      quickchartButtonEl.style.display =\n",
              "        google.colab.kernel.accessAllowed ? 'block' : 'none';\n",
              "    })();\n",
              "  </script>\n",
              "</div>\n",
              "    </div>\n",
              "  </div>\n"
            ],
            "text/plain": [
              "         ID sentimiento\n",
              "0     60000    negativo\n",
              "1     60001    negativo\n",
              "2     60002    negativo\n",
              "3     60003    negativo\n",
              "4     60004    negativo\n",
              "...     ...         ...\n",
              "8594  68594    positivo\n",
              "8595  68595    negativo\n",
              "8596  68596    positivo\n",
              "8597  68597    negativo\n",
              "8598  68598    negativo\n",
              "\n",
              "[8599 rows x 2 columns]"
            ]
          },
          "execution_count": 422,
          "metadata": {},
          "output_type": "execute_result"
        }
      ],
      "source": [
        "df_test['review_es'] = df_test['review_es'].apply(lambda x: preprocesamiento(x))\n",
        "df_test['review_es'] = df_test['review_es'].apply(lambda x: ' '.join([stemmer.stem(word) for word in word_tokenize(x)]))\n",
        "bag_of_words_test = vectorizer.transform(df_test['review_es'])\n",
        "\n",
        "y_pred = rf_rs.predict(bag_of_words_test)\n",
        "df_summision = pd.DataFrame({'ID':df_test['ID'], 'sentimiento': y_pred})\n",
        "df_summision = df_summision.replace({'sentimiento': {1: 'positivo', 0: 'negativo'}})\n",
        "df_summision.to_csv(\"rf.csv\", index= False)\n",
        "df_summision"
      ]
    },
    {
      "cell_type": "markdown",
      "metadata": {
        "id": "BPJsmLM62Ezd"
      },
      "source": [
        "## Bayes Naive (Multinomial)"
      ]
    },
    {
      "cell_type": "code",
      "execution_count": null,
      "metadata": {
        "id": "TDGL8w-32JDl"
      },
      "outputs": [],
      "source": [
        "x_train, x_test, y_train, y_test = train_test_split(bag_of_words,\n",
        "                                                    labels,\n",
        "                                                    test_size= 0.2,\n",
        "                                                    random_state = 28)"
      ]
    },
    {
      "cell_type": "code",
      "execution_count": null,
      "metadata": {
        "colab": {
          "base_uri": "https://localhost:8080/",
          "height": 610
        },
        "id": "Oo8L-MJ92vp6",
        "outputId": "983303e8-bae1-466f-a3cc-0adf69f3b7fc"
      },
      "outputs": [
        {
          "name": "stdout",
          "output_type": "stream",
          "text": [
            "              precision    recall  f1-score   support\n",
            "\n",
            "           0    0.83320   0.83655   0.83487      4968\n",
            "           1    0.83799   0.83466   0.83632      5032\n",
            "\n",
            "    accuracy                        0.83560     10000\n",
            "   macro avg    0.83559   0.83561   0.83560     10000\n",
            "weighted avg    0.83561   0.83560   0.83560     10000\n",
            "\n"
          ]
        },
        {
          "data": {
            "image/png": "[encoded data removed]",
            "text/plain": [
              "<Figure size 640x480 with 2 Axes>"
            ]
          },
          "metadata": {},
          "output_type": "display_data"
        }
      ],
      "source": [
        "bn_multinomial = MultinomialNB()\n",
        "bn_multinomial.fit(x_train, y_train)\n",
        "y_pred_bn_default = bn_multinomial.predict(x_test)\n",
        "imprimir_matriz_confusion(y_test, y_pred_bn_default)"
      ]
    },
    {
      "cell_type": "code",
      "execution_count": null,
      "metadata": {
        "colab": {
          "base_uri": "https://localhost:8080/"
        },
        "id": "8KKXJGld3zj_",
        "outputId": "e962ed3b-f86f-4006-bb0f-715065fde536"
      },
      "outputs": [
        {
          "name": "stdout",
          "output_type": "stream",
          "text": [
            "Metricas del modelo: \n",
            "\n",
            "Accuracy: 0.8356\n",
            "Recall: 0.834658187599364\n",
            "F1 Score: 0.8363201911589009\n",
            "Precision: 0.8379888268156425\n"
          ]
        }
      ],
      "source": [
        "imprimir_metricas(y_test, y_pred_bn_default)"
      ]
    },
    {
      "cell_type": "markdown",
      "metadata": {
        "id": "2DFFIp4X38ZF"
      },
      "source": [
        "### Busqueda de Hiperparametros"
      ]
    },
    {
      "cell_type": "code",
      "execution_count": null,
      "metadata": {
        "id": "UwF2oejf4Ci1"
      },
      "outputs": [],
      "source": [
        "n = 10\n",
        "params_grid = {\n",
        "    'alpha': np.linspace(0.1, 10, 500),\n",
        "    'force_alpha': [True, False],\n",
        "    'fit_prior': [True, False]\n",
        "}\n",
        "\n",
        "folds = 5\n",
        "\n",
        "kfoldcv = StratifiedKFold(n_splits = folds)\n",
        "\n",
        "scorer_fn = make_scorer(f1_score, average= 'weighted')"
      ]
    },
    {
      "cell_type": "code",
      "execution_count": null,
      "metadata": {
        "colab": {
          "base_uri": "https://localhost:8080/"
        },
        "id": "dD90ibbV4H74",
        "outputId": "ab066b4d-bccf-417a-8255-4a183db16d8b"
      },
      "outputs": [
        {
          "name": "stdout",
          "output_type": "stream",
          "text": [
            "Fitting 5 folds for each of 10 candidates, totalling 50 fits\n",
            "[CV 1/5] END alpha=2.7585170340681366, fit_prior=True, force_alpha=True;, score=0.835 total time=   0.1s\n",
            "[CV 2/5] END alpha=2.7585170340681366, fit_prior=True, force_alpha=True;, score=0.842 total time=   0.1s\n",
            "[CV 3/5] END alpha=2.7585170340681366, fit_prior=True, force_alpha=True;, score=0.842 total time=   0.1s\n",
            "[CV 4/5] END alpha=2.7585170340681366, fit_prior=True, force_alpha=True;, score=0.839 total time=   0.1s\n",
            "[CV 5/5] END alpha=2.7585170340681366, fit_prior=True, force_alpha=True;, score=0.837 total time=   0.1s\n",
            "[CV 1/5] END alpha=6.686773547094188, fit_prior=False, force_alpha=True;, score=0.836 total time=   0.1s\n",
            "[CV 2/5] END alpha=6.686773547094188, fit_prior=False, force_alpha=True;, score=0.842 total time=   0.1s\n",
            "[CV 3/5] END alpha=6.686773547094188, fit_prior=False, force_alpha=True;, score=0.842 total time=   0.1s\n",
            "[CV 4/5] END alpha=6.686773547094188, fit_prior=False, force_alpha=True;, score=0.839 total time=   0.1s\n",
            "[CV 5/5] END alpha=6.686773547094188, fit_prior=False, force_alpha=True;, score=0.838 total time=   0.1s\n",
            "[CV 1/5] END alpha=2.6196392785571145, fit_prior=False, force_alpha=True;, score=0.835 total time=   0.1s\n",
            "[CV 2/5] END alpha=2.6196392785571145, fit_prior=False, force_alpha=True;, score=0.843 total time=   0.1s\n",
            "[CV 3/5] END alpha=2.6196392785571145, fit_prior=False, force_alpha=True;, score=0.842 total time=   0.1s\n",
            "[CV 4/5] END alpha=2.6196392785571145, fit_prior=False, force_alpha=True;, score=0.839 total time=   0.1s\n",
            "[CV 5/5] END alpha=2.6196392785571145, fit_prior=False, force_alpha=True;, score=0.837 total time=   0.1s\n",
            "[CV 1/5] END alpha=2.322044088176353, fit_prior=False, force_alpha=True;, score=0.836 total time=   0.1s\n",
            "[CV 2/5] END alpha=2.322044088176353, fit_prior=False, force_alpha=True;, score=0.842 total time=   0.1s\n",
            "[CV 3/5] END alpha=2.322044088176353, fit_prior=False, force_alpha=True;, score=0.841 total time=   0.1s\n",
            "[CV 4/5] END alpha=2.322044088176353, fit_prior=False, force_alpha=True;, score=0.839 total time=   0.1s\n",
            "[CV 5/5] END alpha=2.322044088176353, fit_prior=False, force_alpha=True;, score=0.836 total time=   0.1s\n",
            "[CV 1/5] END alpha=5.337675350701403, fit_prior=True, force_alpha=False;, score=0.836 total time=   0.1s\n",
            "[CV 2/5] END alpha=5.337675350701403, fit_prior=True, force_alpha=False;, score=0.842 total time=   0.1s\n",
            "[CV 3/5] END alpha=5.337675350701403, fit_prior=True, force_alpha=False;, score=0.843 total time=   0.1s\n",
            "[CV 4/5] END alpha=5.337675350701403, fit_prior=True, force_alpha=False;, score=0.839 total time=   0.1s\n",
            "[CV 5/5] END alpha=5.337675350701403, fit_prior=True, force_alpha=False;, score=0.839 total time=   0.1s\n",
            "[CV 1/5] END alpha=6.785971943887776, fit_prior=True, force_alpha=False;, score=0.835 total time=   0.1s\n",
            "[CV 2/5] END alpha=6.785971943887776, fit_prior=True, force_alpha=False;, score=0.842 total time=   0.1s\n",
            "[CV 3/5] END alpha=6.785971943887776, fit_prior=True, force_alpha=False;, score=0.843 total time=   0.1s\n",
            "[CV 4/5] END alpha=6.785971943887776, fit_prior=True, force_alpha=False;, score=0.839 total time=   0.1s\n",
            "[CV 5/5] END alpha=6.785971943887776, fit_prior=True, force_alpha=False;, score=0.838 total time=   0.1s\n",
            "[CV 1/5] END alpha=1.865731462925852, fit_prior=True, force_alpha=True;, score=0.835 total time=   0.1s\n",
            "[CV 2/5] END alpha=1.865731462925852, fit_prior=True, force_alpha=True;, score=0.843 total time=   0.1s\n",
            "[CV 3/5] END alpha=1.865731462925852, fit_prior=True, force_alpha=True;, score=0.841 total time=   0.1s\n",
            "[CV 4/5] END alpha=1.865731462925852, fit_prior=True, force_alpha=True;, score=0.837 total time=   0.1s\n",
            "[CV 5/5] END alpha=1.865731462925852, fit_prior=True, force_alpha=True;, score=0.835 total time=   0.1s\n",
            "[CV 1/5] END alpha=8.174749498997997, fit_prior=False, force_alpha=False;, score=0.836 total time=   0.1s\n",
            "[CV 2/5] END alpha=8.174749498997997, fit_prior=False, force_alpha=False;, score=0.840 total time=   0.1s\n",
            "[CV 3/5] END alpha=8.174749498997997, fit_prior=False, force_alpha=False;, score=0.842 total time=   0.1s\n",
            "[CV 4/5] END alpha=8.174749498997997, fit_prior=False, force_alpha=False;, score=0.839 total time=   0.1s\n",
            "[CV 5/5] END alpha=8.174749498997997, fit_prior=False, force_alpha=False;, score=0.837 total time=   0.1s\n",
            "[CV 1/5] END alpha=7.103406813627255, fit_prior=False, force_alpha=False;, score=0.835 total time=   0.1s\n",
            "[CV 2/5] END alpha=7.103406813627255, fit_prior=False, force_alpha=False;, score=0.842 total time=   0.1s\n",
            "[CV 3/5] END alpha=7.103406813627255, fit_prior=False, force_alpha=False;, score=0.843 total time=   0.1s\n",
            "[CV 4/5] END alpha=7.103406813627255, fit_prior=False, force_alpha=False;, score=0.839 total time=   0.1s\n",
            "[CV 5/5] END alpha=7.103406813627255, fit_prior=False, force_alpha=False;, score=0.838 total time=   0.1s\n",
            "[CV 1/5] END alpha=0.23887775551102206, fit_prior=True, force_alpha=False;, score=0.830 total time=   0.1s\n",
            "[CV 2/5] END alpha=0.23887775551102206, fit_prior=True, force_alpha=False;, score=0.840 total time=   0.1s\n",
            "[CV 3/5] END alpha=0.23887775551102206, fit_prior=True, force_alpha=False;, score=0.840 total time=   0.1s\n",
            "[CV 4/5] END alpha=0.23887775551102206, fit_prior=True, force_alpha=False;, score=0.837 total time=   0.1s\n",
            "[CV 5/5] END alpha=0.23887775551102206, fit_prior=True, force_alpha=False;, score=0.829 total time=   0.1s\n"
          ]
        },
        {
          "data": {
            "text/plain": [
              "array([0.83912364, 0.83952111, 0.83925454, 0.83873347, 0.83994403,\n",
              "       0.83938302, 0.83828398, 0.83885962, 0.83936163, 0.8352208 ])"
            ]
          },
          "execution_count": 486,
          "metadata": {},
          "output_type": "execute_result"
        }
      ],
      "source": [
        "bayes_multinomial = MultinomialNB()\n",
        "bn_multinomial_rs = RandomizedSearchCV(estimator = bayes_multinomial, param_distributions= params_grid, cv = kfoldcv, verbose = 3, scoring = scorer_fn)\n",
        "\n",
        "bn_multinomial_rs.fit(x_train,y_train)\n",
        "bn_multinomial_rs.cv_results_['mean_test_score']"
      ]
    },
    {
      "cell_type": "code",
      "execution_count": null,
      "metadata": {
        "colab": {
          "base_uri": "https://localhost:8080/"
        },
        "id": "NxvG2QwT4N4o",
        "outputId": "31fb2139-5a16-48a6-f186-ef042d95dce3"
      },
      "outputs": [
        {
          "name": "stdout",
          "output_type": "stream",
          "text": [
            "Mejores Hiperparametros: {'force_alpha': False, 'fit_prior': True, 'alpha': 5.337675350701403}\n",
            "Mejor F1 Score:  0.8399440268173827\n"
          ]
        }
      ],
      "source": [
        "best_params = bn_multinomial_rs.best_params_\n",
        "best_estimator = bn_multinomial_rs.best_estimator_\n",
        "print(\"Mejores Hiperparametros:\", bn_multinomial_rs.best_params_)\n",
        "print('Mejor F1 Score: ', bn_multinomial_rs.best_score_)"
      ]
    },
    {
      "cell_type": "code",
      "execution_count": null,
      "metadata": {
        "colab": {
          "base_uri": "https://localhost:8080/",
          "height": 610
        },
        "id": "nCWEgWOG4ULM",
        "outputId": "c7b728d7-1ca8-41ea-b8af-1a7cda8b93d0"
      },
      "outputs": [
        {
          "name": "stdout",
          "output_type": "stream",
          "text": [
            "              precision    recall  f1-score   support\n",
            "\n",
            "           0    0.82558   0.84984   0.83753      4968\n",
            "           1    0.84732   0.82273   0.83485      5032\n",
            "\n",
            "    accuracy                        0.83620     10000\n",
            "   macro avg    0.83645   0.83629   0.83619     10000\n",
            "weighted avg    0.83652   0.83620   0.83618     10000\n",
            "\n"
          ]
        },
        {
          "data": {
            "image/png": "[encoded data removed]",
            "text/plain": [
              "<Figure size 640x480 with 2 Axes>"
            ]
          },
          "metadata": {},
          "output_type": "display_data"
        }
      ],
      "source": [
        "y_pred_bayes_m = best_estimator.predict(x_test)\n",
        "imprimir_matriz_confusion(y_test, y_pred_bayes_m)"
      ]
    },
    {
      "cell_type": "code",
      "execution_count": null,
      "metadata": {
        "colab": {
          "base_uri": "https://localhost:8080/"
        },
        "id": "MaNA6_2g5Cu1",
        "outputId": "37a6780b-1712-4cd1-fdec-b71cf6efa2c1"
      },
      "outputs": [
        {
          "name": "stdout",
          "output_type": "stream",
          "text": [
            "Metricas del modelo: \n",
            "\n",
            "Accuracy: 0.8362\n",
            "Recall: 0.8227344992050875\n",
            "F1 Score: 0.8348457350272233\n",
            "Precision: 0.8473188702415063\n"
          ]
        }
      ],
      "source": [
        "imprimir_metricas(y_test, y_pred_bayes_m)"
      ]
    },
    {
      "cell_type": "code",
      "execution_count": null,
      "metadata": {
        "colab": {
          "base_uri": "https://localhost:8080/"
        },
        "id": "MMrRmWF51KQt",
        "outputId": "6ff24ac5-e488-4bf9-9c9c-733d84650a50"
      },
      "outputs": [
        {
          "data": {
            "text/plain": [
              "['model_bayes_multi.joblib']"
            ]
          },
          "execution_count": 480,
          "metadata": {},
          "output_type": "execute_result"
        }
      ],
      "source": [
        "joblib.dump(best_estimator, 'model_bayes_multi.joblib')"
      ]
    },
    {
      "cell_type": "code",
      "execution_count": null,
      "metadata": {
        "colab": {
          "base_uri": "https://localhost:8080/",
          "height": 424
        },
        "id": "nXIBag875JG8",
        "outputId": "ffa3db08-6486-45b2-fd95-2a14e85af2a2"
      },
      "outputs": [
        {
          "data": {
            "text/html": [
              "\n",
              "  <div id=\"df-c617663e-a3a3-4e1d-8178-9f50e7a33007\" class=\"colab-df-container\">\n",
              "    <div>\n",
              "<style scoped>\n",
              "    .dataframe tbody tr th:only-of-type {\n",
              "        vertical-align: middle;\n",
              "    }\n",
              "\n",
              "    .dataframe tbody tr th {\n",
              "        vertical-align: top;\n",
              "    }\n",
              "\n",
              "    .dataframe thead th {\n",
              "        text-align: right;\n",
              "    }\n",
              "</style>\n",
              "<table border=\"1\" class=\"dataframe\">\n",
              "  <thead>\n",
              "    <tr style=\"text-align: right;\">\n",
              "      <th></th>\n",
              "      <th>ID</th>\n",
              "      <th>sentimiento</th>\n",
              "    </tr>\n",
              "  </thead>\n",
              "  <tbody>\n",
              "    <tr>\n",
              "      <th>0</th>\n",
              "      <td>60000</td>\n",
              "      <td>negativo</td>\n",
              "    </tr>\n",
              "    <tr>\n",
              "      <th>1</th>\n",
              "      <td>60001</td>\n",
              "      <td>negativo</td>\n",
              "    </tr>\n",
              "    <tr>\n",
              "      <th>2</th>\n",
              "      <td>60002</td>\n",
              "      <td>negativo</td>\n",
              "    </tr>\n",
              "    <tr>\n",
              "      <th>3</th>\n",
              "      <td>60003</td>\n",
              "      <td>negativo</td>\n",
              "    </tr>\n",
              "    <tr>\n",
              "      <th>4</th>\n",
              "      <td>60004</td>\n",
              "      <td>negativo</td>\n",
              "    </tr>\n",
              "    <tr>\n",
              "      <th>...</th>\n",
              "      <td>...</td>\n",
              "      <td>...</td>\n",
              "    </tr>\n",
              "    <tr>\n",
              "      <th>8594</th>\n",
              "      <td>68594</td>\n",
              "      <td>positivo</td>\n",
              "    </tr>\n",
              "    <tr>\n",
              "      <th>8595</th>\n",
              "      <td>68595</td>\n",
              "      <td>negativo</td>\n",
              "    </tr>\n",
              "    <tr>\n",
              "      <th>8596</th>\n",
              "      <td>68596</td>\n",
              "      <td>positivo</td>\n",
              "    </tr>\n",
              "    <tr>\n",
              "      <th>8597</th>\n",
              "      <td>68597</td>\n",
              "      <td>negativo</td>\n",
              "    </tr>\n",
              "    <tr>\n",
              "      <th>8598</th>\n",
              "      <td>68598</td>\n",
              "      <td>negativo</td>\n",
              "    </tr>\n",
              "  </tbody>\n",
              "</table>\n",
              "<p>8599 rows × 2 columns</p>\n",
              "</div>\n",
              "    <div class=\"colab-df-buttons\">\n",
              "\n",
              "  <div class=\"colab-df-container\">\n",
              "    <button class=\"colab-df-convert\" onclick=\"convertToInteractive('df-c617663e-a3a3-4e1d-8178-9f50e7a33007')\"\n",
              "            title=\"Convert this dataframe to an interactive table.\"\n",
              "            style=\"display:none;\">\n",
              "\n",
              "  <svg xmlns=\"http://www.w3.org/2000/svg\" height=\"24px\" viewBox=\"0 -960 960 960\">\n",
              "    <path d=\"M120-120v-720h720v720H120Zm60-500h600v-160H180v160Zm220 220h160v-160H400v160Zm0 220h160v-160H400v160ZM180-400h160v-160H180v160Zm440 0h160v-160H620v160ZM180-180h160v-160H180v160Zm440 0h160v-160H620v160Z\"/>\n",
              "  </svg>\n",
              "    </button>\n",
              "\n",
              "  <style>\n",
              "    .colab-df-container {\n",
              "      display:flex;\n",
              "      gap: 12px;\n",
              "    }\n",
              "\n",
              "    .colab-df-convert {\n",
              "      background-color: #E8F0FE;\n",
              "      border: none;\n",
              "      border-radius: 50%;\n",
              "      cursor: pointer;\n",
              "      display: none;\n",
              "      fill: #1967D2;\n",
              "      height: 32px;\n",
              "      padding: 0 0 0 0;\n",
              "      width: 32px;\n",
              "    }\n",
              "\n",
              "    .colab-df-convert:hover {\n",
              "      background-color: #E2EBFA;\n",
              "      box-shadow: 0px 1px 2px rgba(60, 64, 67, 0.3), 0px 1px 3px 1px rgba(60, 64, 67, 0.15);\n",
              "      fill: #174EA6;\n",
              "    }\n",
              "\n",
              "    .colab-df-buttons div {\n",
              "      margin-bottom: 4px;\n",
              "    }\n",
              "\n",
              "    [theme=dark] .colab-df-convert {\n",
              "      background-color: #3B4455;\n",
              "      fill: #D2E3FC;\n",
              "    }\n",
              "\n",
              "    [theme=dark] .colab-df-convert:hover {\n",
              "      background-color: #434B5C;\n",
              "      box-shadow: 0px 1px 3px 1px rgba(0, 0, 0, 0.15);\n",
              "      filter: drop-shadow(0px 1px 2px rgba(0, 0, 0, 0.3));\n",
              "      fill: #FFFFFF;\n",
              "    }\n",
              "  </style>\n",
              "\n",
              "    <script>\n",
              "      const buttonEl =\n",
              "        document.querySelector('#df-c617663e-a3a3-4e1d-8178-9f50e7a33007 button.colab-df-convert');\n",
              "      buttonEl.style.display =\n",
              "        google.colab.kernel.accessAllowed ? 'block' : 'none';\n",
              "\n",
              "      async function convertToInteractive(key) {\n",
              "        const element = document.querySelector('#df-c617663e-a3a3-4e1d-8178-9f50e7a33007');\n",
              "        const dataTable =\n",
              "          await google.colab.kernel.invokeFunction('convertToInteractive',\n",
              "                                                    [key], {});\n",
              "        if (!dataTable) return;\n",
              "\n",
              "        const docLinkHtml = 'Like what you see? Visit the ' +\n",
              "          '<a target=\"_blank\" href=https://colab.research.google.com/notebooks/data_table.ipynb>data table notebook</a>'\n",
              "          + ' to learn more about interactive tables.';\n",
              "        element.innerHTML = '';\n",
              "        dataTable['output_type'] = 'display_data';\n",
              "        await google.colab.output.renderOutput(dataTable, element);\n",
              "        const docLink = document.createElement('div');\n",
              "        docLink.innerHTML = docLinkHtml;\n",
              "        element.appendChild(docLink);\n",
              "      }\n",
              "    </script>\n",
              "  </div>\n",
              "\n",
              "\n",
              "<div id=\"df-22fb7525-bc6f-4e55-a9e3-9c8d15c172a4\">\n",
              "  <button class=\"colab-df-quickchart\" onclick=\"quickchart('df-22fb7525-bc6f-4e55-a9e3-9c8d15c172a4')\"\n",
              "            title=\"Suggest charts\"\n",
              "            style=\"display:none;\">\n",
              "\n",
              "<svg xmlns=\"http://www.w3.org/2000/svg\" height=\"24px\"viewBox=\"0 0 24 24\"\n",
              "     width=\"24px\">\n",
              "    <g>\n",
              "        <path d=\"M19 3H5c-1.1 0-2 .9-2 2v14c0 1.1.9 2 2 2h14c1.1 0 2-.9 2-2V5c0-1.1-.9-2-2-2zM9 17H7v-7h2v7zm4 0h-2V7h2v10zm4 0h-2v-4h2v4z\"/>\n",
              "    </g>\n",
              "</svg>\n",
              "  </button>\n",
              "\n",
              "<style>\n",
              "  .colab-df-quickchart {\n",
              "      --bg-color: #E8F0FE;\n",
              "      --fill-color: #1967D2;\n",
              "      --hover-bg-color: #E2EBFA;\n",
              "      --hover-fill-color: #174EA6;\n",
              "      --disabled-fill-color: #AAA;\n",
              "      --disabled-bg-color: #DDD;\n",
              "  }\n",
              "\n",
              "  [theme=dark] .colab-df-quickchart {\n",
              "      --bg-color: #3B4455;\n",
              "      --fill-color: #D2E3FC;\n",
              "      --hover-bg-color: #434B5C;\n",
              "      --hover-fill-color: #FFFFFF;\n",
              "      --disabled-bg-color: #3B4455;\n",
              "      --disabled-fill-color: #666;\n",
              "  }\n",
              "\n",
              "  .colab-df-quickchart {\n",
              "    background-color: var(--bg-color);\n",
              "    border: none;\n",
              "    border-radius: 50%;\n",
              "    cursor: pointer;\n",
              "    display: none;\n",
              "    fill: var(--fill-color);\n",
              "    height: 32px;\n",
              "    padding: 0;\n",
              "    width: 32px;\n",
              "  }\n",
              "\n",
              "  .colab-df-quickchart:hover {\n",
              "    background-color: var(--hover-bg-color);\n",
              "    box-shadow: 0 1px 2px rgba(60, 64, 67, 0.3), 0 1px 3px 1px rgba(60, 64, 67, 0.15);\n",
              "    fill: var(--button-hover-fill-color);\n",
              "  }\n",
              "\n",
              "  .colab-df-quickchart-complete:disabled,\n",
              "  .colab-df-quickchart-complete:disabled:hover {\n",
              "    background-color: var(--disabled-bg-color);\n",
              "    fill: var(--disabled-fill-color);\n",
              "    box-shadow: none;\n",
              "  }\n",
              "\n",
              "  .colab-df-spinner {\n",
              "    border: 2px solid var(--fill-color);\n",
              "    border-color: transparent;\n",
              "    border-bottom-color: var(--fill-color);\n",
              "    animation:\n",
              "      spin 1s steps(1) infinite;\n",
              "  }\n",
              "\n",
              "  @keyframes spin {\n",
              "    0% {\n",
              "      border-color: transparent;\n",
              "      border-bottom-color: var(--fill-color);\n",
              "      border-left-color: var(--fill-color);\n",
              "    }\n",
              "    20% {\n",
              "      border-color: transparent;\n",
              "      border-left-color: var(--fill-color);\n",
              "      border-top-color: var(--fill-color);\n",
              "    }\n",
              "    30% {\n",
              "      border-color: transparent;\n",
              "      border-left-color: var(--fill-color);\n",
              "      border-top-color: var(--fill-color);\n",
              "      border-right-color: var(--fill-color);\n",
              "    }\n",
              "    40% {\n",
              "      border-color: transparent;\n",
              "      border-right-color: var(--fill-color);\n",
              "      border-top-color: var(--fill-color);\n",
              "    }\n",
              "    60% {\n",
              "      border-color: transparent;\n",
              "      border-right-color: var(--fill-color);\n",
              "    }\n",
              "    80% {\n",
              "      border-color: transparent;\n",
              "      border-right-color: var(--fill-color);\n",
              "      border-bottom-color: var(--fill-color);\n",
              "    }\n",
              "    90% {\n",
              "      border-color: transparent;\n",
              "      border-bottom-color: var(--fill-color);\n",
              "    }\n",
              "  }\n",
              "</style>\n",
              "\n",
              "  <script>\n",
              "    async function quickchart(key) {\n",
              "      const quickchartButtonEl =\n",
              "        document.querySelector('#' + key + ' button');\n",
              "      quickchartButtonEl.disabled = true;  // To prevent multiple clicks.\n",
              "      quickchartButtonEl.classList.add('colab-df-spinner');\n",
              "      try {\n",
              "        const charts = await google.colab.kernel.invokeFunction(\n",
              "            'suggestCharts', [key], {});\n",
              "      } catch (error) {\n",
              "        console.error('Error during call to suggestCharts:', error);\n",
              "      }\n",
              "      quickchartButtonEl.classList.remove('colab-df-spinner');\n",
              "      quickchartButtonEl.classList.add('colab-df-quickchart-complete');\n",
              "    }\n",
              "    (() => {\n",
              "      let quickchartButtonEl =\n",
              "        document.querySelector('#df-22fb7525-bc6f-4e55-a9e3-9c8d15c172a4 button');\n",
              "      quickchartButtonEl.style.display =\n",
              "        google.colab.kernel.accessAllowed ? 'block' : 'none';\n",
              "    })();\n",
              "  </script>\n",
              "</div>\n",
              "    </div>\n",
              "  </div>\n"
            ],
            "text/plain": [
              "         ID sentimiento\n",
              "0     60000    negativo\n",
              "1     60001    negativo\n",
              "2     60002    negativo\n",
              "3     60003    negativo\n",
              "4     60004    negativo\n",
              "...     ...         ...\n",
              "8594  68594    positivo\n",
              "8595  68595    negativo\n",
              "8596  68596    positivo\n",
              "8597  68597    negativo\n",
              "8598  68598    negativo\n",
              "\n",
              "[8599 rows x 2 columns]"
            ]
          },
          "execution_count": 481,
          "metadata": {},
          "output_type": "execute_result"
        }
      ],
      "source": [
        "df_test['review_es'] = df_test['review_es'].apply(lambda x: preprocesamiento(x))\n",
        "df_test['review_es'] = df_test['review_es'].apply(lambda x: ' '.join([stemmer.stem(word) for word in word_tokenize(x)]))\n",
        "bag_of_words_test = vectorizer.transform(df_test['review_es'])\n",
        "\n",
        "y_pred = bn_multinomial_rs.predict(bag_of_words_test)\n",
        "df_summision = pd.DataFrame({'ID':df_test['ID'], 'sentimiento': y_pred})\n",
        "df_summision = df_summision.replace({'sentimiento': {1: 'positivo', 0: 'negativo'}})\n",
        "df_summision.to_csv(\"bayes_multi.csv\", index= False)\n",
        "df_summision"
      ]
    },
    {
      "cell_type": "markdown",
      "metadata": {
        "id": "eeWSS37tGI8k"
      },
      "source": [
        "## Bayes Naive (Bernoulli)"
      ]
    },
    {
      "cell_type": "code",
      "execution_count": null,
      "metadata": {
        "id": "8u60LbstJZX6"
      },
      "outputs": [],
      "source": [
        "x_train, x_test, y_train, y_test = train_test_split(bag_of_words,\n",
        "                                                    labels,\n",
        "                                                    test_size= 0.2,\n",
        "                                                    random_state = 28)"
      ]
    },
    {
      "cell_type": "code",
      "execution_count": null,
      "metadata": {
        "colab": {
          "base_uri": "https://localhost:8080/",
          "height": 610
        },
        "id": "Xu4r47-NJhQ2",
        "outputId": "db5bae4d-7c30-49a3-b650-bda444e99d6a"
      },
      "outputs": [
        {
          "name": "stdout",
          "output_type": "stream",
          "text": [
            "              precision    recall  f1-score   support\n",
            "\n",
            "           0    0.81217   0.83816   0.82496      4968\n",
            "           1    0.83501   0.80862   0.82161      5032\n",
            "\n",
            "    accuracy                        0.82330     10000\n",
            "   macro avg    0.82359   0.82339   0.82328     10000\n",
            "weighted avg    0.82366   0.82330   0.82327     10000\n",
            "\n"
          ]
        },
        {
          "data": {
            "image/png": "[encoded data removed]",
            "text/plain": [
              "<Figure size 640x480 with 2 Axes>"
            ]
          },
          "metadata": {},
          "output_type": "display_data"
        }
      ],
      "source": [
        "bn_bernoulli = BernoulliNB()\n",
        "bn_bernoulli.fit(x_train, y_train)\n",
        "y_pred_bn_default = bn_bernoulli.predict(x_test)\n",
        "imprimir_matriz_confusion(y_test, y_pred_bn_default)"
      ]
    },
    {
      "cell_type": "code",
      "execution_count": null,
      "metadata": {
        "colab": {
          "base_uri": "https://localhost:8080/"
        },
        "id": "e8EgS6ZMJlX2",
        "outputId": "970060b8-7b22-489b-eab8-ea5f7f031e99"
      },
      "outputs": [
        {
          "name": "stdout",
          "output_type": "stream",
          "text": [
            "Metricas del modelo: \n",
            "\n",
            "Accuracy: 0.8233\n",
            "Recall: 0.8086248012718601\n",
            "F1 Score: 0.8216052498738012\n",
            "Precision: 0.8350092345577673\n"
          ]
        }
      ],
      "source": [
        "imprimir_metricas(y_test, y_pred_bn_default)"
      ]
    },
    {
      "cell_type": "markdown",
      "metadata": {
        "id": "5ft7OKIXJpbN"
      },
      "source": [
        "### Busqueda de Hiperparametros"
      ]
    },
    {
      "cell_type": "code",
      "execution_count": null,
      "metadata": {
        "id": "LdYoUPMUJtNd"
      },
      "outputs": [],
      "source": [
        "n = 10\n",
        "params_grid = {\n",
        "    'alpha': np.linspace(0.1, 10, 500),\n",
        "    'force_alpha': [True, False],\n",
        "    'binarize': np.linspace(0, 5, 100),\n",
        "    'fit_prior': [True, False]\n",
        "}\n",
        "\n",
        "folds = 5\n",
        "\n",
        "kfoldcv = StratifiedKFold(n_splits = folds)\n",
        "\n",
        "scorer_fn = make_scorer(f1_score, average= 'weighted')"
      ]
    },
    {
      "cell_type": "code",
      "execution_count": null,
      "metadata": {
        "colab": {
          "base_uri": "https://localhost:8080/"
        },
        "id": "AQNH49G1KNIY",
        "outputId": "f6b440a9-76d3-47b4-ca2d-2fac0e4e391c"
      },
      "outputs": [
        {
          "name": "stdout",
          "output_type": "stream",
          "text": [
            "Fitting 5 folds for each of 10 candidates, totalling 50 fits\n",
            "[CV 1/5] END alpha=0.5761523046092185, binarize=2.8282828282828283, fit_prior=False, force_alpha=True;, score=0.334 total time=   0.1s\n",
            "[CV 2/5] END alpha=0.5761523046092185, binarize=2.8282828282828283, fit_prior=False, force_alpha=True;, score=0.334 total time=   0.1s\n",
            "[CV 3/5] END alpha=0.5761523046092185, binarize=2.8282828282828283, fit_prior=False, force_alpha=True;, score=0.334 total time=   0.1s\n",
            "[CV 4/5] END alpha=0.5761523046092185, binarize=2.8282828282828283, fit_prior=False, force_alpha=True;, score=0.334 total time=   0.1s\n",
            "[CV 5/5] END alpha=0.5761523046092185, binarize=2.8282828282828283, fit_prior=False, force_alpha=True;, score=0.334 total time=   0.1s\n",
            "[CV 1/5] END alpha=3.770340681362726, binarize=0.5050505050505051, fit_prior=False, force_alpha=True;, score=0.402 total time=   0.1s\n",
            "[CV 2/5] END alpha=3.770340681362726, binarize=0.5050505050505051, fit_prior=False, force_alpha=True;, score=0.399 total time=   0.1s\n",
            "[CV 3/5] END alpha=3.770340681362726, binarize=0.5050505050505051, fit_prior=False, force_alpha=True;, score=0.404 total time=   0.1s\n",
            "[CV 4/5] END alpha=3.770340681362726, binarize=0.5050505050505051, fit_prior=False, force_alpha=True;, score=0.399 total time=   0.1s\n",
            "[CV 5/5] END alpha=3.770340681362726, binarize=0.5050505050505051, fit_prior=False, force_alpha=True;, score=0.397 total time=   0.1s\n",
            "[CV 1/5] END alpha=9.46432865731463, binarize=0.7575757575757576, fit_prior=True, force_alpha=True;, score=0.337 total time=   0.1s\n",
            "[CV 2/5] END alpha=9.46432865731463, binarize=0.7575757575757576, fit_prior=True, force_alpha=True;, score=0.335 total time=   0.1s\n",
            "[CV 3/5] END alpha=9.46432865731463, binarize=0.7575757575757576, fit_prior=True, force_alpha=True;, score=0.336 total time=   0.1s\n",
            "[CV 4/5] END alpha=9.46432865731463, binarize=0.7575757575757576, fit_prior=True, force_alpha=True;, score=0.335 total time=   0.1s\n",
            "[CV 5/5] END alpha=9.46432865731463, binarize=0.7575757575757576, fit_prior=True, force_alpha=True;, score=0.336 total time=   0.1s\n",
            "[CV 1/5] END alpha=8.571543086172346, binarize=1.0606060606060606, fit_prior=True, force_alpha=False;, score=0.334 total time=   0.1s\n",
            "[CV 2/5] END alpha=8.571543086172346, binarize=1.0606060606060606, fit_prior=True, force_alpha=False;, score=0.334 total time=   0.1s\n",
            "[CV 3/5] END alpha=8.571543086172346, binarize=1.0606060606060606, fit_prior=True, force_alpha=False;, score=0.334 total time=   0.1s\n",
            "[CV 4/5] END alpha=8.571543086172346, binarize=1.0606060606060606, fit_prior=True, force_alpha=False;, score=0.334 total time=   0.1s\n",
            "[CV 5/5] END alpha=8.571543086172346, binarize=1.0606060606060606, fit_prior=True, force_alpha=False;, score=0.334 total time=   0.1s\n",
            "[CV 1/5] END alpha=7.043887775551102, binarize=1.3636363636363635, fit_prior=False, force_alpha=False;, score=0.334 total time=   0.1s\n",
            "[CV 2/5] END alpha=7.043887775551102, binarize=1.3636363636363635, fit_prior=False, force_alpha=False;, score=0.334 total time=   0.1s\n",
            "[CV 3/5] END alpha=7.043887775551102, binarize=1.3636363636363635, fit_prior=False, force_alpha=False;, score=0.334 total time=   0.1s\n",
            "[CV 4/5] END alpha=7.043887775551102, binarize=1.3636363636363635, fit_prior=False, force_alpha=False;, score=0.334 total time=   0.1s\n",
            "[CV 5/5] END alpha=7.043887775551102, binarize=1.3636363636363635, fit_prior=False, force_alpha=False;, score=0.334 total time=   0.1s\n",
            "[CV 1/5] END alpha=7.281963927855712, binarize=5.0, fit_prior=False, force_alpha=False;, score=0.334 total time=   0.1s\n",
            "[CV 2/5] END alpha=7.281963927855712, binarize=5.0, fit_prior=False, force_alpha=False;, score=0.334 total time=   0.1s\n",
            "[CV 3/5] END alpha=7.281963927855712, binarize=5.0, fit_prior=False, force_alpha=False;, score=0.334 total time=   0.1s\n",
            "[CV 4/5] END alpha=7.281963927855712, binarize=5.0, fit_prior=False, force_alpha=False;, score=0.334 total time=   0.1s\n",
            "[CV 5/5] END alpha=7.281963927855712, binarize=5.0, fit_prior=False, force_alpha=False;, score=0.334 total time=   0.1s\n",
            "[CV 1/5] END alpha=3.4925851703406816, binarize=0.45454545454545453, fit_prior=True, force_alpha=True;, score=0.437 total time=   0.1s\n",
            "[CV 2/5] END alpha=3.4925851703406816, binarize=0.45454545454545453, fit_prior=True, force_alpha=True;, score=0.426 total time=   0.1s\n",
            "[CV 3/5] END alpha=3.4925851703406816, binarize=0.45454545454545453, fit_prior=True, force_alpha=True;, score=0.437 total time=   0.1s\n",
            "[CV 4/5] END alpha=3.4925851703406816, binarize=0.45454545454545453, fit_prior=True, force_alpha=True;, score=0.433 total time=   0.1s\n",
            "[CV 5/5] END alpha=3.4925851703406816, binarize=0.45454545454545453, fit_prior=True, force_alpha=True;, score=0.433 total time=   0.1s\n",
            "[CV 1/5] END alpha=7.103406813627255, binarize=0.7070707070707071, fit_prior=False, force_alpha=False;, score=0.341 total time=   0.1s\n",
            "[CV 2/5] END alpha=7.103406813627255, binarize=0.7070707070707071, fit_prior=False, force_alpha=False;, score=0.339 total time=   0.1s\n",
            "[CV 3/5] END alpha=7.103406813627255, binarize=0.7070707070707071, fit_prior=False, force_alpha=False;, score=0.341 total time=   0.1s\n",
            "[CV 4/5] END alpha=7.103406813627255, binarize=0.7070707070707071, fit_prior=False, force_alpha=False;, score=0.340 total time=   0.1s\n",
            "[CV 5/5] END alpha=7.103406813627255, binarize=0.7070707070707071, fit_prior=False, force_alpha=False;, score=0.339 total time=   0.1s\n",
            "[CV 1/5] END alpha=4.603607214428858, binarize=3.2323232323232323, fit_prior=False, force_alpha=True;, score=0.334 total time=   0.1s\n",
            "[CV 2/5] END alpha=4.603607214428858, binarize=3.2323232323232323, fit_prior=False, force_alpha=True;, score=0.334 total time=   0.1s\n",
            "[CV 3/5] END alpha=4.603607214428858, binarize=3.2323232323232323, fit_prior=False, force_alpha=True;, score=0.334 total time=   0.1s\n",
            "[CV 4/5] END alpha=4.603607214428858, binarize=3.2323232323232323, fit_prior=False, force_alpha=True;, score=0.334 total time=   0.1s\n",
            "[CV 5/5] END alpha=4.603607214428858, binarize=3.2323232323232323, fit_prior=False, force_alpha=True;, score=0.334 total time=   0.1s\n",
            "[CV 1/5] END alpha=1.4887775551102207, binarize=1.0606060606060606, fit_prior=True, force_alpha=False;, score=0.334 total time=   0.1s\n",
            "[CV 2/5] END alpha=1.4887775551102207, binarize=1.0606060606060606, fit_prior=True, force_alpha=False;, score=0.334 total time=   0.1s\n",
            "[CV 3/5] END alpha=1.4887775551102207, binarize=1.0606060606060606, fit_prior=True, force_alpha=False;, score=0.334 total time=   0.1s\n",
            "[CV 4/5] END alpha=1.4887775551102207, binarize=1.0606060606060606, fit_prior=True, force_alpha=False;, score=0.334 total time=   0.1s\n",
            "[CV 5/5] END alpha=1.4887775551102207, binarize=1.0606060606060606, fit_prior=True, force_alpha=False;, score=0.334 total time=   0.1s\n"
          ]
        },
        {
          "data": {
            "text/plain": [
              "array([0.3342226 , 0.40012282, 0.33583016, 0.3342226 , 0.3342226 ,\n",
              "       0.3342226 , 0.43303356, 0.34006352, 0.3342226 , 0.3342226 ])"
            ]
          },
          "execution_count": 74,
          "metadata": {},
          "output_type": "execute_result"
        }
      ],
      "source": [
        "bayes_bernoulli = BernoulliNB()\n",
        "bn_bernoulli_rs = RandomizedSearchCV(estimator = bayes_bernoulli, param_distributions= params_grid, cv = kfoldcv, verbose = 3, scoring = scorer_fn)\n",
        "\n",
        "bn_bernoulli_rs.fit(x_train,y_train)\n",
        "bn_bernoulli_rs.cv_results_['mean_test_score']"
      ]
    },
    {
      "cell_type": "code",
      "execution_count": null,
      "metadata": {
        "colab": {
          "base_uri": "https://localhost:8080/"
        },
        "id": "43ImeddYKRFt",
        "outputId": "10756971-c76d-424d-cf5f-2290daa952d2"
      },
      "outputs": [
        {
          "name": "stdout",
          "output_type": "stream",
          "text": [
            "Mejores Hiperparametros: {'force_alpha': True, 'fit_prior': True, 'binarize': 0.45454545454545453, 'alpha': 3.4925851703406816}\n",
            "Mejor F1 Score:  0.4330335634703335\n"
          ]
        }
      ],
      "source": [
        "best_params = bn_bernoulli_rs.best_params_\n",
        "best_estimator = bn_bernoulli_rs.best_estimator_\n",
        "print(\"Mejores Hiperparametros:\", bn_bernoulli_rs.best_params_)\n",
        "print('Mejor F1 Score: ', bn_bernoulli_rs.best_score_)"
      ]
    },
    {
      "cell_type": "code",
      "execution_count": null,
      "metadata": {
        "colab": {
          "base_uri": "https://localhost:8080/",
          "height": 610
        },
        "id": "5fIiDlFGKUzR",
        "outputId": "2303a2aa-77c2-4d2f-cdbe-b05e04d43abd"
      },
      "outputs": [
        {
          "name": "stdout",
          "output_type": "stream",
          "text": [
            "              precision    recall  f1-score   support\n",
            "\n",
            "           0    0.51287   0.95048   0.66624      4968\n",
            "           1    0.68979   0.10870   0.18781      5032\n",
            "\n",
            "    accuracy                        0.52690     10000\n",
            "   macro avg    0.60133   0.52959   0.42703     10000\n",
            "weighted avg    0.60189   0.52690   0.42550     10000\n",
            "\n"
          ]
        },
        {
          "data": {
            "image/png": "[encoded data removed]",
            "text/plain": [
              "<Figure size 640x480 with 2 Axes>"
            ]
          },
          "metadata": {},
          "output_type": "display_data"
        }
      ],
      "source": [
        "y_pred_bayes_b = best_estimator.predict(x_test)\n",
        "imprimir_matriz_confusion(y_test, y_pred_bayes_b)"
      ]
    },
    {
      "cell_type": "code",
      "execution_count": null,
      "metadata": {
        "colab": {
          "base_uri": "https://localhost:8080/"
        },
        "id": "LoNivA9uKZHQ",
        "outputId": "7569495a-57a0-439b-fb3f-bc24484c0c4f"
      },
      "outputs": [
        {
          "name": "stdout",
          "output_type": "stream",
          "text": [
            "Metricas del modelo: \n",
            "\n",
            "Accuracy: 0.5269\n",
            "Recall: 0.10870429252782193\n",
            "F1 Score: 0.18781115879828325\n",
            "Precision: 0.6897856242118537\n"
          ]
        }
      ],
      "source": [
        "imprimir_metricas(y_test, y_pred_bayes_b)"
      ]
    },
    {
      "cell_type": "code",
      "execution_count": null,
      "metadata": {
        "colab": {
          "base_uri": "https://localhost:8080/",
          "height": 424
        },
        "id": "02yR-ly4Kcgs",
        "outputId": "dd1d7541-d37c-4c3a-cfba-c9ace76b5092"
      },
      "outputs": [
        {
          "data": {
            "text/html": [
              "\n",
              "  <div id=\"df-d93fac20-3e9c-414f-b5e0-4aef3c59fed2\" class=\"colab-df-container\">\n",
              "    <div>\n",
              "<style scoped>\n",
              "    .dataframe tbody tr th:only-of-type {\n",
              "        vertical-align: middle;\n",
              "    }\n",
              "\n",
              "    .dataframe tbody tr th {\n",
              "        vertical-align: top;\n",
              "    }\n",
              "\n",
              "    .dataframe thead th {\n",
              "        text-align: right;\n",
              "    }\n",
              "</style>\n",
              "<table border=\"1\" class=\"dataframe\">\n",
              "  <thead>\n",
              "    <tr style=\"text-align: right;\">\n",
              "      <th></th>\n",
              "      <th>ID</th>\n",
              "      <th>sentimiento</th>\n",
              "    </tr>\n",
              "  </thead>\n",
              "  <tbody>\n",
              "    <tr>\n",
              "      <th>0</th>\n",
              "      <td>60000</td>\n",
              "      <td>negativo</td>\n",
              "    </tr>\n",
              "    <tr>\n",
              "      <th>1</th>\n",
              "      <td>60001</td>\n",
              "      <td>negativo</td>\n",
              "    </tr>\n",
              "    <tr>\n",
              "      <th>2</th>\n",
              "      <td>60002</td>\n",
              "      <td>negativo</td>\n",
              "    </tr>\n",
              "    <tr>\n",
              "      <th>3</th>\n",
              "      <td>60003</td>\n",
              "      <td>negativo</td>\n",
              "    </tr>\n",
              "    <tr>\n",
              "      <th>4</th>\n",
              "      <td>60004</td>\n",
              "      <td>negativo</td>\n",
              "    </tr>\n",
              "    <tr>\n",
              "      <th>...</th>\n",
              "      <td>...</td>\n",
              "      <td>...</td>\n",
              "    </tr>\n",
              "    <tr>\n",
              "      <th>8594</th>\n",
              "      <td>68594</td>\n",
              "      <td>positivo</td>\n",
              "    </tr>\n",
              "    <tr>\n",
              "      <th>8595</th>\n",
              "      <td>68595</td>\n",
              "      <td>negativo</td>\n",
              "    </tr>\n",
              "    <tr>\n",
              "      <th>8596</th>\n",
              "      <td>68596</td>\n",
              "      <td>positivo</td>\n",
              "    </tr>\n",
              "    <tr>\n",
              "      <th>8597</th>\n",
              "      <td>68597</td>\n",
              "      <td>negativo</td>\n",
              "    </tr>\n",
              "    <tr>\n",
              "      <th>8598</th>\n",
              "      <td>68598</td>\n",
              "      <td>negativo</td>\n",
              "    </tr>\n",
              "  </tbody>\n",
              "</table>\n",
              "<p>8599 rows × 2 columns</p>\n",
              "</div>\n",
              "    <div class=\"colab-df-buttons\">\n",
              "\n",
              "  <div class=\"colab-df-container\">\n",
              "    <button class=\"colab-df-convert\" onclick=\"convertToInteractive('df-d93fac20-3e9c-414f-b5e0-4aef3c59fed2')\"\n",
              "            title=\"Convert this dataframe to an interactive table.\"\n",
              "            style=\"display:none;\">\n",
              "\n",
              "  <svg xmlns=\"http://www.w3.org/2000/svg\" height=\"24px\" viewBox=\"0 -960 960 960\">\n",
              "    <path d=\"M120-120v-720h720v720H120Zm60-500h600v-160H180v160Zm220 220h160v-160H400v160Zm0 220h160v-160H400v160ZM180-400h160v-160H180v160Zm440 0h160v-160H620v160ZM180-180h160v-160H180v160Zm440 0h160v-160H620v160Z\"/>\n",
              "  </svg>\n",
              "    </button>\n",
              "\n",
              "  <style>\n",
              "    .colab-df-container {\n",
              "      display:flex;\n",
              "      gap: 12px;\n",
              "    }\n",
              "\n",
              "    .colab-df-convert {\n",
              "      background-color: #E8F0FE;\n",
              "      border: none;\n",
              "      border-radius: 50%;\n",
              "      cursor: pointer;\n",
              "      display: none;\n",
              "      fill: #1967D2;\n",
              "      height: 32px;\n",
              "      padding: 0 0 0 0;\n",
              "      width: 32px;\n",
              "    }\n",
              "\n",
              "    .colab-df-convert:hover {\n",
              "      background-color: #E2EBFA;\n",
              "      box-shadow: 0px 1px 2px rgba(60, 64, 67, 0.3), 0px 1px 3px 1px rgba(60, 64, 67, 0.15);\n",
              "      fill: #174EA6;\n",
              "    }\n",
              "\n",
              "    .colab-df-buttons div {\n",
              "      margin-bottom: 4px;\n",
              "    }\n",
              "\n",
              "    [theme=dark] .colab-df-convert {\n",
              "      background-color: #3B4455;\n",
              "      fill: #D2E3FC;\n",
              "    }\n",
              "\n",
              "    [theme=dark] .colab-df-convert:hover {\n",
              "      background-color: #434B5C;\n",
              "      box-shadow: 0px 1px 3px 1px rgba(0, 0, 0, 0.15);\n",
              "      filter: drop-shadow(0px 1px 2px rgba(0, 0, 0, 0.3));\n",
              "      fill: #FFFFFF;\n",
              "    }\n",
              "  </style>\n",
              "\n",
              "    <script>\n",
              "      const buttonEl =\n",
              "        document.querySelector('#df-d93fac20-3e9c-414f-b5e0-4aef3c59fed2 button.colab-df-convert');\n",
              "      buttonEl.style.display =\n",
              "        google.colab.kernel.accessAllowed ? 'block' : 'none';\n",
              "\n",
              "      async function convertToInteractive(key) {\n",
              "        const element = document.querySelector('#df-d93fac20-3e9c-414f-b5e0-4aef3c59fed2');\n",
              "        const dataTable =\n",
              "          await google.colab.kernel.invokeFunction('convertToInteractive',\n",
              "                                                    [key], {});\n",
              "        if (!dataTable) return;\n",
              "\n",
              "        const docLinkHtml = 'Like what you see? Visit the ' +\n",
              "          '<a target=\"_blank\" href=https://colab.research.google.com/notebooks/data_table.ipynb>data table notebook</a>'\n",
              "          + ' to learn more about interactive tables.';\n",
              "        element.innerHTML = '';\n",
              "        dataTable['output_type'] = 'display_data';\n",
              "        await google.colab.output.renderOutput(dataTable, element);\n",
              "        const docLink = document.createElement('div');\n",
              "        docLink.innerHTML = docLinkHtml;\n",
              "        element.appendChild(docLink);\n",
              "      }\n",
              "    </script>\n",
              "  </div>\n",
              "\n",
              "\n",
              "<div id=\"df-0598ded5-b343-4956-a6d6-c8a102ae939b\">\n",
              "  <button class=\"colab-df-quickchart\" onclick=\"quickchart('df-0598ded5-b343-4956-a6d6-c8a102ae939b')\"\n",
              "            title=\"Suggest charts\"\n",
              "            style=\"display:none;\">\n",
              "\n",
              "<svg xmlns=\"http://www.w3.org/2000/svg\" height=\"24px\"viewBox=\"0 0 24 24\"\n",
              "     width=\"24px\">\n",
              "    <g>\n",
              "        <path d=\"M19 3H5c-1.1 0-2 .9-2 2v14c0 1.1.9 2 2 2h14c1.1 0 2-.9 2-2V5c0-1.1-.9-2-2-2zM9 17H7v-7h2v7zm4 0h-2V7h2v10zm4 0h-2v-4h2v4z\"/>\n",
              "    </g>\n",
              "</svg>\n",
              "  </button>\n",
              "\n",
              "<style>\n",
              "  .colab-df-quickchart {\n",
              "      --bg-color: #E8F0FE;\n",
              "      --fill-color: #1967D2;\n",
              "      --hover-bg-color: #E2EBFA;\n",
              "      --hover-fill-color: #174EA6;\n",
              "      --disabled-fill-color: #AAA;\n",
              "      --disabled-bg-color: #DDD;\n",
              "  }\n",
              "\n",
              "  [theme=dark] .colab-df-quickchart {\n",
              "      --bg-color: #3B4455;\n",
              "      --fill-color: #D2E3FC;\n",
              "      --hover-bg-color: #434B5C;\n",
              "      --hover-fill-color: #FFFFFF;\n",
              "      --disabled-bg-color: #3B4455;\n",
              "      --disabled-fill-color: #666;\n",
              "  }\n",
              "\n",
              "  .colab-df-quickchart {\n",
              "    background-color: var(--bg-color);\n",
              "    border: none;\n",
              "    border-radius: 50%;\n",
              "    cursor: pointer;\n",
              "    display: none;\n",
              "    fill: var(--fill-color);\n",
              "    height: 32px;\n",
              "    padding: 0;\n",
              "    width: 32px;\n",
              "  }\n",
              "\n",
              "  .colab-df-quickchart:hover {\n",
              "    background-color: var(--hover-bg-color);\n",
              "    box-shadow: 0 1px 2px rgba(60, 64, 67, 0.3), 0 1px 3px 1px rgba(60, 64, 67, 0.15);\n",
              "    fill: var(--button-hover-fill-color);\n",
              "  }\n",
              "\n",
              "  .colab-df-quickchart-complete:disabled,\n",
              "  .colab-df-quickchart-complete:disabled:hover {\n",
              "    background-color: var(--disabled-bg-color);\n",
              "    fill: var(--disabled-fill-color);\n",
              "    box-shadow: none;\n",
              "  }\n",
              "\n",
              "  .colab-df-spinner {\n",
              "    border: 2px solid var(--fill-color);\n",
              "    border-color: transparent;\n",
              "    border-bottom-color: var(--fill-color);\n",
              "    animation:\n",
              "      spin 1s steps(1) infinite;\n",
              "  }\n",
              "\n",
              "  @keyframes spin {\n",
              "    0% {\n",
              "      border-color: transparent;\n",
              "      border-bottom-color: var(--fill-color);\n",
              "      border-left-color: var(--fill-color);\n",
              "    }\n",
              "    20% {\n",
              "      border-color: transparent;\n",
              "      border-left-color: var(--fill-color);\n",
              "      border-top-color: var(--fill-color);\n",
              "    }\n",
              "    30% {\n",
              "      border-color: transparent;\n",
              "      border-left-color: var(--fill-color);\n",
              "      border-top-color: var(--fill-color);\n",
              "      border-right-color: var(--fill-color);\n",
              "    }\n",
              "    40% {\n",
              "      border-color: transparent;\n",
              "      border-right-color: var(--fill-color);\n",
              "      border-top-color: var(--fill-color);\n",
              "    }\n",
              "    60% {\n",
              "      border-color: transparent;\n",
              "      border-right-color: var(--fill-color);\n",
              "    }\n",
              "    80% {\n",
              "      border-color: transparent;\n",
              "      border-right-color: var(--fill-color);\n",
              "      border-bottom-color: var(--fill-color);\n",
              "    }\n",
              "    90% {\n",
              "      border-color: transparent;\n",
              "      border-bottom-color: var(--fill-color);\n",
              "    }\n",
              "  }\n",
              "</style>\n",
              "\n",
              "  <script>\n",
              "    async function quickchart(key) {\n",
              "      const quickchartButtonEl =\n",
              "        document.querySelector('#' + key + ' button');\n",
              "      quickchartButtonEl.disabled = true;  // To prevent multiple clicks.\n",
              "      quickchartButtonEl.classList.add('colab-df-spinner');\n",
              "      try {\n",
              "        const charts = await google.colab.kernel.invokeFunction(\n",
              "            'suggestCharts', [key], {});\n",
              "      } catch (error) {\n",
              "        console.error('Error during call to suggestCharts:', error);\n",
              "      }\n",
              "      quickchartButtonEl.classList.remove('colab-df-spinner');\n",
              "      quickchartButtonEl.classList.add('colab-df-quickchart-complete');\n",
              "    }\n",
              "    (() => {\n",
              "      let quickchartButtonEl =\n",
              "        document.querySelector('#df-0598ded5-b343-4956-a6d6-c8a102ae939b button');\n",
              "      quickchartButtonEl.style.display =\n",
              "        google.colab.kernel.accessAllowed ? 'block' : 'none';\n",
              "    })();\n",
              "  </script>\n",
              "</div>\n",
              "    </div>\n",
              "  </div>\n"
            ],
            "text/plain": [
              "         ID sentimiento\n",
              "0     60000    negativo\n",
              "1     60001    negativo\n",
              "2     60002    negativo\n",
              "3     60003    negativo\n",
              "4     60004    negativo\n",
              "...     ...         ...\n",
              "8594  68594    positivo\n",
              "8595  68595    negativo\n",
              "8596  68596    positivo\n",
              "8597  68597    negativo\n",
              "8598  68598    negativo\n",
              "\n",
              "[8599 rows x 2 columns]"
            ]
          },
          "execution_count": 562,
          "metadata": {},
          "output_type": "execute_result"
        }
      ],
      "source": [
        "df_test['review_es'] = df_test['review_es'].apply(lambda x: preprocesamiento(x))\n",
        "df_test['review_es'] = df_test['review_es'].apply(lambda x: ' '.join([stemmer.stem(word) for word in word_tokenize(x)]))\n",
        "bag_of_words_test = vectorizer.transform(df_test['review_es'])\n",
        "\n",
        "y_pred = bn_bernoulli_rs.predict(bag_of_words_test)\n",
        "df_summision = pd.DataFrame({'ID':df_test['ID'], 'sentimiento': y_pred})\n",
        "df_summision = df_summision.replace({'sentimiento': {1: 'positivo', 0: 'negativo'}})\n",
        "df_summision.to_csv(\"bayes_bernoulli.csv\", index= False)\n",
        "df_summision"
      ]
    },
    {
      "cell_type": "markdown",
      "metadata": {
        "id": "FjbCjSHhPF04"
      },
      "source": [
        "## XGBoost"
      ]
    },
    {
      "cell_type": "code",
      "execution_count": null,
      "metadata": {
        "id": "Gxj3aZwpPH8y"
      },
      "outputs": [],
      "source": [
        "x_train, x_test, y_train, y_test = train_test_split(bag_of_words,\n",
        "                                                    labels,\n",
        "                                                    test_size= 0.2,\n",
        "                                                    random_state = 28)"
      ]
    },
    {
      "cell_type": "code",
      "execution_count": null,
      "metadata": {
        "colab": {
          "base_uri": "https://localhost:8080/",
          "height": 610
        },
        "id": "Jm_08OU6Pgrn",
        "outputId": "e632dcec-46d7-4212-a041-82663b9b9b37"
      },
      "outputs": [
        {
          "name": "stdout",
          "output_type": "stream",
          "text": [
            "              precision    recall  f1-score   support\n",
            "\n",
            "           0    0.84034   0.81260   0.82624      4968\n",
            "           1    0.82082   0.84758   0.83399      5032\n",
            "\n",
            "    accuracy                        0.83020     10000\n",
            "   macro avg    0.83058   0.83009   0.83011     10000\n",
            "weighted avg    0.83052   0.83020   0.83014     10000\n",
            "\n"
          ]
        },
        {
          "data": {
            "image/png": "[encoded data removed]",
            "text/plain": [
              "<Figure size 640x480 with 2 Axes>"
            ]
          },
          "metadata": {},
          "output_type": "display_data"
        }
      ],
      "source": [
        "xgboost_default = XGBClassifier()\n",
        "xgboost_default.fit(x_train, y_train)\n",
        "y_pred_xgb_default = xgboost_default.predict(x_test)\n",
        "imprimir_matriz_confusion(y_test, y_pred_xgb_default)"
      ]
    },
    {
      "cell_type": "code",
      "execution_count": null,
      "metadata": {
        "colab": {
          "base_uri": "https://localhost:8080/"
        },
        "id": "LoW_YXkiP6Xl",
        "outputId": "47548114-717e-45cf-cb9f-d9e8199dfb16"
      },
      "outputs": [
        {
          "name": "stdout",
          "output_type": "stream",
          "text": [
            "Metricas del modelo: \n",
            "\n",
            "Accuracy: 0.8302\n",
            "Recall: 0.8475755166931638\n",
            "F1 Score: 0.8339851388345718\n",
            "Precision: 0.8208237105465743\n"
          ]
        }
      ],
      "source": [
        "imprimir_metricas(y_test, y_pred_xgb_default)"
      ]
    },
    {
      "cell_type": "markdown",
      "metadata": {
        "id": "Mje1g_wcQCeC"
      },
      "source": [
        "### Busqueda de Hiperparametros"
      ]
    },
    {
      "cell_type": "code",
      "execution_count": null,
      "metadata": {
        "id": "iwdDaEDgQDTv"
      },
      "outputs": [],
      "source": [
        "n = 10\n",
        "params_grid = {\n",
        "    'n_estimators': randint(100, 150),\n",
        "    'learning_rate': uniform(0.03, 0.3),\n",
        "    'max_depth': list(range(2,10)),\n",
        "    'subsample': uniform(0.6, 0.4),\n",
        "    #'colsample_bytree': np.array([0.5, 0.7, 0.9, 1]),\n",
        "    'gamma': uniform(0, 0.5),\n",
        "    #'reg_alpha': np.array([0, 10, 25, 50, 100]),\n",
        "    #'reg_lambda': np.linspace(0.1, 1, 20),\n",
        "}\n",
        "\n",
        "folds = 5\n",
        "\n",
        "kfoldcv = StratifiedKFold(n_splits = folds)\n",
        "\n",
        "scorer_fn = make_scorer(f1_score, average= 'weighted')"
      ]
    },
    {
      "cell_type": "code",
      "execution_count": null,
      "metadata": {
        "colab": {
          "base_uri": "https://localhost:8080/"
        },
        "id": "-xpiM87gR9mx",
        "outputId": "eb84967b-c23d-4471-d4a8-e53077d52cbe"
      },
      "outputs": [
        {
          "name": "stdout",
          "output_type": "stream",
          "text": [
            "Fitting 5 folds for each of 10 candidates, totalling 50 fits\n",
            "[CV 1/5] END gamma=0.36450687114455954, learning_rate=0.19837188069829234, max_depth=6, n_estimators=132, subsample=0.7590369474800469;, score=0.821 total time= 2.4min\n",
            "[CV 2/5] END gamma=0.36450687114455954, learning_rate=0.19837188069829234, max_depth=6, n_estimators=132, subsample=0.7590369474800469;, score=0.825 total time= 2.4min\n",
            "[CV 3/5] END gamma=0.36450687114455954, learning_rate=0.19837188069829234, max_depth=6, n_estimators=132, subsample=0.7590369474800469;, score=0.832 total time= 2.4min\n",
            "[CV 4/5] END gamma=0.36450687114455954, learning_rate=0.19837188069829234, max_depth=6, n_estimators=132, subsample=0.7590369474800469;, score=0.828 total time= 2.4min\n",
            "[CV 5/5] END gamma=0.36450687114455954, learning_rate=0.19837188069829234, max_depth=6, n_estimators=132, subsample=0.7590369474800469;, score=0.819 total time= 2.4min\n",
            "[CV 1/5] END gamma=0.39065410313673804, learning_rate=0.18329789449593392, max_depth=6, n_estimators=112, subsample=0.9414051500995411;, score=0.819 total time= 2.2min\n",
            "[CV 2/5] END gamma=0.39065410313673804, learning_rate=0.18329789449593392, max_depth=6, n_estimators=112, subsample=0.9414051500995411;, score=0.817 total time= 2.2min\n",
            "[CV 3/5] END gamma=0.39065410313673804, learning_rate=0.18329789449593392, max_depth=6, n_estimators=112, subsample=0.9414051500995411;, score=0.826 total time= 2.2min\n",
            "[CV 4/5] END gamma=0.39065410313673804, learning_rate=0.18329789449593392, max_depth=6, n_estimators=112, subsample=0.9414051500995411;, score=0.822 total time= 2.1min\n",
            "[CV 5/5] END gamma=0.39065410313673804, learning_rate=0.18329789449593392, max_depth=6, n_estimators=112, subsample=0.9414051500995411;, score=0.818 total time= 2.2min\n",
            "[CV 1/5] END gamma=0.47768594631740463, learning_rate=0.3252640404755337, max_depth=6, n_estimators=124, subsample=0.9883180405480869;, score=0.823 total time= 2.2min\n",
            "[CV 2/5] END gamma=0.47768594631740463, learning_rate=0.3252640404755337, max_depth=6, n_estimators=124, subsample=0.9883180405480869;, score=0.825 total time= 2.2min\n",
            "[CV 3/5] END gamma=0.47768594631740463, learning_rate=0.3252640404755337, max_depth=6, n_estimators=124, subsample=0.9883180405480869;, score=0.837 total time= 2.1min\n",
            "[CV 4/5] END gamma=0.47768594631740463, learning_rate=0.3252640404755337, max_depth=6, n_estimators=124, subsample=0.9883180405480869;, score=0.831 total time= 2.2min\n",
            "[CV 5/5] END gamma=0.47768594631740463, learning_rate=0.3252640404755337, max_depth=6, n_estimators=124, subsample=0.9883180405480869;, score=0.829 total time= 2.2min\n",
            "[CV 1/5] END gamma=0.11740417730072145, learning_rate=0.037906154552961195, max_depth=4, n_estimators=132, subsample=0.7917550781189673;, score=0.762 total time= 1.4min\n",
            "[CV 2/5] END gamma=0.11740417730072145, learning_rate=0.037906154552961195, max_depth=4, n_estimators=132, subsample=0.7917550781189673;, score=0.762 total time= 1.5min\n",
            "[CV 3/5] END gamma=0.11740417730072145, learning_rate=0.037906154552961195, max_depth=4, n_estimators=132, subsample=0.7917550781189673;, score=0.766 total time= 1.4min\n",
            "[CV 4/5] END gamma=0.11740417730072145, learning_rate=0.037906154552961195, max_depth=4, n_estimators=132, subsample=0.7917550781189673;, score=0.764 total time= 1.5min\n",
            "[CV 5/5] END gamma=0.11740417730072145, learning_rate=0.037906154552961195, max_depth=4, n_estimators=132, subsample=0.7917550781189673;, score=0.764 total time= 1.4min\n",
            "[CV 1/5] END gamma=0.3213897837932173, learning_rate=0.1905904930727694, max_depth=6, n_estimators=145, subsample=0.8228784451128162;, score=0.824 total time= 2.7min\n",
            "[CV 2/5] END gamma=0.3213897837932173, learning_rate=0.1905904930727694, max_depth=6, n_estimators=145, subsample=0.8228784451128162;, score=0.821 total time= 2.7min\n",
            "[CV 3/5] END gamma=0.3213897837932173, learning_rate=0.1905904930727694, max_depth=6, n_estimators=145, subsample=0.8228784451128162;, score=0.833 total time= 2.6min\n",
            "[CV 4/5] END gamma=0.3213897837932173, learning_rate=0.1905904930727694, max_depth=6, n_estimators=145, subsample=0.8228784451128162;, score=0.826 total time= 2.7min\n",
            "[CV 5/5] END gamma=0.3213897837932173, learning_rate=0.1905904930727694, max_depth=6, n_estimators=145, subsample=0.8228784451128162;, score=0.826 total time= 2.6min\n",
            "[CV 1/5] END gamma=0.47372129719543765, learning_rate=0.2892959869580032, max_depth=6, n_estimators=133, subsample=0.7619529957499751;, score=0.821 total time= 2.2min\n",
            "[CV 2/5] END gamma=0.47372129719543765, learning_rate=0.2892959869580032, max_depth=6, n_estimators=133, subsample=0.7619529957499751;, score=0.820 total time= 2.3min\n",
            "[CV 3/5] END gamma=0.47372129719543765, learning_rate=0.2892959869580032, max_depth=6, n_estimators=133, subsample=0.7619529957499751;, score=0.834 total time= 2.2min\n",
            "[CV 4/5] END gamma=0.47372129719543765, learning_rate=0.2892959869580032, max_depth=6, n_estimators=133, subsample=0.7619529957499751;, score=0.833 total time= 2.3min\n",
            "[CV 5/5] END gamma=0.47372129719543765, learning_rate=0.2892959869580032, max_depth=6, n_estimators=133, subsample=0.7619529957499751;, score=0.828 total time= 2.3min\n",
            "[CV 1/5] END gamma=0.10926472767043593, learning_rate=0.15780900597403674, max_depth=2, n_estimators=101, subsample=0.6597534922001506;, score=0.781 total time=  22.1s\n",
            "[CV 2/5] END gamma=0.10926472767043593, learning_rate=0.15780900597403674, max_depth=2, n_estimators=101, subsample=0.6597534922001506;, score=0.784 total time=  25.0s\n",
            "[CV 3/5] END gamma=0.10926472767043593, learning_rate=0.15780900597403674, max_depth=2, n_estimators=101, subsample=0.6597534922001506;, score=0.787 total time=  22.4s\n",
            "[CV 4/5] END gamma=0.10926472767043593, learning_rate=0.15780900597403674, max_depth=2, n_estimators=101, subsample=0.6597534922001506;, score=0.788 total time=  24.4s\n",
            "[CV 5/5] END gamma=0.10926472767043593, learning_rate=0.15780900597403674, max_depth=2, n_estimators=101, subsample=0.6597534922001506;, score=0.782 total time=  23.3s\n",
            "[CV 1/5] END gamma=0.36267752982396034, learning_rate=0.31654393029527605, max_depth=4, n_estimators=125, subsample=0.7903601820502224;, score=0.821 total time= 1.1min\n",
            "[CV 2/5] END gamma=0.36267752982396034, learning_rate=0.31654393029527605, max_depth=4, n_estimators=125, subsample=0.7903601820502224;, score=0.823 total time= 1.1min\n",
            "[CV 3/5] END gamma=0.36267752982396034, learning_rate=0.31654393029527605, max_depth=4, n_estimators=125, subsample=0.7903601820502224;, score=0.832 total time= 1.2min\n",
            "[CV 4/5] END gamma=0.36267752982396034, learning_rate=0.31654393029527605, max_depth=4, n_estimators=125, subsample=0.7903601820502224;, score=0.827 total time= 1.1min\n",
            "[CV 5/5] END gamma=0.36267752982396034, learning_rate=0.31654393029527605, max_depth=4, n_estimators=125, subsample=0.7903601820502224;, score=0.822 total time= 1.2min\n",
            "[CV 1/5] END gamma=0.01842079365827015, learning_rate=0.18786218218193546, max_depth=6, n_estimators=138, subsample=0.794913192615147;, score=0.825 total time= 2.5min\n",
            "[CV 2/5] END gamma=0.01842079365827015, learning_rate=0.18786218218193546, max_depth=6, n_estimators=138, subsample=0.794913192615147;, score=0.824 total time= 2.5min\n",
            "[CV 3/5] END gamma=0.01842079365827015, learning_rate=0.18786218218193546, max_depth=6, n_estimators=138, subsample=0.794913192615147;, score=0.834 total time= 2.6min\n",
            "[CV 4/5] END gamma=0.01842079365827015, learning_rate=0.18786218218193546, max_depth=6, n_estimators=138, subsample=0.794913192615147;, score=0.826 total time= 2.6min\n",
            "[CV 5/5] END gamma=0.01842079365827015, learning_rate=0.18786218218193546, max_depth=6, n_estimators=138, subsample=0.794913192615147;, score=0.821 total time= 2.6min\n",
            "[CV 1/5] END gamma=0.2844073181290261, learning_rate=0.08268113547407799, max_depth=6, n_estimators=110, subsample=0.9636914856767136;, score=0.796 total time= 2.4min\n",
            "[CV 2/5] END gamma=0.2844073181290261, learning_rate=0.08268113547407799, max_depth=6, n_estimators=110, subsample=0.9636914856767136;, score=0.798 total time= 2.4min\n",
            "[CV 3/5] END gamma=0.2844073181290261, learning_rate=0.08268113547407799, max_depth=6, n_estimators=110, subsample=0.9636914856767136;, score=0.803 total time= 2.5min\n",
            "[CV 4/5] END gamma=0.2844073181290261, learning_rate=0.08268113547407799, max_depth=6, n_estimators=110, subsample=0.9636914856767136;, score=0.799 total time= 2.5min\n",
            "[CV 5/5] END gamma=0.2844073181290261, learning_rate=0.08268113547407799, max_depth=6, n_estimators=110, subsample=0.9636914856767136;, score=0.797 total time= 2.5min\n"
          ]
        },
        {
          "data": {
            "text/plain": [
              "array([0.82488032, 0.82038453, 0.82915704, 0.76363743, 0.82597822,\n",
              "       0.82706915, 0.78420641, 0.82510908, 0.8260944 , 0.79857101])"
            ]
          },
          "execution_count": 32,
          "metadata": {},
          "output_type": "execute_result"
        }
      ],
      "source": [
        "xgboost_m = xgb.XGBClassifier()\n",
        "xgboost_rs = RandomizedSearchCV(estimator = xgboost_m, param_distributions= params_grid, cv = 5 ,n_iter= n,random_state=28, n_jobs = 1, verbose = 3, scoring = scorer_fn)\n",
        "\n",
        "xgboost_rs.fit(x_train,y_train)\n",
        "xgboost_rs.cv_results_['mean_test_score']"
      ]
    },
    {
      "cell_type": "code",
      "execution_count": null,
      "metadata": {
        "colab": {
          "base_uri": "https://localhost:8080/"
        },
        "id": "6PfIa5N4R0IR",
        "outputId": "a42fb638-be0c-41fa-f7d5-df45f7a2c464"
      },
      "outputs": [
        {
          "name": "stdout",
          "output_type": "stream",
          "text": [
            "Mejores Hiperparametros: {'gamma': 0.47768594631740463, 'learning_rate': 0.3252640404755337, 'max_depth': 6, 'n_estimators': 124, 'subsample': 0.9883180405480869}\n",
            "Mejor F1 Score:  0.829157039662167\n"
          ]
        }
      ],
      "source": [
        "best_params = xgboost_rs.best_params_\n",
        "best_estimator = xgboost_rs.best_estimator_\n",
        "print(\"Mejores Hiperparametros:\", best_params)\n",
        "print('Mejor F1 Score: ', xgboost_rs.best_score_)"
      ]
    },
    {
      "cell_type": "code",
      "execution_count": null,
      "metadata": {
        "colab": {
          "base_uri": "https://localhost:8080/",
          "height": 610
        },
        "id": "B8wxTS55SqIv",
        "outputId": "cfa66ea2-3f4a-41c9-ef91-aadae64e749a"
      },
      "outputs": [
        {
          "name": "stdout",
          "output_type": "stream",
          "text": [
            "              precision    recall  f1-score   support\n",
            "\n",
            "           0    0.84483   0.81320   0.82872      4968\n",
            "           1    0.82215   0.85254   0.83707      5032\n",
            "\n",
            "    accuracy                        0.83300     10000\n",
            "   macro avg    0.83349   0.83287   0.83290     10000\n",
            "weighted avg    0.83342   0.83300   0.83292     10000\n",
            "\n"
          ]
        },
        {
          "data": {
            "image/png": "[encoded data removed]",
            "text/plain": [
              "<Figure size 640x480 with 2 Axes>"
            ]
          },
          "metadata": {},
          "output_type": "display_data"
        }
      ],
      "source": [
        "y_pred_xgb = best_estimator.predict(x_test)\n",
        "imprimir_matriz_confusion(y_test, y_pred_xgb)"
      ]
    },
    {
      "cell_type": "code",
      "execution_count": null,
      "metadata": {
        "colab": {
          "base_uri": "https://localhost:8080/"
        },
        "id": "nQAvKIwnSzFb",
        "outputId": "3103a32a-4b45-4b20-c1cf-7703d15e7edc"
      },
      "outputs": [
        {
          "name": "stdout",
          "output_type": "stream",
          "text": [
            "Metricas del modelo: \n",
            "\n",
            "Accuracy: 0.833\n",
            "Recall: 0.8525437201907791\n",
            "F1 Score: 0.8370731707317075\n",
            "Precision: 0.8221540820237639\n"
          ]
        }
      ],
      "source": [
        "imprimir_metricas(y_test, y_pred_xgb)"
      ]
    },
    {
      "cell_type": "code",
      "execution_count": null,
      "metadata": {
        "colab": {
          "base_uri": "https://localhost:8080/"
        },
        "id": "Txeccg65akRj",
        "outputId": "f9e9e7e9-ee44-484e-9402-588b32776db1"
      },
      "outputs": [
        {
          "data": {
            "text/plain": [
              "['model_xgb.joblib']"
            ]
          },
          "execution_count": 36,
          "metadata": {},
          "output_type": "execute_result"
        }
      ],
      "source": [
        "joblib.dump(best_estimator, 'model_xgb.joblib')"
      ]
    },
    {
      "cell_type": "code",
      "execution_count": null,
      "metadata": {
        "colab": {
          "base_uri": "https://localhost:8080/",
          "height": 424
        },
        "id": "Ubl7AY3GS4fx",
        "outputId": "b42f0194-5006-4487-b9e8-c9df416fc461"
      },
      "outputs": [
        {
          "data": {
            "text/html": [
              "\n",
              "  <div id=\"df-e4125857-941e-4017-9f61-7bd111a0e623\" class=\"colab-df-container\">\n",
              "    <div>\n",
              "<style scoped>\n",
              "    .dataframe tbody tr th:only-of-type {\n",
              "        vertical-align: middle;\n",
              "    }\n",
              "\n",
              "    .dataframe tbody tr th {\n",
              "        vertical-align: top;\n",
              "    }\n",
              "\n",
              "    .dataframe thead th {\n",
              "        text-align: right;\n",
              "    }\n",
              "</style>\n",
              "<table border=\"1\" class=\"dataframe\">\n",
              "  <thead>\n",
              "    <tr style=\"text-align: right;\">\n",
              "      <th></th>\n",
              "      <th>ID</th>\n",
              "      <th>sentimiento</th>\n",
              "    </tr>\n",
              "  </thead>\n",
              "  <tbody>\n",
              "    <tr>\n",
              "      <th>0</th>\n",
              "      <td>60000</td>\n",
              "      <td>negativo</td>\n",
              "    </tr>\n",
              "    <tr>\n",
              "      <th>1</th>\n",
              "      <td>60001</td>\n",
              "      <td>negativo</td>\n",
              "    </tr>\n",
              "    <tr>\n",
              "      <th>2</th>\n",
              "      <td>60002</td>\n",
              "      <td>negativo</td>\n",
              "    </tr>\n",
              "    <tr>\n",
              "      <th>3</th>\n",
              "      <td>60003</td>\n",
              "      <td>negativo</td>\n",
              "    </tr>\n",
              "    <tr>\n",
              "      <th>4</th>\n",
              "      <td>60004</td>\n",
              "      <td>negativo</td>\n",
              "    </tr>\n",
              "    <tr>\n",
              "      <th>...</th>\n",
              "      <td>...</td>\n",
              "      <td>...</td>\n",
              "    </tr>\n",
              "    <tr>\n",
              "      <th>8594</th>\n",
              "      <td>68594</td>\n",
              "      <td>positivo</td>\n",
              "    </tr>\n",
              "    <tr>\n",
              "      <th>8595</th>\n",
              "      <td>68595</td>\n",
              "      <td>negativo</td>\n",
              "    </tr>\n",
              "    <tr>\n",
              "      <th>8596</th>\n",
              "      <td>68596</td>\n",
              "      <td>positivo</td>\n",
              "    </tr>\n",
              "    <tr>\n",
              "      <th>8597</th>\n",
              "      <td>68597</td>\n",
              "      <td>negativo</td>\n",
              "    </tr>\n",
              "    <tr>\n",
              "      <th>8598</th>\n",
              "      <td>68598</td>\n",
              "      <td>negativo</td>\n",
              "    </tr>\n",
              "  </tbody>\n",
              "</table>\n",
              "<p>8599 rows × 2 columns</p>\n",
              "</div>\n",
              "    <div class=\"colab-df-buttons\">\n",
              "\n",
              "  <div class=\"colab-df-container\">\n",
              "    <button class=\"colab-df-convert\" onclick=\"convertToInteractive('df-e4125857-941e-4017-9f61-7bd111a0e623')\"\n",
              "            title=\"Convert this dataframe to an interactive table.\"\n",
              "            style=\"display:none;\">\n",
              "\n",
              "  <svg xmlns=\"http://www.w3.org/2000/svg\" height=\"24px\" viewBox=\"0 -960 960 960\">\n",
              "    <path d=\"M120-120v-720h720v720H120Zm60-500h600v-160H180v160Zm220 220h160v-160H400v160Zm0 220h160v-160H400v160ZM180-400h160v-160H180v160Zm440 0h160v-160H620v160ZM180-180h160v-160H180v160Zm440 0h160v-160H620v160Z\"/>\n",
              "  </svg>\n",
              "    </button>\n",
              "\n",
              "  <style>\n",
              "    .colab-df-container {\n",
              "      display:flex;\n",
              "      gap: 12px;\n",
              "    }\n",
              "\n",
              "    .colab-df-convert {\n",
              "      background-color: #E8F0FE;\n",
              "      border: none;\n",
              "      border-radius: 50%;\n",
              "      cursor: pointer;\n",
              "      display: none;\n",
              "      fill: #1967D2;\n",
              "      height: 32px;\n",
              "      padding: 0 0 0 0;\n",
              "      width: 32px;\n",
              "    }\n",
              "\n",
              "    .colab-df-convert:hover {\n",
              "      background-color: #E2EBFA;\n",
              "      box-shadow: 0px 1px 2px rgba(60, 64, 67, 0.3), 0px 1px 3px 1px rgba(60, 64, 67, 0.15);\n",
              "      fill: #174EA6;\n",
              "    }\n",
              "\n",
              "    .colab-df-buttons div {\n",
              "      margin-bottom: 4px;\n",
              "    }\n",
              "\n",
              "    [theme=dark] .colab-df-convert {\n",
              "      background-color: #3B4455;\n",
              "      fill: #D2E3FC;\n",
              "    }\n",
              "\n",
              "    [theme=dark] .colab-df-convert:hover {\n",
              "      background-color: #434B5C;\n",
              "      box-shadow: 0px 1px 3px 1px rgba(0, 0, 0, 0.15);\n",
              "      filter: drop-shadow(0px 1px 2px rgba(0, 0, 0, 0.3));\n",
              "      fill: #FFFFFF;\n",
              "    }\n",
              "  </style>\n",
              "\n",
              "    <script>\n",
              "      const buttonEl =\n",
              "        document.querySelector('#df-e4125857-941e-4017-9f61-7bd111a0e623 button.colab-df-convert');\n",
              "      buttonEl.style.display =\n",
              "        google.colab.kernel.accessAllowed ? 'block' : 'none';\n",
              "\n",
              "      async function convertToInteractive(key) {\n",
              "        const element = document.querySelector('#df-e4125857-941e-4017-9f61-7bd111a0e623');\n",
              "        const dataTable =\n",
              "          await google.colab.kernel.invokeFunction('convertToInteractive',\n",
              "                                                    [key], {});\n",
              "        if (!dataTable) return;\n",
              "\n",
              "        const docLinkHtml = 'Like what you see? Visit the ' +\n",
              "          '<a target=\"_blank\" href=https://colab.research.google.com/notebooks/data_table.ipynb>data table notebook</a>'\n",
              "          + ' to learn more about interactive tables.';\n",
              "        element.innerHTML = '';\n",
              "        dataTable['output_type'] = 'display_data';\n",
              "        await google.colab.output.renderOutput(dataTable, element);\n",
              "        const docLink = document.createElement('div');\n",
              "        docLink.innerHTML = docLinkHtml;\n",
              "        element.appendChild(docLink);\n",
              "      }\n",
              "    </script>\n",
              "  </div>\n",
              "\n",
              "\n",
              "<div id=\"df-e0164279-a8dc-4cec-8d04-1a9793550db1\">\n",
              "  <button class=\"colab-df-quickchart\" onclick=\"quickchart('df-e0164279-a8dc-4cec-8d04-1a9793550db1')\"\n",
              "            title=\"Suggest charts\"\n",
              "            style=\"display:none;\">\n",
              "\n",
              "<svg xmlns=\"http://www.w3.org/2000/svg\" height=\"24px\"viewBox=\"0 0 24 24\"\n",
              "     width=\"24px\">\n",
              "    <g>\n",
              "        <path d=\"M19 3H5c-1.1 0-2 .9-2 2v14c0 1.1.9 2 2 2h14c1.1 0 2-.9 2-2V5c0-1.1-.9-2-2-2zM9 17H7v-7h2v7zm4 0h-2V7h2v10zm4 0h-2v-4h2v4z\"/>\n",
              "    </g>\n",
              "</svg>\n",
              "  </button>\n",
              "\n",
              "<style>\n",
              "  .colab-df-quickchart {\n",
              "      --bg-color: #E8F0FE;\n",
              "      --fill-color: #1967D2;\n",
              "      --hover-bg-color: #E2EBFA;\n",
              "      --hover-fill-color: #174EA6;\n",
              "      --disabled-fill-color: #AAA;\n",
              "      --disabled-bg-color: #DDD;\n",
              "  }\n",
              "\n",
              "  [theme=dark] .colab-df-quickchart {\n",
              "      --bg-color: #3B4455;\n",
              "      --fill-color: #D2E3FC;\n",
              "      --hover-bg-color: #434B5C;\n",
              "      --hover-fill-color: #FFFFFF;\n",
              "      --disabled-bg-color: #3B4455;\n",
              "      --disabled-fill-color: #666;\n",
              "  }\n",
              "\n",
              "  .colab-df-quickchart {\n",
              "    background-color: var(--bg-color);\n",
              "    border: none;\n",
              "    border-radius: 50%;\n",
              "    cursor: pointer;\n",
              "    display: none;\n",
              "    fill: var(--fill-color);\n",
              "    height: 32px;\n",
              "    padding: 0;\n",
              "    width: 32px;\n",
              "  }\n",
              "\n",
              "  .colab-df-quickchart:hover {\n",
              "    background-color: var(--hover-bg-color);\n",
              "    box-shadow: 0 1px 2px rgba(60, 64, 67, 0.3), 0 1px 3px 1px rgba(60, 64, 67, 0.15);\n",
              "    fill: var(--button-hover-fill-color);\n",
              "  }\n",
              "\n",
              "  .colab-df-quickchart-complete:disabled,\n",
              "  .colab-df-quickchart-complete:disabled:hover {\n",
              "    background-color: var(--disabled-bg-color);\n",
              "    fill: var(--disabled-fill-color);\n",
              "    box-shadow: none;\n",
              "  }\n",
              "\n",
              "  .colab-df-spinner {\n",
              "    border: 2px solid var(--fill-color);\n",
              "    border-color: transparent;\n",
              "    border-bottom-color: var(--fill-color);\n",
              "    animation:\n",
              "      spin 1s steps(1) infinite;\n",
              "  }\n",
              "\n",
              "  @keyframes spin {\n",
              "    0% {\n",
              "      border-color: transparent;\n",
              "      border-bottom-color: var(--fill-color);\n",
              "      border-left-color: var(--fill-color);\n",
              "    }\n",
              "    20% {\n",
              "      border-color: transparent;\n",
              "      border-left-color: var(--fill-color);\n",
              "      border-top-color: var(--fill-color);\n",
              "    }\n",
              "    30% {\n",
              "      border-color: transparent;\n",
              "      border-left-color: var(--fill-color);\n",
              "      border-top-color: var(--fill-color);\n",
              "      border-right-color: var(--fill-color);\n",
              "    }\n",
              "    40% {\n",
              "      border-color: transparent;\n",
              "      border-right-color: var(--fill-color);\n",
              "      border-top-color: var(--fill-color);\n",
              "    }\n",
              "    60% {\n",
              "      border-color: transparent;\n",
              "      border-right-color: var(--fill-color);\n",
              "    }\n",
              "    80% {\n",
              "      border-color: transparent;\n",
              "      border-right-color: var(--fill-color);\n",
              "      border-bottom-color: var(--fill-color);\n",
              "    }\n",
              "    90% {\n",
              "      border-color: transparent;\n",
              "      border-bottom-color: var(--fill-color);\n",
              "    }\n",
              "  }\n",
              "</style>\n",
              "\n",
              "  <script>\n",
              "    async function quickchart(key) {\n",
              "      const quickchartButtonEl =\n",
              "        document.querySelector('#' + key + ' button');\n",
              "      quickchartButtonEl.disabled = true;  // To prevent multiple clicks.\n",
              "      quickchartButtonEl.classList.add('colab-df-spinner');\n",
              "      try {\n",
              "        const charts = await google.colab.kernel.invokeFunction(\n",
              "            'suggestCharts', [key], {});\n",
              "      } catch (error) {\n",
              "        console.error('Error during call to suggestCharts:', error);\n",
              "      }\n",
              "      quickchartButtonEl.classList.remove('colab-df-spinner');\n",
              "      quickchartButtonEl.classList.add('colab-df-quickchart-complete');\n",
              "    }\n",
              "    (() => {\n",
              "      let quickchartButtonEl =\n",
              "        document.querySelector('#df-e0164279-a8dc-4cec-8d04-1a9793550db1 button');\n",
              "      quickchartButtonEl.style.display =\n",
              "        google.colab.kernel.accessAllowed ? 'block' : 'none';\n",
              "    })();\n",
              "  </script>\n",
              "</div>\n",
              "    </div>\n",
              "  </div>\n"
            ],
            "text/plain": [
              "         ID sentimiento\n",
              "0     60000    negativo\n",
              "1     60001    negativo\n",
              "2     60002    negativo\n",
              "3     60003    negativo\n",
              "4     60004    negativo\n",
              "...     ...         ...\n",
              "8594  68594    positivo\n",
              "8595  68595    negativo\n",
              "8596  68596    positivo\n",
              "8597  68597    negativo\n",
              "8598  68598    negativo\n",
              "\n",
              "[8599 rows x 2 columns]"
            ]
          },
          "execution_count": 37,
          "metadata": {},
          "output_type": "execute_result"
        }
      ],
      "source": [
        "df_test['review_es'] = df_test['review_es'].apply(lambda x: preprocesamiento(x))\n",
        "df_test['review_es'] = df_test['review_es'].apply(lambda x: ' '.join([stemmer.stem(word) for word in word_tokenize(x)]))\n",
        "bag_of_words_test = vectorizer.transform(df_test['review_es'])\n",
        "\n",
        "y_pred = xgboost_rs.predict(bag_of_words_test)\n",
        "df_summision = pd.DataFrame({'ID':df_test['ID'], 'sentimiento': y_pred})\n",
        "df_summision = df_summision.replace({'sentimiento': {1: 'positivo', 0: 'negativo'}})\n",
        "df_summision.to_csv(\"xgboost.csv\", index= False)\n",
        "df_summision"
      ]
    },
    {
      "cell_type": "markdown",
      "metadata": {
        "id": "BZl5VxSwkS-j"
      },
      "source": [
        "## Ensambles"
      ]
    },
    {
      "cell_type": "code",
      "execution_count": 67,
      "metadata": {
        "id": "WhNC-iq7ORHa"
      },
      "outputs": [],
      "source": [
        "x_train, x_test, y_train, y_test = train_test_split(bag_of_words,\n",
        "                                                    labels,\n",
        "                                                    test_size= 0.2,\n",
        "                                                    random_state = 28)"
      ]
    },
    {
      "cell_type": "code",
      "execution_count": null,
      "metadata": {
        "id": "p5_jB2yj-fdX"
      },
      "outputs": [],
      "source": [
        "from itertools import combinations\n",
        "from sklearn.model_selection import RepeatedStratifiedKFold\n",
        "from sklearn.linear_model import LogisticRegressionCV"
      ]
    },
    {
      "cell_type": "markdown",
      "metadata": {
        "id": "yqWCJA7bATS5"
      },
      "source": [
        "### Stacking"
      ]
    },
    {
      "cell_type": "code",
      "execution_count": null,
      "metadata": {
        "id": "yKqMgqWY01La"
      },
      "outputs": [],
      "source": [
        "def evaluate_model(model, x, y):\n",
        "  cv = RepeatedStratifiedKFold(n_splits = 5, n_repeats = 5, random_state = 28)\n",
        "  scores = cross_val_score(model, bag_of_words, labels, scoring = 'f1', cv = cv, verbose = 3, n_jobs =-1, error_score = 'raise')\n",
        "  return scores"
      ]
    },
    {
      "cell_type": "code",
      "execution_count": 49,
      "metadata": {
        "colab": {
          "base_uri": "https://localhost:8080/"
        },
        "id": "c03j5sjO0-4f",
        "outputId": "920bed32-3450-402c-9f40-8b7c9ad98acf"
      },
      "outputs": [
        {
          "output_type": "stream",
          "name": "stderr",
          "text": [
            "[Parallel(n_jobs=-1)]: Using backend LokyBackend with 2 concurrent workers.\n",
            "[Parallel(n_jobs=-1)]: Done  25 out of  25 | elapsed: 146.2min finished\n"
          ]
        }
      ],
      "source": [
        "base_models = [\n",
        "    ('random_forest', RandomForestClassifier(n_estimators = 376, min_samples_leaf = 1, max_features = 'log2', max_depth=22, criterion = 'log_loss')),\n",
        "    ('bayes_multi', MultinomialNB(alpha = 4.067935871, force_alpha = True, fit_prior = False)),\n",
        "    ('xgb_boost', XGBClassifier(gamma = 0.4776859, learning_rate = 0.325264, max_depth = 6, n_estimators = 124, subsample = 0.98831804))\n",
        "]\n",
        "\n",
        "meta_model = LogisticRegressionCV()\n",
        "\n",
        "stacking_model = StackingClassifier(estimators = base_models,\n",
        "                                    final_estimator = meta_model,\n",
        "                                    passthrough = True,\n",
        "                                    cv = 2,\n",
        "                                    verbose = 3)\n",
        "stacking_scores = evaluate_model(stacking_model, x_train, y_train)"
      ]
    },
    {
      "cell_type": "code",
      "execution_count": 50,
      "metadata": {
        "id": "x65oE6X23jrD",
        "colab": {
          "base_uri": "https://localhost:8080/",
          "height": 897
        },
        "outputId": "9d36786d-abf0-41dc-e1d4-be444d49f12b"
      },
      "outputs": [
        {
          "output_type": "stream",
          "name": "stderr",
          "text": [
            "/usr/local/lib/python3.10/dist-packages/sklearn/linear_model/_logistic.py:458: ConvergenceWarning: lbfgs failed to converge (status=1):\n",
            "STOP: TOTAL NO. of ITERATIONS REACHED LIMIT.\n",
            "\n",
            "Increase the number of iterations (max_iter) or scale the data as shown in:\n",
            "    https://scikit-learn.org/stable/modules/preprocessing.html\n",
            "Please also refer to the documentation for alternative solver options:\n",
            "    https://scikit-learn.org/stable/modules/linear_model.html#logistic-regression\n",
            "  n_iter_i = _check_optimize_result(\n",
            "/usr/local/lib/python3.10/dist-packages/sklearn/linear_model/_logistic.py:458: ConvergenceWarning: lbfgs failed to converge (status=1):\n",
            "STOP: TOTAL NO. of ITERATIONS REACHED LIMIT.\n",
            "\n",
            "Increase the number of iterations (max_iter) or scale the data as shown in:\n",
            "    https://scikit-learn.org/stable/modules/preprocessing.html\n",
            "Please also refer to the documentation for alternative solver options:\n",
            "    https://scikit-learn.org/stable/modules/linear_model.html#logistic-regression\n",
            "  n_iter_i = _check_optimize_result(\n",
            "/usr/local/lib/python3.10/dist-packages/sklearn/linear_model/_logistic.py:458: ConvergenceWarning: lbfgs failed to converge (status=1):\n",
            "STOP: TOTAL NO. of ITERATIONS REACHED LIMIT.\n",
            "\n",
            "Increase the number of iterations (max_iter) or scale the data as shown in:\n",
            "    https://scikit-learn.org/stable/modules/preprocessing.html\n",
            "Please also refer to the documentation for alternative solver options:\n",
            "    https://scikit-learn.org/stable/modules/linear_model.html#logistic-regression\n",
            "  n_iter_i = _check_optimize_result(\n",
            "/usr/local/lib/python3.10/dist-packages/sklearn/linear_model/_logistic.py:458: ConvergenceWarning: lbfgs failed to converge (status=1):\n",
            "STOP: TOTAL NO. of ITERATIONS REACHED LIMIT.\n",
            "\n",
            "Increase the number of iterations (max_iter) or scale the data as shown in:\n",
            "    https://scikit-learn.org/stable/modules/preprocessing.html\n",
            "Please also refer to the documentation for alternative solver options:\n",
            "    https://scikit-learn.org/stable/modules/linear_model.html#logistic-regression\n",
            "  n_iter_i = _check_optimize_result(\n",
            "/usr/local/lib/python3.10/dist-packages/sklearn/linear_model/_logistic.py:458: ConvergenceWarning: lbfgs failed to converge (status=1):\n",
            "STOP: TOTAL NO. of ITERATIONS REACHED LIMIT.\n",
            "\n",
            "Increase the number of iterations (max_iter) or scale the data as shown in:\n",
            "    https://scikit-learn.org/stable/modules/preprocessing.html\n",
            "Please also refer to the documentation for alternative solver options:\n",
            "    https://scikit-learn.org/stable/modules/linear_model.html#logistic-regression\n",
            "  n_iter_i = _check_optimize_result(\n"
          ]
        },
        {
          "output_type": "execute_result",
          "data": {
            "text/plain": [
              "StackingClassifier(cv=2,\n",
              "                   estimators=[('random_forest',\n",
              "                                RandomForestClassifier(criterion='log_loss',\n",
              "                                                       max_depth=22,\n",
              "                                                       max_features='log2',\n",
              "                                                       n_estimators=376)),\n",
              "                               ('bayes_multi',\n",
              "                                MultinomialNB(alpha=4.067935871,\n",
              "                                              fit_prior=False,\n",
              "                                              force_alpha=True)),\n",
              "                               ('xgb_boost',\n",
              "                                XGBClassifier(base_score=None, booster=None,\n",
              "                                              callbacks=None,\n",
              "                                              colsample_bylevel=None,\n",
              "                                              colsample_bynode=None,\n",
              "                                              col...\n",
              "                                              learning_rate=0.325264,\n",
              "                                              max_bin=None,\n",
              "                                              max_cat_threshold=None,\n",
              "                                              max_cat_to_onehot=None,\n",
              "                                              max_delta_step=None, max_depth=6,\n",
              "                                              max_leaves=None,\n",
              "                                              min_child_weight=None,\n",
              "                                              missing=nan,\n",
              "                                              monotone_constraints=None,\n",
              "                                              multi_strategy=None,\n",
              "                                              n_estimators=124, n_jobs=None,\n",
              "                                              num_parallel_tree=None,\n",
              "                                              random_state=None, ...))],\n",
              "                   final_estimator=LogisticRegressionCV(), passthrough=True,\n",
              "                   verbose=3)"
            ],
            "text/html": [
              "<style>#sk-container-id-1 {color: black;background-color: white;}#sk-container-id-1 pre{padding: 0;}#sk-container-id-1 div.sk-toggleable {background-color: white;}#sk-container-id-1 label.sk-toggleable__label {cursor: pointer;display: block;width: 100%;margin-bottom: 0;padding: 0.3em;box-sizing: border-box;text-align: center;}#sk-container-id-1 label.sk-toggleable__label-arrow:before {content: \"▸\";float: left;margin-right: 0.25em;color: #696969;}#sk-container-id-1 label.sk-toggleable__label-arrow:hover:before {color: black;}#sk-container-id-1 div.sk-estimator:hover label.sk-toggleable__label-arrow:before {color: black;}#sk-container-id-1 div.sk-toggleable__content {max-height: 0;max-width: 0;overflow: hidden;text-align: left;background-color: #f0f8ff;}#sk-container-id-1 div.sk-toggleable__content pre {margin: 0.2em;color: black;border-radius: 0.25em;background-color: #f0f8ff;}#sk-container-id-1 input.sk-toggleable__control:checked~div.sk-toggleable__content {max-height: 200px;max-width: 100%;overflow: auto;}#sk-container-id-1 input.sk-toggleable__control:checked~label.sk-toggleable__label-arrow:before {content: \"▾\";}#sk-container-id-1 div.sk-estimator input.sk-toggleable__control:checked~label.sk-toggleable__label {background-color: #d4ebff;}#sk-container-id-1 div.sk-label input.sk-toggleable__control:checked~label.sk-toggleable__label {background-color: #d4ebff;}#sk-container-id-1 input.sk-hidden--visually {border: 0;clip: rect(1px 1px 1px 1px);clip: rect(1px, 1px, 1px, 1px);height: 1px;margin: -1px;overflow: hidden;padding: 0;position: absolute;width: 1px;}#sk-container-id-1 div.sk-estimator {font-family: monospace;background-color: #f0f8ff;border: 1px dotted black;border-radius: 0.25em;box-sizing: border-box;margin-bottom: 0.5em;}#sk-container-id-1 div.sk-estimator:hover {background-color: #d4ebff;}#sk-container-id-1 div.sk-parallel-item::after {content: \"\";width: 100%;border-bottom: 1px solid gray;flex-grow: 1;}#sk-container-id-1 div.sk-label:hover label.sk-toggleable__label {background-color: #d4ebff;}#sk-container-id-1 div.sk-serial::before {content: \"\";position: absolute;border-left: 1px solid gray;box-sizing: border-box;top: 0;bottom: 0;left: 50%;z-index: 0;}#sk-container-id-1 div.sk-serial {display: flex;flex-direction: column;align-items: center;background-color: white;padding-right: 0.2em;padding-left: 0.2em;position: relative;}#sk-container-id-1 div.sk-item {position: relative;z-index: 1;}#sk-container-id-1 div.sk-parallel {display: flex;align-items: stretch;justify-content: center;background-color: white;position: relative;}#sk-container-id-1 div.sk-item::before, #sk-container-id-1 div.sk-parallel-item::before {content: \"\";position: absolute;border-left: 1px solid gray;box-sizing: border-box;top: 0;bottom: 0;left: 50%;z-index: -1;}#sk-container-id-1 div.sk-parallel-item {display: flex;flex-direction: column;z-index: 1;position: relative;background-color: white;}#sk-container-id-1 div.sk-parallel-item:first-child::after {align-self: flex-end;width: 50%;}#sk-container-id-1 div.sk-parallel-item:last-child::after {align-self: flex-start;width: 50%;}#sk-container-id-1 div.sk-parallel-item:only-child::after {width: 0;}#sk-container-id-1 div.sk-dashed-wrapped {border: 1px dashed gray;margin: 0 0.4em 0.5em 0.4em;box-sizing: border-box;padding-bottom: 0.4em;background-color: white;}#sk-container-id-1 div.sk-label label {font-family: monospace;font-weight: bold;display: inline-block;line-height: 1.2em;}#sk-container-id-1 div.sk-label-container {text-align: center;}#sk-container-id-1 div.sk-container {/* jupyter's `normalize.less` sets `[hidden] { display: none; }` but bootstrap.min.css set `[hidden] { display: none !important; }` so we also need the `!important` here to be able to override the default hidden behavior on the sphinx rendered scikit-learn.org. See: https://github.com/scikit-learn/scikit-learn/issues/21755 */display: inline-block !important;position: relative;}#sk-container-id-1 div.sk-text-repr-fallback {display: none;}</style><div id=\"sk-container-id-1\" class=\"sk-top-container\"><div class=\"sk-text-repr-fallback\"><pre>StackingClassifier(cv=2,\n",
              "                   estimators=[(&#x27;random_forest&#x27;,\n",
              "                                RandomForestClassifier(criterion=&#x27;log_loss&#x27;,\n",
              "                                                       max_depth=22,\n",
              "                                                       max_features=&#x27;log2&#x27;,\n",
              "                                                       n_estimators=376)),\n",
              "                               (&#x27;bayes_multi&#x27;,\n",
              "                                MultinomialNB(alpha=4.067935871,\n",
              "                                              fit_prior=False,\n",
              "                                              force_alpha=True)),\n",
              "                               (&#x27;xgb_boost&#x27;,\n",
              "                                XGBClassifier(base_score=None, booster=None,\n",
              "                                              callbacks=None,\n",
              "                                              colsample_bylevel=None,\n",
              "                                              colsample_bynode=None,\n",
              "                                              col...\n",
              "                                              learning_rate=0.325264,\n",
              "                                              max_bin=None,\n",
              "                                              max_cat_threshold=None,\n",
              "                                              max_cat_to_onehot=None,\n",
              "                                              max_delta_step=None, max_depth=6,\n",
              "                                              max_leaves=None,\n",
              "                                              min_child_weight=None,\n",
              "                                              missing=nan,\n",
              "                                              monotone_constraints=None,\n",
              "                                              multi_strategy=None,\n",
              "                                              n_estimators=124, n_jobs=None,\n",
              "                                              num_parallel_tree=None,\n",
              "                                              random_state=None, ...))],\n",
              "                   final_estimator=LogisticRegressionCV(), passthrough=True,\n",
              "                   verbose=3)</pre><b>In a Jupyter environment, please rerun this cell to show the HTML representation or trust the notebook. <br />On GitHub, the HTML representation is unable to render, please try loading this page with nbviewer.org.</b></div><div class=\"sk-container\" hidden><div class=\"sk-item sk-dashed-wrapped\"><div class=\"sk-label-container\"><div class=\"sk-label sk-toggleable\"><input class=\"sk-toggleable__control sk-hidden--visually\" id=\"sk-estimator-id-1\" type=\"checkbox\" ><label for=\"sk-estimator-id-1\" class=\"sk-toggleable__label sk-toggleable__label-arrow\">StackingClassifier</label><div class=\"sk-toggleable__content\"><pre>StackingClassifier(cv=2,\n",
              "                   estimators=[(&#x27;random_forest&#x27;,\n",
              "                                RandomForestClassifier(criterion=&#x27;log_loss&#x27;,\n",
              "                                                       max_depth=22,\n",
              "                                                       max_features=&#x27;log2&#x27;,\n",
              "                                                       n_estimators=376)),\n",
              "                               (&#x27;bayes_multi&#x27;,\n",
              "                                MultinomialNB(alpha=4.067935871,\n",
              "                                              fit_prior=False,\n",
              "                                              force_alpha=True)),\n",
              "                               (&#x27;xgb_boost&#x27;,\n",
              "                                XGBClassifier(base_score=None, booster=None,\n",
              "                                              callbacks=None,\n",
              "                                              colsample_bylevel=None,\n",
              "                                              colsample_bynode=None,\n",
              "                                              col...\n",
              "                                              learning_rate=0.325264,\n",
              "                                              max_bin=None,\n",
              "                                              max_cat_threshold=None,\n",
              "                                              max_cat_to_onehot=None,\n",
              "                                              max_delta_step=None, max_depth=6,\n",
              "                                              max_leaves=None,\n",
              "                                              min_child_weight=None,\n",
              "                                              missing=nan,\n",
              "                                              monotone_constraints=None,\n",
              "                                              multi_strategy=None,\n",
              "                                              n_estimators=124, n_jobs=None,\n",
              "                                              num_parallel_tree=None,\n",
              "                                              random_state=None, ...))],\n",
              "                   final_estimator=LogisticRegressionCV(), passthrough=True,\n",
              "                   verbose=3)</pre></div></div></div><div class=\"sk-serial\"><div class=\"sk-item\"><div class=\"sk-parallel\"><div class=\"sk-parallel-item\"><div class=\"sk-item\"><div class=\"sk-label-container\"><div class=\"sk-label sk-toggleable\"><label>random_forest</label></div></div><div class=\"sk-serial\"><div class=\"sk-item\"><div class=\"sk-estimator sk-toggleable\"><input class=\"sk-toggleable__control sk-hidden--visually\" id=\"sk-estimator-id-2\" type=\"checkbox\" ><label for=\"sk-estimator-id-2\" class=\"sk-toggleable__label sk-toggleable__label-arrow\">RandomForestClassifier</label><div class=\"sk-toggleable__content\"><pre>RandomForestClassifier(criterion=&#x27;log_loss&#x27;, max_depth=22, max_features=&#x27;log2&#x27;,\n",
              "                       n_estimators=376)</pre></div></div></div></div></div></div><div class=\"sk-parallel-item\"><div class=\"sk-item\"><div class=\"sk-label-container\"><div class=\"sk-label sk-toggleable\"><label>bayes_multi</label></div></div><div class=\"sk-serial\"><div class=\"sk-item\"><div class=\"sk-estimator sk-toggleable\"><input class=\"sk-toggleable__control sk-hidden--visually\" id=\"sk-estimator-id-3\" type=\"checkbox\" ><label for=\"sk-estimator-id-3\" class=\"sk-toggleable__label sk-toggleable__label-arrow\">MultinomialNB</label><div class=\"sk-toggleable__content\"><pre>MultinomialNB(alpha=4.067935871, fit_prior=False, force_alpha=True)</pre></div></div></div></div></div></div><div class=\"sk-parallel-item\"><div class=\"sk-item\"><div class=\"sk-label-container\"><div class=\"sk-label sk-toggleable\"><label>xgb_boost</label></div></div><div class=\"sk-serial\"><div class=\"sk-item\"><div class=\"sk-estimator sk-toggleable\"><input class=\"sk-toggleable__control sk-hidden--visually\" id=\"sk-estimator-id-4\" type=\"checkbox\" ><label for=\"sk-estimator-id-4\" class=\"sk-toggleable__label sk-toggleable__label-arrow\">XGBClassifier</label><div class=\"sk-toggleable__content\"><pre>XGBClassifier(base_score=None, booster=None, callbacks=None,\n",
              "              colsample_bylevel=None, colsample_bynode=None,\n",
              "              colsample_bytree=None, device=None, early_stopping_rounds=None,\n",
              "              enable_categorical=False, eval_metric=None, feature_types=None,\n",
              "              gamma=0.4776859, grow_policy=None, importance_type=None,\n",
              "              interaction_constraints=None, learning_rate=0.325264,\n",
              "              max_bin=None, max_cat_threshold=None, max_cat_to_onehot=None,\n",
              "              max_delta_step=None, max_depth=6, max_leaves=None,\n",
              "              min_child_weight=None, missing=nan, monotone_constraints=None,\n",
              "              multi_strategy=None, n_estimators=124, n_jobs=None,\n",
              "              num_parallel_tree=None, random_state=None, ...)</pre></div></div></div></div></div></div></div></div><div class=\"sk-item\"><div class=\"sk-parallel\"><div class=\"sk-parallel-item\"><div class=\"sk-item\"><div class=\"sk-label-container\"><div class=\"sk-label sk-toggleable\"><label>final_estimator</label></div></div><div class=\"sk-serial\"><div class=\"sk-item\"><div class=\"sk-estimator sk-toggleable\"><input class=\"sk-toggleable__control sk-hidden--visually\" id=\"sk-estimator-id-5\" type=\"checkbox\" ><label for=\"sk-estimator-id-5\" class=\"sk-toggleable__label sk-toggleable__label-arrow\">LogisticRegressionCV</label><div class=\"sk-toggleable__content\"><pre>LogisticRegressionCV()</pre></div></div></div></div></div></div></div></div></div></div></div></div>"
            ]
          },
          "metadata": {},
          "execution_count": 50
        }
      ],
      "source": [
        "stacking_model.fit(x_train, y_train)"
      ]
    },
    {
      "cell_type": "code",
      "execution_count": 51,
      "metadata": {
        "id": "14d5vixL3zHE",
        "colab": {
          "base_uri": "https://localhost:8080/",
          "height": 610
        },
        "outputId": "d82e5d1c-e05a-491e-c28e-76d13aad1ec3"
      },
      "outputs": [
        {
          "output_type": "stream",
          "name": "stdout",
          "text": [
            "              precision    recall  f1-score   support\n",
            "\n",
            "           0    0.87836   0.85467   0.86635      4968\n",
            "           1    0.86024   0.88315   0.87154      5032\n",
            "\n",
            "    accuracy                        0.86900     10000\n",
            "   macro avg    0.86930   0.86891   0.86895     10000\n",
            "weighted avg    0.86924   0.86900   0.86897     10000\n",
            "\n"
          ]
        },
        {
          "output_type": "display_data",
          "data": {
            "text/plain": [
              "<Figure size 640x480 with 2 Axes>"
            ],
            "image/png": "[encoded data removed]"
          },
          "metadata": {}
        }
      ],
      "source": [
        "y_pred_stack = stacking_model.predict(x_test)\n",
        "imprimir_matriz_confusion(y_test, y_pred_stack)"
      ]
    },
    {
      "cell_type": "code",
      "execution_count": 52,
      "metadata": {
        "id": "T5ML80YULLL8",
        "colab": {
          "base_uri": "https://localhost:8080/"
        },
        "outputId": "90b090c4-0e48-45ea-885d-3dd339fe0ba8"
      },
      "outputs": [
        {
          "output_type": "stream",
          "name": "stdout",
          "text": [
            "Metricas del modelo: \n",
            "\n",
            "Accuracy: 0.869\n",
            "Recall: 0.8831478537360891\n",
            "F1 Score: 0.8715434398901747\n",
            "Precision: 0.8602400309717383\n"
          ]
        }
      ],
      "source": [
        "imprimir_metricas(y_test, y_pred_stack)"
      ]
    },
    {
      "cell_type": "code",
      "execution_count": 53,
      "metadata": {
        "id": "oAlncTBiIOAA",
        "colab": {
          "base_uri": "https://localhost:8080/"
        },
        "outputId": "f33eb693-cb03-44d9-833c-31477806c988"
      },
      "outputs": [
        {
          "output_type": "execute_result",
          "data": {
            "text/plain": [
              "['stacking.joblib']"
            ]
          },
          "metadata": {},
          "execution_count": 53
        }
      ],
      "source": [
        "joblib.dump(stacking_model, 'stacking.joblib')"
      ]
    },
    {
      "cell_type": "code",
      "execution_count": 54,
      "metadata": {
        "id": "tryn7RIEKPGi",
        "colab": {
          "base_uri": "https://localhost:8080/",
          "height": 424
        },
        "outputId": "f82aabc7-d695-4334-c3ea-927fea331688"
      },
      "outputs": [
        {
          "output_type": "execute_result",
          "data": {
            "text/plain": [
              "         ID sentimiento\n",
              "0     60000    negativo\n",
              "1     60001    negativo\n",
              "2     60002    negativo\n",
              "3     60003    positivo\n",
              "4     60004    negativo\n",
              "...     ...         ...\n",
              "8594  68594    positivo\n",
              "8595  68595    negativo\n",
              "8596  68596    positivo\n",
              "8597  68597    negativo\n",
              "8598  68598    negativo\n",
              "\n",
              "[8599 rows x 2 columns]"
            ],
            "text/html": [
              "\n",
              "  <div id=\"df-ced87cb3-6402-4401-99df-b522f4e1f9d3\" class=\"colab-df-container\">\n",
              "    <div>\n",
              "<style scoped>\n",
              "    .dataframe tbody tr th:only-of-type {\n",
              "        vertical-align: middle;\n",
              "    }\n",
              "\n",
              "    .dataframe tbody tr th {\n",
              "        vertical-align: top;\n",
              "    }\n",
              "\n",
              "    .dataframe thead th {\n",
              "        text-align: right;\n",
              "    }\n",
              "</style>\n",
              "<table border=\"1\" class=\"dataframe\">\n",
              "  <thead>\n",
              "    <tr style=\"text-align: right;\">\n",
              "      <th></th>\n",
              "      <th>ID</th>\n",
              "      <th>sentimiento</th>\n",
              "    </tr>\n",
              "  </thead>\n",
              "  <tbody>\n",
              "    <tr>\n",
              "      <th>0</th>\n",
              "      <td>60000</td>\n",
              "      <td>negativo</td>\n",
              "    </tr>\n",
              "    <tr>\n",
              "      <th>1</th>\n",
              "      <td>60001</td>\n",
              "      <td>negativo</td>\n",
              "    </tr>\n",
              "    <tr>\n",
              "      <th>2</th>\n",
              "      <td>60002</td>\n",
              "      <td>negativo</td>\n",
              "    </tr>\n",
              "    <tr>\n",
              "      <th>3</th>\n",
              "      <td>60003</td>\n",
              "      <td>positivo</td>\n",
              "    </tr>\n",
              "    <tr>\n",
              "      <th>4</th>\n",
              "      <td>60004</td>\n",
              "      <td>negativo</td>\n",
              "    </tr>\n",
              "    <tr>\n",
              "      <th>...</th>\n",
              "      <td>...</td>\n",
              "      <td>...</td>\n",
              "    </tr>\n",
              "    <tr>\n",
              "      <th>8594</th>\n",
              "      <td>68594</td>\n",
              "      <td>positivo</td>\n",
              "    </tr>\n",
              "    <tr>\n",
              "      <th>8595</th>\n",
              "      <td>68595</td>\n",
              "      <td>negativo</td>\n",
              "    </tr>\n",
              "    <tr>\n",
              "      <th>8596</th>\n",
              "      <td>68596</td>\n",
              "      <td>positivo</td>\n",
              "    </tr>\n",
              "    <tr>\n",
              "      <th>8597</th>\n",
              "      <td>68597</td>\n",
              "      <td>negativo</td>\n",
              "    </tr>\n",
              "    <tr>\n",
              "      <th>8598</th>\n",
              "      <td>68598</td>\n",
              "      <td>negativo</td>\n",
              "    </tr>\n",
              "  </tbody>\n",
              "</table>\n",
              "<p>8599 rows × 2 columns</p>\n",
              "</div>\n",
              "    <div class=\"colab-df-buttons\">\n",
              "\n",
              "  <div class=\"colab-df-container\">\n",
              "    <button class=\"colab-df-convert\" onclick=\"convertToInteractive('df-ced87cb3-6402-4401-99df-b522f4e1f9d3')\"\n",
              "            title=\"Convert this dataframe to an interactive table.\"\n",
              "            style=\"display:none;\">\n",
              "\n",
              "  <svg xmlns=\"http://www.w3.org/2000/svg\" height=\"24px\" viewBox=\"0 -960 960 960\">\n",
              "    <path d=\"M120-120v-720h720v720H120Zm60-500h600v-160H180v160Zm220 220h160v-160H400v160Zm0 220h160v-160H400v160ZM180-400h160v-160H180v160Zm440 0h160v-160H620v160ZM180-180h160v-160H180v160Zm440 0h160v-160H620v160Z\"/>\n",
              "  </svg>\n",
              "    </button>\n",
              "\n",
              "  <style>\n",
              "    .colab-df-container {\n",
              "      display:flex;\n",
              "      gap: 12px;\n",
              "    }\n",
              "\n",
              "    .colab-df-convert {\n",
              "      background-color: #E8F0FE;\n",
              "      border: none;\n",
              "      border-radius: 50%;\n",
              "      cursor: pointer;\n",
              "      display: none;\n",
              "      fill: #1967D2;\n",
              "      height: 32px;\n",
              "      padding: 0 0 0 0;\n",
              "      width: 32px;\n",
              "    }\n",
              "\n",
              "    .colab-df-convert:hover {\n",
              "      background-color: #E2EBFA;\n",
              "      box-shadow: 0px 1px 2px rgba(60, 64, 67, 0.3), 0px 1px 3px 1px rgba(60, 64, 67, 0.15);\n",
              "      fill: #174EA6;\n",
              "    }\n",
              "\n",
              "    .colab-df-buttons div {\n",
              "      margin-bottom: 4px;\n",
              "    }\n",
              "\n",
              "    [theme=dark] .colab-df-convert {\n",
              "      background-color: #3B4455;\n",
              "      fill: #D2E3FC;\n",
              "    }\n",
              "\n",
              "    [theme=dark] .colab-df-convert:hover {\n",
              "      background-color: #434B5C;\n",
              "      box-shadow: 0px 1px 3px 1px rgba(0, 0, 0, 0.15);\n",
              "      filter: drop-shadow(0px 1px 2px rgba(0, 0, 0, 0.3));\n",
              "      fill: #FFFFFF;\n",
              "    }\n",
              "  </style>\n",
              "\n",
              "    <script>\n",
              "      const buttonEl =\n",
              "        document.querySelector('#df-ced87cb3-6402-4401-99df-b522f4e1f9d3 button.colab-df-convert');\n",
              "      buttonEl.style.display =\n",
              "        google.colab.kernel.accessAllowed ? 'block' : 'none';\n",
              "\n",
              "      async function convertToInteractive(key) {\n",
              "        const element = document.querySelector('#df-ced87cb3-6402-4401-99df-b522f4e1f9d3');\n",
              "        const dataTable =\n",
              "          await google.colab.kernel.invokeFunction('convertToInteractive',\n",
              "                                                    [key], {});\n",
              "        if (!dataTable) return;\n",
              "\n",
              "        const docLinkHtml = 'Like what you see? Visit the ' +\n",
              "          '<a target=\"_blank\" href=https://colab.research.google.com/notebooks/data_table.ipynb>data table notebook</a>'\n",
              "          + ' to learn more about interactive tables.';\n",
              "        element.innerHTML = '';\n",
              "        dataTable['output_type'] = 'display_data';\n",
              "        await google.colab.output.renderOutput(dataTable, element);\n",
              "        const docLink = document.createElement('div');\n",
              "        docLink.innerHTML = docLinkHtml;\n",
              "        element.appendChild(docLink);\n",
              "      }\n",
              "    </script>\n",
              "  </div>\n",
              "\n",
              "\n",
              "<div id=\"df-83143884-5b0d-4060-9b99-4a54baa510c1\">\n",
              "  <button class=\"colab-df-quickchart\" onclick=\"quickchart('df-83143884-5b0d-4060-9b99-4a54baa510c1')\"\n",
              "            title=\"Suggest charts\"\n",
              "            style=\"display:none;\">\n",
              "\n",
              "<svg xmlns=\"http://www.w3.org/2000/svg\" height=\"24px\"viewBox=\"0 0 24 24\"\n",
              "     width=\"24px\">\n",
              "    <g>\n",
              "        <path d=\"M19 3H5c-1.1 0-2 .9-2 2v14c0 1.1.9 2 2 2h14c1.1 0 2-.9 2-2V5c0-1.1-.9-2-2-2zM9 17H7v-7h2v7zm4 0h-2V7h2v10zm4 0h-2v-4h2v4z\"/>\n",
              "    </g>\n",
              "</svg>\n",
              "  </button>\n",
              "\n",
              "<style>\n",
              "  .colab-df-quickchart {\n",
              "      --bg-color: #E8F0FE;\n",
              "      --fill-color: #1967D2;\n",
              "      --hover-bg-color: #E2EBFA;\n",
              "      --hover-fill-color: #174EA6;\n",
              "      --disabled-fill-color: #AAA;\n",
              "      --disabled-bg-color: #DDD;\n",
              "  }\n",
              "\n",
              "  [theme=dark] .colab-df-quickchart {\n",
              "      --bg-color: #3B4455;\n",
              "      --fill-color: #D2E3FC;\n",
              "      --hover-bg-color: #434B5C;\n",
              "      --hover-fill-color: #FFFFFF;\n",
              "      --disabled-bg-color: #3B4455;\n",
              "      --disabled-fill-color: #666;\n",
              "  }\n",
              "\n",
              "  .colab-df-quickchart {\n",
              "    background-color: var(--bg-color);\n",
              "    border: none;\n",
              "    border-radius: 50%;\n",
              "    cursor: pointer;\n",
              "    display: none;\n",
              "    fill: var(--fill-color);\n",
              "    height: 32px;\n",
              "    padding: 0;\n",
              "    width: 32px;\n",
              "  }\n",
              "\n",
              "  .colab-df-quickchart:hover {\n",
              "    background-color: var(--hover-bg-color);\n",
              "    box-shadow: 0 1px 2px rgba(60, 64, 67, 0.3), 0 1px 3px 1px rgba(60, 64, 67, 0.15);\n",
              "    fill: var(--button-hover-fill-color);\n",
              "  }\n",
              "\n",
              "  .colab-df-quickchart-complete:disabled,\n",
              "  .colab-df-quickchart-complete:disabled:hover {\n",
              "    background-color: var(--disabled-bg-color);\n",
              "    fill: var(--disabled-fill-color);\n",
              "    box-shadow: none;\n",
              "  }\n",
              "\n",
              "  .colab-df-spinner {\n",
              "    border: 2px solid var(--fill-color);\n",
              "    border-color: transparent;\n",
              "    border-bottom-color: var(--fill-color);\n",
              "    animation:\n",
              "      spin 1s steps(1) infinite;\n",
              "  }\n",
              "\n",
              "  @keyframes spin {\n",
              "    0% {\n",
              "      border-color: transparent;\n",
              "      border-bottom-color: var(--fill-color);\n",
              "      border-left-color: var(--fill-color);\n",
              "    }\n",
              "    20% {\n",
              "      border-color: transparent;\n",
              "      border-left-color: var(--fill-color);\n",
              "      border-top-color: var(--fill-color);\n",
              "    }\n",
              "    30% {\n",
              "      border-color: transparent;\n",
              "      border-left-color: var(--fill-color);\n",
              "      border-top-color: var(--fill-color);\n",
              "      border-right-color: var(--fill-color);\n",
              "    }\n",
              "    40% {\n",
              "      border-color: transparent;\n",
              "      border-right-color: var(--fill-color);\n",
              "      border-top-color: var(--fill-color);\n",
              "    }\n",
              "    60% {\n",
              "      border-color: transparent;\n",
              "      border-right-color: var(--fill-color);\n",
              "    }\n",
              "    80% {\n",
              "      border-color: transparent;\n",
              "      border-right-color: var(--fill-color);\n",
              "      border-bottom-color: var(--fill-color);\n",
              "    }\n",
              "    90% {\n",
              "      border-color: transparent;\n",
              "      border-bottom-color: var(--fill-color);\n",
              "    }\n",
              "  }\n",
              "</style>\n",
              "\n",
              "  <script>\n",
              "    async function quickchart(key) {\n",
              "      const quickchartButtonEl =\n",
              "        document.querySelector('#' + key + ' button');\n",
              "      quickchartButtonEl.disabled = true;  // To prevent multiple clicks.\n",
              "      quickchartButtonEl.classList.add('colab-df-spinner');\n",
              "      try {\n",
              "        const charts = await google.colab.kernel.invokeFunction(\n",
              "            'suggestCharts', [key], {});\n",
              "      } catch (error) {\n",
              "        console.error('Error during call to suggestCharts:', error);\n",
              "      }\n",
              "      quickchartButtonEl.classList.remove('colab-df-spinner');\n",
              "      quickchartButtonEl.classList.add('colab-df-quickchart-complete');\n",
              "    }\n",
              "    (() => {\n",
              "      let quickchartButtonEl =\n",
              "        document.querySelector('#df-83143884-5b0d-4060-9b99-4a54baa510c1 button');\n",
              "      quickchartButtonEl.style.display =\n",
              "        google.colab.kernel.accessAllowed ? 'block' : 'none';\n",
              "    })();\n",
              "  </script>\n",
              "</div>\n",
              "    </div>\n",
              "  </div>\n"
            ]
          },
          "metadata": {},
          "execution_count": 54
        }
      ],
      "source": [
        "df_test['review_es'] = df_test['review_es'].apply(lambda x: preprocesamiento(x))\n",
        "df_test['review_es'] = df_test['review_es'].apply(lambda x: ' '.join([stemmer.stem(word) for word in word_tokenize(x)]))\n",
        "bag_of_words_test = vectorizer.transform(df_test['review_es'])\n",
        "\n",
        "y_pred = stacking_model.predict(bag_of_words_test)\n",
        "df_summision = pd.DataFrame({'ID':df_test['ID'], 'sentimiento': y_pred})\n",
        "df_summision = df_summision.replace({'sentimiento': {1: 'positivo', 0: 'negativo'}})\n",
        "df_summision.to_csv(\"stacking.csv\", index= False)\n",
        "df_summision"
      ]
    },
    {
      "cell_type": "markdown",
      "metadata": {
        "id": "eMWguvvjLxHU"
      },
      "source": [
        "### Voting"
      ]
    },
    {
      "cell_type": "code",
      "source": [
        "model_xgb = joblib.load('/content/model_xgb.joblib')\n",
        "model_bayes_multi = joblib.load('/content/model_bayes_multi_4.joblib')\n",
        "model_random_forest = joblib.load('/content/model_rf_6.joblib')\n",
        "\n",
        "estimator = [('xgb_cl', model_xgb), ('bayes_m', model_bayes_multi), ('rf', model_random_forest)]"
      ],
      "metadata": {
        "id": "6b6auHY1tHRf"
      },
      "execution_count": 59,
      "outputs": []
    },
    {
      "cell_type": "code",
      "source": [
        "voting_model = VotingClassifier(estimators = estimator, voting = 'soft')"
      ],
      "metadata": {
        "id": "Ze9UuDqBttW_"
      },
      "execution_count": 61,
      "outputs": []
    },
    {
      "cell_type": "code",
      "source": [
        "voting_model.fit(x_train, y_train)"
      ],
      "metadata": {
        "colab": {
          "base_uri": "https://localhost:8080/",
          "height": 110
        },
        "id": "-nFCodtvubLB",
        "outputId": "4256acc6-6ec4-4741-d523-3f393eccfa71"
      },
      "execution_count": 62,
      "outputs": [
        {
          "output_type": "execute_result",
          "data": {
            "text/plain": [
              "VotingClassifier(estimators=[('xgb_cl',\n",
              "                              XGBClassifier(base_score=None, booster=None,\n",
              "                                            callbacks=None,\n",
              "                                            colsample_bylevel=None,\n",
              "                                            colsample_bynode=None,\n",
              "                                            colsample_bytree=None, device=None,\n",
              "                                            early_stopping_rounds=None,\n",
              "                                            enable_categorical=False,\n",
              "                                            eval_metric=None,\n",
              "                                            feature_types=None,\n",
              "                                            gamma=0.47768594631740463,\n",
              "                                            grow_policy=None,\n",
              "                                            importance_type=None,\n",
              "                                            interaction_constraint...\n",
              "                                            min_child_weight=None, missing=nan,\n",
              "                                            monotone_constraints=None,\n",
              "                                            multi_strategy=None,\n",
              "                                            n_estimators=124, n_jobs=None,\n",
              "                                            num_parallel_tree=None,\n",
              "                                            random_state=None, ...)),\n",
              "                             ('bayes_m',\n",
              "                              MultinomialNB(alpha=4.0679358717434875,\n",
              "                                            fit_prior=False,\n",
              "                                            force_alpha=True)),\n",
              "                             ('rf',\n",
              "                              RandomForestClassifier(criterion='log_loss',\n",
              "                                                     max_depth=22,\n",
              "                                                     max_features='log2',\n",
              "                                                     n_estimators=376,\n",
              "                                                     random_state=28))],\n",
              "                 voting='soft')"
            ],
            "text/html": [
              "<style>#sk-container-id-2 {color: black;background-color: white;}#sk-container-id-2 pre{padding: 0;}#sk-container-id-2 div.sk-toggleable {background-color: white;}#sk-container-id-2 label.sk-toggleable__label {cursor: pointer;display: block;width: 100%;margin-bottom: 0;padding: 0.3em;box-sizing: border-box;text-align: center;}#sk-container-id-2 label.sk-toggleable__label-arrow:before {content: \"▸\";float: left;margin-right: 0.25em;color: #696969;}#sk-container-id-2 label.sk-toggleable__label-arrow:hover:before {color: black;}#sk-container-id-2 div.sk-estimator:hover label.sk-toggleable__label-arrow:before {color: black;}#sk-container-id-2 div.sk-toggleable__content {max-height: 0;max-width: 0;overflow: hidden;text-align: left;background-color: #f0f8ff;}#sk-container-id-2 div.sk-toggleable__content pre {margin: 0.2em;color: black;border-radius: 0.25em;background-color: #f0f8ff;}#sk-container-id-2 input.sk-toggleable__control:checked~div.sk-toggleable__content {max-height: 200px;max-width: 100%;overflow: auto;}#sk-container-id-2 input.sk-toggleable__control:checked~label.sk-toggleable__label-arrow:before {content: \"▾\";}#sk-container-id-2 div.sk-estimator input.sk-toggleable__control:checked~label.sk-toggleable__label {background-color: #d4ebff;}#sk-container-id-2 div.sk-label input.sk-toggleable__control:checked~label.sk-toggleable__label {background-color: #d4ebff;}#sk-container-id-2 input.sk-hidden--visually {border: 0;clip: rect(1px 1px 1px 1px);clip: rect(1px, 1px, 1px, 1px);height: 1px;margin: -1px;overflow: hidden;padding: 0;position: absolute;width: 1px;}#sk-container-id-2 div.sk-estimator {font-family: monospace;background-color: #f0f8ff;border: 1px dotted black;border-radius: 0.25em;box-sizing: border-box;margin-bottom: 0.5em;}#sk-container-id-2 div.sk-estimator:hover {background-color: #d4ebff;}#sk-container-id-2 div.sk-parallel-item::after {content: \"\";width: 100%;border-bottom: 1px solid gray;flex-grow: 1;}#sk-container-id-2 div.sk-label:hover label.sk-toggleable__label {background-color: #d4ebff;}#sk-container-id-2 div.sk-serial::before {content: \"\";position: absolute;border-left: 1px solid gray;box-sizing: border-box;top: 0;bottom: 0;left: 50%;z-index: 0;}#sk-container-id-2 div.sk-serial {display: flex;flex-direction: column;align-items: center;background-color: white;padding-right: 0.2em;padding-left: 0.2em;position: relative;}#sk-container-id-2 div.sk-item {position: relative;z-index: 1;}#sk-container-id-2 div.sk-parallel {display: flex;align-items: stretch;justify-content: center;background-color: white;position: relative;}#sk-container-id-2 div.sk-item::before, #sk-container-id-2 div.sk-parallel-item::before {content: \"\";position: absolute;border-left: 1px solid gray;box-sizing: border-box;top: 0;bottom: 0;left: 50%;z-index: -1;}#sk-container-id-2 div.sk-parallel-item {display: flex;flex-direction: column;z-index: 1;position: relative;background-color: white;}#sk-container-id-2 div.sk-parallel-item:first-child::after {align-self: flex-end;width: 50%;}#sk-container-id-2 div.sk-parallel-item:last-child::after {align-self: flex-start;width: 50%;}#sk-container-id-2 div.sk-parallel-item:only-child::after {width: 0;}#sk-container-id-2 div.sk-dashed-wrapped {border: 1px dashed gray;margin: 0 0.4em 0.5em 0.4em;box-sizing: border-box;padding-bottom: 0.4em;background-color: white;}#sk-container-id-2 div.sk-label label {font-family: monospace;font-weight: bold;display: inline-block;line-height: 1.2em;}#sk-container-id-2 div.sk-label-container {text-align: center;}#sk-container-id-2 div.sk-container {/* jupyter's `normalize.less` sets `[hidden] { display: none; }` but bootstrap.min.css set `[hidden] { display: none !important; }` so we also need the `!important` here to be able to override the default hidden behavior on the sphinx rendered scikit-learn.org. See: https://github.com/scikit-learn/scikit-learn/issues/21755 */display: inline-block !important;position: relative;}#sk-container-id-2 div.sk-text-repr-fallback {display: none;}</style><div id=\"sk-container-id-2\" class=\"sk-top-container\"><div class=\"sk-text-repr-fallback\"><pre>VotingClassifier(estimators=[(&#x27;xgb_cl&#x27;,\n",
              "                              XGBClassifier(base_score=None, booster=None,\n",
              "                                            callbacks=None,\n",
              "                                            colsample_bylevel=None,\n",
              "                                            colsample_bynode=None,\n",
              "                                            colsample_bytree=None, device=None,\n",
              "                                            early_stopping_rounds=None,\n",
              "                                            enable_categorical=False,\n",
              "                                            eval_metric=None,\n",
              "                                            feature_types=None,\n",
              "                                            gamma=0.47768594631740463,\n",
              "                                            grow_policy=None,\n",
              "                                            importance_type=None,\n",
              "                                            interaction_constraint...\n",
              "                                            min_child_weight=None, missing=nan,\n",
              "                                            monotone_constraints=None,\n",
              "                                            multi_strategy=None,\n",
              "                                            n_estimators=124, n_jobs=None,\n",
              "                                            num_parallel_tree=None,\n",
              "                                            random_state=None, ...)),\n",
              "                             (&#x27;bayes_m&#x27;,\n",
              "                              MultinomialNB(alpha=4.0679358717434875,\n",
              "                                            fit_prior=False,\n",
              "                                            force_alpha=True)),\n",
              "                             (&#x27;rf&#x27;,\n",
              "                              RandomForestClassifier(criterion=&#x27;log_loss&#x27;,\n",
              "                                                     max_depth=22,\n",
              "                                                     max_features=&#x27;log2&#x27;,\n",
              "                                                     n_estimators=376,\n",
              "                                                     random_state=28))],\n",
              "                 voting=&#x27;soft&#x27;)</pre><b>In a Jupyter environment, please rerun this cell to show the HTML representation or trust the notebook. <br />On GitHub, the HTML representation is unable to render, please try loading this page with nbviewer.org.</b></div><div class=\"sk-container\" hidden><div class=\"sk-item sk-dashed-wrapped\"><div class=\"sk-label-container\"><div class=\"sk-label sk-toggleable\"><input class=\"sk-toggleable__control sk-hidden--visually\" id=\"sk-estimator-id-6\" type=\"checkbox\" ><label for=\"sk-estimator-id-6\" class=\"sk-toggleable__label sk-toggleable__label-arrow\">VotingClassifier</label><div class=\"sk-toggleable__content\"><pre>VotingClassifier(estimators=[(&#x27;xgb_cl&#x27;,\n",
              "                              XGBClassifier(base_score=None, booster=None,\n",
              "                                            callbacks=None,\n",
              "                                            colsample_bylevel=None,\n",
              "                                            colsample_bynode=None,\n",
              "                                            colsample_bytree=None, device=None,\n",
              "                                            early_stopping_rounds=None,\n",
              "                                            enable_categorical=False,\n",
              "                                            eval_metric=None,\n",
              "                                            feature_types=None,\n",
              "                                            gamma=0.47768594631740463,\n",
              "                                            grow_policy=None,\n",
              "                                            importance_type=None,\n",
              "                                            interaction_constraint...\n",
              "                                            min_child_weight=None, missing=nan,\n",
              "                                            monotone_constraints=None,\n",
              "                                            multi_strategy=None,\n",
              "                                            n_estimators=124, n_jobs=None,\n",
              "                                            num_parallel_tree=None,\n",
              "                                            random_state=None, ...)),\n",
              "                             (&#x27;bayes_m&#x27;,\n",
              "                              MultinomialNB(alpha=4.0679358717434875,\n",
              "                                            fit_prior=False,\n",
              "                                            force_alpha=True)),\n",
              "                             (&#x27;rf&#x27;,\n",
              "                              RandomForestClassifier(criterion=&#x27;log_loss&#x27;,\n",
              "                                                     max_depth=22,\n",
              "                                                     max_features=&#x27;log2&#x27;,\n",
              "                                                     n_estimators=376,\n",
              "                                                     random_state=28))],\n",
              "                 voting=&#x27;soft&#x27;)</pre></div></div></div><div class=\"sk-parallel\"><div class=\"sk-parallel-item\"><div class=\"sk-item\"><div class=\"sk-label-container\"><div class=\"sk-label sk-toggleable\"><label>xgb_cl</label></div></div><div class=\"sk-serial\"><div class=\"sk-item\"><div class=\"sk-estimator sk-toggleable\"><input class=\"sk-toggleable__control sk-hidden--visually\" id=\"sk-estimator-id-7\" type=\"checkbox\" ><label for=\"sk-estimator-id-7\" class=\"sk-toggleable__label sk-toggleable__label-arrow\">XGBClassifier</label><div class=\"sk-toggleable__content\"><pre>XGBClassifier(base_score=None, booster=None, callbacks=None,\n",
              "              colsample_bylevel=None, colsample_bynode=None,\n",
              "              colsample_bytree=None, device=None, early_stopping_rounds=None,\n",
              "              enable_categorical=False, eval_metric=None, feature_types=None,\n",
              "              gamma=0.47768594631740463, grow_policy=None, importance_type=None,\n",
              "              interaction_constraints=None, learning_rate=0.3252640404755337,\n",
              "              max_bin=None, max_cat_threshold=None, max_cat_to_onehot=None,\n",
              "              max_delta_step=None, max_depth=6, max_leaves=None,\n",
              "              min_child_weight=None, missing=nan, monotone_constraints=None,\n",
              "              multi_strategy=None, n_estimators=124, n_jobs=None,\n",
              "              num_parallel_tree=None, random_state=None, ...)</pre></div></div></div></div></div></div><div class=\"sk-parallel-item\"><div class=\"sk-item\"><div class=\"sk-label-container\"><div class=\"sk-label sk-toggleable\"><label>bayes_m</label></div></div><div class=\"sk-serial\"><div class=\"sk-item\"><div class=\"sk-estimator sk-toggleable\"><input class=\"sk-toggleable__control sk-hidden--visually\" id=\"sk-estimator-id-8\" type=\"checkbox\" ><label for=\"sk-estimator-id-8\" class=\"sk-toggleable__label sk-toggleable__label-arrow\">MultinomialNB</label><div class=\"sk-toggleable__content\"><pre>MultinomialNB(alpha=4.0679358717434875, fit_prior=False, force_alpha=True)</pre></div></div></div></div></div></div><div class=\"sk-parallel-item\"><div class=\"sk-item\"><div class=\"sk-label-container\"><div class=\"sk-label sk-toggleable\"><label>rf</label></div></div><div class=\"sk-serial\"><div class=\"sk-item\"><div class=\"sk-estimator sk-toggleable\"><input class=\"sk-toggleable__control sk-hidden--visually\" id=\"sk-estimator-id-9\" type=\"checkbox\" ><label for=\"sk-estimator-id-9\" class=\"sk-toggleable__label sk-toggleable__label-arrow\">RandomForestClassifier</label><div class=\"sk-toggleable__content\"><pre>RandomForestClassifier(criterion=&#x27;log_loss&#x27;, max_depth=22, max_features=&#x27;log2&#x27;,\n",
              "                       n_estimators=376, random_state=28)</pre></div></div></div></div></div></div></div></div></div></div>"
            ]
          },
          "metadata": {},
          "execution_count": 62
        }
      ]
    },
    {
      "cell_type": "code",
      "source": [
        "y_pred_voting = voting_model.predict(x_test)\n",
        "imprimir_matriz_confusion(y_test, y_pred_voting)"
      ],
      "metadata": {
        "colab": {
          "base_uri": "https://localhost:8080/",
          "height": 610
        },
        "id": "QLyhlP4MuwO1",
        "outputId": "c8761e3b-3859-427f-aaae-968b5a4a0d22"
      },
      "execution_count": 63,
      "outputs": [
        {
          "output_type": "stream",
          "name": "stdout",
          "text": [
            "              precision    recall  f1-score   support\n",
            "\n",
            "           0    0.86016   0.84440   0.85221      4968\n",
            "           1    0.84911   0.86447   0.85672      5032\n",
            "\n",
            "    accuracy                        0.85450     10000\n",
            "   macro avg    0.85464   0.85444   0.85447     10000\n",
            "weighted avg    0.85460   0.85450   0.85448     10000\n",
            "\n"
          ]
        },
        {
          "output_type": "display_data",
          "data": {
            "text/plain": [
              "<Figure size 640x480 with 2 Axes>"
            ],
            "image/png": "[encoded data removed]"
          },
          "metadata": {}
        }
      ]
    },
    {
      "cell_type": "code",
      "execution_count": 64,
      "metadata": {
        "id": "ZVhCvmpaNd_0",
        "colab": {
          "base_uri": "https://localhost:8080/"
        },
        "outputId": "99e561cd-301e-42ab-bec3-bf6796028085"
      },
      "outputs": [
        {
          "output_type": "stream",
          "name": "stdout",
          "text": [
            "Metricas del modelo: \n",
            "\n",
            "Accuracy: 0.8545\n",
            "Recall: 0.8644674085850557\n",
            "F1 Score: 0.8567208271787297\n",
            "Precision: 0.8491118485262541\n"
          ]
        }
      ],
      "source": [
        "imprimir_metricas(y_test, y_pred_voting)"
      ]
    },
    {
      "cell_type": "code",
      "source": [
        "joblib.dump(voting_model, 'voting.joblib')"
      ],
      "metadata": {
        "colab": {
          "base_uri": "https://localhost:8080/"
        },
        "id": "gsMj2v5bvGH4",
        "outputId": "7e0d40f8-cf9f-4e26-f0af-3a83d3b96735"
      },
      "execution_count": 65,
      "outputs": [
        {
          "output_type": "execute_result",
          "data": {
            "text/plain": [
              "['voting.joblib']"
            ]
          },
          "metadata": {},
          "execution_count": 65
        }
      ]
    },
    {
      "cell_type": "code",
      "source": [
        "df_test['review_es'] = df_test['review_es'].apply(lambda x: preprocesamiento(x))\n",
        "df_test['review_es'] = df_test['review_es'].apply(lambda x: ' '.join([stemmer.stem(word) for word in word_tokenize(x)]))\n",
        "bag_of_words_test = vectorizer.transform(df_test['review_es'])\n",
        "\n",
        "y_pred = voting_model.predict(bag_of_words_test)\n",
        "df_summision = pd.DataFrame({'ID':df_test['ID'], 'sentimiento': y_pred})\n",
        "df_summision = df_summision.replace({'sentimiento': {1: 'positivo', 0: 'negativo'}})\n",
        "df_summision.to_csv(\"voting.csv\", index= False)\n",
        "df_summision"
      ],
      "metadata": {
        "colab": {
          "base_uri": "https://localhost:8080/",
          "height": 424
        },
        "id": "ZK_0HJT0vP58",
        "outputId": "2c07e4e1-0c52-4661-d2bc-08b775f54ea2"
      },
      "execution_count": 66,
      "outputs": [
        {
          "output_type": "execute_result",
          "data": {
            "text/plain": [
              "         ID sentimiento\n",
              "0     60000    negativo\n",
              "1     60001    negativo\n",
              "2     60002    negativo\n",
              "3     60003    negativo\n",
              "4     60004    negativo\n",
              "...     ...         ...\n",
              "8594  68594    positivo\n",
              "8595  68595    negativo\n",
              "8596  68596    positivo\n",
              "8597  68597    negativo\n",
              "8598  68598    negativo\n",
              "\n",
              "[8599 rows x 2 columns]"
            ],
            "text/html": [
              "\n",
              "  <div id=\"df-ac13d1b4-20cb-4bca-b76e-70d254e77919\" class=\"colab-df-container\">\n",
              "    <div>\n",
              "<style scoped>\n",
              "    .dataframe tbody tr th:only-of-type {\n",
              "        vertical-align: middle;\n",
              "    }\n",
              "\n",
              "    .dataframe tbody tr th {\n",
              "        vertical-align: top;\n",
              "    }\n",
              "\n",
              "    .dataframe thead th {\n",
              "        text-align: right;\n",
              "    }\n",
              "</style>\n",
              "<table border=\"1\" class=\"dataframe\">\n",
              "  <thead>\n",
              "    <tr style=\"text-align: right;\">\n",
              "      <th></th>\n",
              "      <th>ID</th>\n",
              "      <th>sentimiento</th>\n",
              "    </tr>\n",
              "  </thead>\n",
              "  <tbody>\n",
              "    <tr>\n",
              "      <th>0</th>\n",
              "      <td>60000</td>\n",
              "      <td>negativo</td>\n",
              "    </tr>\n",
              "    <tr>\n",
              "      <th>1</th>\n",
              "      <td>60001</td>\n",
              "      <td>negativo</td>\n",
              "    </tr>\n",
              "    <tr>\n",
              "      <th>2</th>\n",
              "      <td>60002</td>\n",
              "      <td>negativo</td>\n",
              "    </tr>\n",
              "    <tr>\n",
              "      <th>3</th>\n",
              "      <td>60003</td>\n",
              "      <td>negativo</td>\n",
              "    </tr>\n",
              "    <tr>\n",
              "      <th>4</th>\n",
              "      <td>60004</td>\n",
              "      <td>negativo</td>\n",
              "    </tr>\n",
              "    <tr>\n",
              "      <th>...</th>\n",
              "      <td>...</td>\n",
              "      <td>...</td>\n",
              "    </tr>\n",
              "    <tr>\n",
              "      <th>8594</th>\n",
              "      <td>68594</td>\n",
              "      <td>positivo</td>\n",
              "    </tr>\n",
              "    <tr>\n",
              "      <th>8595</th>\n",
              "      <td>68595</td>\n",
              "      <td>negativo</td>\n",
              "    </tr>\n",
              "    <tr>\n",
              "      <th>8596</th>\n",
              "      <td>68596</td>\n",
              "      <td>positivo</td>\n",
              "    </tr>\n",
              "    <tr>\n",
              "      <th>8597</th>\n",
              "      <td>68597</td>\n",
              "      <td>negativo</td>\n",
              "    </tr>\n",
              "    <tr>\n",
              "      <th>8598</th>\n",
              "      <td>68598</td>\n",
              "      <td>negativo</td>\n",
              "    </tr>\n",
              "  </tbody>\n",
              "</table>\n",
              "<p>8599 rows × 2 columns</p>\n",
              "</div>\n",
              "    <div class=\"colab-df-buttons\">\n",
              "\n",
              "  <div class=\"colab-df-container\">\n",
              "    <button class=\"colab-df-convert\" onclick=\"convertToInteractive('df-ac13d1b4-20cb-4bca-b76e-70d254e77919')\"\n",
              "            title=\"Convert this dataframe to an interactive table.\"\n",
              "            style=\"display:none;\">\n",
              "\n",
              "  <svg xmlns=\"http://www.w3.org/2000/svg\" height=\"24px\" viewBox=\"0 -960 960 960\">\n",
              "    <path d=\"M120-120v-720h720v720H120Zm60-500h600v-160H180v160Zm220 220h160v-160H400v160Zm0 220h160v-160H400v160ZM180-400h160v-160H180v160Zm440 0h160v-160H620v160ZM180-180h160v-160H180v160Zm440 0h160v-160H620v160Z\"/>\n",
              "  </svg>\n",
              "    </button>\n",
              "\n",
              "  <style>\n",
              "    .colab-df-container {\n",
              "      display:flex;\n",
              "      gap: 12px;\n",
              "    }\n",
              "\n",
              "    .colab-df-convert {\n",
              "      background-color: #E8F0FE;\n",
              "      border: none;\n",
              "      border-radius: 50%;\n",
              "      cursor: pointer;\n",
              "      display: none;\n",
              "      fill: #1967D2;\n",
              "      height: 32px;\n",
              "      padding: 0 0 0 0;\n",
              "      width: 32px;\n",
              "    }\n",
              "\n",
              "    .colab-df-convert:hover {\n",
              "      background-color: #E2EBFA;\n",
              "      box-shadow: 0px 1px 2px rgba(60, 64, 67, 0.3), 0px 1px 3px 1px rgba(60, 64, 67, 0.15);\n",
              "      fill: #174EA6;\n",
              "    }\n",
              "\n",
              "    .colab-df-buttons div {\n",
              "      margin-bottom: 4px;\n",
              "    }\n",
              "\n",
              "    [theme=dark] .colab-df-convert {\n",
              "      background-color: #3B4455;\n",
              "      fill: #D2E3FC;\n",
              "    }\n",
              "\n",
              "    [theme=dark] .colab-df-convert:hover {\n",
              "      background-color: #434B5C;\n",
              "      box-shadow: 0px 1px 3px 1px rgba(0, 0, 0, 0.15);\n",
              "      filter: drop-shadow(0px 1px 2px rgba(0, 0, 0, 0.3));\n",
              "      fill: #FFFFFF;\n",
              "    }\n",
              "  </style>\n",
              "\n",
              "    <script>\n",
              "      const buttonEl =\n",
              "        document.querySelector('#df-ac13d1b4-20cb-4bca-b76e-70d254e77919 button.colab-df-convert');\n",
              "      buttonEl.style.display =\n",
              "        google.colab.kernel.accessAllowed ? 'block' : 'none';\n",
              "\n",
              "      async function convertToInteractive(key) {\n",
              "        const element = document.querySelector('#df-ac13d1b4-20cb-4bca-b76e-70d254e77919');\n",
              "        const dataTable =\n",
              "          await google.colab.kernel.invokeFunction('convertToInteractive',\n",
              "                                                    [key], {});\n",
              "        if (!dataTable) return;\n",
              "\n",
              "        const docLinkHtml = 'Like what you see? Visit the ' +\n",
              "          '<a target=\"_blank\" href=https://colab.research.google.com/notebooks/data_table.ipynb>data table notebook</a>'\n",
              "          + ' to learn more about interactive tables.';\n",
              "        element.innerHTML = '';\n",
              "        dataTable['output_type'] = 'display_data';\n",
              "        await google.colab.output.renderOutput(dataTable, element);\n",
              "        const docLink = document.createElement('div');\n",
              "        docLink.innerHTML = docLinkHtml;\n",
              "        element.appendChild(docLink);\n",
              "      }\n",
              "    </script>\n",
              "  </div>\n",
              "\n",
              "\n",
              "<div id=\"df-1677e7ac-63f6-432d-8d43-bb53e68271dc\">\n",
              "  <button class=\"colab-df-quickchart\" onclick=\"quickchart('df-1677e7ac-63f6-432d-8d43-bb53e68271dc')\"\n",
              "            title=\"Suggest charts\"\n",
              "            style=\"display:none;\">\n",
              "\n",
              "<svg xmlns=\"http://www.w3.org/2000/svg\" height=\"24px\"viewBox=\"0 0 24 24\"\n",
              "     width=\"24px\">\n",
              "    <g>\n",
              "        <path d=\"M19 3H5c-1.1 0-2 .9-2 2v14c0 1.1.9 2 2 2h14c1.1 0 2-.9 2-2V5c0-1.1-.9-2-2-2zM9 17H7v-7h2v7zm4 0h-2V7h2v10zm4 0h-2v-4h2v4z\"/>\n",
              "    </g>\n",
              "</svg>\n",
              "  </button>\n",
              "\n",
              "<style>\n",
              "  .colab-df-quickchart {\n",
              "      --bg-color: #E8F0FE;\n",
              "      --fill-color: #1967D2;\n",
              "      --hover-bg-color: #E2EBFA;\n",
              "      --hover-fill-color: #174EA6;\n",
              "      --disabled-fill-color: #AAA;\n",
              "      --disabled-bg-color: #DDD;\n",
              "  }\n",
              "\n",
              "  [theme=dark] .colab-df-quickchart {\n",
              "      --bg-color: #3B4455;\n",
              "      --fill-color: #D2E3FC;\n",
              "      --hover-bg-color: #434B5C;\n",
              "      --hover-fill-color: #FFFFFF;\n",
              "      --disabled-bg-color: #3B4455;\n",
              "      --disabled-fill-color: #666;\n",
              "  }\n",
              "\n",
              "  .colab-df-quickchart {\n",
              "    background-color: var(--bg-color);\n",
              "    border: none;\n",
              "    border-radius: 50%;\n",
              "    cursor: pointer;\n",
              "    display: none;\n",
              "    fill: var(--fill-color);\n",
              "    height: 32px;\n",
              "    padding: 0;\n",
              "    width: 32px;\n",
              "  }\n",
              "\n",
              "  .colab-df-quickchart:hover {\n",
              "    background-color: var(--hover-bg-color);\n",
              "    box-shadow: 0 1px 2px rgba(60, 64, 67, 0.3), 0 1px 3px 1px rgba(60, 64, 67, 0.15);\n",
              "    fill: var(--button-hover-fill-color);\n",
              "  }\n",
              "\n",
              "  .colab-df-quickchart-complete:disabled,\n",
              "  .colab-df-quickchart-complete:disabled:hover {\n",
              "    background-color: var(--disabled-bg-color);\n",
              "    fill: var(--disabled-fill-color);\n",
              "    box-shadow: none;\n",
              "  }\n",
              "\n",
              "  .colab-df-spinner {\n",
              "    border: 2px solid var(--fill-color);\n",
              "    border-color: transparent;\n",
              "    border-bottom-color: var(--fill-color);\n",
              "    animation:\n",
              "      spin 1s steps(1) infinite;\n",
              "  }\n",
              "\n",
              "  @keyframes spin {\n",
              "    0% {\n",
              "      border-color: transparent;\n",
              "      border-bottom-color: var(--fill-color);\n",
              "      border-left-color: var(--fill-color);\n",
              "    }\n",
              "    20% {\n",
              "      border-color: transparent;\n",
              "      border-left-color: var(--fill-color);\n",
              "      border-top-color: var(--fill-color);\n",
              "    }\n",
              "    30% {\n",
              "      border-color: transparent;\n",
              "      border-left-color: var(--fill-color);\n",
              "      border-top-color: var(--fill-color);\n",
              "      border-right-color: var(--fill-color);\n",
              "    }\n",
              "    40% {\n",
              "      border-color: transparent;\n",
              "      border-right-color: var(--fill-color);\n",
              "      border-top-color: var(--fill-color);\n",
              "    }\n",
              "    60% {\n",
              "      border-color: transparent;\n",
              "      border-right-color: var(--fill-color);\n",
              "    }\n",
              "    80% {\n",
              "      border-color: transparent;\n",
              "      border-right-color: var(--fill-color);\n",
              "      border-bottom-color: var(--fill-color);\n",
              "    }\n",
              "    90% {\n",
              "      border-color: transparent;\n",
              "      border-bottom-color: var(--fill-color);\n",
              "    }\n",
              "  }\n",
              "</style>\n",
              "\n",
              "  <script>\n",
              "    async function quickchart(key) {\n",
              "      const quickchartButtonEl =\n",
              "        document.querySelector('#' + key + ' button');\n",
              "      quickchartButtonEl.disabled = true;  // To prevent multiple clicks.\n",
              "      quickchartButtonEl.classList.add('colab-df-spinner');\n",
              "      try {\n",
              "        const charts = await google.colab.kernel.invokeFunction(\n",
              "            'suggestCharts', [key], {});\n",
              "      } catch (error) {\n",
              "        console.error('Error during call to suggestCharts:', error);\n",
              "      }\n",
              "      quickchartButtonEl.classList.remove('colab-df-spinner');\n",
              "      quickchartButtonEl.classList.add('colab-df-quickchart-complete');\n",
              "    }\n",
              "    (() => {\n",
              "      let quickchartButtonEl =\n",
              "        document.querySelector('#df-1677e7ac-63f6-432d-8d43-bb53e68271dc button');\n",
              "      quickchartButtonEl.style.display =\n",
              "        google.colab.kernel.accessAllowed ? 'block' : 'none';\n",
              "    })();\n",
              "  </script>\n",
              "</div>\n",
              "    </div>\n",
              "  </div>\n"
            ]
          },
          "metadata": {},
          "execution_count": 66
        }
      ]
    }
  ],
  "metadata": {
    "colab": {
      "collapsed_sections": [
        "6FnBTvE9P2c5",
        "x19jYkwtP6pY",
        "teCqodGIufet",
        "c8lu5LipflBa",
        "rV-fHXR6Y6wX",
        "BPJsmLM62Ezd",
        "eeWSS37tGI8k",
        "FjbCjSHhPF04",
        "Mje1g_wcQCeC"
      ],
      "provenance": []
    },
    "kernelspec": {
      "display_name": "Python 3",
      "name": "python3"
    },
    "language_info": {
      "name": "python"
    }
  },
  "nbformat": 4,
  "nbformat_minor": 0
}