{
  "cells": [
    {
      "cell_type": "markdown",
      "metadata": {
        "id": "nQdSwkiLeJF9"
      },
      "source": [
        "# <center>Trabajo Práctico N°1 : Reservas de Hotel</center>\n",
        "\n",
        "**Grupo:** N°28 - The Kingdom\n",
        "\n",
        "**Checkpoint N° 3**: Ensambles\n",
        "\n",
        "**Alumnos**:\n",
        "\n",
        "\n",
        "*   Jurgens, Cecilia Ines\n",
        "*   Schipani, Martin Sebastian\n",
        "*   Soto, Marylin Nicole\n",
        "\n",
        "**Corrector:** Franco Mastelli\n",
        "\n",
        "---\n"
      ]
    },
    {
      "cell_type": "code",
      "execution_count": null,
      "metadata": {
        "id": "NI09XcmCfWBX"
      },
      "outputs": [],
      "source": [
        "import pandas as pd\n",
        "import numpy as np\n",
        "import sklearn as sk\n",
        "\n",
        "import matplotlib.pyplot as plt\n",
        "import seaborn as sns\n",
        "import scipy.stats as st\n",
        "\n",
        "import joblib\n",
        "\n",
        "from sklearn.model_selection import train_test_split\n",
        "from sklearn.metrics import confusion_matrix, classification_report\n",
        "from sklearn.model_selection import cross_val_score\n",
        "from sklearn.model_selection import RandomizedSearchCV\n",
        "\n",
        "from sklearn import metrics\n",
        "from sklearn import preprocessing\n",
        "from sklearn.metrics import precision_score, recall_score, accuracy_score, f1_score, make_scorer\n",
        "from sklearn.neighbors import KNeighborsClassifier\n",
        "from sklearn.svm import SVC\n",
        "from sklearn.model_selection  import GridSearchCV, StratifiedKFold, KFold\n",
        "from sklearn.decomposition import PCA\n",
        "from sklearn.pipeline import Pipeline\n",
        "from sklearn.preprocessing import StandardScaler\n",
        "\n",
        "import warnings\n",
        "warnings.simplefilter(action='ignore', category=FutureWarning)\n",
        "warnings.simplefilter(action='ignore', category=UserWarning)"
      ]
    },
    {
      "cell_type": "code",
      "execution_count": null,
      "metadata": {
        "id": "YqjofaKIydmb"
      },
      "outputs": [],
      "source": [
        "ds_hotel_test = pd.read_csv(\"hotels_test.csv\")\n",
        "df_hotel_test = ds_hotel_test.copy()\n",
        "ds_hotel_train = pd.read_csv(\"hotels_train.csv\")\n",
        "df_hotel_train = ds_hotel_train.copy()"
      ]
    },
    {
      "cell_type": "markdown",
      "metadata": {
        "id": "j2vu5NsUzDuD"
      },
      "source": [
        "## Preprocesamiento de Datasets"
      ]
    },
    {
      "cell_type": "markdown",
      "metadata": {
        "id": "61mzbfGm2g4V"
      },
      "source": [
        "Analizamos la cantidad de filas y columnas entre el dataset de train y de test:"
      ]
    },
    {
      "cell_type": "code",
      "execution_count": null,
      "metadata": {
        "colab": {
          "base_uri": "https://localhost:8080/"
        },
        "id": "I0sZP68l20ZD",
        "outputId": "71be0ec4-c7b8-42cf-c81d-f6f6578edc4f"
      },
      "outputs": [
        {
          "output_type": "stream",
          "name": "stdout",
          "text": [
            "El dataset train tiene 61913 filas y 31 columnas.\n",
            "El dataset test tiene 26535 filas y 31 columnas.\n"
          ]
        }
      ],
      "source": [
        "print(\"El dataset train tiene \"f\"{df_hotel_train.shape[0]}\"\" filas y \"f\"{df_hotel_train.shape[1]}\"\" columnas.\")\n",
        "print(\"El dataset test tiene \"f\"{df_hotel_test.shape[0]}\"\" filas y \"f\"{df_hotel_test.shape[1]}\"\" columnas.\")"
      ]
    },
    {
      "cell_type": "markdown",
      "metadata": {
        "id": "5iwLi4YLYPR-"
      },
      "source": [
        "Determinamos que columnas faltan en cada dataset:"
      ]
    },
    {
      "cell_type": "code",
      "execution_count": null,
      "metadata": {
        "colab": {
          "base_uri": "https://localhost:8080/"
        },
        "id": "f3F_RHFP7PeY",
        "outputId": "0907f893-b44b-4047-e587-e304cff13931"
      },
      "outputs": [
        {
          "output_type": "stream",
          "name": "stdout",
          "text": [
            "Columnas faltantes en el dataset de Train:  {'reservation_status_date'}\n",
            "Columnas faltantes en el dataset de Test:  {'is_canceled'}\n"
          ]
        }
      ],
      "source": [
        "columnas_faltantes_train = set(df_hotel_test.columns)-set(df_hotel_train.columns)\n",
        "columnas_faltantes_test = set(df_hotel_train.columns) - set(df_hotel_test.columns)\n",
        "\n",
        "print('Columnas faltantes en el dataset de Train: ', columnas_faltantes_train)\n",
        "print('Columnas faltantes en el dataset de Test: ', columnas_faltantes_test)\n"
      ]
    },
    {
      "cell_type": "markdown",
      "metadata": {
        "id": "sqimi4f59oxZ"
      },
      "source": [
        "### Dataset Train:"
      ]
    },
    {
      "cell_type": "markdown",
      "metadata": {
        "id": "oOJuCBWxzGj7"
      },
      "source": [
        "Aplicamos la limpieza que fue detallada en el checkpoint 2 en el dataset de train:"
      ]
    },
    {
      "cell_type": "code",
      "execution_count": null,
      "metadata": {
        "id": "PBUoCdpCzD5o"
      },
      "outputs": [],
      "source": [
        "#COUNTRY\n",
        "##Reemplazamos los valores nulos con la moda\n",
        "df_hotel_train.fillna({'country':-1}, inplace = True)\n",
        "df_hotel_train.replace({-1, \"PRT\"})\n",
        "\n",
        "country_top_train = df_hotel_train['country'].value_counts()\n",
        "top_20_country_train = country_top_train.head(20).index.tolist()\n",
        "df_hotel_train['country'] = df_hotel_train['country'].apply(lambda x: x if x in top_20_country_train else 'other')\n",
        "\n",
        "#LEAD_TIME\n",
        "##Tratamiento de outliers:\n",
        "#df_hotel_train.drop(df_hotel_train[df_hotel_train['lead_time']>=500].index, axis='index', inplace=True)\n",
        "\n",
        "#STAYS_IN_WEEK_NIGHTS\n",
        "##Tratamiento de outliers:\n",
        "df_hotel_train.drop(df_hotel_train[df_hotel_train['stays_in_week_nights']>=25].index, axis='index', inplace=True)\n",
        "\n",
        "#ADULTS\n",
        "##Tratamiento de Outliers:\n",
        "df_hotel_train.drop(df_hotel_train[df_hotel_train['adults']==0].index, axis='index', inplace=True)\n",
        "df_hotel_train.drop(df_hotel_train[df_hotel_train['adults']>3].index, axis='index', inplace=True)\n",
        "\n",
        "#CHILDREN\n",
        "##Eliminacion de los registros con datos nulos de esta variable:\n",
        "#df_hotel_train.drop(df_hotel_train[df_hotel_train['children'].isna() == True].index, axis='index', inplace=True)\n",
        "df_hotel_train.fillna({'children':0}, inplace = True)\n",
        "df_hotel_train['children'] = df_hotel_train['children'].astype(int)\n",
        "df_hotel_train.loc[df_hotel_train['children'] < 0, 'children'] = 0\n",
        "df_hotel_train.drop(df_hotel_train[df_hotel_train['children']>=10].index, axis = 'index', inplace = True)\n",
        "\n",
        "##Tratiento de outliers\n",
        "df_hotel_train.drop(df_hotel_train[df_hotel_train['children']>=10].index, axis='index', inplace=True)\n",
        "\n",
        "#BABIES\n",
        "##Tratamiento de Outliers:\n",
        "df_hotel_train.drop(df_hotel_train[df_hotel_train['babies']>=9].index, axis='index', inplace=True)\n",
        "\n",
        "#PREVIOUS_CANCELLATIONS\n",
        "##Tratamiento de Outliers\n",
        "df_hotel_train.drop(df_hotel_train[df_hotel_train['previous_cancellations']>=2].index, axis='index', inplace=True)\n",
        "\n",
        "#DAYS_IN_WAITING_LIST\n",
        "##Tratamiento de outliers\n",
        "#df_hotel_train.drop(df_hotel_train[df_hotel_train['days_in_waiting_list']>=200].index, axis='index', inplace=True)\n",
        "\n",
        "#ADR\n",
        "##Tratamiento de Outliers:\n",
        "df_hotel_train.drop(df_hotel_train[df_hotel_train['adr']<=0].index, axis='index', inplace=True)\n",
        "df_hotel_train.drop(df_hotel_train[df_hotel_train['adr']>=400].index, axis='index', inplace=True)\n",
        "media_adr = np.mean(df_hotel_train.adr)\n",
        "std_adr = np.std(df_hotel_train.adr)\n",
        "df_hotel_train['z_adr'] = (df_hotel_train.adr-media_adr)/std_adr\n",
        "df_hotel_train['z_adr'] = st.zscore(df_hotel_train.adr)\n",
        "df_hotel_train.drop(df_hotel_train[df_hotel_train['z_adr'] > 3].index, axis = 'index', inplace = True)\n",
        "df_hotel_train.drop(df_hotel_train[df_hotel_train['z_adr'] < -2].index, axis = 'index', inplace = True)\n",
        "df_hotel_train.drop(labels = 'z_adr', inplace = True, axis = 1)\n",
        "\n",
        "#REQUIRED_CAR_PARKING_SPACES\n",
        "##Tratamiento de outliers:\n",
        "df_hotel_train.loc[(df_hotel_train['adults'] == 2) & (df_hotel_train['required_car_parking_spaces'] == 3), 'required_car_parking_spaces'] = 2\n",
        "df_hotel_train.loc[(df_hotel_train['adults'] == 2) & (df_hotel_train['required_car_parking_spaces'] == 8), 'required_car_parking_spaces'] = 2\n",
        "\n",
        "#TOTAL_OF_SPECIAL_REQUESTS\n",
        "df_hotel_train.loc[(df_hotel_train['total_of_special_requests'] >= 4), 'total_of_special_requests'] = 1\n",
        "\n",
        "#AGENT\n",
        "#df_hotel_train.dropna(subset=['agent'], inplace = True)\n",
        "df_hotel_train.fillna({'agent':-1}, inplace = True)\n",
        "df_hotel_train['agent'] = df_hotel_train['agent'].astype(int)\n",
        "\n",
        "#ASSIGNED ROOM TYPE\n",
        "df_hotel_train.drop(df_hotel_train[(df_hotel_train['assigned_room_type'] == 'K') & (df_hotel_train['adr'] >160)].index, inplace = True)\n",
        "df_hotel_train.drop(df_hotel_train[(df_hotel_train['assigned_room_type'] == 'I') & (df_hotel_train['adr'] >210)].index, inplace = True)\n",
        "df_hotel_train.drop(df_hotel_train[(df_hotel_train['assigned_room_type'] == 'B') & (df_hotel_train['adr'] >160)].index, inplace = True)\n",
        "df_hotel_train.drop(df_hotel_train[(df_hotel_train['assigned_room_type'] == 'B') & (df_hotel_train['adr'] <30)].index, inplace = True)\n",
        "\n",
        "df_hotel_train.drop(df_hotel_train[(df_hotel_train['distribution_channel'] == 'Undefined')].index, inplace = True)"
      ]
    },
    {
      "cell_type": "markdown",
      "metadata": {
        "id": "4vvmshS36SbX"
      },
      "source": [
        "Convertimos los meses del año en numeros:"
      ]
    },
    {
      "cell_type": "code",
      "execution_count": null,
      "metadata": {
        "id": "VpEcxP3m5-qC"
      },
      "outputs": [],
      "source": [
        "meses_a_numeros ={\n",
        "    'January': 1,\n",
        "    'February': 2,\n",
        "    'March': 3,\n",
        "    'April': 4,\n",
        "    'May': 5,\n",
        "    'June': 6,\n",
        "    'July':7,\n",
        "    'August': 8,\n",
        "    'September': 9,\n",
        "    'October': 10,\n",
        "    'November': 11,\n",
        "    'December': 12\n",
        "}\n",
        "df_hotel_train.arrival_date_month = df_hotel_train.arrival_date_month.map(meses_a_numeros)"
      ]
    },
    {
      "cell_type": "markdown",
      "metadata": {
        "id": "Ox4AT1Vs6jjM"
      },
      "source": [
        "Transformamos los datos de children en int:"
      ]
    },
    {
      "cell_type": "code",
      "execution_count": null,
      "metadata": {
        "id": "RDzIV6y86n1N"
      },
      "outputs": [],
      "source": [
        "df_hotel_train['children'] = df_hotel_train['children'].astype(int)"
      ]
    },
    {
      "cell_type": "markdown",
      "metadata": {
        "id": "Wxr4ohSw6xI_"
      },
      "source": [
        "Reemplazamos en meal todos aquellos que dicen undefined por SC (como es aclarado en el paper):"
      ]
    },
    {
      "cell_type": "code",
      "execution_count": null,
      "metadata": {
        "id": "CtFlGqTS6wRh"
      },
      "outputs": [],
      "source": [
        "df_hotel_train.loc[df_hotel_train.loc[:,'meal'] == 'Undefined','meal'] ='SC'"
      ]
    },
    {
      "cell_type": "markdown",
      "metadata": {
        "id": "kDm1qZTT7Q-e"
      },
      "source": [
        "Convertimos las letras de habitaciones de los hoteles por numeros:"
      ]
    },
    {
      "cell_type": "code",
      "execution_count": null,
      "metadata": {
        "id": "Eq4tBc0Z7MT9"
      },
      "outputs": [],
      "source": [
        "dormitorio_letra_a_numero ={\n",
        "    'A': 1,\n",
        "    'B': 2,\n",
        "    'C': 3,\n",
        "    'D': 4,\n",
        "    'E': 5,\n",
        "    'F': 6,\n",
        "    'G': 7,\n",
        "    'H': 8,\n",
        "    'I': 9,\n",
        "    'K': 10,\n",
        "    'L': 11\n",
        "}\n",
        "df_hotel_train.reserved_room_type = df_hotel_train.reserved_room_type.map(dormitorio_letra_a_numero)"
      ]
    },
    {
      "cell_type": "markdown",
      "metadata": {
        "id": "c9JJ9vk95SgS"
      },
      "source": [
        "Elimino todas aquellas columnas que no se necesitaran en la busqueda de arboles:"
      ]
    },
    {
      "cell_type": "code",
      "execution_count": null,
      "metadata": {
        "id": "kz4Qt7Mo0QsP"
      },
      "outputs": [],
      "source": [
        "columnas_eliminar =[ 'id', 'assigned_room_type', 'company']\n",
        "df_hotel_train.drop(columnas_eliminar, axis='columns', inplace=True)"
      ]
    },
    {
      "cell_type": "markdown",
      "metadata": {
        "id": "Rq4t_u4j9NNn"
      },
      "source": [
        "One hot encoding para variables categoricas:"
      ]
    },
    {
      "cell_type": "code",
      "execution_count": null,
      "metadata": {
        "id": "4lqvZEgq9CxI"
      },
      "outputs": [],
      "source": [
        "columnas_dummies = ['hotel', 'meal', 'country', 'market_segment', 'distribution_channel', 'deposit_type', 'customer_type']\n",
        "df_hotel_train = pd.get_dummies(df_hotel_train, columns= columnas_dummies, drop_first= True)"
      ]
    },
    {
      "cell_type": "markdown",
      "metadata": {
        "id": "CdDeLeul5pP-"
      },
      "source": [
        "Verificamos que no nos queden valores nulos en el dataset train:"
      ]
    },
    {
      "cell_type": "code",
      "execution_count": null,
      "metadata": {
        "colab": {
          "base_uri": "https://localhost:8080/"
        },
        "id": "7_gEqK0B5N9H",
        "outputId": "b80ed4ff-7b5d-456c-dcbf-b8f35253ff48"
      },
      "outputs": [
        {
          "output_type": "execute_result",
          "data": {
            "text/plain": [
              "lead_time                         0\n",
              "arrival_date_year                 0\n",
              "arrival_date_month                0\n",
              "arrival_date_week_number          0\n",
              "arrival_date_day_of_month         0\n",
              "stays_in_weekend_nights           0\n",
              "stays_in_week_nights              0\n",
              "adults                            0\n",
              "children                          0\n",
              "babies                            0\n",
              "is_repeated_guest                 0\n",
              "previous_cancellations            0\n",
              "previous_bookings_not_canceled    0\n",
              "reserved_room_type                0\n",
              "booking_changes                   0\n",
              "agent                             0\n",
              "days_in_waiting_list              0\n",
              "adr                               0\n",
              "required_car_parking_spaces       0\n",
              "total_of_special_requests         0\n",
              "is_canceled                       0\n",
              "hotel_Resort Hotel                0\n",
              "meal_FB                           0\n",
              "meal_HB                           0\n",
              "meal_SC                           0\n",
              "country_BEL                       0\n",
              "country_BRA                       0\n",
              "country_CHE                       0\n",
              "country_CHN                       0\n",
              "country_CN                        0\n",
              "country_DEU                       0\n",
              "country_ESP                       0\n",
              "country_FRA                       0\n",
              "country_GBR                       0\n",
              "country_IRL                       0\n",
              "country_ISR                       0\n",
              "country_ITA                       0\n",
              "country_NLD                       0\n",
              "country_NOR                       0\n",
              "country_POL                       0\n",
              "country_PRT                       0\n",
              "country_RUS                       0\n",
              "country_SWE                       0\n",
              "country_USA                       0\n",
              "country_other                     0\n",
              "market_segment_Complementary      0\n",
              "market_segment_Corporate          0\n",
              "market_segment_Direct             0\n",
              "market_segment_Groups             0\n",
              "market_segment_Offline TA/TO      0\n",
              "market_segment_Online TA          0\n",
              "distribution_channel_Direct       0\n",
              "distribution_channel_GDS          0\n",
              "distribution_channel_TA/TO        0\n",
              "deposit_type_Non Refund           0\n",
              "deposit_type_Refundable           0\n",
              "customer_type_Group               0\n",
              "customer_type_Transient           0\n",
              "customer_type_Transient-Party     0\n",
              "dtype: int64"
            ]
          },
          "metadata": {},
          "execution_count": 13
        }
      ],
      "source": [
        "df_hotel_train.isna().sum()"
      ]
    },
    {
      "cell_type": "markdown",
      "metadata": {
        "id": "7VtMqeNk9uX-"
      },
      "source": [
        "### Dataset Test:"
      ]
    },
    {
      "cell_type": "markdown",
      "metadata": {
        "id": "RA0Hbrvh-KZY"
      },
      "source": [
        "Analizamos los valores nulos del dataset:"
      ]
    },
    {
      "cell_type": "code",
      "execution_count": null,
      "metadata": {
        "colab": {
          "base_uri": "https://localhost:8080/"
        },
        "id": "PmwNQ8FC-Il_",
        "outputId": "36b7192d-4606-485e-9202-ff204eb6ec60"
      },
      "outputs": [
        {
          "output_type": "execute_result",
          "data": {
            "text/plain": [
              "hotel                                 0\n",
              "lead_time                             0\n",
              "arrival_date_year                     0\n",
              "arrival_date_month                    0\n",
              "arrival_date_week_number              0\n",
              "arrival_date_day_of_month             0\n",
              "stays_in_weekend_nights               0\n",
              "stays_in_week_nights                  0\n",
              "adults                                0\n",
              "children                              0\n",
              "babies                                0\n",
              "meal                                  0\n",
              "country                              95\n",
              "market_segment                        0\n",
              "distribution_channel                  0\n",
              "is_repeated_guest                     0\n",
              "previous_cancellations                0\n",
              "previous_bookings_not_canceled        0\n",
              "reserved_room_type                    0\n",
              "assigned_room_type                    0\n",
              "booking_changes                       0\n",
              "deposit_type                          0\n",
              "agent                              3363\n",
              "company                           25218\n",
              "days_in_waiting_list                  0\n",
              "customer_type                         0\n",
              "adr                                   0\n",
              "required_car_parking_spaces           0\n",
              "total_of_special_requests             0\n",
              "reservation_status_date               0\n",
              "id                                    0\n",
              "dtype: int64"
            ]
          },
          "metadata": {},
          "execution_count": 14
        }
      ],
      "source": [
        "df_hotel_test.isna().sum()"
      ]
    },
    {
      "cell_type": "code",
      "execution_count": null,
      "metadata": {
        "id": "hrPRWWG7-8uE"
      },
      "outputs": [],
      "source": [
        "#COUNTRY\n",
        "##Reemplazamos los valores nulos con la moda\n",
        "df_hotel_test.fillna({'country':-1}, inplace = True)\n",
        "df_hotel_test.replace({-1, \"PRT\"})\n",
        "\n",
        "#country_top_test = df_hotel_test['country'].value_counts()\n",
        "#top_5_country_test = country_top_test.head(5).index.tolist()\n",
        "df_hotel_test['country'] = df_hotel_test['country'].apply(lambda x: x if x in top_20_country_train else 'other')\n",
        "\n",
        "#AGENT\n",
        "df_hotel_test.fillna({'agent':-1}, inplace = True)\n",
        "\n",
        "#CHILDREN\n",
        "df_hotel_test.fillna({'children':0}, inplace = True)\n",
        "df_hotel_test['children'] = df_hotel_test['children'].astype(int)\n",
        "\n",
        "#ADR\n",
        "##Tratamiento de Outliers:\n",
        "media_adr = np.mean(df_hotel_test.adr)\n",
        "std_adr = np.std(df_hotel_test.adr)\n",
        "\n",
        "#AGENT\n",
        "#df_hotel_train.dropna(subset=['agent'], inplace = True)\n",
        "df_hotel_train.fillna({'agent':-1}, inplace = True)\n",
        "df_hotel_train['agent'] = df_hotel_train['agent'].astype(int)\n",
        "\n",
        "df_hotel_test.loc[df_hotel_test.loc[:,'meal'] == 'Undefined','meal'] ='SC'"
      ]
    },
    {
      "cell_type": "code",
      "execution_count": null,
      "metadata": {
        "id": "ggs_9IY3-Sis"
      },
      "outputs": [],
      "source": [
        "columnas_eliminar_test = ['id', 'assigned_room_type', 'company', 'reservation_status_date' ]\n",
        "df_hotel_test.drop(columnas_eliminar_test, axis='columns', inplace= True)"
      ]
    },
    {
      "cell_type": "markdown",
      "metadata": {
        "id": "Iu4rkgfR-rgW"
      },
      "source": [
        "Convertimos los meses del año en numeros:"
      ]
    },
    {
      "cell_type": "code",
      "execution_count": null,
      "metadata": {
        "id": "yPqTKMxm-p4N"
      },
      "outputs": [],
      "source": [
        "meses_a_numeros_test ={\n",
        "    'January': 1,\n",
        "    'February': 2,\n",
        "    'March': 3,\n",
        "    'April': 4,\n",
        "    'May': 5,\n",
        "    'June': 6,\n",
        "    'July':7,\n",
        "    'August': 8,\n",
        "    'September': 9,\n",
        "    'October': 10,\n",
        "    'November': 11,\n",
        "    'December': 12\n",
        "}\n",
        "df_hotel_test.arrival_date_month = df_hotel_test.arrival_date_month.map(meses_a_numeros_test)"
      ]
    },
    {
      "cell_type": "markdown",
      "metadata": {
        "id": "9uFxfvUZ_lDG"
      },
      "source": [
        "Convertimos las letras de habitaciones de los hoteles por numeros:"
      ]
    },
    {
      "cell_type": "code",
      "execution_count": null,
      "metadata": {
        "id": "wyP62qXx_V-1"
      },
      "outputs": [],
      "source": [
        "dormitorio_letra_a_numero_test ={\n",
        "    'A': 1,\n",
        "    'B': 2,\n",
        "    'C': 3,\n",
        "    'D': 4,\n",
        "    'E': 5,\n",
        "    'F': 6,\n",
        "    'G': 7,\n",
        "    'H': 8,\n",
        "    'I': 9,\n",
        "    'K': 10,\n",
        "    'L': 11,\n",
        "    'P': 12\n",
        "}\n",
        "df_hotel_test.reserved_room_type = df_hotel_test.reserved_room_type.map(dormitorio_letra_a_numero_test)"
      ]
    },
    {
      "cell_type": "markdown",
      "metadata": {
        "id": "_UYbn0bqAVXR"
      },
      "source": [
        "One hot Encoding para variables categoricas:"
      ]
    },
    {
      "cell_type": "code",
      "execution_count": null,
      "metadata": {
        "id": "6wyI-6XH_qZ0"
      },
      "outputs": [],
      "source": [
        "columnas_dummies_test = ['hotel', 'meal', 'country', 'market_segment', 'distribution_channel', 'deposit_type', 'customer_type']\n",
        "df_hotel_test = pd.get_dummies(df_hotel_test, columns = columnas_dummies_test, drop_first= True)"
      ]
    },
    {
      "cell_type": "markdown",
      "metadata": {
        "id": "OW88ltWcAP_A"
      },
      "source": [
        "Verificamos que no nos queden valores nulos en el dataset test:"
      ]
    },
    {
      "cell_type": "code",
      "execution_count": null,
      "metadata": {
        "colab": {
          "base_uri": "https://localhost:8080/"
        },
        "id": "APe0L9a6_xV0",
        "outputId": "bade5a02-f3e5-4f56-c150-eeac85ceae76"
      },
      "outputs": [
        {
          "output_type": "execute_result",
          "data": {
            "text/plain": [
              "lead_time                         0\n",
              "arrival_date_year                 0\n",
              "arrival_date_month                0\n",
              "arrival_date_week_number          0\n",
              "arrival_date_day_of_month         0\n",
              "stays_in_weekend_nights           0\n",
              "stays_in_week_nights              0\n",
              "adults                            0\n",
              "children                          0\n",
              "babies                            0\n",
              "is_repeated_guest                 0\n",
              "previous_cancellations            0\n",
              "previous_bookings_not_canceled    0\n",
              "reserved_room_type                0\n",
              "booking_changes                   0\n",
              "agent                             0\n",
              "days_in_waiting_list              0\n",
              "adr                               0\n",
              "required_car_parking_spaces       0\n",
              "total_of_special_requests         0\n",
              "hotel_Resort Hotel                0\n",
              "meal_FB                           0\n",
              "meal_HB                           0\n",
              "meal_SC                           0\n",
              "country_BEL                       0\n",
              "country_BRA                       0\n",
              "country_CHE                       0\n",
              "country_CHN                       0\n",
              "country_CN                        0\n",
              "country_DEU                       0\n",
              "country_ESP                       0\n",
              "country_FRA                       0\n",
              "country_GBR                       0\n",
              "country_IRL                       0\n",
              "country_ISR                       0\n",
              "country_ITA                       0\n",
              "country_NLD                       0\n",
              "country_NOR                       0\n",
              "country_POL                       0\n",
              "country_PRT                       0\n",
              "country_RUS                       0\n",
              "country_SWE                       0\n",
              "country_USA                       0\n",
              "country_other                     0\n",
              "market_segment_Complementary      0\n",
              "market_segment_Corporate          0\n",
              "market_segment_Direct             0\n",
              "market_segment_Groups             0\n",
              "market_segment_Offline TA/TO      0\n",
              "market_segment_Online TA          0\n",
              "distribution_channel_Direct       0\n",
              "distribution_channel_GDS          0\n",
              "distribution_channel_TA/TO        0\n",
              "deposit_type_Non Refund           0\n",
              "deposit_type_Refundable           0\n",
              "customer_type_Group               0\n",
              "customer_type_Transient           0\n",
              "customer_type_Transient-Party     0\n",
              "dtype: int64"
            ]
          },
          "metadata": {},
          "execution_count": 20
        }
      ],
      "source": [
        "df_hotel_test.isna().sum()"
      ]
    },
    {
      "cell_type": "markdown",
      "metadata": {
        "id": "t4TX6pMBJDzx"
      },
      "source": [
        "## Clasificador Support Vector Machines (SVM)"
      ]
    },
    {
      "cell_type": "markdown",
      "metadata": {
        "id": "OpOXcRj4JaRj"
      },
      "source": [
        "### Entrenamiento"
      ]
    },
    {
      "cell_type": "code",
      "execution_count": null,
      "metadata": {
        "id": "qkG68Iy-JMi6"
      },
      "outputs": [],
      "source": [
        "df_hotel_train_x = df_hotel_train.drop(['is_canceled'], axis = 'columns', inplace = False)\n",
        "df_hotel_train_y = df_hotel_train['is_canceled'].copy()\n",
        "\n",
        "x_train, x_test, y_train, y_test = train_test_split(df_hotel_train_x,\n",
        "                                                    df_hotel_train_y,\n",
        "                                                    test_size= 0.2,\n",
        "                                                    random_state = 28)\n",
        "min_max_scaler = preprocessing.MinMaxScaler()\n",
        "x_train_minmax = min_max_scaler.fit_transform(x_train)\n",
        "x_test_minmax = min_max_scaler.transform(x_test)\n",
        "\n",
        "stand_scaler = preprocessing.StandardScaler()\n",
        "x_train_norm = stand_scaler.fit_transform(x_train)\n",
        "x_test_norm = stand_scaler.transform(x_test)"
      ]
    },
    {
      "cell_type": "markdown",
      "metadata": {
        "id": "IBK2mXXsJe4l"
      },
      "source": [
        "### Modelo"
      ]
    },
    {
      "cell_type": "markdown",
      "metadata": {
        "id": "Td7WOZ6oLPrk"
      },
      "source": [
        "Contrsuyo un modelo sin escalar:"
      ]
    },
    {
      "cell_type": "code",
      "execution_count": null,
      "metadata": {
        "colab": {
          "base_uri": "https://localhost:8080/",
          "height": 628
        },
        "id": "WMC4I-xKKeat",
        "outputId": "545d0005-a562-497b-ee6c-f2101ed01956"
      },
      "outputs": [
        {
          "output_type": "stream",
          "name": "stdout",
          "text": [
            "              precision    recall  f1-score   support\n",
            "\n",
            "           0       0.60      0.70      0.64      5924\n",
            "           1       0.64      0.54      0.59      6002\n",
            "\n",
            "    accuracy                           0.62     11926\n",
            "   macro avg       0.62      0.62      0.62     11926\n",
            "weighted avg       0.62      0.62      0.62     11926\n",
            "\n",
            "F1 Score:  0.6151625926974739\n"
          ]
        },
        {
          "output_type": "display_data",
          "data": {
            "text/plain": [
              "<Figure size 640x480 with 2 Axes>"
            ],
            "image/png": "[encoded data removed]"
          },
          "metadata": {}
        }
      ],
      "source": [
        "svm_default = SVC()\n",
        "svm_default.fit(x_train, y_train)\n",
        "\n",
        "y_pred_train = svm_default.predict(x_test)\n",
        "print(classification_report(y_test, y_pred_train))\n",
        "matriz = confusion_matrix(y_test, y_pred_train)\n",
        "sns.heatmap(matriz, cmap= 'cubehelix', annot = True, fmt= 'g')\n",
        "plt.xlabel('Predicted')\n",
        "plt.ylabel('True')\n",
        "f1 = f1_score(y_test, y_pred_train, average = 'weighted')\n",
        "print(\"F1 Score: \", f1)"
      ]
    },
    {
      "cell_type": "markdown",
      "metadata": {
        "id": "23943PGgLZyN"
      },
      "source": [
        "Normalizamos los datos con un escalador estandar y volvemos a entrenar el modelo:"
      ]
    },
    {
      "cell_type": "code",
      "execution_count": null,
      "metadata": {
        "colab": {
          "base_uri": "https://localhost:8080/",
          "height": 633
        },
        "id": "w4Nnoq4ELs69",
        "outputId": "60458e2d-b90d-4645-9966-86f0e108cb1a"
      },
      "outputs": [
        {
          "output_type": "stream",
          "name": "stdout",
          "text": [
            "              precision    recall  f1-score   support\n",
            "\n",
            "           0       0.83      0.84      0.84      5924\n",
            "           1       0.84      0.83      0.84      6002\n",
            "\n",
            "    accuracy                           0.84     11926\n",
            "   macro avg       0.84      0.84      0.84     11926\n",
            "weighted avg       0.84      0.84      0.84     11926\n",
            "\n",
            "F1 Score:  0.8389240640150426\n"
          ]
        },
        {
          "output_type": "display_data",
          "data": {
            "text/plain": [
              "<Figure size 640x480 with 2 Axes>"
            ],
            "image/png": "[encoded data removed]"
          },
          "metadata": {}
        }
      ],
      "source": [
        "svm_normalizado = SVC()\n",
        "svm_normalizado.fit(x_train_norm, y_train)\n",
        "\n",
        "y_pred_normalizado = svm_normalizado.predict(x_test_norm)\n",
        "print(classification_report(y_test, y_pred_normalizado))\n",
        "matriz = confusion_matrix(y_test, y_pred_normalizado)\n",
        "sns.heatmap(matriz, cmap= 'cubehelix', annot = True, fmt= 'g')\n",
        "plt.xlabel('Predicted')\n",
        "plt.ylabel('True')\n",
        "f1 = f1_score(y_test, y_pred_normalizado, average = 'weighted')\n",
        "print(\"F1 Score: \", f1)"
      ]
    },
    {
      "cell_type": "code",
      "execution_count": null,
      "metadata": {
        "colab": {
          "base_uri": "https://localhost:8080/",
          "height": 628
        },
        "id": "GbKUl2wtPm_m",
        "outputId": "9091d71b-0120-417e-9d16-2c5adfa93ad8"
      },
      "outputs": [
        {
          "output_type": "stream",
          "name": "stdout",
          "text": [
            "              precision    recall  f1-score   support\n",
            "\n",
            "           0       0.83      0.84      0.83      5924\n",
            "           1       0.84      0.83      0.83      6002\n",
            "\n",
            "    accuracy                           0.83     11926\n",
            "   macro avg       0.83      0.83      0.83     11926\n",
            "weighted avg       0.83      0.83      0.83     11926\n",
            "\n",
            "F1 Score:  0.8343935581123125\n"
          ]
        },
        {
          "output_type": "display_data",
          "data": {
            "text/plain": [
              "<Figure size 640x480 with 2 Axes>"
            ],
            "image/png": "[encoded data removed]"
          },
          "metadata": {}
        }
      ],
      "source": [
        "svm_min_max = SVC()\n",
        "svm_min_max.fit(x_train_minmax, y_train)\n",
        "\n",
        "y_pred_min_max = svm_min_max.predict(x_test_minmax)\n",
        "print(classification_report(y_test, y_pred_min_max))\n",
        "matriz = confusion_matrix(y_test, y_pred_min_max)\n",
        "sns.heatmap(matriz, cmap= 'cubehelix', annot = True, fmt= 'g')\n",
        "plt.xlabel('Predicted')\n",
        "plt.ylabel('True')\n",
        "f1 = f1_score(y_test, y_pred_min_max, average = 'weighted')\n",
        "print(\"F1 Score: \", f1)"
      ]
    },
    {
      "cell_type": "markdown",
      "metadata": {
        "id": "NMFm56l7M1nz"
      },
      "source": [
        "#### Optimizacion de Hiperparámetros"
      ]
    },
    {
      "cell_type": "markdown",
      "metadata": {
        "id": "DaDcxhZEOmmP"
      },
      "source": [
        "##### Kernel Linear"
      ]
    },
    {
      "cell_type": "code",
      "execution_count": null,
      "metadata": {
        "colab": {
          "base_uri": "https://localhost:8080/",
          "height": 528
        },
        "id": "XB-AYo3zM4dS",
        "outputId": "947fb556-b5a3-4a94-a693-e0b388ab63c0"
      },
      "outputs": [
        {
          "output_type": "stream",
          "name": "stdout",
          "text": [
            "Fitting 5 folds for each of 4 candidates, totalling 20 fits\n",
            "[CV 1/5] END ....svm__C=0.1, svm__kernel=linear;, score=0.784 total time= 1.6min\n",
            "[CV 2/5] END ....svm__C=0.1, svm__kernel=linear;, score=0.798 total time= 1.6min\n",
            "[CV 3/5] END ....svm__C=0.1, svm__kernel=linear;, score=0.795 total time= 1.8min\n",
            "[CV 4/5] END ....svm__C=0.1, svm__kernel=linear;, score=0.784 total time= 2.1min\n",
            "[CV 5/5] END ....svm__C=0.1, svm__kernel=linear;, score=0.798 total time= 2.8min\n",
            "[CV 1/5] END ......svm__C=1, svm__kernel=linear;, score=0.784 total time= 4.6min\n",
            "[CV 2/5] END ......svm__C=1, svm__kernel=linear;, score=0.799 total time= 4.6min\n",
            "[CV 3/5] END ......svm__C=1, svm__kernel=linear;, score=0.796 total time= 5.9min\n",
            "[CV 4/5] END ......svm__C=1, svm__kernel=linear;, score=0.784 total time= 6.1min\n",
            "[CV 5/5] END ......svm__C=1, svm__kernel=linear;, score=0.797 total time= 5.4min\n",
            "[CV 1/5] END ......svm__C=5, svm__kernel=linear;, score=0.784 total time=17.1min\n",
            "[CV 2/5] END ......svm__C=5, svm__kernel=linear;, score=0.799 total time=17.6min\n",
            "[CV 3/5] END ......svm__C=5, svm__kernel=linear;, score=0.797 total time=17.2min\n",
            "[CV 4/5] END ......svm__C=5, svm__kernel=linear;, score=0.784 total time=16.7min\n",
            "[CV 5/5] END ......svm__C=5, svm__kernel=linear;, score=0.797 total time=17.0min\n",
            "[CV 1/5] END .....svm__C=10, svm__kernel=linear;, score=0.785 total time=30.7min\n",
            "[CV 2/5] END .....svm__C=10, svm__kernel=linear;, score=0.799 total time=31.0min\n",
            "[CV 3/5] END .....svm__C=10, svm__kernel=linear;, score=0.797 total time=25.5min\n",
            "[CV 4/5] END .....svm__C=10, svm__kernel=linear;, score=0.784 total time=26.5min\n",
            "[CV 5/5] END .....svm__C=10, svm__kernel=linear;, score=0.797 total time=32.9min\n"
          ]
        },
        {
          "output_type": "execute_result",
          "data": {
            "text/plain": [
              "GridSearchCV(cv=StratifiedKFold(n_splits=5, random_state=None, shuffle=False),\n",
              "             estimator=Pipeline(steps=[('scaler', StandardScaler()),\n",
              "                                       ('svm', SVC(random_state=0))]),\n",
              "             param_grid={'svm__C': [0.1, 1, 5, 10], 'svm__kernel': ['linear']},\n",
              "             scoring=make_scorer(f1_score), verbose=3)"
            ],
            "text/html": [
              "<style>#sk-container-id-1 {color: black;background-color: white;}#sk-container-id-1 pre{padding: 0;}#sk-container-id-1 div.sk-toggleable {background-color: white;}#sk-container-id-1 label.sk-toggleable__label {cursor: pointer;display: block;width: 100%;margin-bottom: 0;padding: 0.3em;box-sizing: border-box;text-align: center;}#sk-container-id-1 label.sk-toggleable__label-arrow:before {content: \"▸\";float: left;margin-right: 0.25em;color: #696969;}#sk-container-id-1 label.sk-toggleable__label-arrow:hover:before {color: black;}#sk-container-id-1 div.sk-estimator:hover label.sk-toggleable__label-arrow:before {color: black;}#sk-container-id-1 div.sk-toggleable__content {max-height: 0;max-width: 0;overflow: hidden;text-align: left;background-color: #f0f8ff;}#sk-container-id-1 div.sk-toggleable__content pre {margin: 0.2em;color: black;border-radius: 0.25em;background-color: #f0f8ff;}#sk-container-id-1 input.sk-toggleable__control:checked~div.sk-toggleable__content {max-height: 200px;max-width: 100%;overflow: auto;}#sk-container-id-1 input.sk-toggleable__control:checked~label.sk-toggleable__label-arrow:before {content: \"▾\";}#sk-container-id-1 div.sk-estimator input.sk-toggleable__control:checked~label.sk-toggleable__label {background-color: #d4ebff;}#sk-container-id-1 div.sk-label input.sk-toggleable__control:checked~label.sk-toggleable__label {background-color: #d4ebff;}#sk-container-id-1 input.sk-hidden--visually {border: 0;clip: rect(1px 1px 1px 1px);clip: rect(1px, 1px, 1px, 1px);height: 1px;margin: -1px;overflow: hidden;padding: 0;position: absolute;width: 1px;}#sk-container-id-1 div.sk-estimator {font-family: monospace;background-color: #f0f8ff;border: 1px dotted black;border-radius: 0.25em;box-sizing: border-box;margin-bottom: 0.5em;}#sk-container-id-1 div.sk-estimator:hover {background-color: #d4ebff;}#sk-container-id-1 div.sk-parallel-item::after {content: \"\";width: 100%;border-bottom: 1px solid gray;flex-grow: 1;}#sk-container-id-1 div.sk-label:hover label.sk-toggleable__label {background-color: #d4ebff;}#sk-container-id-1 div.sk-serial::before {content: \"\";position: absolute;border-left: 1px solid gray;box-sizing: border-box;top: 0;bottom: 0;left: 50%;z-index: 0;}#sk-container-id-1 div.sk-serial {display: flex;flex-direction: column;align-items: center;background-color: white;padding-right: 0.2em;padding-left: 0.2em;position: relative;}#sk-container-id-1 div.sk-item {position: relative;z-index: 1;}#sk-container-id-1 div.sk-parallel {display: flex;align-items: stretch;justify-content: center;background-color: white;position: relative;}#sk-container-id-1 div.sk-item::before, #sk-container-id-1 div.sk-parallel-item::before {content: \"\";position: absolute;border-left: 1px solid gray;box-sizing: border-box;top: 0;bottom: 0;left: 50%;z-index: -1;}#sk-container-id-1 div.sk-parallel-item {display: flex;flex-direction: column;z-index: 1;position: relative;background-color: white;}#sk-container-id-1 div.sk-parallel-item:first-child::after {align-self: flex-end;width: 50%;}#sk-container-id-1 div.sk-parallel-item:last-child::after {align-self: flex-start;width: 50%;}#sk-container-id-1 div.sk-parallel-item:only-child::after {width: 0;}#sk-container-id-1 div.sk-dashed-wrapped {border: 1px dashed gray;margin: 0 0.4em 0.5em 0.4em;box-sizing: border-box;padding-bottom: 0.4em;background-color: white;}#sk-container-id-1 div.sk-label label {font-family: monospace;font-weight: bold;display: inline-block;line-height: 1.2em;}#sk-container-id-1 div.sk-label-container {text-align: center;}#sk-container-id-1 div.sk-container {/* jupyter's `normalize.less` sets `[hidden] { display: none; }` but bootstrap.min.css set `[hidden] { display: none !important; }` so we also need the `!important` here to be able to override the default hidden behavior on the sphinx rendered scikit-learn.org. See: https://github.com/scikit-learn/scikit-learn/issues/21755 */display: inline-block !important;position: relative;}#sk-container-id-1 div.sk-text-repr-fallback {display: none;}</style><div id=\"sk-container-id-1\" class=\"sk-top-container\"><div class=\"sk-text-repr-fallback\"><pre>GridSearchCV(cv=StratifiedKFold(n_splits=5, random_state=None, shuffle=False),\n",
              "             estimator=Pipeline(steps=[(&#x27;scaler&#x27;, StandardScaler()),\n",
              "                                       (&#x27;svm&#x27;, SVC(random_state=0))]),\n",
              "             param_grid={&#x27;svm__C&#x27;: [0.1, 1, 5, 10], &#x27;svm__kernel&#x27;: [&#x27;linear&#x27;]},\n",
              "             scoring=make_scorer(f1_score), verbose=3)</pre><b>In a Jupyter environment, please rerun this cell to show the HTML representation or trust the notebook. <br />On GitHub, the HTML representation is unable to render, please try loading this page with nbviewer.org.</b></div><div class=\"sk-container\" hidden><div class=\"sk-item sk-dashed-wrapped\"><div class=\"sk-label-container\"><div class=\"sk-label sk-toggleable\"><input class=\"sk-toggleable__control sk-hidden--visually\" id=\"sk-estimator-id-1\" type=\"checkbox\" ><label for=\"sk-estimator-id-1\" class=\"sk-toggleable__label sk-toggleable__label-arrow\">GridSearchCV</label><div class=\"sk-toggleable__content\"><pre>GridSearchCV(cv=StratifiedKFold(n_splits=5, random_state=None, shuffle=False),\n",
              "             estimator=Pipeline(steps=[(&#x27;scaler&#x27;, StandardScaler()),\n",
              "                                       (&#x27;svm&#x27;, SVC(random_state=0))]),\n",
              "             param_grid={&#x27;svm__C&#x27;: [0.1, 1, 5, 10], &#x27;svm__kernel&#x27;: [&#x27;linear&#x27;]},\n",
              "             scoring=make_scorer(f1_score), verbose=3)</pre></div></div></div><div class=\"sk-parallel\"><div class=\"sk-parallel-item\"><div class=\"sk-item\"><div class=\"sk-label-container\"><div class=\"sk-label sk-toggleable\"><input class=\"sk-toggleable__control sk-hidden--visually\" id=\"sk-estimator-id-2\" type=\"checkbox\" ><label for=\"sk-estimator-id-2\" class=\"sk-toggleable__label sk-toggleable__label-arrow\">estimator: Pipeline</label><div class=\"sk-toggleable__content\"><pre>Pipeline(steps=[(&#x27;scaler&#x27;, StandardScaler()), (&#x27;svm&#x27;, SVC(random_state=0))])</pre></div></div></div><div class=\"sk-serial\"><div class=\"sk-item\"><div class=\"sk-serial\"><div class=\"sk-item\"><div class=\"sk-estimator sk-toggleable\"><input class=\"sk-toggleable__control sk-hidden--visually\" id=\"sk-estimator-id-3\" type=\"checkbox\" ><label for=\"sk-estimator-id-3\" class=\"sk-toggleable__label sk-toggleable__label-arrow\">StandardScaler</label><div class=\"sk-toggleable__content\"><pre>StandardScaler()</pre></div></div></div><div class=\"sk-item\"><div class=\"sk-estimator sk-toggleable\"><input class=\"sk-toggleable__control sk-hidden--visually\" id=\"sk-estimator-id-4\" type=\"checkbox\" ><label for=\"sk-estimator-id-4\" class=\"sk-toggleable__label sk-toggleable__label-arrow\">SVC</label><div class=\"sk-toggleable__content\"><pre>SVC(random_state=0)</pre></div></div></div></div></div></div></div></div></div></div></div></div>"
            ]
          },
          "metadata": {},
          "execution_count": 57
        }
      ],
      "source": [
        "param_grid = {'svm__C' : [0.1, 1, 5, 10],\n",
        "              #'gamma': [0.01, 0.001],\n",
        "              'svm__kernel': ['linear']\n",
        "              }\n",
        "folds = 5\n",
        "kfoldcv = StratifiedKFold(n_splits = folds)\n",
        "svm_model = Pipeline([('scaler', StandardScaler()), ('svm', SVC(random_state = 0))])\n",
        "scorer_fn = make_scorer(sk.metrics.f1_score)\n",
        "grid_lineal = GridSearchCV(svm_model, param_grid, refit = True, verbose = 3, scoring = scorer_fn, cv = kfoldcv)\n",
        "grid_lineal.fit(x_train_norm, y_train)"
      ]
    },
    {
      "cell_type": "code",
      "execution_count": null,
      "metadata": {
        "id": "tirrDLdRneqs"
      },
      "outputs": [],
      "source": [
        "print(f\"Mejores hiperparametros del SVM con kernel lineal: {grid_lineal.best_params_}\")\n",
        "\n",
        "print(f\"Mejor F1 Score: {grid_lineal.best_score_}\")"
      ]
    },
    {
      "cell_type": "markdown",
      "source": [
        "Mejores hiperparametros del SVM con kernel lineal: {'svm__C': 10, 'svm__kernel': 'linear'}\n",
        "Mejor F1 Score: 0.7923262526644475"
      ],
      "metadata": {
        "id": "PpDs9ZU2r9PE"
      }
    },
    {
      "cell_type": "code",
      "execution_count": null,
      "metadata": {
        "colab": {
          "base_uri": "https://localhost:8080/",
          "height": 628
        },
        "id": "HJX-KblURYz8",
        "outputId": "bcafe12a-7862-4a1a-8484-1e7112fba87a"
      },
      "outputs": [
        {
          "output_type": "stream",
          "name": "stdout",
          "text": [
            "              precision    recall  f1-score   support\n",
            "\n",
            "           0       0.78      0.82      0.80      5924\n",
            "           1       0.81      0.78      0.79      6002\n",
            "\n",
            "    accuracy                           0.80     11926\n",
            "   macro avg       0.80      0.80      0.80     11926\n",
            "weighted avg       0.80      0.80      0.80     11926\n",
            "\n",
            "F1 Score:  0.7975877875372805\n"
          ]
        },
        {
          "output_type": "display_data",
          "data": {
            "text/plain": [
              "<Figure size 640x480 with 2 Axes>"
            ],
            "image/png": "[encoded data removed]"
          },
          "metadata": {}
        }
      ],
      "source": [
        "clf_linear = SVC(kernel= 'linear', C=10)\n",
        "clf_linear.fit(x_train_norm, y_train)\n",
        "y_pred_linear = clf_linear.predict(x_test_norm)\n",
        "print(classification_report(y_test, y_pred_linear))\n",
        "matriz = confusion_matrix(y_test, y_pred_linear)\n",
        "sns.heatmap(matriz, cmap= 'cubehelix', annot = True, fmt= 'g')\n",
        "plt.xlabel('Predicted')\n",
        "plt.ylabel('True')\n",
        "f1_linear = f1_score(y_test, y_pred_linear, average = 'weighted')\n",
        "print(\"F1 Score: \", f1_linear)"
      ]
    },
    {
      "cell_type": "markdown",
      "source": [
        "###### Exportamos el modelo"
      ],
      "metadata": {
        "id": "uxYhAmiibN6t"
      }
    },
    {
      "cell_type": "code",
      "source": [
        "#f1_train = f1_score(y_test, y_pred_linear, average= 'weighted')\n",
        "#params_lineal = clf_linear.get_params()\n",
        "#kernel = params_lineal['svm__kernel']\n",
        "#C = params_lineal['svm__C']\n",
        "joblib.dump(clf_linear, 'svm_lineal.joblib')"
      ],
      "metadata": {
        "colab": {
          "base_uri": "https://localhost:8080/"
        },
        "id": "duCGVwuVbQ6W",
        "outputId": "90914a0a-d852-429e-b6e5-1b907abf7959"
      },
      "execution_count": null,
      "outputs": [
        {
          "output_type": "execute_result",
          "data": {
            "text/plain": [
              "['svm_lineal.joblib']"
            ]
          },
          "metadata": {},
          "execution_count": 61
        }
      ]
    },
    {
      "cell_type": "code",
      "source": [
        "y_pred_svm_lin = clf_linear.predict(df_hotel_test)\n",
        "df_summision = pd.DataFrame({'id': ds_hotel_test['id'], 'is_canceled': y_pred_svm_lin})"
      ],
      "metadata": {
        "id": "xq2SMMbqG-6e"
      },
      "execution_count": null,
      "outputs": []
    },
    {
      "cell_type": "code",
      "source": [
        "df_summision.to_csv('summit_svm_lineal.csv', index = False)"
      ],
      "metadata": {
        "id": "0sMqvXWyJ2OR"
      },
      "execution_count": null,
      "outputs": []
    },
    {
      "cell_type": "markdown",
      "metadata": {
        "id": "c4neg5_2UtdG"
      },
      "source": [
        "##### Kernel Radial"
      ]
    },
    {
      "cell_type": "markdown",
      "metadata": {
        "id": "R1canxagU5K6"
      },
      "source": [
        "Buscamos los mejores hiperparametros:"
      ]
    },
    {
      "cell_type": "code",
      "execution_count": null,
      "metadata": {
        "colab": {
          "base_uri": "https://localhost:8080/",
          "height": 813
        },
        "id": "VOdLmDwCU8Us",
        "outputId": "b44b0e87-5a67-422a-891f-19bfbc4fd416"
      },
      "outputs": [
        {
          "output_type": "stream",
          "name": "stdout",
          "text": [
            "Fitting 4 folds for each of 9 candidates, totalling 36 fits\n",
            "[CV 1/4] END svm__C=1, svm__gamma=0.1, svm__kernel=rbf;, score=0.834 total time= 4.0min\n",
            "[CV 2/4] END svm__C=1, svm__gamma=0.1, svm__kernel=rbf;, score=0.845 total time= 3.8min\n",
            "[CV 3/4] END svm__C=1, svm__gamma=0.1, svm__kernel=rbf;, score=0.830 total time= 3.8min\n",
            "[CV 4/4] END svm__C=1, svm__gamma=0.1, svm__kernel=rbf;, score=0.830 total time= 3.7min\n",
            "[CV 1/4] END svm__C=1, svm__gamma=0.01, svm__kernel=rbf;, score=0.822 total time= 1.4min\n",
            "[CV 2/4] END svm__C=1, svm__gamma=0.01, svm__kernel=rbf;, score=0.836 total time= 1.5min\n",
            "[CV 3/4] END svm__C=1, svm__gamma=0.01, svm__kernel=rbf;, score=0.824 total time= 1.4min\n",
            "[CV 4/4] END svm__C=1, svm__gamma=0.01, svm__kernel=rbf;, score=0.829 total time= 1.5min\n",
            "[CV 1/4] END svm__C=1, svm__gamma=0.001, svm__kernel=rbf;, score=0.792 total time= 1.6min\n",
            "[CV 2/4] END svm__C=1, svm__gamma=0.001, svm__kernel=rbf;, score=0.802 total time= 1.6min\n",
            "[CV 3/4] END svm__C=1, svm__gamma=0.001, svm__kernel=rbf;, score=0.792 total time= 1.6min\n",
            "[CV 4/4] END svm__C=1, svm__gamma=0.001, svm__kernel=rbf;, score=0.799 total time= 1.6min\n",
            "[CV 1/4] END svm__C=10, svm__gamma=0.1, svm__kernel=rbf;, score=0.829 total time= 7.3min\n",
            "[CV 2/4] END svm__C=10, svm__gamma=0.1, svm__kernel=rbf;, score=0.836 total time= 7.5min\n",
            "[CV 3/4] END svm__C=10, svm__gamma=0.1, svm__kernel=rbf;, score=0.829 total time= 8.6min\n",
            "[CV 4/4] END svm__C=10, svm__gamma=0.1, svm__kernel=rbf;, score=0.824 total time= 7.3min\n",
            "[CV 1/4] END svm__C=10, svm__gamma=0.01, svm__kernel=rbf;, score=0.836 total time= 2.0min\n",
            "[CV 2/4] END svm__C=10, svm__gamma=0.01, svm__kernel=rbf;, score=0.847 total time= 2.0min\n",
            "[CV 3/4] END svm__C=10, svm__gamma=0.01, svm__kernel=rbf;, score=0.835 total time= 2.2min\n",
            "[CV 4/4] END svm__C=10, svm__gamma=0.01, svm__kernel=rbf;, score=0.840 total time= 2.1min\n",
            "[CV 1/4] END svm__C=10, svm__gamma=0.001, svm__kernel=rbf;, score=0.813 total time= 1.5min\n",
            "[CV 2/4] END svm__C=10, svm__gamma=0.001, svm__kernel=rbf;, score=0.828 total time= 1.5min\n",
            "[CV 3/4] END svm__C=10, svm__gamma=0.001, svm__kernel=rbf;, score=0.815 total time= 1.5min\n",
            "[CV 4/4] END svm__C=10, svm__gamma=0.001, svm__kernel=rbf;, score=0.821 total time= 1.7min\n",
            "[CV 1/4] END svm__C=50, svm__gamma=0.1, svm__kernel=rbf;, score=0.822 total time=10.7min\n",
            "[CV 2/4] END svm__C=50, svm__gamma=0.1, svm__kernel=rbf;, score=0.827 total time=10.8min\n",
            "[CV 3/4] END svm__C=50, svm__gamma=0.1, svm__kernel=rbf;, score=0.820 total time=10.8min\n",
            "[CV 4/4] END svm__C=50, svm__gamma=0.1, svm__kernel=rbf;, score=0.818 total time=12.2min\n",
            "[CV 1/4] END svm__C=50, svm__gamma=0.01, svm__kernel=rbf;, score=0.841 total time= 3.4min\n",
            "[CV 2/4] END svm__C=50, svm__gamma=0.01, svm__kernel=rbf;, score=0.850 total time= 3.5min\n",
            "[CV 3/4] END svm__C=50, svm__gamma=0.01, svm__kernel=rbf;, score=0.837 total time= 3.8min\n",
            "[CV 4/4] END svm__C=50, svm__gamma=0.01, svm__kernel=rbf;, score=0.841 total time= 3.8min\n",
            "[CV 1/4] END svm__C=50, svm__gamma=0.001, svm__kernel=rbf;, score=0.822 total time= 1.5min\n",
            "[CV 2/4] END svm__C=50, svm__gamma=0.001, svm__kernel=rbf;, score=0.832 total time= 1.6min\n",
            "[CV 3/4] END svm__C=50, svm__gamma=0.001, svm__kernel=rbf;, score=0.822 total time= 1.6min\n",
            "[CV 4/4] END svm__C=50, svm__gamma=0.001, svm__kernel=rbf;, score=0.829 total time= 1.7min\n"
          ]
        },
        {
          "output_type": "execute_result",
          "data": {
            "text/plain": [
              "GridSearchCV(cv=StratifiedKFold(n_splits=4, random_state=None, shuffle=False),\n",
              "             estimator=Pipeline(steps=[('scaler', StandardScaler()),\n",
              "                                       ('svm', SVC(random_state=0))]),\n",
              "             param_grid={'svm__C': [1, 10, 50],\n",
              "                         'svm__gamma': [0.1, 0.01, 0.001],\n",
              "                         'svm__kernel': ['rbf']},\n",
              "             scoring=make_scorer(f1_score), verbose=3)"
            ],
            "text/html": [
              "<style>#sk-container-id-2 {color: black;background-color: white;}#sk-container-id-2 pre{padding: 0;}#sk-container-id-2 div.sk-toggleable {background-color: white;}#sk-container-id-2 label.sk-toggleable__label {cursor: pointer;display: block;width: 100%;margin-bottom: 0;padding: 0.3em;box-sizing: border-box;text-align: center;}#sk-container-id-2 label.sk-toggleable__label-arrow:before {content: \"▸\";float: left;margin-right: 0.25em;color: #696969;}#sk-container-id-2 label.sk-toggleable__label-arrow:hover:before {color: black;}#sk-container-id-2 div.sk-estimator:hover label.sk-toggleable__label-arrow:before {color: black;}#sk-container-id-2 div.sk-toggleable__content {max-height: 0;max-width: 0;overflow: hidden;text-align: left;background-color: #f0f8ff;}#sk-container-id-2 div.sk-toggleable__content pre {margin: 0.2em;color: black;border-radius: 0.25em;background-color: #f0f8ff;}#sk-container-id-2 input.sk-toggleable__control:checked~div.sk-toggleable__content {max-height: 200px;max-width: 100%;overflow: auto;}#sk-container-id-2 input.sk-toggleable__control:checked~label.sk-toggleable__label-arrow:before {content: \"▾\";}#sk-container-id-2 div.sk-estimator input.sk-toggleable__control:checked~label.sk-toggleable__label {background-color: #d4ebff;}#sk-container-id-2 div.sk-label input.sk-toggleable__control:checked~label.sk-toggleable__label {background-color: #d4ebff;}#sk-container-id-2 input.sk-hidden--visually {border: 0;clip: rect(1px 1px 1px 1px);clip: rect(1px, 1px, 1px, 1px);height: 1px;margin: -1px;overflow: hidden;padding: 0;position: absolute;width: 1px;}#sk-container-id-2 div.sk-estimator {font-family: monospace;background-color: #f0f8ff;border: 1px dotted black;border-radius: 0.25em;box-sizing: border-box;margin-bottom: 0.5em;}#sk-container-id-2 div.sk-estimator:hover {background-color: #d4ebff;}#sk-container-id-2 div.sk-parallel-item::after {content: \"\";width: 100%;border-bottom: 1px solid gray;flex-grow: 1;}#sk-container-id-2 div.sk-label:hover label.sk-toggleable__label {background-color: #d4ebff;}#sk-container-id-2 div.sk-serial::before {content: \"\";position: absolute;border-left: 1px solid gray;box-sizing: border-box;top: 0;bottom: 0;left: 50%;z-index: 0;}#sk-container-id-2 div.sk-serial {display: flex;flex-direction: column;align-items: center;background-color: white;padding-right: 0.2em;padding-left: 0.2em;position: relative;}#sk-container-id-2 div.sk-item {position: relative;z-index: 1;}#sk-container-id-2 div.sk-parallel {display: flex;align-items: stretch;justify-content: center;background-color: white;position: relative;}#sk-container-id-2 div.sk-item::before, #sk-container-id-2 div.sk-parallel-item::before {content: \"\";position: absolute;border-left: 1px solid gray;box-sizing: border-box;top: 0;bottom: 0;left: 50%;z-index: -1;}#sk-container-id-2 div.sk-parallel-item {display: flex;flex-direction: column;z-index: 1;position: relative;background-color: white;}#sk-container-id-2 div.sk-parallel-item:first-child::after {align-self: flex-end;width: 50%;}#sk-container-id-2 div.sk-parallel-item:last-child::after {align-self: flex-start;width: 50%;}#sk-container-id-2 div.sk-parallel-item:only-child::after {width: 0;}#sk-container-id-2 div.sk-dashed-wrapped {border: 1px dashed gray;margin: 0 0.4em 0.5em 0.4em;box-sizing: border-box;padding-bottom: 0.4em;background-color: white;}#sk-container-id-2 div.sk-label label {font-family: monospace;font-weight: bold;display: inline-block;line-height: 1.2em;}#sk-container-id-2 div.sk-label-container {text-align: center;}#sk-container-id-2 div.sk-container {/* jupyter's `normalize.less` sets `[hidden] { display: none; }` but bootstrap.min.css set `[hidden] { display: none !important; }` so we also need the `!important` here to be able to override the default hidden behavior on the sphinx rendered scikit-learn.org. See: https://github.com/scikit-learn/scikit-learn/issues/21755 */display: inline-block !important;position: relative;}#sk-container-id-2 div.sk-text-repr-fallback {display: none;}</style><div id=\"sk-container-id-2\" class=\"sk-top-container\"><div class=\"sk-text-repr-fallback\"><pre>GridSearchCV(cv=StratifiedKFold(n_splits=4, random_state=None, shuffle=False),\n",
              "             estimator=Pipeline(steps=[(&#x27;scaler&#x27;, StandardScaler()),\n",
              "                                       (&#x27;svm&#x27;, SVC(random_state=0))]),\n",
              "             param_grid={&#x27;svm__C&#x27;: [1, 10, 50],\n",
              "                         &#x27;svm__gamma&#x27;: [0.1, 0.01, 0.001],\n",
              "                         &#x27;svm__kernel&#x27;: [&#x27;rbf&#x27;]},\n",
              "             scoring=make_scorer(f1_score), verbose=3)</pre><b>In a Jupyter environment, please rerun this cell to show the HTML representation or trust the notebook. <br />On GitHub, the HTML representation is unable to render, please try loading this page with nbviewer.org.</b></div><div class=\"sk-container\" hidden><div class=\"sk-item sk-dashed-wrapped\"><div class=\"sk-label-container\"><div class=\"sk-label sk-toggleable\"><input class=\"sk-toggleable__control sk-hidden--visually\" id=\"sk-estimator-id-5\" type=\"checkbox\" ><label for=\"sk-estimator-id-5\" class=\"sk-toggleable__label sk-toggleable__label-arrow\">GridSearchCV</label><div class=\"sk-toggleable__content\"><pre>GridSearchCV(cv=StratifiedKFold(n_splits=4, random_state=None, shuffle=False),\n",
              "             estimator=Pipeline(steps=[(&#x27;scaler&#x27;, StandardScaler()),\n",
              "                                       (&#x27;svm&#x27;, SVC(random_state=0))]),\n",
              "             param_grid={&#x27;svm__C&#x27;: [1, 10, 50],\n",
              "                         &#x27;svm__gamma&#x27;: [0.1, 0.01, 0.001],\n",
              "                         &#x27;svm__kernel&#x27;: [&#x27;rbf&#x27;]},\n",
              "             scoring=make_scorer(f1_score), verbose=3)</pre></div></div></div><div class=\"sk-parallel\"><div class=\"sk-parallel-item\"><div class=\"sk-item\"><div class=\"sk-label-container\"><div class=\"sk-label sk-toggleable\"><input class=\"sk-toggleable__control sk-hidden--visually\" id=\"sk-estimator-id-6\" type=\"checkbox\" ><label for=\"sk-estimator-id-6\" class=\"sk-toggleable__label sk-toggleable__label-arrow\">estimator: Pipeline</label><div class=\"sk-toggleable__content\"><pre>Pipeline(steps=[(&#x27;scaler&#x27;, StandardScaler()), (&#x27;svm&#x27;, SVC(random_state=0))])</pre></div></div></div><div class=\"sk-serial\"><div class=\"sk-item\"><div class=\"sk-serial\"><div class=\"sk-item\"><div class=\"sk-estimator sk-toggleable\"><input class=\"sk-toggleable__control sk-hidden--visually\" id=\"sk-estimator-id-7\" type=\"checkbox\" ><label for=\"sk-estimator-id-7\" class=\"sk-toggleable__label sk-toggleable__label-arrow\">StandardScaler</label><div class=\"sk-toggleable__content\"><pre>StandardScaler()</pre></div></div></div><div class=\"sk-item\"><div class=\"sk-estimator sk-toggleable\"><input class=\"sk-toggleable__control sk-hidden--visually\" id=\"sk-estimator-id-8\" type=\"checkbox\" ><label for=\"sk-estimator-id-8\" class=\"sk-toggleable__label sk-toggleable__label-arrow\">SVC</label><div class=\"sk-toggleable__content\"><pre>SVC(random_state=0)</pre></div></div></div></div></div></div></div></div></div></div></div></div>"
            ]
          },
          "metadata": {},
          "execution_count": 65
        }
      ],
      "source": [
        "param_grid = {'svm__C' : [1, 10, 50],\n",
        "              'svm__gamma': [0.1, 0.01, 0.001],\n",
        "              'svm__kernel': ['rbf']\n",
        "              }\n",
        "folds = 4\n",
        "kfoldcv = StratifiedKFold(n_splits = folds)\n",
        "svm_model = Pipeline([('scaler', StandardScaler()), ('svm', SVC(random_state = 0))])\n",
        "scorer_fn = make_scorer(sk.metrics.f1_score)\n",
        "grid_radial = GridSearchCV(svm_model, param_grid, refit = True, verbose = 3, scoring = scorer_fn, cv = kfoldcv)\n",
        "grid_radial.fit(x_train_norm, y_train)"
      ]
    },
    {
      "cell_type": "code",
      "execution_count": null,
      "metadata": {
        "id": "FvfQMuymGkcQ",
        "colab": {
          "base_uri": "https://localhost:8080/"
        },
        "outputId": "3307bd77-189f-481b-ce4b-10becbdb41dd"
      },
      "outputs": [
        {
          "output_type": "stream",
          "name": "stdout",
          "text": [
            "Mejores hiperparametros del SVM con kernel radial: {'svm__C': 50, 'svm__gamma': 0.01, 'svm__kernel': 'rbf'}\n",
            "Mejor F1 Score: 0.8419721031645203\n"
          ]
        }
      ],
      "source": [
        "print(f\"Mejores hiperparametros del SVM con kernel radial: {grid_radial.best_params_}\")\n",
        "\n",
        "print(f\"Mejor F1 Score: {grid_radial.best_score_}\")"
      ]
    },
    {
      "cell_type": "code",
      "execution_count": null,
      "metadata": {
        "colab": {
          "base_uri": "https://localhost:8080/",
          "height": 628
        },
        "id": "Qp917kSvVbsS",
        "outputId": "6926a807-7dab-4a89-ff49-3bc79b0f8624"
      },
      "outputs": [
        {
          "output_type": "stream",
          "name": "stdout",
          "text": [
            "              precision    recall  f1-score   support\n",
            "\n",
            "           0       0.85      0.84      0.84      5924\n",
            "           1       0.84      0.85      0.85      6002\n",
            "\n",
            "    accuracy                           0.84     11926\n",
            "   macro avg       0.84      0.84      0.84     11926\n",
            "weighted avg       0.84      0.84      0.84     11926\n",
            "\n",
            "F1 Score:  0.8448708846483429\n"
          ]
        },
        {
          "output_type": "display_data",
          "data": {
            "text/plain": [
              "<Figure size 640x480 with 2 Axes>"
            ],
            "image/png": "[encoded data removed]"
          },
          "metadata": {}
        }
      ],
      "source": [
        "clf_radial = SVC(kernel= 'rbf', C=50, gamma = 0.01)\n",
        "clf_radial.fit(x_train_norm, y_train)\n",
        "y_pred_radial = clf_radial.predict(x_test_norm)\n",
        "print(classification_report(y_test, y_pred_radial))\n",
        "matriz = confusion_matrix(y_test, y_pred_radial)\n",
        "sns.heatmap(matriz, cmap= 'cubehelix', annot = True, fmt= 'g')\n",
        "plt.xlabel('Predicted')\n",
        "plt.ylabel('True')\n",
        "f1_radial = f1_score(y_test, y_pred_radial, average = 'weighted')\n",
        "print(\"F1 Score: \", f1_radial)"
      ]
    },
    {
      "cell_type": "code",
      "source": [
        "#params_radial = clf_radial.get_params()\n",
        "#kernel_radial = params_radial['svm__kernel']\n",
        "#C_radial = params_radial['svm__C']\n",
        "#gamma_radial = params_radial['svm__gamma']\n",
        "\n",
        "joblib.dump(clf_radial, 'svm_radial.joblib')"
      ],
      "metadata": {
        "colab": {
          "base_uri": "https://localhost:8080/"
        },
        "id": "s-j5HRgCiik2",
        "outputId": "62d343ba-4fc6-4c73-f1a1-37610cb2c198"
      },
      "execution_count": null,
      "outputs": [
        {
          "output_type": "execute_result",
          "data": {
            "text/plain": [
              "['svm_radial.joblib']"
            ]
          },
          "metadata": {},
          "execution_count": 68
        }
      ]
    },
    {
      "cell_type": "code",
      "source": [
        "y_pred_svm_radial = clf_radial.predict(df_hotel_test)\n",
        "df_summision = pd.DataFrame({'id': ds_hotel_test['id'], 'is_canceled': y_pred_svm_radial})"
      ],
      "metadata": {
        "id": "0Ch17LXFr6we"
      },
      "execution_count": null,
      "outputs": []
    },
    {
      "cell_type": "code",
      "source": [
        "df_summision.to_csv('summit_svm_radial.csv', index = False)"
      ],
      "metadata": {
        "id": "1XUVFEcYsGzl"
      },
      "execution_count": null,
      "outputs": []
    },
    {
      "cell_type": "markdown",
      "metadata": {
        "id": "gdO9VeV0V7E2"
      },
      "source": [
        "#### SVM con kernel Polinomico"
      ]
    },
    {
      "cell_type": "code",
      "execution_count": null,
      "metadata": {
        "id": "Lmo-kBzLWAPB",
        "colab": {
          "base_uri": "https://localhost:8080/",
          "height": 599
        },
        "outputId": "6ac30ec8-0bab-49f3-c4e2-4193d9fa2e17"
      },
      "outputs": [
        {
          "output_type": "stream",
          "name": "stdout",
          "text": [
            "Fitting 2 folds for each of 12 candidates, totalling 24 fits\n",
            "[CV 1/2] END svm__C=1, svm__coef0=0, svm__degree=3, svm__gamma=0.1, svm__kernel=poly;, score=0.823 total time= 4.9min\n",
            "[CV 2/2] END svm__C=1, svm__coef0=0, svm__degree=3, svm__gamma=0.1, svm__kernel=poly;, score=0.821 total time= 4.8min\n",
            "[CV 1/2] END svm__C=1, svm__coef0=0, svm__degree=3, svm__gamma=0.01, svm__kernel=poly;, score=0.805 total time=  45.6s\n",
            "[CV 2/2] END svm__C=1, svm__coef0=0, svm__degree=3, svm__gamma=0.01, svm__kernel=poly;, score=0.806 total time=  44.2s\n",
            "[CV 1/2] END svm__C=1, svm__coef0=0.5, svm__degree=3, svm__gamma=0.1, svm__kernel=poly;, score=0.826 total time= 5.1min\n",
            "[CV 2/2] END svm__C=1, svm__coef0=0.5, svm__degree=3, svm__gamma=0.1, svm__kernel=poly;, score=0.823 total time= 5.0min\n",
            "[CV 1/2] END svm__C=1, svm__coef0=0.5, svm__degree=3, svm__gamma=0.01, svm__kernel=poly;, score=0.828 total time=  32.8s\n",
            "[CV 2/2] END svm__C=1, svm__coef0=0.5, svm__degree=3, svm__gamma=0.01, svm__kernel=poly;, score=0.827 total time=  31.7s\n",
            "[CV 1/2] END svm__C=1, svm__coef0=1, svm__degree=3, svm__gamma=0.1, svm__kernel=poly;, score=0.826 total time= 5.0min\n",
            "[CV 2/2] END svm__C=1, svm__coef0=1, svm__degree=3, svm__gamma=0.1, svm__kernel=poly;, score=0.823 total time= 5.0min\n",
            "[CV 1/2] END svm__C=1, svm__coef0=1, svm__degree=3, svm__gamma=0.01, svm__kernel=poly;, score=0.829 total time=  36.3s\n",
            "[CV 2/2] END svm__C=1, svm__coef0=1, svm__degree=3, svm__gamma=0.01, svm__kernel=poly;, score=0.827 total time=  35.0s\n",
            "[CV 1/2] END svm__C=10, svm__coef0=0, svm__degree=3, svm__gamma=0.1, svm__kernel=poly;, score=0.815 total time=34.9min\n",
            "[CV 2/2] END svm__C=10, svm__coef0=0, svm__degree=3, svm__gamma=0.1, svm__kernel=poly;, score=0.818 total time=25.7min\n",
            "[CV 1/2] END svm__C=10, svm__coef0=0, svm__degree=3, svm__gamma=0.01, svm__kernel=poly;, score=0.830 total time=  37.4s\n",
            "[CV 2/2] END svm__C=10, svm__coef0=0, svm__degree=3, svm__gamma=0.01, svm__kernel=poly;, score=0.830 total time=  38.1s\n",
            "[CV 1/2] END svm__C=10, svm__coef0=0.5, svm__degree=3, svm__gamma=0.1, svm__kernel=poly;, score=0.818 total time=36.1min\n",
            "[CV 2/2] END svm__C=10, svm__coef0=0.5, svm__degree=3, svm__gamma=0.1, svm__kernel=poly;, score=0.819 total time=27.7min\n",
            "[CV 1/2] END svm__C=10, svm__coef0=0.5, svm__degree=3, svm__gamma=0.01, svm__kernel=poly;, score=0.835 total time=  38.4s\n",
            "[CV 2/2] END svm__C=10, svm__coef0=0.5, svm__degree=3, svm__gamma=0.01, svm__kernel=poly;, score=0.831 total time=  37.9s\n",
            "[CV 1/2] END svm__C=10, svm__coef0=1, svm__degree=3, svm__gamma=0.1, svm__kernel=poly;, score=0.818 total time=44.8min\n",
            "[CV 2/2] END svm__C=10, svm__coef0=1, svm__degree=3, svm__gamma=0.1, svm__kernel=poly;, score=0.819 total time=30.0min\n",
            "[CV 1/2] END svm__C=10, svm__coef0=1, svm__degree=3, svm__gamma=0.01, svm__kernel=poly;, score=0.835 total time=  54.3s\n",
            "[CV 2/2] END svm__C=10, svm__coef0=1, svm__degree=3, svm__gamma=0.01, svm__kernel=poly;, score=0.830 total time=  54.9s\n"
          ]
        },
        {
          "output_type": "execute_result",
          "data": {
            "text/plain": [
              "GridSearchCV(cv=StratifiedKFold(n_splits=2, random_state=None, shuffle=False),\n",
              "             estimator=Pipeline(steps=[('scaler', StandardScaler()),\n",
              "                                       ('svm', SVC(random_state=0))]),\n",
              "             param_grid={'svm__C': [1, 10], 'svm__coef0': [0, 0.5, 1],\n",
              "                         'svm__degree': [3], 'svm__gamma': [0.1, 0.01],\n",
              "                         'svm__kernel': ['poly']},\n",
              "             scoring=make_scorer(f1_score), verbose=3)"
            ],
            "text/html": [
              "<style>#sk-container-id-1 {color: black;background-color: white;}#sk-container-id-1 pre{padding: 0;}#sk-container-id-1 div.sk-toggleable {background-color: white;}#sk-container-id-1 label.sk-toggleable__label {cursor: pointer;display: block;width: 100%;margin-bottom: 0;padding: 0.3em;box-sizing: border-box;text-align: center;}#sk-container-id-1 label.sk-toggleable__label-arrow:before {content: \"▸\";float: left;margin-right: 0.25em;color: #696969;}#sk-container-id-1 label.sk-toggleable__label-arrow:hover:before {color: black;}#sk-container-id-1 div.sk-estimator:hover label.sk-toggleable__label-arrow:before {color: black;}#sk-container-id-1 div.sk-toggleable__content {max-height: 0;max-width: 0;overflow: hidden;text-align: left;background-color: #f0f8ff;}#sk-container-id-1 div.sk-toggleable__content pre {margin: 0.2em;color: black;border-radius: 0.25em;background-color: #f0f8ff;}#sk-container-id-1 input.sk-toggleable__control:checked~div.sk-toggleable__content {max-height: 200px;max-width: 100%;overflow: auto;}#sk-container-id-1 input.sk-toggleable__control:checked~label.sk-toggleable__label-arrow:before {content: \"▾\";}#sk-container-id-1 div.sk-estimator input.sk-toggleable__control:checked~label.sk-toggleable__label {background-color: #d4ebff;}#sk-container-id-1 div.sk-label input.sk-toggleable__control:checked~label.sk-toggleable__label {background-color: #d4ebff;}#sk-container-id-1 input.sk-hidden--visually {border: 0;clip: rect(1px 1px 1px 1px);clip: rect(1px, 1px, 1px, 1px);height: 1px;margin: -1px;overflow: hidden;padding: 0;position: absolute;width: 1px;}#sk-container-id-1 div.sk-estimator {font-family: monospace;background-color: #f0f8ff;border: 1px dotted black;border-radius: 0.25em;box-sizing: border-box;margin-bottom: 0.5em;}#sk-container-id-1 div.sk-estimator:hover {background-color: #d4ebff;}#sk-container-id-1 div.sk-parallel-item::after {content: \"\";width: 100%;border-bottom: 1px solid gray;flex-grow: 1;}#sk-container-id-1 div.sk-label:hover label.sk-toggleable__label {background-color: #d4ebff;}#sk-container-id-1 div.sk-serial::before {content: \"\";position: absolute;border-left: 1px solid gray;box-sizing: border-box;top: 0;bottom: 0;left: 50%;z-index: 0;}#sk-container-id-1 div.sk-serial {display: flex;flex-direction: column;align-items: center;background-color: white;padding-right: 0.2em;padding-left: 0.2em;position: relative;}#sk-container-id-1 div.sk-item {position: relative;z-index: 1;}#sk-container-id-1 div.sk-parallel {display: flex;align-items: stretch;justify-content: center;background-color: white;position: relative;}#sk-container-id-1 div.sk-item::before, #sk-container-id-1 div.sk-parallel-item::before {content: \"\";position: absolute;border-left: 1px solid gray;box-sizing: border-box;top: 0;bottom: 0;left: 50%;z-index: -1;}#sk-container-id-1 div.sk-parallel-item {display: flex;flex-direction: column;z-index: 1;position: relative;background-color: white;}#sk-container-id-1 div.sk-parallel-item:first-child::after {align-self: flex-end;width: 50%;}#sk-container-id-1 div.sk-parallel-item:last-child::after {align-self: flex-start;width: 50%;}#sk-container-id-1 div.sk-parallel-item:only-child::after {width: 0;}#sk-container-id-1 div.sk-dashed-wrapped {border: 1px dashed gray;margin: 0 0.4em 0.5em 0.4em;box-sizing: border-box;padding-bottom: 0.4em;background-color: white;}#sk-container-id-1 div.sk-label label {font-family: monospace;font-weight: bold;display: inline-block;line-height: 1.2em;}#sk-container-id-1 div.sk-label-container {text-align: center;}#sk-container-id-1 div.sk-container {/* jupyter's `normalize.less` sets `[hidden] { display: none; }` but bootstrap.min.css set `[hidden] { display: none !important; }` so we also need the `!important` here to be able to override the default hidden behavior on the sphinx rendered scikit-learn.org. See: https://github.com/scikit-learn/scikit-learn/issues/21755 */display: inline-block !important;position: relative;}#sk-container-id-1 div.sk-text-repr-fallback {display: none;}</style><div id=\"sk-container-id-1\" class=\"sk-top-container\"><div class=\"sk-text-repr-fallback\"><pre>GridSearchCV(cv=StratifiedKFold(n_splits=2, random_state=None, shuffle=False),\n",
              "             estimator=Pipeline(steps=[(&#x27;scaler&#x27;, StandardScaler()),\n",
              "                                       (&#x27;svm&#x27;, SVC(random_state=0))]),\n",
              "             param_grid={&#x27;svm__C&#x27;: [1, 10], &#x27;svm__coef0&#x27;: [0, 0.5, 1],\n",
              "                         &#x27;svm__degree&#x27;: [3], &#x27;svm__gamma&#x27;: [0.1, 0.01],\n",
              "                         &#x27;svm__kernel&#x27;: [&#x27;poly&#x27;]},\n",
              "             scoring=make_scorer(f1_score), verbose=3)</pre><b>In a Jupyter environment, please rerun this cell to show the HTML representation or trust the notebook. <br />On GitHub, the HTML representation is unable to render, please try loading this page with nbviewer.org.</b></div><div class=\"sk-container\" hidden><div class=\"sk-item sk-dashed-wrapped\"><div class=\"sk-label-container\"><div class=\"sk-label sk-toggleable\"><input class=\"sk-toggleable__control sk-hidden--visually\" id=\"sk-estimator-id-1\" type=\"checkbox\" ><label for=\"sk-estimator-id-1\" class=\"sk-toggleable__label sk-toggleable__label-arrow\">GridSearchCV</label><div class=\"sk-toggleable__content\"><pre>GridSearchCV(cv=StratifiedKFold(n_splits=2, random_state=None, shuffle=False),\n",
              "             estimator=Pipeline(steps=[(&#x27;scaler&#x27;, StandardScaler()),\n",
              "                                       (&#x27;svm&#x27;, SVC(random_state=0))]),\n",
              "             param_grid={&#x27;svm__C&#x27;: [1, 10], &#x27;svm__coef0&#x27;: [0, 0.5, 1],\n",
              "                         &#x27;svm__degree&#x27;: [3], &#x27;svm__gamma&#x27;: [0.1, 0.01],\n",
              "                         &#x27;svm__kernel&#x27;: [&#x27;poly&#x27;]},\n",
              "             scoring=make_scorer(f1_score), verbose=3)</pre></div></div></div><div class=\"sk-parallel\"><div class=\"sk-parallel-item\"><div class=\"sk-item\"><div class=\"sk-label-container\"><div class=\"sk-label sk-toggleable\"><input class=\"sk-toggleable__control sk-hidden--visually\" id=\"sk-estimator-id-2\" type=\"checkbox\" ><label for=\"sk-estimator-id-2\" class=\"sk-toggleable__label sk-toggleable__label-arrow\">estimator: Pipeline</label><div class=\"sk-toggleable__content\"><pre>Pipeline(steps=[(&#x27;scaler&#x27;, StandardScaler()), (&#x27;svm&#x27;, SVC(random_state=0))])</pre></div></div></div><div class=\"sk-serial\"><div class=\"sk-item\"><div class=\"sk-serial\"><div class=\"sk-item\"><div class=\"sk-estimator sk-toggleable\"><input class=\"sk-toggleable__control sk-hidden--visually\" id=\"sk-estimator-id-3\" type=\"checkbox\" ><label for=\"sk-estimator-id-3\" class=\"sk-toggleable__label sk-toggleable__label-arrow\">StandardScaler</label><div class=\"sk-toggleable__content\"><pre>StandardScaler()</pre></div></div></div><div class=\"sk-item\"><div class=\"sk-estimator sk-toggleable\"><input class=\"sk-toggleable__control sk-hidden--visually\" id=\"sk-estimator-id-4\" type=\"checkbox\" ><label for=\"sk-estimator-id-4\" class=\"sk-toggleable__label sk-toggleable__label-arrow\">SVC</label><div class=\"sk-toggleable__content\"><pre>SVC(random_state=0)</pre></div></div></div></div></div></div></div></div></div></div></div></div>"
            ]
          },
          "metadata": {},
          "execution_count": 22
        }
      ],
      "source": [
        "param_grid = {'svm__C' : [1, 10],\n",
        "              'svm__gamma': [0.1, 0.01],\n",
        "              'svm__degree': [3],\n",
        "              'svm__coef0': [0, 0.5, 1],\n",
        "              'svm__kernel': ['poly']\n",
        "              }\n",
        "folds = 2\n",
        "kfoldcv = StratifiedKFold(n_splits = folds)\n",
        "svm_model = Pipeline([('scaler', StandardScaler()), ('svm', SVC(random_state = 0))])\n",
        "scorer_fn = make_scorer(sk.metrics.f1_score)\n",
        "grid_poly = GridSearchCV(svm_model, param_grid, refit = True, verbose = 3, scoring = scorer_fn, cv = kfoldcv)\n",
        "grid_poly.fit(x_train_norm, y_train)"
      ]
    },
    {
      "cell_type": "code",
      "source": [
        "print(f\"Mejores hiperparametros del SVM con kernel polinomica: {grid_poly.best_params_}\")\n",
        "\n",
        "print(f\"Mejor F1 Score: {grid_poly.best_score_}\")"
      ],
      "metadata": {
        "colab": {
          "base_uri": "https://localhost:8080/"
        },
        "id": "Xr8flCLsj24M",
        "outputId": "e19985f6-613c-43b9-cae2-776811cf06f7"
      },
      "execution_count": null,
      "outputs": [
        {
          "output_type": "stream",
          "name": "stdout",
          "text": [
            "Mejores hiperparametros del SVM con kernel polinomica: {'svm__C': 10, 'svm__coef0': 0.5, 'svm__degree': 3, 'svm__gamma': 0.01, 'svm__kernel': 'poly'}\n",
            "Mejor F1 Score: 0.8329327943298532\n"
          ]
        }
      ]
    },
    {
      "cell_type": "code",
      "execution_count": null,
      "metadata": {
        "id": "FgTyM64sWcLn",
        "colab": {
          "base_uri": "https://localhost:8080/",
          "height": 628
        },
        "outputId": "5453002f-6deb-43df-efe9-9301c14682ac"
      },
      "outputs": [
        {
          "output_type": "stream",
          "name": "stdout",
          "text": [
            "              precision    recall  f1-score   support\n",
            "\n",
            "           0       0.84      0.84      0.84      5924\n",
            "           1       0.84      0.85      0.84      6002\n",
            "\n",
            "    accuracy                           0.84     11926\n",
            "   macro avg       0.84      0.84      0.84     11926\n",
            "weighted avg       0.84      0.84      0.84     11926\n",
            "\n",
            "F1 Score:  0.8433647364026327\n"
          ]
        },
        {
          "output_type": "display_data",
          "data": {
            "text/plain": [
              "<Figure size 640x480 with 2 Axes>"
            ],
            "image/png": "[encoded data removed]"
          },
          "metadata": {}
        }
      ],
      "source": [
        "clf_poly = SVC(kernel= 'poly', C=10 , coef0= 0.5, degree = 3, gamma = 0.01)\n",
        "clf_poly.fit(x_train_norm, y_train)\n",
        "y_pred_poly = clf_poly.predict(x_test_norm)\n",
        "print(classification_report(y_test, y_pred_poly))\n",
        "matriz = confusion_matrix(y_test, y_pred_poly)\n",
        "sns.heatmap(matriz, cmap= 'cubehelix', annot = True, fmt= 'g')\n",
        "plt.xlabel('Predicted')\n",
        "plt.ylabel('True')\n",
        "f1_poly = f1_score(y_test, y_pred_poly, average = 'weighted')\n",
        "print(\"F1 Score: \", f1_poly)"
      ]
    },
    {
      "cell_type": "code",
      "source": [
        "joblib.dump(clf_poly, 'svm_poly.joblib')"
      ],
      "metadata": {
        "colab": {
          "base_uri": "https://localhost:8080/"
        },
        "id": "PyNEHggkhKzb",
        "outputId": "87098ff1-75ad-489d-d610-0a1d605726a4"
      },
      "execution_count": null,
      "outputs": [
        {
          "output_type": "execute_result",
          "data": {
            "text/plain": [
              "['svm_poly.joblib']"
            ]
          },
          "metadata": {},
          "execution_count": 27
        }
      ]
    },
    {
      "cell_type": "code",
      "source": [
        "y_pred_svm_poly = clf_poly.predict(df_hotel_test)\n",
        "df_summision = pd.DataFrame({'id': ds_hotel_test['id'], 'is_canceled': y_pred_svm_poly})"
      ],
      "metadata": {
        "id": "USUi8biJDPtE"
      },
      "execution_count": null,
      "outputs": []
    },
    {
      "cell_type": "code",
      "source": [
        "df_summision.to_csv('summit_svm_poly.csv', index = False)"
      ],
      "metadata": {
        "id": "5ifGr9LRDZTb"
      },
      "execution_count": null,
      "outputs": []
    }
  ],
  "metadata": {
    "colab": {
      "provenance": []
    },
    "kernelspec": {
      "display_name": "Python 3",
      "name": "python3"
    },
    "language_info": {
      "name": "python"
    }
  },
  "nbformat": 4,
  "nbformat_minor": 0
}