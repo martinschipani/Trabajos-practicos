{
  "cells": [
    {
      "cell_type": "markdown",
      "metadata": {
        "id": "nQdSwkiLeJF9"
      },
      "source": [
        "# <center>Trabajo Práctico N°1 : Reservas de Hotel</center>\n",
        "\n",
        "**Grupo:** N°28 - The Kingdom\n",
        "\n",
        "**Checkpoint N° 3**: Ensambles\n",
        "\n",
        "**Alumnos**:\n",
        "\n",
        "\n",
        "*   Jurgens, Cecilia Ines\n",
        "*   Schipani, Martin Sebastian\n",
        "*   Soto, Marylin Nicole\n",
        "\n",
        "**Corrector:** Franco Mastelli\n",
        "\n",
        "---\n"
      ]
    },
    {
      "cell_type": "code",
      "execution_count": null,
      "metadata": {
        "id": "NI09XcmCfWBX"
      },
      "outputs": [],
      "source": [
        "import pandas as pd\n",
        "import numpy as np\n",
        "import sklearn as sk\n",
        "\n",
        "import matplotlib.pyplot as plt\n",
        "import seaborn as sns\n",
        "import scipy.stats as st\n",
        "\n",
        "from sklearn.model_selection import train_test_split\n",
        "from sklearn.metrics import confusion_matrix, classification_report\n",
        "from sklearn.model_selection import cross_val_score\n",
        "from sklearn.model_selection import RandomizedSearchCV\n",
        "\n",
        "from sklearn import metrics\n",
        "from sklearn import preprocessing\n",
        "from sklearn.metrics import precision_score, recall_score, accuracy_score, f1_score, make_scorer\n",
        "from sklearn.neighbors import KNeighborsClassifier\n",
        "from sklearn.svm import SVC\n",
        "from sklearn.model_selection  import GridSearchCV, StratifiedKFold, KFold\n",
        "\n",
        "import warnings\n",
        "warnings.simplefilter(action='ignore', category=FutureWarning)\n",
        "warnings.simplefilter(action='ignore', category=UserWarning)"
      ]
    },
    {
      "cell_type": "code",
      "execution_count": null,
      "metadata": {
        "id": "YqjofaKIydmb"
      },
      "outputs": [],
      "source": [
        "ds_hotel_test = pd.read_csv(\"hotels_test.csv\")\n",
        "df_hotel_test = ds_hotel_test.copy()\n",
        "ds_hotel_train = pd.read_csv(\"hotels_train.csv\")\n",
        "df_hotel_train = ds_hotel_train.copy()"
      ]
    },
    {
      "cell_type": "markdown",
      "metadata": {
        "id": "j2vu5NsUzDuD"
      },
      "source": [
        "## Preprocesamiento de Datasets"
      ]
    },
    {
      "cell_type": "markdown",
      "metadata": {
        "id": "61mzbfGm2g4V"
      },
      "source": [
        "Analizamos la cantidad de filas y columnas entre el dataset de train y de test:"
      ]
    },
    {
      "cell_type": "code",
      "execution_count": null,
      "metadata": {
        "colab": {
          "base_uri": "https://localhost:8080/"
        },
        "id": "I0sZP68l20ZD",
        "outputId": "b459cf9c-66be-498f-aca8-d6f4b064b859"
      },
      "outputs": [
        {
          "output_type": "stream",
          "name": "stdout",
          "text": [
            "El dataset train tiene 61913 filas y 31 columnas.\n",
            "El dataset test tiene 26535 filas y 31 columnas.\n"
          ]
        }
      ],
      "source": [
        "print(\"El dataset train tiene \"f\"{df_hotel_train.shape[0]}\"\" filas y \"f\"{df_hotel_train.shape[1]}\"\" columnas.\")\n",
        "print(\"El dataset test tiene \"f\"{df_hotel_test.shape[0]}\"\" filas y \"f\"{df_hotel_test.shape[1]}\"\" columnas.\")"
      ]
    },
    {
      "cell_type": "markdown",
      "source": [
        "Determinamos que columnas faltan en cada dataset:"
      ],
      "metadata": {
        "id": "5iwLi4YLYPR-"
      }
    },
    {
      "cell_type": "code",
      "execution_count": null,
      "metadata": {
        "colab": {
          "base_uri": "https://localhost:8080/"
        },
        "id": "f3F_RHFP7PeY",
        "outputId": "fdf8e4de-e48c-4d1e-9a0e-b824c1aae975"
      },
      "outputs": [
        {
          "output_type": "stream",
          "name": "stdout",
          "text": [
            "Columnas faltantes en el dataset de Train:  {'reservation_status_date'}\n",
            "Columnas faltantes en el dataset de Test:  {'is_canceled'}\n"
          ]
        }
      ],
      "source": [
        "columnas_faltantes_train = set(df_hotel_test.columns)-set(df_hotel_train.columns)\n",
        "columnas_faltantes_test = set(df_hotel_train.columns) - set(df_hotel_test.columns)\n",
        "\n",
        "print('Columnas faltantes en el dataset de Train: ', columnas_faltantes_train)\n",
        "print('Columnas faltantes en el dataset de Test: ', columnas_faltantes_test)\n"
      ]
    },
    {
      "cell_type": "markdown",
      "metadata": {
        "id": "sqimi4f59oxZ"
      },
      "source": [
        "### Dataset Train:"
      ]
    },
    {
      "cell_type": "markdown",
      "metadata": {
        "id": "oOJuCBWxzGj7"
      },
      "source": [
        "Aplicamos la limpieza que fue detallada en el checkpoint 2 en el dataset de train:"
      ]
    },
    {
      "cell_type": "code",
      "execution_count": null,
      "metadata": {
        "id": "PBUoCdpCzD5o"
      },
      "outputs": [],
      "source": [
        "#COUNTRY\n",
        "##Reemplazamos los valores nulos con la moda\n",
        "df_hotel_train.fillna({'country':-1}, inplace = True)\n",
        "df_hotel_train.replace({-1, \"PRT\"})\n",
        "\n",
        "country_top_train = df_hotel_train['country'].value_counts()\n",
        "top_20_country_train = country_top_train.head(20).index.tolist()\n",
        "df_hotel_train['country'] = df_hotel_train['country'].apply(lambda x: x if x in top_20_country_train else 'other')\n",
        "\n",
        "#LEAD_TIME\n",
        "##Tratamiento de outliers:\n",
        "#df_hotel_train.drop(df_hotel_train[df_hotel_train['lead_time']>=500].index, axis='index', inplace=True)\n",
        "\n",
        "#STAYS_IN_WEEK_NIGHTS\n",
        "##Tratamiento de outliers:\n",
        "df_hotel_train.drop(df_hotel_train[df_hotel_train['stays_in_week_nights']>=25].index, axis='index', inplace=True)\n",
        "\n",
        "#ADULTS\n",
        "##Tratamiento de Outliers:\n",
        "df_hotel_train.drop(df_hotel_train[df_hotel_train['adults']==0].index, axis='index', inplace=True)\n",
        "df_hotel_train.drop(df_hotel_train[df_hotel_train['adults']>3].index, axis='index', inplace=True)\n",
        "\n",
        "#CHILDREN\n",
        "##Eliminacion de los registros con datos nulos de esta variable:\n",
        "#df_hotel_train.drop(df_hotel_train[df_hotel_train['children'].isna() == True].index, axis='index', inplace=True)\n",
        "df_hotel_train.fillna({'children':0}, inplace = True)\n",
        "df_hotel_train['children'] = df_hotel_train['children'].astype(int)\n",
        "df_hotel_train.loc[df_hotel_train['children'] < 0, 'children'] = 0\n",
        "df_hotel_train.drop(df_hotel_train[df_hotel_train['children']>=10].index, axis = 'index', inplace = True)\n",
        "\n",
        "##Tratiento de outliers\n",
        "df_hotel_train.drop(df_hotel_train[df_hotel_train['children']>=10].index, axis='index', inplace=True)\n",
        "\n",
        "#BABIES\n",
        "##Tratamiento de Outliers:\n",
        "df_hotel_train.drop(df_hotel_train[df_hotel_train['babies']>=9].index, axis='index', inplace=True)\n",
        "\n",
        "#PREVIOUS_CANCELLATIONS\n",
        "##Tratamiento de Outliers\n",
        "df_hotel_train.drop(df_hotel_train[df_hotel_train['previous_cancellations']>=2].index, axis='index', inplace=True)\n",
        "\n",
        "#DAYS_IN_WAITING_LIST\n",
        "##Tratamiento de outliers\n",
        "#df_hotel_train.drop(df_hotel_train[df_hotel_train['days_in_waiting_list']>=200].index, axis='index', inplace=True)\n",
        "\n",
        "#ADR\n",
        "##Tratamiento de Outliers:\n",
        "df_hotel_train.drop(df_hotel_train[df_hotel_train['adr']<=0].index, axis='index', inplace=True)\n",
        "df_hotel_train.drop(df_hotel_train[df_hotel_train['adr']>=400].index, axis='index', inplace=True)\n",
        "media_adr = np.mean(df_hotel_train.adr)\n",
        "std_adr = np.std(df_hotel_train.adr)\n",
        "df_hotel_train['z_adr'] = (df_hotel_train.adr-media_adr)/std_adr\n",
        "df_hotel_train['z_adr'] = st.zscore(df_hotel_train.adr)\n",
        "df_hotel_train.drop(df_hotel_train[df_hotel_train['z_adr'] > 3].index, axis = 'index', inplace = True)\n",
        "df_hotel_train.drop(df_hotel_train[df_hotel_train['z_adr'] < -2].index, axis = 'index', inplace = True)\n",
        "df_hotel_train.drop(labels = 'z_adr', inplace = True, axis = 1)\n",
        "\n",
        "#REQUIRED_CAR_PARKING_SPACES\n",
        "##Tratamiento de outliers:\n",
        "df_hotel_train.loc[(df_hotel_train['adults'] == 2) & (df_hotel_train['required_car_parking_spaces'] == 3), 'required_car_parking_spaces'] = 2\n",
        "df_hotel_train.loc[(df_hotel_train['adults'] == 2) & (df_hotel_train['required_car_parking_spaces'] == 8), 'required_car_parking_spaces'] = 2\n",
        "\n",
        "#TOTAL_OF_SPECIAL_REQUESTS\n",
        "df_hotel_train.loc[(df_hotel_train['total_of_special_requests'] >= 4), 'total_of_special_requests'] = 1\n",
        "\n",
        "#AGENT\n",
        "#df_hotel_train.dropna(subset=['agent'], inplace = True)\n",
        "df_hotel_train.fillna({'agent':-1}, inplace = True)\n",
        "df_hotel_train['agent'] = df_hotel_train['agent'].astype(int)\n",
        "\n",
        "#ASSIGNED ROOM TYPE\n",
        "df_hotel_train.drop(df_hotel_train[(df_hotel_train['assigned_room_type'] == 'K') & (df_hotel_train['adr'] >160)].index, inplace = True)\n",
        "df_hotel_train.drop(df_hotel_train[(df_hotel_train['assigned_room_type'] == 'I') & (df_hotel_train['adr'] >210)].index, inplace = True)\n",
        "df_hotel_train.drop(df_hotel_train[(df_hotel_train['assigned_room_type'] == 'B') & (df_hotel_train['adr'] >160)].index, inplace = True)\n",
        "df_hotel_train.drop(df_hotel_train[(df_hotel_train['assigned_room_type'] == 'B') & (df_hotel_train['adr'] <30)].index, inplace = True)\n",
        "\n",
        "df_hotel_train.drop(df_hotel_train[(df_hotel_train['distribution_channel'] == 'Undefined')].index, inplace = True)"
      ]
    },
    {
      "cell_type": "markdown",
      "metadata": {
        "id": "4vvmshS36SbX"
      },
      "source": [
        "Convertimos los meses del año en numeros:"
      ]
    },
    {
      "cell_type": "code",
      "execution_count": null,
      "metadata": {
        "id": "VpEcxP3m5-qC"
      },
      "outputs": [],
      "source": [
        "meses_a_numeros ={\n",
        "    'January': 1,\n",
        "    'February': 2,\n",
        "    'March': 3,\n",
        "    'April': 4,\n",
        "    'May': 5,\n",
        "    'June': 6,\n",
        "    'July':7,\n",
        "    'August': 8,\n",
        "    'September': 9,\n",
        "    'October': 10,\n",
        "    'November': 11,\n",
        "    'December': 12\n",
        "}\n",
        "df_hotel_train.arrival_date_month = df_hotel_train.arrival_date_month.map(meses_a_numeros)"
      ]
    },
    {
      "cell_type": "markdown",
      "metadata": {
        "id": "Ox4AT1Vs6jjM"
      },
      "source": [
        "Transformamos los datos de children en int:"
      ]
    },
    {
      "cell_type": "code",
      "execution_count": null,
      "metadata": {
        "id": "RDzIV6y86n1N"
      },
      "outputs": [],
      "source": [
        "df_hotel_train['children'] = df_hotel_train['children'].astype(int)"
      ]
    },
    {
      "cell_type": "markdown",
      "metadata": {
        "id": "Wxr4ohSw6xI_"
      },
      "source": [
        "Reemplazamos en meal todos aquellos que dicen undefined por SC (como es aclarado en el paper):"
      ]
    },
    {
      "cell_type": "code",
      "execution_count": null,
      "metadata": {
        "id": "CtFlGqTS6wRh"
      },
      "outputs": [],
      "source": [
        "df_hotel_train.loc[df_hotel_train.loc[:,'meal'] == 'Undefined','meal'] ='SC'"
      ]
    },
    {
      "cell_type": "markdown",
      "metadata": {
        "id": "kDm1qZTT7Q-e"
      },
      "source": [
        "Convertimos las letras de habitaciones de los hoteles por numeros:"
      ]
    },
    {
      "cell_type": "code",
      "execution_count": null,
      "metadata": {
        "id": "Eq4tBc0Z7MT9"
      },
      "outputs": [],
      "source": [
        "dormitorio_letra_a_numero ={\n",
        "    'A': 1,\n",
        "    'B': 2,\n",
        "    'C': 3,\n",
        "    'D': 4,\n",
        "    'E': 5,\n",
        "    'F': 6,\n",
        "    'G': 7,\n",
        "    'H': 8,\n",
        "    'I': 9,\n",
        "    'K': 10,\n",
        "    'L': 11\n",
        "}\n",
        "df_hotel_train.reserved_room_type = df_hotel_train.reserved_room_type.map(dormitorio_letra_a_numero)"
      ]
    },
    {
      "cell_type": "markdown",
      "metadata": {
        "id": "c9JJ9vk95SgS"
      },
      "source": [
        "Elimino todas aquellas columnas que no se necesitaran en la busqueda de arboles:"
      ]
    },
    {
      "cell_type": "code",
      "execution_count": null,
      "metadata": {
        "id": "kz4Qt7Mo0QsP"
      },
      "outputs": [],
      "source": [
        "columnas_eliminar =[ 'id', 'assigned_room_type', 'company']\n",
        "df_hotel_train.drop(columnas_eliminar, axis='columns', inplace=True)"
      ]
    },
    {
      "cell_type": "markdown",
      "metadata": {
        "id": "Rq4t_u4j9NNn"
      },
      "source": [
        "One hot encoding para variables categoricas:"
      ]
    },
    {
      "cell_type": "code",
      "execution_count": null,
      "metadata": {
        "id": "4lqvZEgq9CxI"
      },
      "outputs": [],
      "source": [
        "columnas_dummies = ['hotel', 'meal', 'country', 'market_segment', 'distribution_channel', 'deposit_type', 'customer_type']\n",
        "df_hotel_train = pd.get_dummies(df_hotel_train, columns= columnas_dummies, drop_first= True)"
      ]
    },
    {
      "cell_type": "markdown",
      "metadata": {
        "id": "CdDeLeul5pP-"
      },
      "source": [
        "Verificamos que no nos queden valores nulos en el dataset train:"
      ]
    },
    {
      "cell_type": "code",
      "execution_count": null,
      "metadata": {
        "colab": {
          "base_uri": "https://localhost:8080/"
        },
        "id": "7_gEqK0B5N9H",
        "outputId": "807bd2c4-f035-4f3c-8196-1e9b8a6dd02f"
      },
      "outputs": [
        {
          "output_type": "execute_result",
          "data": {
            "text/plain": [
              "lead_time                         0\n",
              "arrival_date_year                 0\n",
              "arrival_date_month                0\n",
              "arrival_date_week_number          0\n",
              "arrival_date_day_of_month         0\n",
              "stays_in_weekend_nights           0\n",
              "stays_in_week_nights              0\n",
              "adults                            0\n",
              "children                          0\n",
              "babies                            0\n",
              "is_repeated_guest                 0\n",
              "previous_cancellations            0\n",
              "previous_bookings_not_canceled    0\n",
              "reserved_room_type                0\n",
              "booking_changes                   0\n",
              "agent                             0\n",
              "days_in_waiting_list              0\n",
              "adr                               0\n",
              "required_car_parking_spaces       0\n",
              "total_of_special_requests         0\n",
              "is_canceled                       0\n",
              "hotel_Resort Hotel                0\n",
              "meal_FB                           0\n",
              "meal_HB                           0\n",
              "meal_SC                           0\n",
              "country_BEL                       0\n",
              "country_BRA                       0\n",
              "country_CHE                       0\n",
              "country_CHN                       0\n",
              "country_CN                        0\n",
              "country_DEU                       0\n",
              "country_ESP                       0\n",
              "country_FRA                       0\n",
              "country_GBR                       0\n",
              "country_IRL                       0\n",
              "country_ISR                       0\n",
              "country_ITA                       0\n",
              "country_NLD                       0\n",
              "country_NOR                       0\n",
              "country_POL                       0\n",
              "country_PRT                       0\n",
              "country_RUS                       0\n",
              "country_SWE                       0\n",
              "country_USA                       0\n",
              "country_other                     0\n",
              "market_segment_Complementary      0\n",
              "market_segment_Corporate          0\n",
              "market_segment_Direct             0\n",
              "market_segment_Groups             0\n",
              "market_segment_Offline TA/TO      0\n",
              "market_segment_Online TA          0\n",
              "distribution_channel_Direct       0\n",
              "distribution_channel_GDS          0\n",
              "distribution_channel_TA/TO        0\n",
              "deposit_type_Non Refund           0\n",
              "deposit_type_Refundable           0\n",
              "customer_type_Group               0\n",
              "customer_type_Transient           0\n",
              "customer_type_Transient-Party     0\n",
              "dtype: int64"
            ]
          },
          "metadata": {},
          "execution_count": 13
        }
      ],
      "source": [
        "df_hotel_train.isna().sum()"
      ]
    },
    {
      "cell_type": "markdown",
      "metadata": {
        "id": "7VtMqeNk9uX-"
      },
      "source": [
        "### Dataset Test:"
      ]
    },
    {
      "cell_type": "markdown",
      "metadata": {
        "id": "RA0Hbrvh-KZY"
      },
      "source": [
        "Analizamos los valores nulos del dataset:"
      ]
    },
    {
      "cell_type": "code",
      "execution_count": null,
      "metadata": {
        "colab": {
          "base_uri": "https://localhost:8080/"
        },
        "id": "PmwNQ8FC-Il_",
        "outputId": "ae313561-e4de-44a5-a0e4-5a902af997ba"
      },
      "outputs": [
        {
          "output_type": "execute_result",
          "data": {
            "text/plain": [
              "hotel                                 0\n",
              "lead_time                             0\n",
              "arrival_date_year                     0\n",
              "arrival_date_month                    0\n",
              "arrival_date_week_number              0\n",
              "arrival_date_day_of_month             0\n",
              "stays_in_weekend_nights               0\n",
              "stays_in_week_nights                  0\n",
              "adults                                0\n",
              "children                              0\n",
              "babies                                0\n",
              "meal                                  0\n",
              "country                              95\n",
              "market_segment                        0\n",
              "distribution_channel                  0\n",
              "is_repeated_guest                     0\n",
              "previous_cancellations                0\n",
              "previous_bookings_not_canceled        0\n",
              "reserved_room_type                    0\n",
              "assigned_room_type                    0\n",
              "booking_changes                       0\n",
              "deposit_type                          0\n",
              "agent                              3363\n",
              "company                           25218\n",
              "days_in_waiting_list                  0\n",
              "customer_type                         0\n",
              "adr                                   0\n",
              "required_car_parking_spaces           0\n",
              "total_of_special_requests             0\n",
              "reservation_status_date               0\n",
              "id                                    0\n",
              "dtype: int64"
            ]
          },
          "metadata": {},
          "execution_count": 14
        }
      ],
      "source": [
        "df_hotel_test.isna().sum()"
      ]
    },
    {
      "cell_type": "code",
      "execution_count": null,
      "metadata": {
        "id": "hrPRWWG7-8uE"
      },
      "outputs": [],
      "source": [
        "#COUNTRY\n",
        "##Reemplazamos los valores nulos con la moda\n",
        "df_hotel_test.fillna({'country':-1}, inplace = True)\n",
        "df_hotel_test.replace({-1, \"PRT\"})\n",
        "\n",
        "#country_top_test = df_hotel_test['country'].value_counts()\n",
        "#top_5_country_test = country_top_test.head(5).index.tolist()\n",
        "df_hotel_test['country'] = df_hotel_test['country'].apply(lambda x: x if x in top_20_country_train else 'other')\n",
        "\n",
        "#AGENT\n",
        "df_hotel_test.fillna({'agent':-1}, inplace = True)\n",
        "\n",
        "#CHILDREN\n",
        "df_hotel_test.fillna({'children':0}, inplace = True)\n",
        "df_hotel_test['children'] = df_hotel_test['children'].astype(int)\n",
        "\n",
        "#ADR\n",
        "##Tratamiento de Outliers:\n",
        "media_adr = np.mean(df_hotel_test.adr)\n",
        "std_adr = np.std(df_hotel_test.adr)\n",
        "\n",
        "#AGENT\n",
        "#df_hotel_train.dropna(subset=['agent'], inplace = True)\n",
        "df_hotel_train.fillna({'agent':-1}, inplace = True)\n",
        "df_hotel_train['agent'] = df_hotel_train['agent'].astype(int)\n",
        "\n",
        "df_hotel_test.loc[df_hotel_test.loc[:,'meal'] == 'Undefined','meal'] ='SC'"
      ]
    },
    {
      "cell_type": "code",
      "execution_count": null,
      "metadata": {
        "id": "ggs_9IY3-Sis"
      },
      "outputs": [],
      "source": [
        "columnas_eliminar_test = ['id', 'assigned_room_type', 'company', 'reservation_status_date' ]\n",
        "df_hotel_test.drop(columnas_eliminar_test, axis='columns', inplace= True)"
      ]
    },
    {
      "cell_type": "markdown",
      "metadata": {
        "id": "Iu4rkgfR-rgW"
      },
      "source": [
        "Convertimos los meses del año en numeros:"
      ]
    },
    {
      "cell_type": "code",
      "execution_count": null,
      "metadata": {
        "id": "yPqTKMxm-p4N"
      },
      "outputs": [],
      "source": [
        "meses_a_numeros_test ={\n",
        "    'January': 1,\n",
        "    'February': 2,\n",
        "    'March': 3,\n",
        "    'April': 4,\n",
        "    'May': 5,\n",
        "    'June': 6,\n",
        "    'July':7,\n",
        "    'August': 8,\n",
        "    'September': 9,\n",
        "    'October': 10,\n",
        "    'November': 11,\n",
        "    'December': 12\n",
        "}\n",
        "df_hotel_test.arrival_date_month = df_hotel_test.arrival_date_month.map(meses_a_numeros_test)"
      ]
    },
    {
      "cell_type": "markdown",
      "metadata": {
        "id": "9uFxfvUZ_lDG"
      },
      "source": [
        "Convertimos las letras de habitaciones de los hoteles por numeros:"
      ]
    },
    {
      "cell_type": "code",
      "execution_count": null,
      "metadata": {
        "id": "wyP62qXx_V-1"
      },
      "outputs": [],
      "source": [
        "dormitorio_letra_a_numero_test ={\n",
        "    'A': 1,\n",
        "    'B': 2,\n",
        "    'C': 3,\n",
        "    'D': 4,\n",
        "    'E': 5,\n",
        "    'F': 6,\n",
        "    'G': 7,\n",
        "    'H': 8,\n",
        "    'I': 9,\n",
        "    'K': 10,\n",
        "    'L': 11,\n",
        "    'P': 12\n",
        "}\n",
        "df_hotel_test.reserved_room_type = df_hotel_test.reserved_room_type.map(dormitorio_letra_a_numero_test)"
      ]
    },
    {
      "cell_type": "markdown",
      "metadata": {
        "id": "_UYbn0bqAVXR"
      },
      "source": [
        "One hot Encoding para variables categoricas:"
      ]
    },
    {
      "cell_type": "code",
      "execution_count": null,
      "metadata": {
        "id": "6wyI-6XH_qZ0"
      },
      "outputs": [],
      "source": [
        "columnas_dummies_test = ['hotel', 'meal', 'country', 'market_segment', 'distribution_channel', 'deposit_type', 'customer_type']\n",
        "df_hotel_test = pd.get_dummies(df_hotel_test, columns = columnas_dummies_test, drop_first= True)"
      ]
    },
    {
      "cell_type": "markdown",
      "metadata": {
        "id": "OW88ltWcAP_A"
      },
      "source": [
        "Verificamos que no nos queden valores nulos en el dataset test:"
      ]
    },
    {
      "cell_type": "code",
      "execution_count": null,
      "metadata": {
        "colab": {
          "base_uri": "https://localhost:8080/"
        },
        "id": "APe0L9a6_xV0",
        "outputId": "c71260ff-89d9-482e-ac6c-55f6eec4427a"
      },
      "outputs": [
        {
          "output_type": "execute_result",
          "data": {
            "text/plain": [
              "lead_time                         0\n",
              "arrival_date_year                 0\n",
              "arrival_date_month                0\n",
              "arrival_date_week_number          0\n",
              "arrival_date_day_of_month         0\n",
              "stays_in_weekend_nights           0\n",
              "stays_in_week_nights              0\n",
              "adults                            0\n",
              "children                          0\n",
              "babies                            0\n",
              "is_repeated_guest                 0\n",
              "previous_cancellations            0\n",
              "previous_bookings_not_canceled    0\n",
              "reserved_room_type                0\n",
              "booking_changes                   0\n",
              "agent                             0\n",
              "days_in_waiting_list              0\n",
              "adr                               0\n",
              "required_car_parking_spaces       0\n",
              "total_of_special_requests         0\n",
              "hotel_Resort Hotel                0\n",
              "meal_FB                           0\n",
              "meal_HB                           0\n",
              "meal_SC                           0\n",
              "country_BEL                       0\n",
              "country_BRA                       0\n",
              "country_CHE                       0\n",
              "country_CHN                       0\n",
              "country_CN                        0\n",
              "country_DEU                       0\n",
              "country_ESP                       0\n",
              "country_FRA                       0\n",
              "country_GBR                       0\n",
              "country_IRL                       0\n",
              "country_ISR                       0\n",
              "country_ITA                       0\n",
              "country_NLD                       0\n",
              "country_NOR                       0\n",
              "country_POL                       0\n",
              "country_PRT                       0\n",
              "country_RUS                       0\n",
              "country_SWE                       0\n",
              "country_USA                       0\n",
              "country_other                     0\n",
              "market_segment_Complementary      0\n",
              "market_segment_Corporate          0\n",
              "market_segment_Direct             0\n",
              "market_segment_Groups             0\n",
              "market_segment_Offline TA/TO      0\n",
              "market_segment_Online TA          0\n",
              "distribution_channel_Direct       0\n",
              "distribution_channel_GDS          0\n",
              "distribution_channel_TA/TO        0\n",
              "deposit_type_Non Refund           0\n",
              "deposit_type_Refundable           0\n",
              "customer_type_Group               0\n",
              "customer_type_Transient           0\n",
              "customer_type_Transient-Party     0\n",
              "dtype: int64"
            ]
          },
          "metadata": {},
          "execution_count": 20
        }
      ],
      "source": [
        "df_hotel_test.isna().sum()"
      ]
    },
    {
      "cell_type": "markdown",
      "metadata": {
        "id": "r0F4gVTFAaaw"
      },
      "source": [
        "## A. Clasificador K-Nearest Neighbors"
      ]
    },
    {
      "cell_type": "markdown",
      "source": [
        "### Entrenamiento"
      ],
      "metadata": {
        "id": "WVjsgu-cdzOn"
      }
    },
    {
      "cell_type": "code",
      "source": [
        "df_hotel_train_x = df_hotel_train.drop(['is_canceled'], axis = 'columns', inplace = False)\n",
        "df_hotel_train_y = df_hotel_train['is_canceled'].copy()\n",
        "\n",
        "x_train, x_test, y_train, y_test = train_test_split(df_hotel_train_x,\n",
        "                                                    df_hotel_train_y,\n",
        "                                                    test_size= 0.15,\n",
        "                                                    random_state = 28)\n"
      ],
      "metadata": {
        "id": "9_SGQ0vDdyyy"
      },
      "execution_count": null,
      "outputs": []
    },
    {
      "cell_type": "markdown",
      "source": [
        "### Modelo Sin Optimizar"
      ],
      "metadata": {
        "id": "dwZLdiNSI0np"
      }
    },
    {
      "cell_type": "markdown",
      "source": [
        "Creamos un modelo con sus parametros por defecto:"
      ],
      "metadata": {
        "id": "SVlbnWgzkKJX"
      }
    },
    {
      "cell_type": "code",
      "source": [
        "KNN_Classifier = KNeighborsClassifier()\n",
        "\n",
        "KNN_Classifier.get_params()"
      ],
      "metadata": {
        "colab": {
          "base_uri": "https://localhost:8080/"
        },
        "id": "axrQsl4Nbjnh",
        "outputId": "41967485-2e25-46e3-f93e-2480f9634c5d"
      },
      "execution_count": null,
      "outputs": [
        {
          "output_type": "execute_result",
          "data": {
            "text/plain": [
              "{'algorithm': 'auto',\n",
              " 'leaf_size': 30,\n",
              " 'metric': 'minkowski',\n",
              " 'metric_params': None,\n",
              " 'n_jobs': None,\n",
              " 'n_neighbors': 5,\n",
              " 'p': 2,\n",
              " 'weights': 'uniform'}"
            ]
          },
          "metadata": {},
          "execution_count": 86
        }
      ]
    },
    {
      "cell_type": "code",
      "source": [
        "KNN_Classifier.fit(x_train, y_train)\n",
        "y_pred = KNN_Classifier.predict(x_test)"
      ],
      "metadata": {
        "id": "RN6dp-CEjUln"
      },
      "execution_count": null,
      "outputs": []
    },
    {
      "cell_type": "code",
      "source": [
        "print('CORRECTAS: ', np.sum(y_test == y_pred))\n",
        "print('TOTAL: ', len(y_test))"
      ],
      "metadata": {
        "colab": {
          "base_uri": "https://localhost:8080/"
        },
        "id": "xkXARxVyjklR",
        "outputId": "e09cffed-c9da-4de9-d9d2-5eac66aadd32"
      },
      "execution_count": null,
      "outputs": [
        {
          "output_type": "stream",
          "name": "stdout",
          "text": [
            "CORRECTAS:  6611\n",
            "TOTAL:  8944\n"
          ]
        }
      ]
    },
    {
      "cell_type": "code",
      "source": [
        "f1_score(y_test, y_pred)"
      ],
      "metadata": {
        "colab": {
          "base_uri": "https://localhost:8080/"
        },
        "id": "HGk8YPTGj2t7",
        "outputId": "5fd8baca-0394-466e-fa45-87c3b6c85bc1"
      },
      "execution_count": null,
      "outputs": [
        {
          "output_type": "execute_result",
          "data": {
            "text/plain": [
              "0.7402872091728823"
            ]
          },
          "metadata": {},
          "execution_count": 89
        }
      ]
    },
    {
      "cell_type": "code",
      "source": [
        "y_pred = KNN_Classifier.predict(df_hotel_test)\n",
        "df_summision = pd.DataFrame({'id': ds_hotel_test['id'], 'is_canceled': y_pred})"
      ],
      "metadata": {
        "id": "hNHdEs3UkSnG"
      },
      "execution_count": null,
      "outputs": []
    },
    {
      "cell_type": "code",
      "source": [
        "#df_summision.to_csv('summit1.csv', index = False)"
      ],
      "metadata": {
        "id": "Jjm01vtgpw-n"
      },
      "execution_count": null,
      "outputs": []
    },
    {
      "cell_type": "markdown",
      "source": [
        "Analizamos el modelo de KNN variando la cantidad de vecinos:"
      ],
      "metadata": {
        "id": "vaauS1_oyAfB"
      }
    },
    {
      "cell_type": "code",
      "source": [
        "metrics = []\n",
        "k_range = range(1, 100)\n",
        "for n in k_range:\n",
        "  knn = KNeighborsClassifier(n_neighbors = n)\n",
        "  knn.fit(x_train, y_train)\n",
        "  y_pred_2 = knn.predict(x_test)\n",
        "  metrics.append((n, (y_test == y_pred_2).sum()))"
      ],
      "metadata": {
        "id": "JESzwAhzrIgq"
      },
      "execution_count": null,
      "outputs": []
    },
    {
      "cell_type": "code",
      "source": [
        "df_metrics = pd.DataFrame(metrics, columns = ['cant_vecinos', 'correctos'])\n",
        "ax = df_metrics.plot(x = 'cant_vecinos',\n",
        "                     y = 'correctos',\n",
        "                     title = 'Aciertos vs Cantidad de Vecinos')\n",
        "ax.set_xlabel('Cantidad de Vecinos')\n",
        "ax.set_ylabel('Cantidad de Aciertos')\n",
        "plt.show()"
      ],
      "metadata": {
        "colab": {
          "base_uri": "https://localhost:8080/",
          "height": 472
        },
        "id": "OIpehHVwyyMf",
        "outputId": "779d2829-c57a-4db3-92cc-c42d09227d67"
      },
      "execution_count": null,
      "outputs": [
        {
          "output_type": "display_data",
          "data": {
            "text/plain": [
              "<Figure size 640x480 with 1 Axes>"
            ],
            "image/png": "[encoded data removed]"
          },
          "metadata": {}
        }
      ]
    },
    {
      "cell_type": "markdown",
      "source": [
        "Vemos que a medida que aumenta la cantidad de vecinos, disminuye la cantidad de aciertos."
      ],
      "metadata": {
        "id": "Gdlt3vyz0L1e"
      }
    },
    {
      "cell_type": "code",
      "source": [
        "k_range = range(1, 50)\n",
        "k_scores = []\n",
        "for k in k_range:\n",
        "  knn = KNeighborsClassifier(n_neighbors = k)\n",
        "  scores = cross_val_score(knn, x_train, y_train, cv = 10, scoring = 'f1')\n",
        "  k_scores.append(scores.mean())"
      ],
      "metadata": {
        "id": "DXFIHBUg44aW"
      },
      "execution_count": null,
      "outputs": []
    },
    {
      "cell_type": "code",
      "source": [
        "plt.plot(k_range, k_scores)\n",
        "plt.xlabel('Cantidad de vecinos')\n",
        "plt.ylabel('Cross validation F1')\n",
        "plt.title('F1 vs Cantidad de Vecinos')\n",
        "plt.show()"
      ],
      "metadata": {
        "colab": {
          "base_uri": "https://localhost:8080/",
          "height": 472
        },
        "id": "2Ua84xoq4_1G",
        "outputId": "c79ff194-6b6f-446d-82ac-00fdcaad8b07"
      },
      "execution_count": null,
      "outputs": [
        {
          "output_type": "display_data",
          "data": {
            "text/plain": [
              "<Figure size 640x480 with 1 Axes>"
            ],
            "image/png": "[encoded data removed]"
          },
          "metadata": {}
        }
      ]
    },
    {
      "cell_type": "markdown",
      "source": [
        "### Optimizacion con hiperparametros"
      ],
      "metadata": {
        "id": "f2rlzuxz7mwX"
      }
    },
    {
      "cell_type": "code",
      "source": [
        "min_max_scaler = preprocessing.MinMaxScaler()\n",
        "x_train_minmax = min_max_scaler.fit_transform(x_train)\n",
        "x_test_minmax = min_max_scaler.transform(x_test)\n",
        "\n",
        "stand_scaler = preprocessing.StandardScaler()\n",
        "x_train_norm = stand_scaler.fit_transform(x_train)\n",
        "x_test_norm = stand_scaler.transform(x_test)"
      ],
      "metadata": {
        "id": "T7qMCdu9YgjY"
      },
      "execution_count": null,
      "outputs": []
    },
    {
      "cell_type": "markdown",
      "source": [
        "#### MinMax Scaler"
      ],
      "metadata": {
        "id": "fyYJS_7baYAd"
      }
    },
    {
      "cell_type": "code",
      "source": [
        "params_grid = {\n",
        "    'n_neighbors' : range(1,15),\n",
        "    'weights' : ['distance', 'uniform'],\n",
        "    'algorithm' : ['ball_tree', 'kd_tree', 'brute'],\n",
        "    'metric' : ['euclidean', 'manhattan', 'chebyshev']\n",
        "}\n",
        "\n",
        "knn = KNeighborsClassifier()\n",
        "rand = RandomizedSearchCV(knn, params_grid, cv = 10, scoring = 'f1', n_iter = 10, random_state = 28)\n",
        "rand.fit(x_train_minmax, y_train)\n",
        "rand.cv_results_['mean_test_score']"
      ],
      "metadata": {
        "colab": {
          "base_uri": "https://localhost:8080/"
        },
        "id": "BAc1Azgt7qTN",
        "outputId": "1de1a496-c9b5-4168-ec00-0f147ae9476d"
      },
      "execution_count": null,
      "outputs": [
        {
          "output_type": "execute_result",
          "data": {
            "text/plain": [
              "array([0.79270522, 0.78923356, 0.83368791, 0.82410496, 0.81919932,\n",
              "       0.83241064, 0.82102981, 0.83319805, 0.82275744, 0.81177129])"
            ]
          },
          "metadata": {},
          "execution_count": 97
        }
      ]
    },
    {
      "cell_type": "code",
      "source": [
        "print(\"Mejores hiperparametros encontrados: \", rand.best_params_)\n",
        "print(rand.best_score_)"
      ],
      "metadata": {
        "colab": {
          "base_uri": "https://localhost:8080/"
        },
        "id": "gL_71JRz96Wi",
        "outputId": "231785b7-c058-4aa9-9229-f360a8175c2b"
      },
      "execution_count": null,
      "outputs": [
        {
          "output_type": "stream",
          "name": "stdout",
          "text": [
            "Mejores hiperparametros encontrados:  {'weights': 'distance', 'n_neighbors': 9, 'metric': 'euclidean', 'algorithm': 'kd_tree'}\n",
            "0.8336879097608332\n"
          ]
        }
      ]
    },
    {
      "cell_type": "code",
      "source": [
        "y_pred = rand.predict(x_test_minmax)"
      ],
      "metadata": {
        "id": "aU-G-PXh-C0d"
      },
      "execution_count": null,
      "outputs": []
    },
    {
      "cell_type": "markdown",
      "source": [
        "##### Matriz de Confusion"
      ],
      "metadata": {
        "id": "SGV7TwlP_1HI"
      }
    },
    {
      "cell_type": "code",
      "source": [
        "matriz = confusion_matrix(y_test, y_pred)\n",
        "sns.heatmap(matriz, cmap = 'cubehelix', annot = True, fmt = 'g')\n",
        "plt.xlabel('Predicted')\n",
        "plt.ylabel('True')"
      ],
      "metadata": {
        "colab": {
          "base_uri": "https://localhost:8080/",
          "height": 467
        },
        "id": "qGk9friQ_8zU",
        "outputId": "b18b7a72-389e-4fb8-ae82-9a43eebac109"
      },
      "execution_count": null,
      "outputs": [
        {
          "output_type": "execute_result",
          "data": {
            "text/plain": [
              "Text(50.722222222222214, 0.5, 'True')"
            ]
          },
          "metadata": {},
          "execution_count": 100
        },
        {
          "output_type": "display_data",
          "data": {
            "text/plain": [
              "<Figure size 640x480 with 2 Axes>"
            ],
            "image/png": "[encoded data removed]"
          },
          "metadata": {}
        }
      ]
    },
    {
      "cell_type": "code",
      "source": [
        "print(classification_report(y_test,y_pred))"
      ],
      "metadata": {
        "colab": {
          "base_uri": "https://localhost:8080/"
        },
        "id": "-_8eHvAFOme9",
        "outputId": "0c55fbef-859c-4393-caf4-8bf3c2f5a64d"
      },
      "execution_count": null,
      "outputs": [
        {
          "output_type": "stream",
          "name": "stdout",
          "text": [
            "              precision    recall  f1-score   support\n",
            "\n",
            "           0       0.85      0.81      0.83      4476\n",
            "           1       0.82      0.86      0.84      4468\n",
            "\n",
            "    accuracy                           0.84      8944\n",
            "   macro avg       0.84      0.84      0.84      8944\n",
            "weighted avg       0.84      0.84      0.84      8944\n",
            "\n"
          ]
        }
      ]
    },
    {
      "cell_type": "code",
      "source": [
        "accuracy = accuracy_score(y_test, y_pred)\n",
        "recall = recall_score(y_test, y_pred)\n",
        "f1 = f1_score(y_test, y_pred)\n",
        "precision = precision_score(y_test, y_pred)\n",
        "\n",
        "print(\"Accuracy: \" + str(accuracy))\n",
        "print(\"Recall: \" + str(recall))\n",
        "print(\"F1-Score: \" + str(f1))\n",
        "print(\"Precision: \" + str(precision))"
      ],
      "metadata": {
        "colab": {
          "base_uri": "https://localhost:8080/"
        },
        "id": "f3Y-WTgOPlrf",
        "outputId": "997a6884-b3c0-4263-ea0f-6fe9321534ee"
      },
      "execution_count": null,
      "outputs": [
        {
          "output_type": "stream",
          "name": "stdout",
          "text": [
            "Accuracy: 0.8350849731663685\n",
            "Recall: 0.8574306177260519\n",
            "F1-Score: 0.838568457918354\n",
            "Precision: 0.8205183122724352\n"
          ]
        }
      ]
    },
    {
      "cell_type": "markdown",
      "source": [
        "##### Guardar Prediccion"
      ],
      "metadata": {
        "id": "ViIABbsAPfzL"
      }
    },
    {
      "cell_type": "code",
      "source": [
        "y_pred_t = rand.predict(df_hotel_test)\n",
        "df_summision = pd.DataFrame({'id': ds_hotel_test['id'], 'is_canceled': y_pred_t})"
      ],
      "metadata": {
        "id": "ZBSoZoK1-MDm"
      },
      "execution_count": null,
      "outputs": []
    },
    {
      "cell_type": "code",
      "source": [
        "df_summision.to_csv('summit_knn_minmax.csv', index = False)"
      ],
      "metadata": {
        "id": "LSlUgHC4-d9J"
      },
      "execution_count": null,
      "outputs": []
    },
    {
      "cell_type": "markdown",
      "source": [
        "#### Norm-scaler"
      ],
      "metadata": {
        "id": "-VAg8LT3aleK"
      }
    },
    {
      "cell_type": "code",
      "source": [
        "params_grid = {\n",
        "    'n_neighbors' : range(1,15),\n",
        "    'weights' : ['distance', 'uniform'],\n",
        "    'algorithm' : ['ball_tree', 'kd_tree', 'brute'],\n",
        "    'metric' : ['euclidean', 'manhattan', 'chebyshev']\n",
        "}\n",
        "\n",
        "knn = KNeighborsClassifier()\n",
        "rand = RandomizedSearchCV(knn, params_grid, cv = 10, scoring = 'f1', n_iter = 10, random_state = 28)\n",
        "rand.fit(x_train_norm, y_train)\n",
        "rand.cv_results_['mean_test_score']"
      ],
      "metadata": {
        "colab": {
          "base_uri": "https://localhost:8080/"
        },
        "id": "1BpVMfBKa9LA",
        "outputId": "6709e425-40c5-497a-abfb-d1a616e204f5"
      },
      "execution_count": null,
      "outputs": [
        {
          "output_type": "execute_result",
          "data": {
            "text/plain": [
              "array([0.78912316, 0.78913428, 0.83389018, 0.82301237, 0.81859773,\n",
              "       0.83130569, 0.81595327, 0.83327779, 0.82220104, 0.81037167])"
            ]
          },
          "metadata": {},
          "execution_count": 23
        }
      ]
    },
    {
      "cell_type": "code",
      "source": [
        "print(\"Mejores hiperparametros encontrados: \", rand.best_params_)\n",
        "print(\"Mejor F1-Score: \", rand.best_score_)"
      ],
      "metadata": {
        "colab": {
          "base_uri": "https://localhost:8080/"
        },
        "id": "bJTjtJTGhvOo",
        "outputId": "cee8e85d-991e-4bc8-a9e3-3244b87a94c0"
      },
      "execution_count": null,
      "outputs": [
        {
          "output_type": "stream",
          "name": "stdout",
          "text": [
            "Mejores hiperparametros encontrados:  {'weights': 'distance', 'n_neighbors': 9, 'metric': 'euclidean', 'algorithm': 'kd_tree'}\n",
            "Mejor F1-Score:  0.8338901836520982\n"
          ]
        }
      ]
    },
    {
      "cell_type": "code",
      "source": [
        "knn_norm = KNeighborsClassifier(**rand.best_params_)\n",
        "knn_norm.fit(x_train_norm, y_train)\n",
        "y_pred_knn_norm = knn_norm.predict(x_test_norm)"
      ],
      "metadata": {
        "id": "wFLKYv5zDBX7"
      },
      "execution_count": null,
      "outputs": []
    },
    {
      "cell_type": "code",
      "source": [
        "import joblib\n",
        "joblib.dump(knn_norm, 'kkn_norm.joblib')"
      ],
      "metadata": {
        "colab": {
          "base_uri": "https://localhost:8080/"
        },
        "id": "v3IAx7fwEbta",
        "outputId": "57ea125c-1d62-44f4-8c56-f9eb9bf80676"
      },
      "execution_count": null,
      "outputs": [
        {
          "output_type": "execute_result",
          "data": {
            "text/plain": [
              "['kkn_norm.joblib']"
            ]
          },
          "metadata": {},
          "execution_count": 29
        }
      ]
    },
    {
      "cell_type": "markdown",
      "source": [
        "##### Matriz de Confusion"
      ],
      "metadata": {
        "id": "b3vzA0pxiCsL"
      }
    },
    {
      "cell_type": "code",
      "source": [
        "matriz = confusion_matrix(y_test, y_pred_knn_norm)\n",
        "sns.heatmap(matriz, cmap = 'cubehelix', annot = True, fmt = 'g')\n",
        "plt.xlabel('Predicted')\n",
        "plt.ylabel('True')"
      ],
      "metadata": {
        "colab": {
          "base_uri": "https://localhost:8080/",
          "height": 467
        },
        "id": "g4_k-XMJiGR3",
        "outputId": "09510afa-b2f7-4303-8fc9-3003c495e8f8"
      },
      "execution_count": null,
      "outputs": [
        {
          "output_type": "execute_result",
          "data": {
            "text/plain": [
              "Text(50.722222222222214, 0.5, 'True')"
            ]
          },
          "metadata": {},
          "execution_count": 30
        },
        {
          "output_type": "display_data",
          "data": {
            "text/plain": [
              "<Figure size 640x480 with 2 Axes>"
            ],
            "image/png": "[encoded data removed]"
          },
          "metadata": {}
        }
      ]
    },
    {
      "cell_type": "code",
      "source": [
        "print(classification_report(y_test,y_pred_knn_norm))"
      ],
      "metadata": {
        "colab": {
          "base_uri": "https://localhost:8080/"
        },
        "id": "ywutnvariMQs",
        "outputId": "3c0aacac-5e19-4863-f276-acbe206c6d2e"
      },
      "execution_count": null,
      "outputs": [
        {
          "output_type": "stream",
          "name": "stdout",
          "text": [
            "              precision    recall  f1-score   support\n",
            "\n",
            "           0       0.85      0.81      0.83      4476\n",
            "           1       0.82      0.86      0.84      4468\n",
            "\n",
            "    accuracy                           0.84      8944\n",
            "   macro avg       0.84      0.84      0.84      8944\n",
            "weighted avg       0.84      0.84      0.84      8944\n",
            "\n"
          ]
        }
      ]
    },
    {
      "cell_type": "markdown",
      "source": [
        "##### Guardar Prediccion"
      ],
      "metadata": {
        "id": "0TeDZ4RriV_W"
      }
    },
    {
      "cell_type": "code",
      "source": [
        "y_pred_t = rand.predict(df_hotel_test)\n",
        "df_summision = pd.DataFrame({'id': ds_hotel_test['id'], 'is_canceled': y_pred_t})"
      ],
      "metadata": {
        "id": "GEPhIFXHiR1e"
      },
      "execution_count": null,
      "outputs": []
    },
    {
      "cell_type": "code",
      "source": [
        "df_summision.to_csv('summit_knn_norm.csv', index = False)"
      ],
      "metadata": {
        "id": "tGBuIJSviZhG"
      },
      "execution_count": null,
      "outputs": []
    }
  ],
  "metadata": {
    "colab": {
      "provenance": []
    },
    "kernelspec": {
      "display_name": "Python 3",
      "name": "python3"
    },
    "language_info": {
      "name": "python"
    }
  },
  "nbformat": 4,
  "nbformat_minor": 0
}