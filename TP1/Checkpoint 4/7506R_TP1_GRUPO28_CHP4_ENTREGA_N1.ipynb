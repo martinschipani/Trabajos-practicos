{
  "cells": [
    {
      "cell_type": "markdown",
      "metadata": {
        "id": "nQdSwkiLeJF9"
      },
      "source": [
        "# <center>Trabajo Práctico N°1 : Reservas de Hotel</center>\n",
        "\n",
        "**Grupo:** N°28 - The Kingdom\n",
        "\n",
        "**Checkpoint N°**: 4\n",
        "\n",
        "**Alumnos**:\n",
        "\n",
        "\n",
        "*   Jurgens, Cecilia Ines\n",
        "*   Schipani, Martin Sebastian\n",
        "*   Soto, Marylin Nicole\n",
        "\n",
        "**Corrector:** Franco Mastelli\n",
        "\n",
        "---\n"
      ]
    },
    {
      "cell_type": "markdown",
      "source": [
        "# Importacion de Librerias"
      ],
      "metadata": {
        "id": "KvLbvrAEaTrW"
      }
    },
    {
      "cell_type": "code",
      "source": [
        "!pip install keras==2.12.0\n",
        "!pip uninstall tensorflow -y\n",
        "!pip install tensorflow==2.12.0"
      ],
      "metadata": {
        "colab": {
          "base_uri": "https://localhost:8080/"
        },
        "id": "eTTkMGGvYSDk",
        "outputId": "9bad0313-bc77-440c-a949-8b9be96aa596"
      },
      "execution_count": 1,
      "outputs": [
        {
          "output_type": "stream",
          "name": "stdout",
          "text": [
            "Collecting keras==2.12.0\n",
            "  Downloading keras-2.12.0-py2.py3-none-any.whl (1.7 MB)\n",
            "\u001b[2K     \u001b[90m━━━━━━━━━━━━━━━━━━━━━━━━━━━━━━━━━━━━━━━━\u001b[0m \u001b[32m1.7/1.7 MB\u001b[0m \u001b[31m10.1 MB/s\u001b[0m eta \u001b[36m0:00:00\u001b[0m\n",
            "\u001b[?25hInstalling collected packages: keras\n",
            "  Attempting uninstall: keras\n",
            "    Found existing installation: keras 2.14.0\n",
            "    Uninstalling keras-2.14.0:\n",
            "      Successfully uninstalled keras-2.14.0\n",
            "\u001b[31mERROR: pip's dependency resolver does not currently take into account all the packages that are installed. This behaviour is the source of the following dependency conflicts.\n",
            "tensorflow 2.14.0 requires keras<2.15,>=2.14.0, but you have keras 2.12.0 which is incompatible.\u001b[0m\u001b[31m\n",
            "\u001b[0mSuccessfully installed keras-2.12.0\n",
            "Found existing installation: tensorflow 2.14.0\n",
            "Uninstalling tensorflow-2.14.0:\n",
            "  Successfully uninstalled tensorflow-2.14.0\n",
            "Collecting tensorflow==2.12.0\n",
            "  Downloading tensorflow-2.12.0-cp310-cp310-manylinux_2_17_x86_64.manylinux2014_x86_64.whl (585.9 MB)\n",
            "\u001b[2K     \u001b[90m━━━━━━━━━━━━━━━━━━━━━━━━━━━━━━━━━━━━━━━━\u001b[0m \u001b[32m585.9/585.9 MB\u001b[0m \u001b[31m2.4 MB/s\u001b[0m eta \u001b[36m0:00:00\u001b[0m\n",
            "\u001b[?25hRequirement already satisfied: absl-py>=1.0.0 in /usr/local/lib/python3.10/dist-packages (from tensorflow==2.12.0) (1.4.0)\n",
            "Requirement already satisfied: astunparse>=1.6.0 in /usr/local/lib/python3.10/dist-packages (from tensorflow==2.12.0) (1.6.3)\n",
            "Requirement already satisfied: flatbuffers>=2.0 in /usr/local/lib/python3.10/dist-packages (from tensorflow==2.12.0) (23.5.26)\n",
            "Collecting gast<=0.4.0,>=0.2.1 (from tensorflow==2.12.0)\n",
            "  Downloading gast-0.4.0-py3-none-any.whl (9.8 kB)\n",
            "Requirement already satisfied: google-pasta>=0.1.1 in /usr/local/lib/python3.10/dist-packages (from tensorflow==2.12.0) (0.2.0)\n",
            "Requirement already satisfied: grpcio<2.0,>=1.24.3 in /usr/local/lib/python3.10/dist-packages (from tensorflow==2.12.0) (1.59.0)\n",
            "Requirement already satisfied: h5py>=2.9.0 in /usr/local/lib/python3.10/dist-packages (from tensorflow==2.12.0) (3.9.0)\n",
            "Requirement already satisfied: jax>=0.3.15 in /usr/local/lib/python3.10/dist-packages (from tensorflow==2.12.0) (0.4.16)\n",
            "Requirement already satisfied: keras<2.13,>=2.12.0 in /usr/local/lib/python3.10/dist-packages (from tensorflow==2.12.0) (2.12.0)\n",
            "Requirement already satisfied: libclang>=13.0.0 in /usr/local/lib/python3.10/dist-packages (from tensorflow==2.12.0) (16.0.6)\n",
            "Requirement already satisfied: numpy<1.24,>=1.22 in /usr/local/lib/python3.10/dist-packages (from tensorflow==2.12.0) (1.23.5)\n",
            "Requirement already satisfied: opt-einsum>=2.3.2 in /usr/local/lib/python3.10/dist-packages (from tensorflow==2.12.0) (3.3.0)\n",
            "Requirement already satisfied: packaging in /usr/local/lib/python3.10/dist-packages (from tensorflow==2.12.0) (23.2)\n",
            "Requirement already satisfied: protobuf!=4.21.0,!=4.21.1,!=4.21.2,!=4.21.3,!=4.21.4,!=4.21.5,<5.0.0dev,>=3.20.3 in /usr/local/lib/python3.10/dist-packages (from tensorflow==2.12.0) (3.20.3)\n",
            "Requirement already satisfied: setuptools in /usr/local/lib/python3.10/dist-packages (from tensorflow==2.12.0) (67.7.2)\n",
            "Requirement already satisfied: six>=1.12.0 in /usr/local/lib/python3.10/dist-packages (from tensorflow==2.12.0) (1.16.0)\n",
            "Collecting tensorboard<2.13,>=2.12 (from tensorflow==2.12.0)\n",
            "  Downloading tensorboard-2.12.3-py3-none-any.whl (5.6 MB)\n",
            "\u001b[2K     \u001b[90m━━━━━━━━━━━━━━━━━━━━━━━━━━━━━━━━━━━━━━━━\u001b[0m \u001b[32m5.6/5.6 MB\u001b[0m \u001b[31m62.8 MB/s\u001b[0m eta \u001b[36m0:00:00\u001b[0m\n",
            "\u001b[?25hCollecting tensorflow-estimator<2.13,>=2.12.0 (from tensorflow==2.12.0)\n",
            "  Downloading tensorflow_estimator-2.12.0-py2.py3-none-any.whl (440 kB)\n",
            "\u001b[2K     \u001b[90m━━━━━━━━━━━━━━━━━━━━━━━━━━━━━━━━━━━━━━━━\u001b[0m \u001b[32m440.7/440.7 kB\u001b[0m \u001b[31m33.3 MB/s\u001b[0m eta \u001b[36m0:00:00\u001b[0m\n",
            "\u001b[?25hRequirement already satisfied: termcolor>=1.1.0 in /usr/local/lib/python3.10/dist-packages (from tensorflow==2.12.0) (2.3.0)\n",
            "Requirement already satisfied: typing-extensions>=3.6.6 in /usr/local/lib/python3.10/dist-packages (from tensorflow==2.12.0) (4.5.0)\n",
            "Requirement already satisfied: wrapt<1.15,>=1.11.0 in /usr/local/lib/python3.10/dist-packages (from tensorflow==2.12.0) (1.14.1)\n",
            "Requirement already satisfied: tensorflow-io-gcs-filesystem>=0.23.1 in /usr/local/lib/python3.10/dist-packages (from tensorflow==2.12.0) (0.34.0)\n",
            "Requirement already satisfied: wheel<1.0,>=0.23.0 in /usr/local/lib/python3.10/dist-packages (from astunparse>=1.6.0->tensorflow==2.12.0) (0.41.2)\n",
            "Requirement already satisfied: ml-dtypes>=0.2.0 in /usr/local/lib/python3.10/dist-packages (from jax>=0.3.15->tensorflow==2.12.0) (0.2.0)\n",
            "Requirement already satisfied: scipy>=1.7 in /usr/local/lib/python3.10/dist-packages (from jax>=0.3.15->tensorflow==2.12.0) (1.11.3)\n",
            "Requirement already satisfied: google-auth<3,>=1.6.3 in /usr/local/lib/python3.10/dist-packages (from tensorboard<2.13,>=2.12->tensorflow==2.12.0) (2.17.3)\n",
            "Requirement already satisfied: google-auth-oauthlib<1.1,>=0.5 in /usr/local/lib/python3.10/dist-packages (from tensorboard<2.13,>=2.12->tensorflow==2.12.0) (1.0.0)\n",
            "Requirement already satisfied: markdown>=2.6.8 in /usr/local/lib/python3.10/dist-packages (from tensorboard<2.13,>=2.12->tensorflow==2.12.0) (3.5)\n",
            "Requirement already satisfied: requests<3,>=2.21.0 in /usr/local/lib/python3.10/dist-packages (from tensorboard<2.13,>=2.12->tensorflow==2.12.0) (2.31.0)\n",
            "Requirement already satisfied: tensorboard-data-server<0.8.0,>=0.7.0 in /usr/local/lib/python3.10/dist-packages (from tensorboard<2.13,>=2.12->tensorflow==2.12.0) (0.7.2)\n",
            "Requirement already satisfied: werkzeug>=1.0.1 in /usr/local/lib/python3.10/dist-packages (from tensorboard<2.13,>=2.12->tensorflow==2.12.0) (3.0.1)\n",
            "Requirement already satisfied: cachetools<6.0,>=2.0.0 in /usr/local/lib/python3.10/dist-packages (from google-auth<3,>=1.6.3->tensorboard<2.13,>=2.12->tensorflow==2.12.0) (5.3.2)\n",
            "Requirement already satisfied: pyasn1-modules>=0.2.1 in /usr/local/lib/python3.10/dist-packages (from google-auth<3,>=1.6.3->tensorboard<2.13,>=2.12->tensorflow==2.12.0) (0.3.0)\n",
            "Requirement already satisfied: rsa<5,>=3.1.4 in /usr/local/lib/python3.10/dist-packages (from google-auth<3,>=1.6.3->tensorboard<2.13,>=2.12->tensorflow==2.12.0) (4.9)\n",
            "Requirement already satisfied: requests-oauthlib>=0.7.0 in /usr/local/lib/python3.10/dist-packages (from google-auth-oauthlib<1.1,>=0.5->tensorboard<2.13,>=2.12->tensorflow==2.12.0) (1.3.1)\n",
            "Requirement already satisfied: charset-normalizer<4,>=2 in /usr/local/lib/python3.10/dist-packages (from requests<3,>=2.21.0->tensorboard<2.13,>=2.12->tensorflow==2.12.0) (3.3.1)\n",
            "Requirement already satisfied: idna<4,>=2.5 in /usr/local/lib/python3.10/dist-packages (from requests<3,>=2.21.0->tensorboard<2.13,>=2.12->tensorflow==2.12.0) (3.4)\n",
            "Requirement already satisfied: urllib3<3,>=1.21.1 in /usr/local/lib/python3.10/dist-packages (from requests<3,>=2.21.0->tensorboard<2.13,>=2.12->tensorflow==2.12.0) (2.0.7)\n",
            "Requirement already satisfied: certifi>=2017.4.17 in /usr/local/lib/python3.10/dist-packages (from requests<3,>=2.21.0->tensorboard<2.13,>=2.12->tensorflow==2.12.0) (2023.7.22)\n",
            "Requirement already satisfied: MarkupSafe>=2.1.1 in /usr/local/lib/python3.10/dist-packages (from werkzeug>=1.0.1->tensorboard<2.13,>=2.12->tensorflow==2.12.0) (2.1.3)\n",
            "Requirement already satisfied: pyasn1<0.6.0,>=0.4.6 in /usr/local/lib/python3.10/dist-packages (from pyasn1-modules>=0.2.1->google-auth<3,>=1.6.3->tensorboard<2.13,>=2.12->tensorflow==2.12.0) (0.5.0)\n",
            "Requirement already satisfied: oauthlib>=3.0.0 in /usr/local/lib/python3.10/dist-packages (from requests-oauthlib>=0.7.0->google-auth-oauthlib<1.1,>=0.5->tensorboard<2.13,>=2.12->tensorflow==2.12.0) (3.2.2)\n",
            "Installing collected packages: tensorflow-estimator, gast, tensorboard, tensorflow\n",
            "  Attempting uninstall: tensorflow-estimator\n",
            "    Found existing installation: tensorflow-estimator 2.14.0\n",
            "    Uninstalling tensorflow-estimator-2.14.0:\n",
            "      Successfully uninstalled tensorflow-estimator-2.14.0\n",
            "  Attempting uninstall: gast\n",
            "    Found existing installation: gast 0.5.4\n",
            "    Uninstalling gast-0.5.4:\n",
            "      Successfully uninstalled gast-0.5.4\n",
            "  Attempting uninstall: tensorboard\n",
            "    Found existing installation: tensorboard 2.14.1\n",
            "    Uninstalling tensorboard-2.14.1:\n",
            "      Successfully uninstalled tensorboard-2.14.1\n",
            "Successfully installed gast-0.4.0 tensorboard-2.12.3 tensorflow-2.12.0 tensorflow-estimator-2.12.0\n"
          ]
        }
      ]
    },
    {
      "cell_type": "code",
      "source": [
        "import matplotlib.pyplot as plt\n",
        "import seaborn as sns\n",
        "\n",
        "import pandas as pd\n",
        "import numpy as np\n",
        "import sklearn as sk\n",
        "import random\n",
        "\n",
        "from sklearn.metrics import make_scorer, f1_score, recall_score, precision_score, accuracy_score, confusion_matrix, classification_report\n",
        "from sklearn.preprocessing import StandardScaler\n",
        "from sklearn.model_selection import train_test_split, StratifiedKFold, RandomizedSearchCV\n",
        "\n",
        "import tensorflow as tf\n",
        "from tensorflow import keras\n",
        "from keras.wrappers.scikit_learn import KerasClassifier\n",
        "\n",
        "random.seed(1)\n",
        "np.random.seed(1)\n",
        "tf.random.set_seed(1)\n",
        "\n",
        "import warnings\n",
        "warnings.filterwarnings('ignore', category = DeprecationWarning)"
      ],
      "metadata": {
        "id": "aS8Ks6KZYlpN"
      },
      "execution_count": 3,
      "outputs": []
    },
    {
      "cell_type": "markdown",
      "source": [
        "#Importacion datasets"
      ],
      "metadata": {
        "id": "y3elMSE6amPX"
      }
    },
    {
      "cell_type": "code",
      "source": [
        "df_hotel_train_original = pd.read_csv('df_hotel_train_clean.csv')\n",
        "df_hotel_train = df_hotel_train_original.copy()\n",
        "df_hotel_test_original = pd.read_csv('df_hotel_test_clean.csv')\n",
        "df_hotel_test = df_hotel_test_original.copy()"
      ],
      "metadata": {
        "id": "VPddBHdRaRZB"
      },
      "execution_count": 34,
      "outputs": []
    },
    {
      "cell_type": "code",
      "source": [
        "df_test = pd.read_csv('hotels_test.csv')"
      ],
      "metadata": {
        "id": "roQs89QBda6X"
      },
      "execution_count": 35,
      "outputs": []
    },
    {
      "cell_type": "code",
      "source": [
        "print(\"El dataframe train tiene \"f\" {df_hotel_train.shape[0]} \"\"filas y \"f\"{df_hotel_train.shape[1]} \"\"columnas.\")\n",
        "print(\"El dataframe test tiene \"f\" {df_hotel_test.shape[0]} \"\"filas y \"f\"{df_hotel_test.shape[1]} \"\"columnas.\")"
      ],
      "metadata": {
        "colab": {
          "base_uri": "https://localhost:8080/"
        },
        "id": "h_kBmx_CbUVV",
        "outputId": "dd157740-fd3d-4e59-8104-023f1ad31035"
      },
      "execution_count": 36,
      "outputs": [
        {
          "output_type": "stream",
          "name": "stdout",
          "text": [
            "El dataframe train tiene  59640 filas y 60 columnas.\n",
            "El dataframe test tiene  26535 filas y 59 columnas.\n"
          ]
        }
      ]
    },
    {
      "cell_type": "markdown",
      "source": [
        "# Red Neuronal 1"
      ],
      "metadata": {
        "id": "K0EMMfXMbxjF"
      }
    },
    {
      "cell_type": "markdown",
      "source": [
        "Realizamos una pratcion del 20% del dataframe de entrenamiento."
      ],
      "metadata": {
        "id": "fWPLCdBkN3aw"
      }
    },
    {
      "cell_type": "code",
      "source": [
        "df_hotel_train_x = df_hotel_train.drop(['is_canceled'], axis = 'columns', inplace = False)\n",
        "df_hotel_train_y = df_hotel_train['is_canceled'].copy()\n",
        "\n",
        "x_train, x_test, y_train, y_test = train_test_split(df_hotel_train_x,\n",
        "                                                    df_hotel_train_y,\n",
        "                                                    test_size= 0.2,\n",
        "                                                    random_state = 28)"
      ],
      "metadata": {
        "id": "umLtGTT8ccEr"
      },
      "execution_count": 37,
      "outputs": []
    },
    {
      "cell_type": "markdown",
      "source": [
        "## Normalizacion de los datos"
      ],
      "metadata": {
        "id": "xgAsMlVVt1uF"
      }
    },
    {
      "cell_type": "markdown",
      "source": [
        "Normalizamos los datos con un StandardScaler  y asi mejorar el rendimiento."
      ],
      "metadata": {
        "id": "wC5aQBNXN9KO"
      }
    },
    {
      "cell_type": "code",
      "source": [
        "x_train.columns"
      ],
      "metadata": {
        "colab": {
          "base_uri": "https://localhost:8080/"
        },
        "id": "bQjQ2WSggUYw",
        "outputId": "b113327c-6144-4e0b-f5ae-c7e50f82ab4a"
      },
      "execution_count": 38,
      "outputs": [
        {
          "output_type": "execute_result",
          "data": {
            "text/plain": [
              "Index(['lead_time', 'arrival_date_year', 'arrival_date_month',\n",
              "       'arrival_date_week_number', 'arrival_date_day_of_month',\n",
              "       'stays_in_weekend_nights', 'stays_in_week_nights', 'adults', 'children',\n",
              "       'babies', 'is_repeated_guest', 'previous_cancellations',\n",
              "       'reserved_room_type', 'booking_changes', 'agent',\n",
              "       'days_in_waiting_list', 'adr', 'required_car_parking_spaces',\n",
              "       'total_of_special_requests', 'total_days', 'hotel_Resort Hotel',\n",
              "       'meal_FB', 'meal_HB', 'meal_SC', 'meal_Undefined', 'country_BEL',\n",
              "       'country_BRA', 'country_CHE', 'country_CHN', 'country_CN',\n",
              "       'country_DEU', 'country_ESP', 'country_FRA', 'country_GBR',\n",
              "       'country_IRL', 'country_ISR', 'country_ITA', 'country_NLD',\n",
              "       'country_NOR', 'country_POL', 'country_PRT', 'country_RUS',\n",
              "       'country_SWE', 'country_USA', 'country_other',\n",
              "       'market_segment_Complementary', 'market_segment_Corporate',\n",
              "       'market_segment_Direct', 'market_segment_Groups',\n",
              "       'market_segment_Offline TA/TO', 'market_segment_Online TA',\n",
              "       'distribution_channel_Direct', 'distribution_channel_GDS',\n",
              "       'distribution_channel_TA/TO', 'deposit_type_Non Refund',\n",
              "       'deposit_type_Refundable', 'customer_type_Group',\n",
              "       'customer_type_Transient', 'customer_type_Transient-Party'],\n",
              "      dtype='object')"
            ]
          },
          "metadata": {},
          "execution_count": 38
        }
      ]
    },
    {
      "cell_type": "code",
      "source": [
        "valores_numericos_normalizar = ['lead_time', 'arrival_date_year', 'arrival_date_month', 'arrival_date_week_number',\n",
        "                                'arrival_date_day_of_month', 'stays_in_weekend_nights', 'stays_in_week_nights',\n",
        "                                'adults', 'children', 'babies', 'is_repeated_guest', 'previous_cancellations',\n",
        "                                'reserved_room_type', 'booking_changes', 'agent','days_in_waiting_list', 'adr',\n",
        "                                'required_car_parking_spaces', 'total_of_special_requests', 'total_days']"
      ],
      "metadata": {
        "id": "x1jCn4V3gPh0"
      },
      "execution_count": 39,
      "outputs": []
    },
    {
      "cell_type": "code",
      "source": [
        "df_predic_normalizar = df_hotel_test[valores_numericos_normalizar]\n",
        "df_train_norm = x_train[valores_numericos_normalizar]\n",
        "df_test_norm = x_test[valores_numericos_normalizar]"
      ],
      "metadata": {
        "id": "2TTIfVV4mCMI"
      },
      "execution_count": 40,
      "outputs": []
    },
    {
      "cell_type": "code",
      "source": [
        "scaler = StandardScaler()\n",
        "scaler.fit(df_train_norm)"
      ],
      "metadata": {
        "colab": {
          "base_uri": "https://localhost:8080/",
          "height": 0
        },
        "id": "OSGHi7hrMhPx",
        "outputId": "5b1c35ce-0a9d-4a0c-d401-8ceba686ff3c"
      },
      "execution_count": 41,
      "outputs": [
        {
          "output_type": "execute_result",
          "data": {
            "text/plain": [
              "StandardScaler()"
            ],
            "text/html": [
              "<style>#sk-container-id-3 {color: black;background-color: white;}#sk-container-id-3 pre{padding: 0;}#sk-container-id-3 div.sk-toggleable {background-color: white;}#sk-container-id-3 label.sk-toggleable__label {cursor: pointer;display: block;width: 100%;margin-bottom: 0;padding: 0.3em;box-sizing: border-box;text-align: center;}#sk-container-id-3 label.sk-toggleable__label-arrow:before {content: \"▸\";float: left;margin-right: 0.25em;color: #696969;}#sk-container-id-3 label.sk-toggleable__label-arrow:hover:before {color: black;}#sk-container-id-3 div.sk-estimator:hover label.sk-toggleable__label-arrow:before {color: black;}#sk-container-id-3 div.sk-toggleable__content {max-height: 0;max-width: 0;overflow: hidden;text-align: left;background-color: #f0f8ff;}#sk-container-id-3 div.sk-toggleable__content pre {margin: 0.2em;color: black;border-radius: 0.25em;background-color: #f0f8ff;}#sk-container-id-3 input.sk-toggleable__control:checked~div.sk-toggleable__content {max-height: 200px;max-width: 100%;overflow: auto;}#sk-container-id-3 input.sk-toggleable__control:checked~label.sk-toggleable__label-arrow:before {content: \"▾\";}#sk-container-id-3 div.sk-estimator input.sk-toggleable__control:checked~label.sk-toggleable__label {background-color: #d4ebff;}#sk-container-id-3 div.sk-label input.sk-toggleable__control:checked~label.sk-toggleable__label {background-color: #d4ebff;}#sk-container-id-3 input.sk-hidden--visually {border: 0;clip: rect(1px 1px 1px 1px);clip: rect(1px, 1px, 1px, 1px);height: 1px;margin: -1px;overflow: hidden;padding: 0;position: absolute;width: 1px;}#sk-container-id-3 div.sk-estimator {font-family: monospace;background-color: #f0f8ff;border: 1px dotted black;border-radius: 0.25em;box-sizing: border-box;margin-bottom: 0.5em;}#sk-container-id-3 div.sk-estimator:hover {background-color: #d4ebff;}#sk-container-id-3 div.sk-parallel-item::after {content: \"\";width: 100%;border-bottom: 1px solid gray;flex-grow: 1;}#sk-container-id-3 div.sk-label:hover label.sk-toggleable__label {background-color: #d4ebff;}#sk-container-id-3 div.sk-serial::before {content: \"\";position: absolute;border-left: 1px solid gray;box-sizing: border-box;top: 0;bottom: 0;left: 50%;z-index: 0;}#sk-container-id-3 div.sk-serial {display: flex;flex-direction: column;align-items: center;background-color: white;padding-right: 0.2em;padding-left: 0.2em;position: relative;}#sk-container-id-3 div.sk-item {position: relative;z-index: 1;}#sk-container-id-3 div.sk-parallel {display: flex;align-items: stretch;justify-content: center;background-color: white;position: relative;}#sk-container-id-3 div.sk-item::before, #sk-container-id-3 div.sk-parallel-item::before {content: \"\";position: absolute;border-left: 1px solid gray;box-sizing: border-box;top: 0;bottom: 0;left: 50%;z-index: -1;}#sk-container-id-3 div.sk-parallel-item {display: flex;flex-direction: column;z-index: 1;position: relative;background-color: white;}#sk-container-id-3 div.sk-parallel-item:first-child::after {align-self: flex-end;width: 50%;}#sk-container-id-3 div.sk-parallel-item:last-child::after {align-self: flex-start;width: 50%;}#sk-container-id-3 div.sk-parallel-item:only-child::after {width: 0;}#sk-container-id-3 div.sk-dashed-wrapped {border: 1px dashed gray;margin: 0 0.4em 0.5em 0.4em;box-sizing: border-box;padding-bottom: 0.4em;background-color: white;}#sk-container-id-3 div.sk-label label {font-family: monospace;font-weight: bold;display: inline-block;line-height: 1.2em;}#sk-container-id-3 div.sk-label-container {text-align: center;}#sk-container-id-3 div.sk-container {/* jupyter's `normalize.less` sets `[hidden] { display: none; }` but bootstrap.min.css set `[hidden] { display: none !important; }` so we also need the `!important` here to be able to override the default hidden behavior on the sphinx rendered scikit-learn.org. See: https://github.com/scikit-learn/scikit-learn/issues/21755 */display: inline-block !important;position: relative;}#sk-container-id-3 div.sk-text-repr-fallback {display: none;}</style><div id=\"sk-container-id-3\" class=\"sk-top-container\"><div class=\"sk-text-repr-fallback\"><pre>StandardScaler()</pre><b>In a Jupyter environment, please rerun this cell to show the HTML representation or trust the notebook. <br />On GitHub, the HTML representation is unable to render, please try loading this page with nbviewer.org.</b></div><div class=\"sk-container\" hidden><div class=\"sk-item\"><div class=\"sk-estimator sk-toggleable\"><input class=\"sk-toggleable__control sk-hidden--visually\" id=\"sk-estimator-id-3\" type=\"checkbox\" checked><label for=\"sk-estimator-id-3\" class=\"sk-toggleable__label sk-toggleable__label-arrow\">StandardScaler</label><div class=\"sk-toggleable__content\"><pre>StandardScaler()</pre></div></div></div></div></div>"
            ]
          },
          "metadata": {},
          "execution_count": 41
        }
      ]
    },
    {
      "cell_type": "code",
      "source": [
        "x_train_transform_1 = scaler.transform(df_train_norm)\n",
        "x_test_transform_1 = scaler.transform(df_test_norm)\n",
        "df_predict_transform_1 = scaler.transform(df_predic_normalizar)"
      ],
      "metadata": {
        "id": "UwJutwCshs2_"
      },
      "execution_count": 42,
      "outputs": []
    },
    {
      "cell_type": "code",
      "source": [
        "x_train_escalado = x_train.copy()\n",
        "x_test_escalado = x_test.copy()\n",
        "df_test_escalado = df_hotel_test.copy()"
      ],
      "metadata": {
        "id": "gCZvXA3YiJ6Y"
      },
      "execution_count": 43,
      "outputs": []
    },
    {
      "cell_type": "code",
      "source": [
        "for i in range(len(valores_numericos_normalizar)):\n",
        "  x_train_escalado[valores_numericos_normalizar[i]] = x_train_transform_1[:,i]\n",
        "  x_test_escalado[valores_numericos_normalizar[i]] = x_test_transform_1[:,i]\n",
        "  df_test_escalado[valores_numericos_normalizar[i]] = df_predict_transform_1[:,i]"
      ],
      "metadata": {
        "id": "DfiqoKqZidmg"
      },
      "execution_count": 44,
      "outputs": []
    },
    {
      "cell_type": "markdown",
      "source": [
        "## Busqueda de Hiperparametros"
      ],
      "metadata": {
        "id": "l24nzUfguDUn"
      }
    },
    {
      "cell_type": "code",
      "source": [
        "from keras.layers.serialization import activation\n",
        "d_in = len(x_train_escalado.columns)\n",
        "cant_classes = len(np.unique(x_train))\n",
        "\n",
        "def create_model_nn(neuronas, learning_rate, beta_1, beta_2, epsilon):\n",
        "  model_nn = keras.Sequential([\n",
        "      keras.layers.Dense(d_in, input_shape = (d_in,)),\n",
        "      keras.layers.Dense(neuronas, activation = 'tanh'),\n",
        "      keras.layers.Dense(1, activation = 'sigmoid')\n",
        "  ])\n",
        "\n",
        "  model_nn.compile(\n",
        "      optimizer = keras.optimizers.Nadam(learning_rate = learning_rate,\n",
        "                                         beta_1 = beta_1,\n",
        "                                         beta_2 = beta_2,\n",
        "                                         epsilon = epsilon),\n",
        "      loss = 'binary_crossentropy',\n",
        "      metrics = ['AUC'],\n",
        "  )\n",
        "  return model_nn\n",
        "\n",
        "\n",
        "nn_clasificador = KerasClassifier(build_fn = create_model_nn, verbose = 3)\n",
        "\n",
        "params_grid = {\n",
        "    'neuronas': list(range(10,60)),\n",
        "    'learning_rate': [0.1, 0.01, 0.001, 0.0001],\n",
        "    'beta_1': [0.8, 0.85, 0.9, 0.95, 0.99],\n",
        "    'beta_2': [0.99, 0.999],\n",
        "    'epsilon': [1e-6, 1e-7, 1e-8, 1e-9],\n",
        "    'batch_size':[5, 10, 15, 20, 25, 30, 35, 40],\n",
        "    #'epochs': [100, 200]\n",
        "}\n",
        "\n",
        "folds = 5\n",
        "\n",
        "kfoldcv = StratifiedKFold(n_splits = folds)\n",
        "scorer_fn = make_scorer(sk.metrics.f1_score)\n",
        "\n",
        "randomcv = RandomizedSearchCV(estimator = nn_clasificador,\n",
        "                              param_distributions = params_grid,\n",
        "                              scoring = scorer_fn,\n",
        "                              cv = kfoldcv,\n",
        "                              #error_score = 'raise',\n",
        "                              random_state = 28)\n",
        "\n",
        "nn_random = randomcv.fit(x_train_escalado, y_train)"
      ],
      "metadata": {
        "colab": {
          "base_uri": "https://localhost:8080/"
        },
        "id": "i6jE3avmRdMA",
        "outputId": "f7e3c94f-24ed-4e9a-ec78-a41828c2725f"
      },
      "execution_count": 50,
      "outputs": [
        {
          "output_type": "stream",
          "name": "stdout",
          "text": [
            "299/299 [==============================] - 1s 1ms/step\n",
            "299/299 [==============================] - 1s 3ms/step\n",
            "299/299 [==============================] - 0s 1ms/step\n",
            "299/299 [==============================] - 1s 2ms/step\n",
            "299/299 [==============================] - 0s 1ms/step\n",
            "299/299 [==============================] - 1s 3ms/step\n",
            "299/299 [==============================] - 1s 2ms/step\n",
            "299/299 [==============================] - 1s 2ms/step\n",
            "299/299 [==============================] - 0s 1ms/step\n",
            "299/299 [==============================] - 2s 6ms/step\n",
            "299/299 [==============================] - 1s 1ms/step\n",
            "299/299 [==============================] - 1s 3ms/step\n",
            "299/299 [==============================] - 1s 2ms/step\n",
            "299/299 [==============================] - 0s 1ms/step\n",
            "299/299 [==============================] - 1s 2ms/step\n",
            "299/299 [==============================] - 1s 2ms/step\n",
            "299/299 [==============================] - 1s 1ms/step\n",
            "299/299 [==============================] - 1s 2ms/step\n",
            "299/299 [==============================] - 1s 2ms/step\n",
            "299/299 [==============================] - 0s 1ms/step\n",
            "299/299 [==============================] - 1s 2ms/step\n",
            "299/299 [==============================] - 1s 1ms/step\n",
            "299/299 [==============================] - 1s 3ms/step\n",
            "299/299 [==============================] - 1s 1ms/step\n",
            "299/299 [==============================] - 0s 1ms/step\n",
            "299/299 [==============================] - 1s 2ms/step\n",
            "299/299 [==============================] - 0s 1ms/step\n",
            "299/299 [==============================] - 0s 1ms/step\n",
            "299/299 [==============================] - 1s 2ms/step\n",
            "299/299 [==============================] - 0s 1ms/step\n",
            "299/299 [==============================] - 1s 2ms/step\n",
            "299/299 [==============================] - 1s 2ms/step\n",
            "299/299 [==============================] - 0s 1ms/step\n",
            "299/299 [==============================] - 1s 2ms/step\n",
            "299/299 [==============================] - 0s 1ms/step\n",
            "299/299 [==============================] - 1s 2ms/step\n",
            "299/299 [==============================] - 1s 3ms/step\n",
            "299/299 [==============================] - 1s 2ms/step\n",
            "299/299 [==============================] - 1s 1ms/step\n",
            "299/299 [==============================] - 1s 2ms/step\n",
            "299/299 [==============================] - 0s 1ms/step\n",
            "299/299 [==============================] - 0s 1ms/step\n",
            "299/299 [==============================] - 1s 2ms/step\n",
            "299/299 [==============================] - 1s 1ms/step\n",
            "299/299 [==============================] - 1s 2ms/step\n",
            "299/299 [==============================] - 1s 2ms/step\n",
            "299/299 [==============================] - 0s 1ms/step\n",
            "299/299 [==============================] - 0s 1ms/step\n",
            "299/299 [==============================] - 0s 1ms/step\n",
            "299/299 [==============================] - 1s 1ms/step\n"
          ]
        }
      ]
    },
    {
      "cell_type": "code",
      "source": [
        "print('Mejores hiperparametros: ', nn_random.best_params_)\n",
        "print(nn_random.best_score_)"
      ],
      "metadata": {
        "colab": {
          "base_uri": "https://localhost:8080/"
        },
        "id": "9uVrQy4SQ-2J",
        "outputId": "649bb6e9-1df6-4e92-86c6-03666f292c51"
      },
      "execution_count": 51,
      "outputs": [
        {
          "output_type": "stream",
          "name": "stdout",
          "text": [
            "Mejores hiperparametros:  {'neuronas': 27, 'learning_rate': 0.001, 'epsilon': 1e-08, 'beta_2': 0.99, 'beta_1': 0.85, 'batch_size': 20}\n",
            "0.801950521103071\n"
          ]
        }
      ]
    },
    {
      "cell_type": "code",
      "source": [
        "best_fit = nn_random.best_estimator_\n",
        "predict_y_test = best_fit.predict(x_test_escalado)"
      ],
      "metadata": {
        "colab": {
          "base_uri": "https://localhost:8080/"
        },
        "id": "kmcC_cfLRd7c",
        "outputId": "dbd2b0ea-c89c-4b36-edc7-9ee462a4d7ab"
      },
      "execution_count": 52,
      "outputs": [
        {
          "output_type": "stream",
          "name": "stdout",
          "text": [
            "373/373 [==============================] - 1s 2ms/step\n"
          ]
        }
      ]
    },
    {
      "cell_type": "markdown",
      "source": [
        "## Entrenamiento"
      ],
      "metadata": {
        "id": "BwRQ7l-dR8MD"
      }
    },
    {
      "cell_type": "code",
      "source": [
        "d_in = len(x_train_escalado.columns)\n",
        "cant_classes = len(np.unique(x_train))\n",
        "\n",
        "nn_model = keras.Sequential([\n",
        "    keras.layers.Dense(60, input_shape = (d_in,)),\n",
        "    keras.layers.Dense(29, activation = 'tanh'),\n",
        "    keras.layers.Dense(1, activation = 'sigmoid')\n",
        "])\n",
        "\n",
        "nn_model.summary()"
      ],
      "metadata": {
        "colab": {
          "base_uri": "https://localhost:8080/"
        },
        "id": "OZGmDkliR6c6",
        "outputId": "03856f78-a004-42e0-9150-21468de35570"
      },
      "execution_count": 54,
      "outputs": [
        {
          "output_type": "stream",
          "name": "stdout",
          "text": [
            "Model: \"sequential_157\"\n",
            "_________________________________________________________________\n",
            " Layer (type)                Output Shape              Param #   \n",
            "=================================================================\n",
            " dense_471 (Dense)           (None, 60)                3600      \n",
            "                                                                 \n",
            " dense_472 (Dense)           (None, 29)                1769      \n",
            "                                                                 \n",
            " dense_473 (Dense)           (None, 1)                 30        \n",
            "                                                                 \n",
            "=================================================================\n",
            "Total params: 5,399\n",
            "Trainable params: 5,399\n",
            "Non-trainable params: 0\n",
            "_________________________________________________________________\n"
          ]
        }
      ]
    },
    {
      "cell_type": "code",
      "source": [
        "nn_model.compile(\n",
        "    optimizer = keras.optimizers.Nadam(learning_rate = 0.001, beta_1 = 0.85, beta_2 = 0.99, epsilon = 1e-08),\n",
        "    loss = 'binary_crossentropy',\n",
        "    metrics = ['AUC']\n",
        ")\n",
        "\n",
        "callback = keras.callbacks.EarlyStopping(monitor = 'loss', min_delta = 0.001, patience = 10)\n",
        "cant_epochs = 100\n",
        "nn_model_history = nn_model.fit(x_train_escalado, y_train, epochs = cant_epochs, batch_size = 20, verbose = True, callbacks = [callback])\n"
      ],
      "metadata": {
        "colab": {
          "base_uri": "https://localhost:8080/"
        },
        "id": "1DUZgFVjS9wb",
        "outputId": "02ac78df-95fd-405b-d614-b9a3d0996a9c"
      },
      "execution_count": 55,
      "outputs": [
        {
          "output_type": "stream",
          "name": "stdout",
          "text": [
            "Epoch 1/100\n",
            "2386/2386 [==============================] - 9s 3ms/step - loss: 0.4005 - auc: 0.8921\n",
            "Epoch 2/100\n",
            "2386/2386 [==============================] - 10s 4ms/step - loss: 0.3578 - auc: 0.9151\n",
            "Epoch 3/100\n",
            "2386/2386 [==============================] - 7s 3ms/step - loss: 0.3441 - auc: 0.9223\n",
            "Epoch 4/100\n",
            "2386/2386 [==============================] - 8s 3ms/step - loss: 0.3351 - auc: 0.9269\n",
            "Epoch 5/100\n",
            "2386/2386 [==============================] - 5s 2ms/step - loss: 0.3292 - auc: 0.9297\n",
            "Epoch 6/100\n",
            "2386/2386 [==============================] - 8s 3ms/step - loss: 0.3252 - auc: 0.9316\n",
            "Epoch 7/100\n",
            "2386/2386 [==============================] - 6s 2ms/step - loss: 0.3219 - auc: 0.9329\n",
            "Epoch 8/100\n",
            "2386/2386 [==============================] - 5s 2ms/step - loss: 0.3189 - auc: 0.9343\n",
            "Epoch 9/100\n",
            "2386/2386 [==============================] - 8s 3ms/step - loss: 0.3171 - auc: 0.9350\n",
            "Epoch 10/100\n",
            "2386/2386 [==============================] - 5s 2ms/step - loss: 0.3143 - auc: 0.9363\n",
            "Epoch 11/100\n",
            "2386/2386 [==============================] - 6s 3ms/step - loss: 0.3132 - auc: 0.9368\n",
            "Epoch 12/100\n",
            "2386/2386 [==============================] - 7s 3ms/step - loss: 0.3116 - auc: 0.9374\n",
            "Epoch 13/100\n",
            "2386/2386 [==============================] - 5s 2ms/step - loss: 0.3099 - auc: 0.9381\n",
            "Epoch 14/100\n",
            "2386/2386 [==============================] - 7s 3ms/step - loss: 0.3082 - auc: 0.9390\n",
            "Epoch 15/100\n",
            "2386/2386 [==============================] - 5s 2ms/step - loss: 0.3069 - auc: 0.9394\n",
            "Epoch 16/100\n",
            "2386/2386 [==============================] - 5s 2ms/step - loss: 0.3067 - auc: 0.9395\n",
            "Epoch 17/100\n",
            "2386/2386 [==============================] - 7s 3ms/step - loss: 0.3060 - auc: 0.9399\n",
            "Epoch 18/100\n",
            "2386/2386 [==============================] - 5s 2ms/step - loss: 0.3050 - auc: 0.9403\n",
            "Epoch 19/100\n",
            "2386/2386 [==============================] - 6s 2ms/step - loss: 0.3039 - auc: 0.9407\n",
            "Epoch 20/100\n",
            "2386/2386 [==============================] - 7s 3ms/step - loss: 0.3039 - auc: 0.9407\n",
            "Epoch 21/100\n",
            "2386/2386 [==============================] - 5s 2ms/step - loss: 0.3030 - auc: 0.9411\n",
            "Epoch 22/100\n",
            "2386/2386 [==============================] - 8s 3ms/step - loss: 0.3028 - auc: 0.9412\n",
            "Epoch 23/100\n",
            "2386/2386 [==============================] - 8s 4ms/step - loss: 0.3026 - auc: 0.9413\n",
            "Epoch 24/100\n",
            "2386/2386 [==============================] - 6s 3ms/step - loss: 0.3010 - auc: 0.9419\n",
            "Epoch 25/100\n",
            "2386/2386 [==============================] - 7s 3ms/step - loss: 0.3006 - auc: 0.9421\n",
            "Epoch 26/100\n",
            "2386/2386 [==============================] - 6s 2ms/step - loss: 0.2997 - auc: 0.9425\n",
            "Epoch 27/100\n",
            "2386/2386 [==============================] - 8s 3ms/step - loss: 0.2996 - auc: 0.9426\n",
            "Epoch 28/100\n",
            "2386/2386 [==============================] - 6s 2ms/step - loss: 0.2997 - auc: 0.9426\n",
            "Epoch 29/100\n",
            "2386/2386 [==============================] - 7s 3ms/step - loss: 0.2990 - auc: 0.9428\n",
            "Epoch 30/100\n",
            "2386/2386 [==============================] - 6s 3ms/step - loss: 0.2983 - auc: 0.9431\n",
            "Epoch 31/100\n",
            "2386/2386 [==============================] - 5s 2ms/step - loss: 0.2979 - auc: 0.9433\n",
            "Epoch 32/100\n",
            "2386/2386 [==============================] - 8s 3ms/step - loss: 0.2972 - auc: 0.9435\n",
            "Epoch 33/100\n",
            "2386/2386 [==============================] - 5s 2ms/step - loss: 0.2977 - auc: 0.9434\n",
            "Epoch 34/100\n",
            "2386/2386 [==============================] - 6s 2ms/step - loss: 0.2974 - auc: 0.9435\n",
            "Epoch 35/100\n",
            "2386/2386 [==============================] - 7s 3ms/step - loss: 0.2975 - auc: 0.9434\n",
            "Epoch 36/100\n",
            "2386/2386 [==============================] - 5s 2ms/step - loss: 0.2970 - auc: 0.9437\n",
            "Epoch 37/100\n",
            "2386/2386 [==============================] - 6s 3ms/step - loss: 0.2966 - auc: 0.9439\n",
            "Epoch 38/100\n",
            "2386/2386 [==============================] - 6s 3ms/step - loss: 0.2965 - auc: 0.9438\n",
            "Epoch 39/100\n",
            "2386/2386 [==============================] - 5s 2ms/step - loss: 0.2956 - auc: 0.9442\n",
            "Epoch 40/100\n",
            "2386/2386 [==============================] - 7s 3ms/step - loss: 0.2961 - auc: 0.9440\n",
            "Epoch 41/100\n",
            "2386/2386 [==============================] - 5s 2ms/step - loss: 0.2953 - auc: 0.9443\n",
            "Epoch 42/100\n",
            "2386/2386 [==============================] - 5s 2ms/step - loss: 0.2946 - auc: 0.9446\n",
            "Epoch 43/100\n",
            "2386/2386 [==============================] - 7s 3ms/step - loss: 0.2953 - auc: 0.9443\n",
            "Epoch 44/100\n",
            "2386/2386 [==============================] - 5s 2ms/step - loss: 0.2946 - auc: 0.9445\n",
            "Epoch 45/100\n",
            "2386/2386 [==============================] - 5s 2ms/step - loss: 0.2949 - auc: 0.9445\n",
            "Epoch 46/100\n",
            "2386/2386 [==============================] - 7s 3ms/step - loss: 0.2939 - auc: 0.9448\n",
            "Epoch 47/100\n",
            "2386/2386 [==============================] - 5s 2ms/step - loss: 0.2938 - auc: 0.9449\n",
            "Epoch 48/100\n",
            "2386/2386 [==============================] - 7s 3ms/step - loss: 0.2939 - auc: 0.9449\n",
            "Epoch 49/100\n",
            "2386/2386 [==============================] - 10s 4ms/step - loss: 0.2941 - auc: 0.9449\n",
            "Epoch 50/100\n",
            "2386/2386 [==============================] - 5s 2ms/step - loss: 0.2942 - auc: 0.9448\n",
            "Epoch 51/100\n",
            "2386/2386 [==============================] - 8s 3ms/step - loss: 0.2928 - auc: 0.9454\n",
            "Epoch 52/100\n",
            "2386/2386 [==============================] - 6s 3ms/step - loss: 0.2932 - auc: 0.9452\n",
            "Epoch 53/100\n",
            "2386/2386 [==============================] - 6s 3ms/step - loss: 0.2931 - auc: 0.9452\n",
            "Epoch 54/100\n",
            "2386/2386 [==============================] - 8s 3ms/step - loss: 0.2928 - auc: 0.9453\n",
            "Epoch 55/100\n",
            "2386/2386 [==============================] - 6s 2ms/step - loss: 0.2922 - auc: 0.9455\n",
            "Epoch 56/100\n",
            "2386/2386 [==============================] - 9s 4ms/step - loss: 0.2920 - auc: 0.9456\n",
            "Epoch 57/100\n",
            "2386/2386 [==============================] - 6s 2ms/step - loss: 0.2920 - auc: 0.9456\n",
            "Epoch 58/100\n",
            "2386/2386 [==============================] - 7s 3ms/step - loss: 0.2920 - auc: 0.9457\n",
            "Epoch 59/100\n",
            "2386/2386 [==============================] - 7s 3ms/step - loss: 0.2916 - auc: 0.9458\n",
            "Epoch 60/100\n",
            "2386/2386 [==============================] - 6s 3ms/step - loss: 0.2915 - auc: 0.9458\n",
            "Epoch 61/100\n",
            "2386/2386 [==============================] - 9s 4ms/step - loss: 0.2904 - auc: 0.9463\n",
            "Epoch 62/100\n",
            "2386/2386 [==============================] - 6s 2ms/step - loss: 0.2913 - auc: 0.9459\n",
            "Epoch 63/100\n",
            "2386/2386 [==============================] - 8s 3ms/step - loss: 0.2916 - auc: 0.9458\n",
            "Epoch 64/100\n",
            "2386/2386 [==============================] - 6s 2ms/step - loss: 0.2909 - auc: 0.9461\n",
            "Epoch 65/100\n",
            "2386/2386 [==============================] - 7s 3ms/step - loss: 0.2901 - auc: 0.9464\n",
            "Epoch 66/100\n",
            "2386/2386 [==============================] - 8s 3ms/step - loss: 0.2908 - auc: 0.9462\n",
            "Epoch 67/100\n",
            "2386/2386 [==============================] - 7s 3ms/step - loss: 0.2906 - auc: 0.9462\n",
            "Epoch 68/100\n",
            "2386/2386 [==============================] - 9s 4ms/step - loss: 0.2905 - auc: 0.9463\n",
            "Epoch 69/100\n",
            "2386/2386 [==============================] - 6s 3ms/step - loss: 0.2904 - auc: 0.9464\n",
            "Epoch 70/100\n",
            "2386/2386 [==============================] - 9s 4ms/step - loss: 0.2898 - auc: 0.9465\n",
            "Epoch 71/100\n",
            "2386/2386 [==============================] - 8s 3ms/step - loss: 0.2900 - auc: 0.9464\n"
          ]
        }
      ]
    },
    {
      "cell_type": "markdown",
      "source": [
        "## Graficos"
      ],
      "metadata": {
        "id": "cNNJ6FKUuvA5"
      }
    },
    {
      "cell_type": "code",
      "source": [
        "epochs = range (len(nn_model_history.history['auc']))\n",
        "\n",
        "plt.plot(epochs, nn_model_history.history['auc'], color = 'violet', label ='AUC')\n",
        "plt.xlabel('epochs')\n",
        "plt.ylabel('AUC')\n",
        "plt.legend()"
      ],
      "metadata": {
        "colab": {
          "base_uri": "https://localhost:8080/",
          "height": 467
        },
        "id": "KePR2qA0uwb8",
        "outputId": "282e2b8b-0111-43f5-d0c8-444414f0ed5f"
      },
      "execution_count": 56,
      "outputs": [
        {
          "output_type": "execute_result",
          "data": {
            "text/plain": [
              "<matplotlib.legend.Legend at 0x7bf7b9dbe380>"
            ]
          },
          "metadata": {},
          "execution_count": 56
        },
        {
          "output_type": "display_data",
          "data": {
            "text/plain": [
              "<Figure size 640x480 with 1 Axes>"
            ],
            "image/png": "[encoded data removed]"
          },
          "metadata": {}
        }
      ]
    },
    {
      "cell_type": "code",
      "source": [
        "epochs = range(len(nn_model_history.history['loss']))\n",
        "plt.plot(epochs, nn_model_history.history['loss'], color = 'blue', label = 'loss')\n",
        "plt.xlabel('epochs')\n",
        "plt.ylabel('loss')\n",
        "plt.legend()"
      ],
      "metadata": {
        "colab": {
          "base_uri": "https://localhost:8080/",
          "height": 467
        },
        "id": "ztyTq4zbyhD4",
        "outputId": "f76bba02-0fe9-4b7e-9299-623f1d5191e9"
      },
      "execution_count": 57,
      "outputs": [
        {
          "output_type": "execute_result",
          "data": {
            "text/plain": [
              "<matplotlib.legend.Legend at 0x7bf7d01917e0>"
            ]
          },
          "metadata": {},
          "execution_count": 57
        },
        {
          "output_type": "display_data",
          "data": {
            "text/plain": [
              "<Figure size 640x480 with 1 Axes>"
            ],
            "image/png": "[encoded data removed]"
          },
          "metadata": {}
        }
      ]
    },
    {
      "cell_type": "markdown",
      "source": [
        "## Prediccion"
      ],
      "metadata": {
        "id": "NJ8UxhJjvzwB"
      }
    },
    {
      "cell_type": "code",
      "source": [
        "y_predic = nn_model.predict(x_test_escalado)\n",
        "y_predic_cat = np.where(y_predic>0.5,1,0)\n",
        "\n",
        "ds_validacion = pd.DataFrame(y_predic_cat, y_test).reset_index()\n",
        "ds_validacion.columns =['y_pred', 'y_real']\n",
        "\n",
        "print(classification_report(ds_validacion.y_pred, ds_validacion.y_real))\n",
        "\n",
        "tabla = pd.crosstab(ds_validacion.y_pred, ds_validacion.y_real)\n",
        "grf = sns.heatmap(tabla, annot = True, cmap = 'cubehelix', fmt = 'g')\n",
        "plt.show()"
      ],
      "metadata": {
        "colab": {
          "base_uri": "https://localhost:8080/",
          "height": 629
        },
        "id": "kChn_Sk0WxWr",
        "outputId": "b411e121-3ef0-4b20-8015-03e893f6f2e4"
      },
      "execution_count": 58,
      "outputs": [
        {
          "output_type": "stream",
          "name": "stdout",
          "text": [
            "373/373 [==============================] - 1s 2ms/step\n",
            "              precision    recall  f1-score   support\n",
            "\n",
            "           0       0.84      0.84      0.84      5838\n",
            "           1       0.84      0.85      0.85      6090\n",
            "\n",
            "    accuracy                           0.84     11928\n",
            "   macro avg       0.84      0.84      0.84     11928\n",
            "weighted avg       0.84      0.84      0.84     11928\n",
            "\n"
          ]
        },
        {
          "output_type": "display_data",
          "data": {
            "text/plain": [
              "<Figure size 640x480 with 2 Axes>"
            ],
            "image/png": "[encoded data removed]"
          },
          "metadata": {}
        }
      ]
    },
    {
      "cell_type": "code",
      "source": [
        "print(f1_score(y_test, y_predic_cat))"
      ],
      "metadata": {
        "colab": {
          "base_uri": "https://localhost:8080/"
        },
        "id": "kcV16pGtYvaQ",
        "outputId": "7a6ba2fc-c817-4674-b350-5c92a4014696"
      },
      "execution_count": 59,
      "outputs": [
        {
          "output_type": "stream",
          "name": "stdout",
          "text": [
            "0.8457695142927348\n"
          ]
        }
      ]
    },
    {
      "cell_type": "code",
      "source": [
        "accuracy = accuracy_score(y_test, y_predic_cat)\n",
        "recall = recall_score(y_test, y_predic_cat)\n",
        "f1 = f1_score(y_test, y_predic_cat)\n",
        "precision = precision_score(y_test, y_predic_cat)\n",
        "\n",
        "print(\"Accuracy: \" + str(accuracy))\n",
        "print(\"Recall: \" + str(recall))\n",
        "print(\"f1 Score: \" + str(f1))\n",
        "print(\"Precision: \" + str(precision))"
      ],
      "metadata": {
        "colab": {
          "base_uri": "https://localhost:8080/"
        },
        "id": "Zc5OHkJT6b9v",
        "outputId": "061bead2-5ec7-417d-ea01-6ac5f0d5c22d"
      },
      "execution_count": 60,
      "outputs": [
        {
          "output_type": "stream",
          "name": "stdout",
          "text": [
            "Accuracy: 0.8421361502347418\n",
            "Recall: 0.8477832512315271\n",
            "f1 Score: 0.8457695142927348\n",
            "Precision: 0.8437653211309037\n"
          ]
        }
      ]
    },
    {
      "cell_type": "code",
      "source": [
        "y_pred_testeo = nn_model.predict(df_test_escalado)\n",
        "y_pred_testeo_cat = np.where(y_pred_testeo>0.50,1,0)\n",
        "df_resultados_pred = pd.DataFrame.from_records(y_pred_testeo_cat, columns = ['resultado'])\n",
        "df_summision = pd.DataFrame({'id': df_test['id'], 'is_canceled':df_resultados_pred['resultado']})\n",
        "df_summision.to_csv('red_neuronal_5.csv', index = False)\n",
        "df_summision"
      ],
      "metadata": {
        "colab": {
          "base_uri": "https://localhost:8080/",
          "height": 442
        },
        "id": "TcufAQEYXe6h",
        "outputId": "85cd3ae4-5fed-4770-a03f-204303036e80"
      },
      "execution_count": 61,
      "outputs": [
        {
          "output_type": "stream",
          "name": "stdout",
          "text": [
            "830/830 [==============================] - 1s 1ms/step\n"
          ]
        },
        {
          "output_type": "execute_result",
          "data": {
            "text/plain": [
              "                                         id  is_canceled\n",
              "0      e6d0d58a-ab96-44d3-b28f-85df1cc15f1e            1\n",
              "1      aba9aac2-4495-4645-a60e-90328713c999            1\n",
              "2      b345b5dc-c804-4d77-a39f-1f4e65d1f1ad            0\n",
              "3      ce1b400e-afa1-4946-bdff-004b859eb61c            1\n",
              "4      c4fbec0d-8e2e-4db2-9d4f-a6ccb9f51214            1\n",
              "...                                     ...          ...\n",
              "26530  636ccded-66ad-4538-8006-c0b9f84c6256            0\n",
              "26531  11e19741-bd28-4459-8ea3-184f1664000f            0\n",
              "26532  36a4c7b0-d6b1-4528-93db-311be96ec1c6            1\n",
              "26533  89c85fa5-2b3d-4131-844c-e151a65ca240            1\n",
              "26534  bd4e9eee-f28e-4a53-b4a1-277426efbcee            0\n",
              "\n",
              "[26535 rows x 2 columns]"
            ],
            "text/html": [
              "\n",
              "  <div id=\"df-5e3cbb91-dfeb-45ec-93dd-e1c6c5e24b0f\" class=\"colab-df-container\">\n",
              "    <div>\n",
              "<style scoped>\n",
              "    .dataframe tbody tr th:only-of-type {\n",
              "        vertical-align: middle;\n",
              "    }\n",
              "\n",
              "    .dataframe tbody tr th {\n",
              "        vertical-align: top;\n",
              "    }\n",
              "\n",
              "    .dataframe thead th {\n",
              "        text-align: right;\n",
              "    }\n",
              "</style>\n",
              "<table border=\"1\" class=\"dataframe\">\n",
              "  <thead>\n",
              "    <tr style=\"text-align: right;\">\n",
              "      <th></th>\n",
              "      <th>id</th>\n",
              "      <th>is_canceled</th>\n",
              "    </tr>\n",
              "  </thead>\n",
              "  <tbody>\n",
              "    <tr>\n",
              "      <th>0</th>\n",
              "      <td>e6d0d58a-ab96-44d3-b28f-85df1cc15f1e</td>\n",
              "      <td>1</td>\n",
              "    </tr>\n",
              "    <tr>\n",
              "      <th>1</th>\n",
              "      <td>aba9aac2-4495-4645-a60e-90328713c999</td>\n",
              "      <td>1</td>\n",
              "    </tr>\n",
              "    <tr>\n",
              "      <th>2</th>\n",
              "      <td>b345b5dc-c804-4d77-a39f-1f4e65d1f1ad</td>\n",
              "      <td>0</td>\n",
              "    </tr>\n",
              "    <tr>\n",
              "      <th>3</th>\n",
              "      <td>ce1b400e-afa1-4946-bdff-004b859eb61c</td>\n",
              "      <td>1</td>\n",
              "    </tr>\n",
              "    <tr>\n",
              "      <th>4</th>\n",
              "      <td>c4fbec0d-8e2e-4db2-9d4f-a6ccb9f51214</td>\n",
              "      <td>1</td>\n",
              "    </tr>\n",
              "    <tr>\n",
              "      <th>...</th>\n",
              "      <td>...</td>\n",
              "      <td>...</td>\n",
              "    </tr>\n",
              "    <tr>\n",
              "      <th>26530</th>\n",
              "      <td>636ccded-66ad-4538-8006-c0b9f84c6256</td>\n",
              "      <td>0</td>\n",
              "    </tr>\n",
              "    <tr>\n",
              "      <th>26531</th>\n",
              "      <td>11e19741-bd28-4459-8ea3-184f1664000f</td>\n",
              "      <td>0</td>\n",
              "    </tr>\n",
              "    <tr>\n",
              "      <th>26532</th>\n",
              "      <td>36a4c7b0-d6b1-4528-93db-311be96ec1c6</td>\n",
              "      <td>1</td>\n",
              "    </tr>\n",
              "    <tr>\n",
              "      <th>26533</th>\n",
              "      <td>89c85fa5-2b3d-4131-844c-e151a65ca240</td>\n",
              "      <td>1</td>\n",
              "    </tr>\n",
              "    <tr>\n",
              "      <th>26534</th>\n",
              "      <td>bd4e9eee-f28e-4a53-b4a1-277426efbcee</td>\n",
              "      <td>0</td>\n",
              "    </tr>\n",
              "  </tbody>\n",
              "</table>\n",
              "<p>26535 rows × 2 columns</p>\n",
              "</div>\n",
              "    <div class=\"colab-df-buttons\">\n",
              "\n",
              "  <div class=\"colab-df-container\">\n",
              "    <button class=\"colab-df-convert\" onclick=\"convertToInteractive('df-5e3cbb91-dfeb-45ec-93dd-e1c6c5e24b0f')\"\n",
              "            title=\"Convert this dataframe to an interactive table.\"\n",
              "            style=\"display:none;\">\n",
              "\n",
              "  <svg xmlns=\"http://www.w3.org/2000/svg\" height=\"24px\" viewBox=\"0 -960 960 960\">\n",
              "    <path d=\"M120-120v-720h720v720H120Zm60-500h600v-160H180v160Zm220 220h160v-160H400v160Zm0 220h160v-160H400v160ZM180-400h160v-160H180v160Zm440 0h160v-160H620v160ZM180-180h160v-160H180v160Zm440 0h160v-160H620v160Z\"/>\n",
              "  </svg>\n",
              "    </button>\n",
              "\n",
              "  <style>\n",
              "    .colab-df-container {\n",
              "      display:flex;\n",
              "      gap: 12px;\n",
              "    }\n",
              "\n",
              "    .colab-df-convert {\n",
              "      background-color: #E8F0FE;\n",
              "      border: none;\n",
              "      border-radius: 50%;\n",
              "      cursor: pointer;\n",
              "      display: none;\n",
              "      fill: #1967D2;\n",
              "      height: 32px;\n",
              "      padding: 0 0 0 0;\n",
              "      width: 32px;\n",
              "    }\n",
              "\n",
              "    .colab-df-convert:hover {\n",
              "      background-color: #E2EBFA;\n",
              "      box-shadow: 0px 1px 2px rgba(60, 64, 67, 0.3), 0px 1px 3px 1px rgba(60, 64, 67, 0.15);\n",
              "      fill: #174EA6;\n",
              "    }\n",
              "\n",
              "    .colab-df-buttons div {\n",
              "      margin-bottom: 4px;\n",
              "    }\n",
              "\n",
              "    [theme=dark] .colab-df-convert {\n",
              "      background-color: #3B4455;\n",
              "      fill: #D2E3FC;\n",
              "    }\n",
              "\n",
              "    [theme=dark] .colab-df-convert:hover {\n",
              "      background-color: #434B5C;\n",
              "      box-shadow: 0px 1px 3px 1px rgba(0, 0, 0, 0.15);\n",
              "      filter: drop-shadow(0px 1px 2px rgba(0, 0, 0, 0.3));\n",
              "      fill: #FFFFFF;\n",
              "    }\n",
              "  </style>\n",
              "\n",
              "    <script>\n",
              "      const buttonEl =\n",
              "        document.querySelector('#df-5e3cbb91-dfeb-45ec-93dd-e1c6c5e24b0f button.colab-df-convert');\n",
              "      buttonEl.style.display =\n",
              "        google.colab.kernel.accessAllowed ? 'block' : 'none';\n",
              "\n",
              "      async function convertToInteractive(key) {\n",
              "        const element = document.querySelector('#df-5e3cbb91-dfeb-45ec-93dd-e1c6c5e24b0f');\n",
              "        const dataTable =\n",
              "          await google.colab.kernel.invokeFunction('convertToInteractive',\n",
              "                                                    [key], {});\n",
              "        if (!dataTable) return;\n",
              "\n",
              "        const docLinkHtml = 'Like what you see? Visit the ' +\n",
              "          '<a target=\"_blank\" href=https://colab.research.google.com/notebooks/data_table.ipynb>data table notebook</a>'\n",
              "          + ' to learn more about interactive tables.';\n",
              "        element.innerHTML = '';\n",
              "        dataTable['output_type'] = 'display_data';\n",
              "        await google.colab.output.renderOutput(dataTable, element);\n",
              "        const docLink = document.createElement('div');\n",
              "        docLink.innerHTML = docLinkHtml;\n",
              "        element.appendChild(docLink);\n",
              "      }\n",
              "    </script>\n",
              "  </div>\n",
              "\n",
              "\n",
              "<div id=\"df-e5bb99e1-2e9d-461b-b0d8-9ef4b547f104\">\n",
              "  <button class=\"colab-df-quickchart\" onclick=\"quickchart('df-e5bb99e1-2e9d-461b-b0d8-9ef4b547f104')\"\n",
              "            title=\"Suggest charts.\"\n",
              "            style=\"display:none;\">\n",
              "\n",
              "<svg xmlns=\"http://www.w3.org/2000/svg\" height=\"24px\"viewBox=\"0 0 24 24\"\n",
              "     width=\"24px\">\n",
              "    <g>\n",
              "        <path d=\"M19 3H5c-1.1 0-2 .9-2 2v14c0 1.1.9 2 2 2h14c1.1 0 2-.9 2-2V5c0-1.1-.9-2-2-2zM9 17H7v-7h2v7zm4 0h-2V7h2v10zm4 0h-2v-4h2v4z\"/>\n",
              "    </g>\n",
              "</svg>\n",
              "  </button>\n",
              "\n",
              "<style>\n",
              "  .colab-df-quickchart {\n",
              "      --bg-color: #E8F0FE;\n",
              "      --fill-color: #1967D2;\n",
              "      --hover-bg-color: #E2EBFA;\n",
              "      --hover-fill-color: #174EA6;\n",
              "      --disabled-fill-color: #AAA;\n",
              "      --disabled-bg-color: #DDD;\n",
              "  }\n",
              "\n",
              "  [theme=dark] .colab-df-quickchart {\n",
              "      --bg-color: #3B4455;\n",
              "      --fill-color: #D2E3FC;\n",
              "      --hover-bg-color: #434B5C;\n",
              "      --hover-fill-color: #FFFFFF;\n",
              "      --disabled-bg-color: #3B4455;\n",
              "      --disabled-fill-color: #666;\n",
              "  }\n",
              "\n",
              "  .colab-df-quickchart {\n",
              "    background-color: var(--bg-color);\n",
              "    border: none;\n",
              "    border-radius: 50%;\n",
              "    cursor: pointer;\n",
              "    display: none;\n",
              "    fill: var(--fill-color);\n",
              "    height: 32px;\n",
              "    padding: 0;\n",
              "    width: 32px;\n",
              "  }\n",
              "\n",
              "  .colab-df-quickchart:hover {\n",
              "    background-color: var(--hover-bg-color);\n",
              "    box-shadow: 0 1px 2px rgba(60, 64, 67, 0.3), 0 1px 3px 1px rgba(60, 64, 67, 0.15);\n",
              "    fill: var(--button-hover-fill-color);\n",
              "  }\n",
              "\n",
              "  .colab-df-quickchart-complete:disabled,\n",
              "  .colab-df-quickchart-complete:disabled:hover {\n",
              "    background-color: var(--disabled-bg-color);\n",
              "    fill: var(--disabled-fill-color);\n",
              "    box-shadow: none;\n",
              "  }\n",
              "\n",
              "  .colab-df-spinner {\n",
              "    border: 2px solid var(--fill-color);\n",
              "    border-color: transparent;\n",
              "    border-bottom-color: var(--fill-color);\n",
              "    animation:\n",
              "      spin 1s steps(1) infinite;\n",
              "  }\n",
              "\n",
              "  @keyframes spin {\n",
              "    0% {\n",
              "      border-color: transparent;\n",
              "      border-bottom-color: var(--fill-color);\n",
              "      border-left-color: var(--fill-color);\n",
              "    }\n",
              "    20% {\n",
              "      border-color: transparent;\n",
              "      border-left-color: var(--fill-color);\n",
              "      border-top-color: var(--fill-color);\n",
              "    }\n",
              "    30% {\n",
              "      border-color: transparent;\n",
              "      border-left-color: var(--fill-color);\n",
              "      border-top-color: var(--fill-color);\n",
              "      border-right-color: var(--fill-color);\n",
              "    }\n",
              "    40% {\n",
              "      border-color: transparent;\n",
              "      border-right-color: var(--fill-color);\n",
              "      border-top-color: var(--fill-color);\n",
              "    }\n",
              "    60% {\n",
              "      border-color: transparent;\n",
              "      border-right-color: var(--fill-color);\n",
              "    }\n",
              "    80% {\n",
              "      border-color: transparent;\n",
              "      border-right-color: var(--fill-color);\n",
              "      border-bottom-color: var(--fill-color);\n",
              "    }\n",
              "    90% {\n",
              "      border-color: transparent;\n",
              "      border-bottom-color: var(--fill-color);\n",
              "    }\n",
              "  }\n",
              "</style>\n",
              "\n",
              "  <script>\n",
              "    async function quickchart(key) {\n",
              "      const quickchartButtonEl =\n",
              "        document.querySelector('#' + key + ' button');\n",
              "      quickchartButtonEl.disabled = true;  // To prevent multiple clicks.\n",
              "      quickchartButtonEl.classList.add('colab-df-spinner');\n",
              "      try {\n",
              "        const charts = await google.colab.kernel.invokeFunction(\n",
              "            'suggestCharts', [key], {});\n",
              "      } catch (error) {\n",
              "        console.error('Error during call to suggestCharts:', error);\n",
              "      }\n",
              "      quickchartButtonEl.classList.remove('colab-df-spinner');\n",
              "      quickchartButtonEl.classList.add('colab-df-quickchart-complete');\n",
              "    }\n",
              "    (() => {\n",
              "      let quickchartButtonEl =\n",
              "        document.querySelector('#df-e5bb99e1-2e9d-461b-b0d8-9ef4b547f104 button');\n",
              "      quickchartButtonEl.style.display =\n",
              "        google.colab.kernel.accessAllowed ? 'block' : 'none';\n",
              "    })();\n",
              "  </script>\n",
              "</div>\n",
              "    </div>\n",
              "  </div>\n"
            ]
          },
          "metadata": {},
          "execution_count": 61
        }
      ]
    },
    {
      "cell_type": "markdown",
      "source": [
        "# Red Neuronal 2"
      ],
      "metadata": {
        "id": "I8IrdXzvv4-2"
      }
    },
    {
      "cell_type": "markdown",
      "source": [
        "Realizamos una particion del 20% del dataframe de entrenamiento."
      ],
      "metadata": {
        "id": "zexXfhBh9qXb"
      }
    },
    {
      "cell_type": "code",
      "source": [
        "df_hotel_train_x = df_hotel_train.drop(['is_canceled'], axis = 'columns', inplace = False)\n",
        "df_hotel_train_y = df_hotel_train['is_canceled'].copy()\n",
        "\n",
        "x_train, x_test, y_train, y_test = train_test_split(df_hotel_train_x,\n",
        "                                                    df_hotel_train_y,\n",
        "                                                    test_size= 0.2,\n",
        "                                                    random_state = 28)"
      ],
      "metadata": {
        "id": "lArlV71q9xN9"
      },
      "execution_count": 49,
      "outputs": []
    },
    {
      "cell_type": "markdown",
      "source": [
        "## Normalizacion de los datos"
      ],
      "metadata": {
        "id": "GeAYxF8397R_"
      }
    },
    {
      "cell_type": "markdown",
      "source": [
        "Normalizamos los datos con un StandardScaler y asi mejorar el rendimiento."
      ],
      "metadata": {
        "id": "lWyhjYxR-BBe"
      }
    },
    {
      "cell_type": "code",
      "source": [
        "x_train.columns"
      ],
      "metadata": {
        "colab": {
          "base_uri": "https://localhost:8080/"
        },
        "id": "GgGz2V3o98C9",
        "outputId": "0e87002d-d7f1-45ed-b92a-fb13bae58896"
      },
      "execution_count": 50,
      "outputs": [
        {
          "output_type": "execute_result",
          "data": {
            "text/plain": [
              "Index(['lead_time', 'arrival_date_year', 'arrival_date_month',\n",
              "       'arrival_date_week_number', 'arrival_date_day_of_month',\n",
              "       'stays_in_weekend_nights', 'stays_in_week_nights', 'adults', 'children',\n",
              "       'babies', 'is_repeated_guest', 'previous_cancellations',\n",
              "       'reserved_room_type', 'booking_changes', 'agent',\n",
              "       'days_in_waiting_list', 'adr', 'required_car_parking_spaces',\n",
              "       'total_of_special_requests', 'total_days', 'hotel_Resort Hotel',\n",
              "       'meal_FB', 'meal_HB', 'meal_SC', 'meal_Undefined', 'country_BEL',\n",
              "       'country_BRA', 'country_CHE', 'country_CHN', 'country_CN',\n",
              "       'country_DEU', 'country_ESP', 'country_FRA', 'country_GBR',\n",
              "       'country_IRL', 'country_ISR', 'country_ITA', 'country_NLD',\n",
              "       'country_NOR', 'country_POL', 'country_PRT', 'country_RUS',\n",
              "       'country_SWE', 'country_USA', 'country_other',\n",
              "       'market_segment_Complementary', 'market_segment_Corporate',\n",
              "       'market_segment_Direct', 'market_segment_Groups',\n",
              "       'market_segment_Offline TA/TO', 'market_segment_Online TA',\n",
              "       'distribution_channel_Direct', 'distribution_channel_GDS',\n",
              "       'distribution_channel_TA/TO', 'deposit_type_Non Refund',\n",
              "       'deposit_type_Refundable', 'customer_type_Group',\n",
              "       'customer_type_Transient', 'customer_type_Transient-Party'],\n",
              "      dtype='object')"
            ]
          },
          "metadata": {},
          "execution_count": 50
        }
      ]
    },
    {
      "cell_type": "code",
      "source": [
        "valores_numericos_normalizar = ['lead_time', 'arrival_date_year', 'arrival_date_month', 'arrival_date_week_number',\n",
        "                                'arrival_date_day_of_month', 'stays_in_weekend_nights', 'stays_in_week_nights',\n",
        "                                'adults', 'children', 'babies', 'is_repeated_guest', 'previous_cancellations',\n",
        "                                'reserved_room_type', 'booking_changes', 'agent','days_in_waiting_list', 'adr',\n",
        "                                'required_car_parking_spaces', 'total_of_special_requests', 'total_days']"
      ],
      "metadata": {
        "id": "FMqSUPqL-LhS"
      },
      "execution_count": 51,
      "outputs": []
    },
    {
      "cell_type": "code",
      "source": [
        "df_predic_normalizar = df_hotel_test[valores_numericos_normalizar]\n",
        "df_train_norm = x_train[valores_numericos_normalizar]\n",
        "df_test_norm = x_test[valores_numericos_normalizar]"
      ],
      "metadata": {
        "id": "YsrByGzQ-Q-z"
      },
      "execution_count": 52,
      "outputs": []
    },
    {
      "cell_type": "code",
      "source": [
        "scaler = StandardScaler()\n",
        "scaler.fit(df_train_norm)"
      ],
      "metadata": {
        "colab": {
          "base_uri": "https://localhost:8080/",
          "height": 0
        },
        "id": "C0QtSfA6-Ycp",
        "outputId": "7380ac9c-14ef-4004-eef8-9999d9ab423a"
      },
      "execution_count": 53,
      "outputs": [
        {
          "output_type": "execute_result",
          "data": {
            "text/plain": [
              "StandardScaler()"
            ],
            "text/html": [
              "<style>#sk-container-id-3 {color: black;background-color: white;}#sk-container-id-3 pre{padding: 0;}#sk-container-id-3 div.sk-toggleable {background-color: white;}#sk-container-id-3 label.sk-toggleable__label {cursor: pointer;display: block;width: 100%;margin-bottom: 0;padding: 0.3em;box-sizing: border-box;text-align: center;}#sk-container-id-3 label.sk-toggleable__label-arrow:before {content: \"▸\";float: left;margin-right: 0.25em;color: #696969;}#sk-container-id-3 label.sk-toggleable__label-arrow:hover:before {color: black;}#sk-container-id-3 div.sk-estimator:hover label.sk-toggleable__label-arrow:before {color: black;}#sk-container-id-3 div.sk-toggleable__content {max-height: 0;max-width: 0;overflow: hidden;text-align: left;background-color: #f0f8ff;}#sk-container-id-3 div.sk-toggleable__content pre {margin: 0.2em;color: black;border-radius: 0.25em;background-color: #f0f8ff;}#sk-container-id-3 input.sk-toggleable__control:checked~div.sk-toggleable__content {max-height: 200px;max-width: 100%;overflow: auto;}#sk-container-id-3 input.sk-toggleable__control:checked~label.sk-toggleable__label-arrow:before {content: \"▾\";}#sk-container-id-3 div.sk-estimator input.sk-toggleable__control:checked~label.sk-toggleable__label {background-color: #d4ebff;}#sk-container-id-3 div.sk-label input.sk-toggleable__control:checked~label.sk-toggleable__label {background-color: #d4ebff;}#sk-container-id-3 input.sk-hidden--visually {border: 0;clip: rect(1px 1px 1px 1px);clip: rect(1px, 1px, 1px, 1px);height: 1px;margin: -1px;overflow: hidden;padding: 0;position: absolute;width: 1px;}#sk-container-id-3 div.sk-estimator {font-family: monospace;background-color: #f0f8ff;border: 1px dotted black;border-radius: 0.25em;box-sizing: border-box;margin-bottom: 0.5em;}#sk-container-id-3 div.sk-estimator:hover {background-color: #d4ebff;}#sk-container-id-3 div.sk-parallel-item::after {content: \"\";width: 100%;border-bottom: 1px solid gray;flex-grow: 1;}#sk-container-id-3 div.sk-label:hover label.sk-toggleable__label {background-color: #d4ebff;}#sk-container-id-3 div.sk-serial::before {content: \"\";position: absolute;border-left: 1px solid gray;box-sizing: border-box;top: 0;bottom: 0;left: 50%;z-index: 0;}#sk-container-id-3 div.sk-serial {display: flex;flex-direction: column;align-items: center;background-color: white;padding-right: 0.2em;padding-left: 0.2em;position: relative;}#sk-container-id-3 div.sk-item {position: relative;z-index: 1;}#sk-container-id-3 div.sk-parallel {display: flex;align-items: stretch;justify-content: center;background-color: white;position: relative;}#sk-container-id-3 div.sk-item::before, #sk-container-id-3 div.sk-parallel-item::before {content: \"\";position: absolute;border-left: 1px solid gray;box-sizing: border-box;top: 0;bottom: 0;left: 50%;z-index: -1;}#sk-container-id-3 div.sk-parallel-item {display: flex;flex-direction: column;z-index: 1;position: relative;background-color: white;}#sk-container-id-3 div.sk-parallel-item:first-child::after {align-self: flex-end;width: 50%;}#sk-container-id-3 div.sk-parallel-item:last-child::after {align-self: flex-start;width: 50%;}#sk-container-id-3 div.sk-parallel-item:only-child::after {width: 0;}#sk-container-id-3 div.sk-dashed-wrapped {border: 1px dashed gray;margin: 0 0.4em 0.5em 0.4em;box-sizing: border-box;padding-bottom: 0.4em;background-color: white;}#sk-container-id-3 div.sk-label label {font-family: monospace;font-weight: bold;display: inline-block;line-height: 1.2em;}#sk-container-id-3 div.sk-label-container {text-align: center;}#sk-container-id-3 div.sk-container {/* jupyter's `normalize.less` sets `[hidden] { display: none; }` but bootstrap.min.css set `[hidden] { display: none !important; }` so we also need the `!important` here to be able to override the default hidden behavior on the sphinx rendered scikit-learn.org. See: https://github.com/scikit-learn/scikit-learn/issues/21755 */display: inline-block !important;position: relative;}#sk-container-id-3 div.sk-text-repr-fallback {display: none;}</style><div id=\"sk-container-id-3\" class=\"sk-top-container\"><div class=\"sk-text-repr-fallback\"><pre>StandardScaler()</pre><b>In a Jupyter environment, please rerun this cell to show the HTML representation or trust the notebook. <br />On GitHub, the HTML representation is unable to render, please try loading this page with nbviewer.org.</b></div><div class=\"sk-container\" hidden><div class=\"sk-item\"><div class=\"sk-estimator sk-toggleable\"><input class=\"sk-toggleable__control sk-hidden--visually\" id=\"sk-estimator-id-3\" type=\"checkbox\" checked><label for=\"sk-estimator-id-3\" class=\"sk-toggleable__label sk-toggleable__label-arrow\">StandardScaler</label><div class=\"sk-toggleable__content\"><pre>StandardScaler()</pre></div></div></div></div></div>"
            ]
          },
          "metadata": {},
          "execution_count": 53
        }
      ]
    },
    {
      "cell_type": "code",
      "source": [
        "x_train_transform_1 = scaler.transform(df_train_norm)\n",
        "x_test_transform_1 = scaler.transform(df_test_norm)\n",
        "df_predict_transform_1 = scaler.transform(df_predic_normalizar)"
      ],
      "metadata": {
        "id": "7IBdU5y9-e0-"
      },
      "execution_count": 54,
      "outputs": []
    },
    {
      "cell_type": "code",
      "source": [
        "x_train_escalado = x_train.copy()\n",
        "x_test_escalado = x_test.copy()\n",
        "df_test_escalado = df_hotel_test.copy()"
      ],
      "metadata": {
        "id": "h-pRcn3z-lNp"
      },
      "execution_count": 55,
      "outputs": []
    },
    {
      "cell_type": "code",
      "source": [
        "for i in range(len(valores_numericos_normalizar)):\n",
        "  x_train_escalado[valores_numericos_normalizar[i]] = x_train_transform_1[:,i]\n",
        "  x_test_escalado[valores_numericos_normalizar[i]] = x_test_transform_1[:,i]\n",
        "  df_test_escalado[valores_numericos_normalizar[i]] = df_predict_transform_1[:,i]"
      ],
      "metadata": {
        "id": "A5R3i5X4-tJF"
      },
      "execution_count": 56,
      "outputs": []
    },
    {
      "cell_type": "markdown",
      "source": [
        "## Busqueda de Hiperparametros"
      ],
      "metadata": {
        "id": "yAk2Ud61-4Ek"
      }
    },
    {
      "cell_type": "code",
      "source": [
        "d_in = len(x_train_escalado.columns)\n",
        "cant_classes = len(np.unique(x_train))\n",
        "\n",
        "def create_model_nn(neuronas, learning_rate, rho, epsilon):\n",
        "  model_nn = keras.Sequential([\n",
        "      keras.layers.Dense(d_in, input_shape = (d_in,)),\n",
        "      keras.layers.Dense(neuronas, activation = 'relu'),\n",
        "      keras.layers.Dense(1, activation = 'sigmoid')\n",
        "  ])\n",
        "\n",
        "  model_nn.compile(\n",
        "      optimizer = keras.optimizers.Adadelta(learning_rate = learning_rate,\n",
        "                                           epsilon = epsilon,\n",
        "                                           #epsilon_2 = epsilon_2,\n",
        "                                           rho = rho,\n",
        "                                      ),\n",
        "      loss = 'binary_crossentropy',\n",
        "      metrics = ['AUC'],\n",
        "  )\n",
        "  return model_nn\n",
        "\n",
        "\n",
        "nn_clasificador = KerasClassifier(build_fn = create_model_nn, verbose = 3)\n",
        "\n",
        "params_grid = {\n",
        "    'neuronas': list(range(20,60)),\n",
        "    'learning_rate': [0.1, 0.01, 0.001, 0.0001],\n",
        "    #'epsilon_1': [1e-10, 1e-20,1e-30, 1e-40, 1e-50, 1e-60],\n",
        "    #'epsilon_2': [0.01, 0.001, 0.0001],\n",
        "    'rho': [0.85, 0.90, 0.95, 0.99, 0.999],\n",
        "    'epsilon': [1e-5, 1e-6, 1e-7, 1e-8, 1e-9],\n",
        "    'batch_size':[5, 10, 15, 20, 25, 30, 35, 40],\n",
        "    #'epochs': [50, 100, 200]\n",
        "}\n",
        "\n",
        "folds = 5\n",
        "\n",
        "kfoldcv = StratifiedKFold(n_splits = folds)\n",
        "scorer_fn = make_scorer(sk.metrics.f1_score)\n",
        "\n",
        "randomcv = RandomizedSearchCV(estimator = nn_clasificador,\n",
        "                              param_distributions = params_grid,\n",
        "                              scoring = scorer_fn,\n",
        "                              cv = kfoldcv,\n",
        "                              error_score = 'raise',\n",
        "                              random_state = 28)\n",
        "\n",
        "nn_random = randomcv.fit(x_train_escalado, y_train)"
      ],
      "metadata": {
        "colab": {
          "base_uri": "https://localhost:8080/"
        },
        "id": "R6Xr7kJE-5AL",
        "outputId": "0e15730f-1fd7-4286-cc3b-18bb32df51bf"
      },
      "execution_count": 58,
      "outputs": [
        {
          "output_type": "stream",
          "name": "stdout",
          "text": [
            "299/299 [==============================] - 0s 1ms/step\n",
            "299/299 [==============================] - 1s 1ms/step\n",
            "299/299 [==============================] - 1s 2ms/step\n",
            "299/299 [==============================] - 1s 3ms/step\n",
            "299/299 [==============================] - 1s 2ms/step\n",
            "299/299 [==============================] - 1s 2ms/step\n",
            "299/299 [==============================] - 1s 1ms/step\n",
            "299/299 [==============================] - 1s 2ms/step\n",
            "299/299 [==============================] - 1s 3ms/step\n",
            "299/299 [==============================] - 0s 1ms/step\n",
            "299/299 [==============================] - 1s 2ms/step\n",
            "299/299 [==============================] - 1s 2ms/step\n",
            "299/299 [==============================] - 1s 2ms/step\n",
            "299/299 [==============================] - 1s 1ms/step\n",
            "299/299 [==============================] - 1s 1ms/step\n",
            "299/299 [==============================] - 1s 2ms/step\n",
            "299/299 [==============================] - 1s 2ms/step\n",
            "299/299 [==============================] - 1s 1ms/step\n",
            "299/299 [==============================] - 1s 2ms/step\n",
            "299/299 [==============================] - 1s 3ms/step\n",
            "299/299 [==============================] - 1s 1ms/step\n",
            "299/299 [==============================] - 0s 1ms/step\n",
            "299/299 [==============================] - 1s 2ms/step\n",
            "299/299 [==============================] - 0s 1ms/step\n",
            "299/299 [==============================] - 0s 1ms/step\n",
            "299/299 [==============================] - 1s 1ms/step\n",
            "299/299 [==============================] - 1s 2ms/step\n",
            "299/299 [==============================] - 1s 2ms/step\n",
            "299/299 [==============================] - 1s 2ms/step\n",
            "299/299 [==============================] - 1s 2ms/step\n",
            "299/299 [==============================] - 1s 2ms/step\n",
            "299/299 [==============================] - 1s 2ms/step\n",
            "299/299 [==============================] - 1s 3ms/step\n",
            "299/299 [==============================] - 1s 1ms/step\n",
            "299/299 [==============================] - 0s 1ms/step\n",
            "299/299 [==============================] - 1s 2ms/step\n",
            "299/299 [==============================] - 1s 2ms/step\n",
            "299/299 [==============================] - 1s 2ms/step\n",
            "299/299 [==============================] - 1s 3ms/step\n",
            "299/299 [==============================] - 1s 2ms/step\n",
            "299/299 [==============================] - 1s 1ms/step\n",
            "299/299 [==============================] - 1s 3ms/step\n",
            "299/299 [==============================] - 1s 2ms/step\n",
            "299/299 [==============================] - 1s 3ms/step\n",
            "299/299 [==============================] - 1s 1ms/step\n",
            "299/299 [==============================] - 1s 2ms/step\n",
            "299/299 [==============================] - 1s 2ms/step\n",
            "299/299 [==============================] - 1s 1ms/step\n",
            "299/299 [==============================] - 0s 1ms/step\n",
            "299/299 [==============================] - 1s 2ms/step\n"
          ]
        }
      ]
    },
    {
      "cell_type": "code",
      "source": [
        "print('Mejores hiperparametros: ', nn_random.best_params_)\n",
        "print(nn_random.best_score_)"
      ],
      "metadata": {
        "colab": {
          "base_uri": "https://localhost:8080/"
        },
        "id": "CVeo2qZrALcW",
        "outputId": "8d8e18e2-fbce-43c8-f030-72c47d8ca952"
      },
      "execution_count": 59,
      "outputs": [
        {
          "output_type": "stream",
          "name": "stdout",
          "text": [
            "Mejores hiperparametros:  {'rho': 0.999, 'neuronas': 37, 'learning_rate': 0.1, 'epsilon': 1e-05, 'batch_size': 10}\n",
            "0.7993755278703493\n"
          ]
        }
      ]
    },
    {
      "cell_type": "code",
      "source": [
        "best_fit = nn_random.best_estimator_\n",
        "predict_y_test = best_fit.predict(x_test_escalado)"
      ],
      "metadata": {
        "colab": {
          "base_uri": "https://localhost:8080/"
        },
        "id": "eMN1i0nbASBJ",
        "outputId": "4831bde6-6eb4-4366-eaa3-129e9ea13409"
      },
      "execution_count": 29,
      "outputs": [
        {
          "output_type": "stream",
          "name": "stdout",
          "text": [
            "373/373 [==============================] - 1s 1ms/step\n"
          ]
        }
      ]
    },
    {
      "cell_type": "markdown",
      "source": [
        "## Entrenamiento"
      ],
      "metadata": {
        "id": "ZU8OQGIhAZV2"
      }
    },
    {
      "cell_type": "code",
      "source": [
        "d_in = len(x_train_escalado.columns)\n",
        "cant_classes = len(np.unique(x_train))\n",
        "\n",
        "nn_model = keras.Sequential([\n",
        "    keras.layers.Dense(60, input_shape = (d_in,)),\n",
        "    keras.layers.Dense(37, activation = 'relu'),\n",
        "    keras.layers.Dense(1, activation = 'sigmoid')\n",
        "])\n",
        "\n",
        "nn_model.summary()"
      ],
      "metadata": {
        "colab": {
          "base_uri": "https://localhost:8080/"
        },
        "id": "FsjCSuDbAab8",
        "outputId": "8fe8cf6d-2b49-482a-ca12-b614ec0c51bc"
      },
      "execution_count": 61,
      "outputs": [
        {
          "output_type": "stream",
          "name": "stdout",
          "text": [
            "Model: \"sequential_160\"\n",
            "_________________________________________________________________\n",
            " Layer (type)                Output Shape              Param #   \n",
            "=================================================================\n",
            " dense_480 (Dense)           (None, 60)                3600      \n",
            "                                                                 \n",
            " dense_481 (Dense)           (None, 37)                2257      \n",
            "                                                                 \n",
            " dense_482 (Dense)           (None, 1)                 38        \n",
            "                                                                 \n",
            "=================================================================\n",
            "Total params: 5,895\n",
            "Trainable params: 5,895\n",
            "Non-trainable params: 0\n",
            "_________________________________________________________________\n"
          ]
        }
      ]
    },
    {
      "cell_type": "code",
      "source": [
        "nn_model.compile(\n",
        "    optimizer = keras.optimizers.Adadelta(learning_rate = 0.1, epsilon = 1e-05, rho = 0.999),\n",
        "    loss = 'binary_crossentropy',\n",
        "    metrics = ['AUC']\n",
        ")\n",
        "\n",
        "callback = keras.callbacks.EarlyStopping(monitor = 'loss', min_delta = 0.001, patience = 10)\n",
        "cant_epochs = 100\n",
        "nn_model_history = nn_model.fit(x_train_escalado, y_train, epochs = cant_epochs, batch_size = 10, verbose = True, callbacks = [callback])\n"
      ],
      "metadata": {
        "colab": {
          "base_uri": "https://localhost:8080/"
        },
        "id": "kz5-8MAxAlBU",
        "outputId": "de78a2e7-1cbc-470f-c76e-a24a8c509aa1"
      },
      "execution_count": 62,
      "outputs": [
        {
          "output_type": "stream",
          "name": "stdout",
          "text": [
            "Epoch 1/100\n",
            "4772/4772 [==============================] - 15s 3ms/step - loss: 0.3855 - auc: 0.9005\n",
            "Epoch 2/100\n",
            "4772/4772 [==============================] - 13s 3ms/step - loss: 0.3533 - auc: 0.9174\n",
            "Epoch 3/100\n",
            "4772/4772 [==============================] - 18s 4ms/step - loss: 0.3445 - auc: 0.9218\n",
            "Epoch 4/100\n",
            "4772/4772 [==============================] - 14s 3ms/step - loss: 0.3399 - auc: 0.9239\n",
            "Epoch 5/100\n",
            "4772/4772 [==============================] - 14s 3ms/step - loss: 0.3347 - auc: 0.9267\n",
            "Epoch 6/100\n",
            "4772/4772 [==============================] - 14s 3ms/step - loss: 0.3325 - auc: 0.9278\n",
            "Epoch 7/100\n",
            "4772/4772 [==============================] - 14s 3ms/step - loss: 0.3299 - auc: 0.9290\n",
            "Epoch 8/100\n",
            "4772/4772 [==============================] - 15s 3ms/step - loss: 0.3269 - auc: 0.9303\n",
            "Epoch 9/100\n",
            "4772/4772 [==============================] - 14s 3ms/step - loss: 0.3265 - auc: 0.9304\n",
            "Epoch 10/100\n",
            "4772/4772 [==============================] - 14s 3ms/step - loss: 0.3238 - auc: 0.9317\n",
            "Epoch 11/100\n",
            "4772/4772 [==============================] - 13s 3ms/step - loss: 0.3236 - auc: 0.9318\n",
            "Epoch 12/100\n",
            "4772/4772 [==============================] - 13s 3ms/step - loss: 0.3223 - auc: 0.9325\n",
            "Epoch 13/100\n",
            "4772/4772 [==============================] - 14s 3ms/step - loss: 0.3209 - auc: 0.9332\n",
            "Epoch 14/100\n",
            "4772/4772 [==============================] - 15s 3ms/step - loss: 0.3196 - auc: 0.9336\n",
            "Epoch 15/100\n",
            "4772/4772 [==============================] - 15s 3ms/step - loss: 0.3181 - auc: 0.9344\n",
            "Epoch 16/100\n",
            "4772/4772 [==============================] - 15s 3ms/step - loss: 0.3183 - auc: 0.9342\n",
            "Epoch 17/100\n",
            "4772/4772 [==============================] - 15s 3ms/step - loss: 0.3162 - auc: 0.9352\n",
            "Epoch 18/100\n",
            "4772/4772 [==============================] - 14s 3ms/step - loss: 0.3158 - auc: 0.9355\n",
            "Epoch 19/100\n",
            "4772/4772 [==============================] - 13s 3ms/step - loss: 0.3163 - auc: 0.9354\n",
            "Epoch 20/100\n",
            "4772/4772 [==============================] - 13s 3ms/step - loss: 0.3152 - auc: 0.9355\n",
            "Epoch 21/100\n",
            "4772/4772 [==============================] - 14s 3ms/step - loss: 0.3138 - auc: 0.9364\n",
            "Epoch 22/100\n",
            "4772/4772 [==============================] - 14s 3ms/step - loss: 0.3135 - auc: 0.9365\n",
            "Epoch 23/100\n",
            "4772/4772 [==============================] - 17s 4ms/step - loss: 0.3134 - auc: 0.9366\n",
            "Epoch 24/100\n",
            "4772/4772 [==============================] - 14s 3ms/step - loss: 0.3120 - auc: 0.9371\n",
            "Epoch 25/100\n",
            "4772/4772 [==============================] - 14s 3ms/step - loss: 0.3119 - auc: 0.9371\n",
            "Epoch 26/100\n",
            "4772/4772 [==============================] - 14s 3ms/step - loss: 0.3110 - auc: 0.9373\n",
            "Epoch 27/100\n",
            "4772/4772 [==============================] - 14s 3ms/step - loss: 0.3109 - auc: 0.9375\n",
            "Epoch 28/100\n",
            "4772/4772 [==============================] - 15s 3ms/step - loss: 0.3097 - auc: 0.9381\n",
            "Epoch 29/100\n",
            "4772/4772 [==============================] - 14s 3ms/step - loss: 0.3096 - auc: 0.9382\n",
            "Epoch 30/100\n",
            "4772/4772 [==============================] - 14s 3ms/step - loss: 0.3089 - auc: 0.9384\n",
            "Epoch 31/100\n",
            "4772/4772 [==============================] - 14s 3ms/step - loss: 0.3083 - auc: 0.9387\n",
            "Epoch 32/100\n",
            "4772/4772 [==============================] - 14s 3ms/step - loss: 0.3083 - auc: 0.9388\n",
            "Epoch 33/100\n",
            "4772/4772 [==============================] - 14s 3ms/step - loss: 0.3080 - auc: 0.9389\n",
            "Epoch 34/100\n",
            "4772/4772 [==============================] - 13s 3ms/step - loss: 0.3080 - auc: 0.9389\n",
            "Epoch 35/100\n",
            "4772/4772 [==============================] - 14s 3ms/step - loss: 0.3085 - auc: 0.9387\n",
            "Epoch 36/100\n",
            "4772/4772 [==============================] - 15s 3ms/step - loss: 0.3063 - auc: 0.9396\n",
            "Epoch 37/100\n",
            "4772/4772 [==============================] - 15s 3ms/step - loss: 0.3060 - auc: 0.9398\n",
            "Epoch 38/100\n",
            "4772/4772 [==============================] - 15s 3ms/step - loss: 0.3060 - auc: 0.9398\n",
            "Epoch 39/100\n",
            "4772/4772 [==============================] - 15s 3ms/step - loss: 0.3061 - auc: 0.9398\n",
            "Epoch 40/100\n",
            "4772/4772 [==============================] - 14s 3ms/step - loss: 0.3063 - auc: 0.9397\n",
            "Epoch 41/100\n",
            "4772/4772 [==============================] - 13s 3ms/step - loss: 0.3053 - auc: 0.9400\n",
            "Epoch 42/100\n",
            "4772/4772 [==============================] - 14s 3ms/step - loss: 0.3044 - auc: 0.9406\n",
            "Epoch 43/100\n",
            "4772/4772 [==============================] - 18s 4ms/step - loss: 0.3051 - auc: 0.9401\n",
            "Epoch 44/100\n",
            "4772/4772 [==============================] - 16s 3ms/step - loss: 0.3045 - auc: 0.9405\n",
            "Epoch 45/100\n",
            "4772/4772 [==============================] - 16s 3ms/step - loss: 0.3033 - auc: 0.9408\n",
            "Epoch 46/100\n",
            "4772/4772 [==============================] - 16s 3ms/step - loss: 0.3030 - auc: 0.9411\n",
            "Epoch 47/100\n",
            "4772/4772 [==============================] - 15s 3ms/step - loss: 0.3042 - auc: 0.9405\n",
            "Epoch 48/100\n",
            "4772/4772 [==============================] - 15s 3ms/step - loss: 0.3024 - auc: 0.9412\n",
            "Epoch 49/100\n",
            "4772/4772 [==============================] - 15s 3ms/step - loss: 0.3020 - auc: 0.9413\n",
            "Epoch 50/100\n",
            "4772/4772 [==============================] - 16s 3ms/step - loss: 0.3019 - auc: 0.9416\n",
            "Epoch 51/100\n",
            "4772/4772 [==============================] - 16s 3ms/step - loss: 0.3019 - auc: 0.9416\n",
            "Epoch 52/100\n",
            "4772/4772 [==============================] - 16s 3ms/step - loss: 0.3017 - auc: 0.9418\n",
            "Epoch 53/100\n",
            "4772/4772 [==============================] - 18s 4ms/step - loss: 0.3018 - auc: 0.9416\n",
            "Epoch 54/100\n",
            "4772/4772 [==============================] - 16s 3ms/step - loss: 0.3001 - auc: 0.9423\n",
            "Epoch 55/100\n",
            "4772/4772 [==============================] - 17s 4ms/step - loss: 0.3009 - auc: 0.9419\n",
            "Epoch 56/100\n",
            "4772/4772 [==============================] - 16s 3ms/step - loss: 0.2999 - auc: 0.9423\n",
            "Epoch 57/100\n",
            "4772/4772 [==============================] - 15s 3ms/step - loss: 0.3011 - auc: 0.9416\n",
            "Epoch 58/100\n",
            "4772/4772 [==============================] - 17s 3ms/step - loss: 0.3001 - auc: 0.9424\n",
            "Epoch 59/100\n",
            "4772/4772 [==============================] - 16s 3ms/step - loss: 0.3004 - auc: 0.9422\n",
            "Epoch 60/100\n",
            "4772/4772 [==============================] - 16s 3ms/step - loss: 0.2996 - auc: 0.9423\n",
            "Epoch 61/100\n",
            "4772/4772 [==============================] - 19s 4ms/step - loss: 0.2985 - auc: 0.9428\n",
            "Epoch 62/100\n",
            "4772/4772 [==============================] - 15s 3ms/step - loss: 0.2997 - auc: 0.9424\n",
            "Epoch 63/100\n",
            "4772/4772 [==============================] - 14s 3ms/step - loss: 0.2997 - auc: 0.9424\n",
            "Epoch 64/100\n",
            "4772/4772 [==============================] - 14s 3ms/step - loss: 0.2986 - auc: 0.9428\n",
            "Epoch 65/100\n",
            "4772/4772 [==============================] - 14s 3ms/step - loss: 0.2982 - auc: 0.9431\n",
            "Epoch 66/100\n",
            "4772/4772 [==============================] - 15s 3ms/step - loss: 0.2985 - auc: 0.9427\n",
            "Epoch 67/100\n",
            "4772/4772 [==============================] - 16s 3ms/step - loss: 0.2985 - auc: 0.9430\n",
            "Epoch 68/100\n",
            "4772/4772 [==============================] - 15s 3ms/step - loss: 0.2974 - auc: 0.9432\n",
            "Epoch 69/100\n",
            "4772/4772 [==============================] - 15s 3ms/step - loss: 0.2980 - auc: 0.9431\n",
            "Epoch 70/100\n",
            "4772/4772 [==============================] - 15s 3ms/step - loss: 0.2962 - auc: 0.9437\n",
            "Epoch 71/100\n",
            "4772/4772 [==============================] - 15s 3ms/step - loss: 0.2974 - auc: 0.9434\n",
            "Epoch 72/100\n",
            "4772/4772 [==============================] - 14s 3ms/step - loss: 0.2968 - auc: 0.9435\n",
            "Epoch 73/100\n",
            "4772/4772 [==============================] - 15s 3ms/step - loss: 0.2971 - auc: 0.9437\n",
            "Epoch 74/100\n",
            "4772/4772 [==============================] - 16s 3ms/step - loss: 0.2968 - auc: 0.9434\n",
            "Epoch 75/100\n",
            "4772/4772 [==============================] - 15s 3ms/step - loss: 0.2967 - auc: 0.9436\n",
            "Epoch 76/100\n",
            "4772/4772 [==============================] - 16s 3ms/step - loss: 0.2967 - auc: 0.9437\n",
            "Epoch 77/100\n",
            "4772/4772 [==============================] - 15s 3ms/step - loss: 0.2961 - auc: 0.9437\n",
            "Epoch 78/100\n",
            "4772/4772 [==============================] - 14s 3ms/step - loss: 0.2949 - auc: 0.9442\n",
            "Epoch 79/100\n",
            "4772/4772 [==============================] - 12s 3ms/step - loss: 0.2965 - auc: 0.9436\n",
            "Epoch 80/100\n",
            "4772/4772 [==============================] - 18s 4ms/step - loss: 0.2960 - auc: 0.9438\n",
            "Epoch 81/100\n",
            "4772/4772 [==============================] - 14s 3ms/step - loss: 0.2952 - auc: 0.9440\n",
            "Epoch 82/100\n",
            "4772/4772 [==============================] - 15s 3ms/step - loss: 0.2956 - auc: 0.9440\n",
            "Epoch 83/100\n",
            "4772/4772 [==============================] - 15s 3ms/step - loss: 0.2949 - auc: 0.9440\n",
            "Epoch 84/100\n",
            "4772/4772 [==============================] - 14s 3ms/step - loss: 0.2948 - auc: 0.9444\n",
            "Epoch 85/100\n",
            "4772/4772 [==============================] - 15s 3ms/step - loss: 0.2951 - auc: 0.9441\n",
            "Epoch 86/100\n",
            "4772/4772 [==============================] - 13s 3ms/step - loss: 0.2949 - auc: 0.9444\n",
            "Epoch 87/100\n",
            "4772/4772 [==============================] - 13s 3ms/step - loss: 0.2948 - auc: 0.9443\n",
            "Epoch 88/100\n",
            "4772/4772 [==============================] - 14s 3ms/step - loss: 0.2948 - auc: 0.9442\n"
          ]
        }
      ]
    },
    {
      "cell_type": "markdown",
      "source": [
        "## Graficos"
      ],
      "metadata": {
        "id": "3wOcj1utAxf2"
      }
    },
    {
      "cell_type": "code",
      "source": [
        "epochs = range (len(nn_model_history.history['auc']))\n",
        "\n",
        "plt.plot(epochs, nn_model_history.history['auc'], color = 'violet', label ='AUC')\n",
        "plt.xlabel('epochs')\n",
        "plt.ylabel('AUC')\n",
        "plt.legend()"
      ],
      "metadata": {
        "colab": {
          "base_uri": "https://localhost:8080/",
          "height": 467
        },
        "id": "Iv_nv6N1AyKs",
        "outputId": "87f00175-f42c-4530-c4ea-ed4cee9a0cdf"
      },
      "execution_count": 63,
      "outputs": [
        {
          "output_type": "execute_result",
          "data": {
            "text/plain": [
              "<matplotlib.legend.Legend at 0x7d626425add0>"
            ]
          },
          "metadata": {},
          "execution_count": 63
        },
        {
          "output_type": "display_data",
          "data": {
            "text/plain": [
              "<Figure size 640x480 with 1 Axes>"
            ],
            "image/png": "[encoded data removed]"
          },
          "metadata": {}
        }
      ]
    },
    {
      "cell_type": "code",
      "source": [
        "epochs = range(len(nn_model_history.history['loss']))\n",
        "plt.plot(epochs, nn_model_history.history['loss'], color = 'blue', label = 'loss')\n",
        "plt.xlabel('epochs')\n",
        "plt.ylabel('loss')\n",
        "plt.legend()"
      ],
      "metadata": {
        "colab": {
          "base_uri": "https://localhost:8080/",
          "height": 467
        },
        "id": "BmeMtZF3A1fP",
        "outputId": "1c5fcf00-e665-40d5-8008-bf556321d597"
      },
      "execution_count": 65,
      "outputs": [
        {
          "output_type": "execute_result",
          "data": {
            "text/plain": [
              "<matplotlib.legend.Legend at 0x7d6247f76d70>"
            ]
          },
          "metadata": {},
          "execution_count": 65
        },
        {
          "output_type": "display_data",
          "data": {
            "text/plain": [
              "<Figure size 640x480 with 1 Axes>"
            ],
            "image/png": "[encoded data removed]"
          },
          "metadata": {}
        }
      ]
    },
    {
      "cell_type": "markdown",
      "source": [
        "## Prediccion"
      ],
      "metadata": {
        "id": "TNZwEfHOA8xF"
      }
    },
    {
      "cell_type": "code",
      "source": [
        "y_predic = nn_model.predict(x_test_escalado)\n",
        "y_predic_cat = np.where(y_predic>0.5,1,0)\n",
        "\n",
        "ds_validacion = pd.DataFrame(y_predic_cat, y_test).reset_index()\n",
        "ds_validacion.columns =['y_pred', 'y_real']\n",
        "\n",
        "print(classification_report(ds_validacion.y_pred, ds_validacion.y_real))\n",
        "\n",
        "tabla = pd.crosstab(ds_validacion.y_pred, ds_validacion.y_real)\n",
        "grf = sns.heatmap(tabla, annot = True, cmap = 'cubehelix', fmt = 'g')\n",
        "plt.show()"
      ],
      "metadata": {
        "colab": {
          "base_uri": "https://localhost:8080/",
          "height": 629
        },
        "id": "InYOE8yQBE4G",
        "outputId": "1eb9729e-8ebd-48ec-c6f6-ae1d52187941"
      },
      "execution_count": 66,
      "outputs": [
        {
          "output_type": "stream",
          "name": "stdout",
          "text": [
            "373/373 [==============================] - 1s 1ms/step\n",
            "              precision    recall  f1-score   support\n",
            "\n",
            "           0       0.85      0.85      0.85      5838\n",
            "           1       0.85      0.85      0.85      6090\n",
            "\n",
            "    accuracy                           0.85     11928\n",
            "   macro avg       0.85      0.85      0.85     11928\n",
            "weighted avg       0.85      0.85      0.85     11928\n",
            "\n"
          ]
        },
        {
          "output_type": "display_data",
          "data": {
            "text/plain": [
              "<Figure size 640x480 with 2 Axes>"
            ],
            "image/png": "[encoded data removed]"
          },
          "metadata": {}
        }
      ]
    },
    {
      "cell_type": "code",
      "source": [
        "print(f1_score(y_test, y_predic_cat))"
      ],
      "metadata": {
        "colab": {
          "base_uri": "https://localhost:8080/"
        },
        "id": "qWJJCeatBJ3F",
        "outputId": "880d5bb8-3746-4ca0-d384-56d5d7bd482e"
      },
      "execution_count": 68,
      "outputs": [
        {
          "output_type": "stream",
          "name": "stdout",
          "text": [
            "0.8535125829986064\n"
          ]
        }
      ]
    },
    {
      "cell_type": "code",
      "source": [
        "accuracy = accuracy_score(y_test, y_predic_cat)\n",
        "recall = recall_score(y_test, y_predic_cat)\n",
        "f1 = f1_score(y_test, y_predic_cat)\n",
        "precision = precision_score(y_test, y_predic_cat)\n",
        "\n",
        "print(\"Accuracy: \" + str(accuracy))\n",
        "print(\"Recall: \" + str(recall))\n",
        "print(\"f1 Score: \" + str(f1))\n",
        "print(\"Precision: \" + str(precision))"
      ],
      "metadata": {
        "colab": {
          "base_uri": "https://localhost:8080/"
        },
        "id": "s4hYMS4b0bMf",
        "outputId": "941d5850-e4bf-452e-87df-7d68d9e7d953"
      },
      "execution_count": 70,
      "outputs": [
        {
          "output_type": "stream",
          "name": "stdout",
          "text": [
            "Accuracy: 0.8501844399731724\n",
            "Recall: 0.8548440065681445\n",
            "f1 Score: 0.8535125829986064\n",
            "Precision: 0.8521853003764936\n"
          ]
        }
      ]
    },
    {
      "cell_type": "code",
      "source": [
        "y_pred_testeo = nn_model.predict(df_test_escalado)\n",
        "y_pred_testeo_cat = np.where(y_pred_testeo>0.50,1,0)\n",
        "df_resultados_pred = pd.DataFrame.from_records(y_pred_testeo_cat, columns = ['resultado'])\n",
        "df_summision = pd.DataFrame({'id': df_test['id'], 'is_canceled':df_resultados_pred['resultado']})\n",
        "df_summision.to_csv('red_neuronal_7.csv', index = False)\n",
        "df_summision"
      ],
      "metadata": {
        "colab": {
          "base_uri": "https://localhost:8080/",
          "height": 442
        },
        "id": "-QdTTN8SBNTL",
        "outputId": "0e32878e-4472-4a98-b2af-e9b2b717399d"
      },
      "execution_count": 69,
      "outputs": [
        {
          "output_type": "stream",
          "name": "stdout",
          "text": [
            "830/830 [==============================] - 1s 1ms/step\n"
          ]
        },
        {
          "output_type": "execute_result",
          "data": {
            "text/plain": [
              "                                         id  is_canceled\n",
              "0      e6d0d58a-ab96-44d3-b28f-85df1cc15f1e            1\n",
              "1      aba9aac2-4495-4645-a60e-90328713c999            1\n",
              "2      b345b5dc-c804-4d77-a39f-1f4e65d1f1ad            0\n",
              "3      ce1b400e-afa1-4946-bdff-004b859eb61c            1\n",
              "4      c4fbec0d-8e2e-4db2-9d4f-a6ccb9f51214            1\n",
              "...                                     ...          ...\n",
              "26530  636ccded-66ad-4538-8006-c0b9f84c6256            0\n",
              "26531  11e19741-bd28-4459-8ea3-184f1664000f            0\n",
              "26532  36a4c7b0-d6b1-4528-93db-311be96ec1c6            1\n",
              "26533  89c85fa5-2b3d-4131-844c-e151a65ca240            1\n",
              "26534  bd4e9eee-f28e-4a53-b4a1-277426efbcee            0\n",
              "\n",
              "[26535 rows x 2 columns]"
            ],
            "text/html": [
              "\n",
              "  <div id=\"df-dae3a686-857a-4eb0-bae3-2bf7a2767769\" class=\"colab-df-container\">\n",
              "    <div>\n",
              "<style scoped>\n",
              "    .dataframe tbody tr th:only-of-type {\n",
              "        vertical-align: middle;\n",
              "    }\n",
              "\n",
              "    .dataframe tbody tr th {\n",
              "        vertical-align: top;\n",
              "    }\n",
              "\n",
              "    .dataframe thead th {\n",
              "        text-align: right;\n",
              "    }\n",
              "</style>\n",
              "<table border=\"1\" class=\"dataframe\">\n",
              "  <thead>\n",
              "    <tr style=\"text-align: right;\">\n",
              "      <th></th>\n",
              "      <th>id</th>\n",
              "      <th>is_canceled</th>\n",
              "    </tr>\n",
              "  </thead>\n",
              "  <tbody>\n",
              "    <tr>\n",
              "      <th>0</th>\n",
              "      <td>e6d0d58a-ab96-44d3-b28f-85df1cc15f1e</td>\n",
              "      <td>1</td>\n",
              "    </tr>\n",
              "    <tr>\n",
              "      <th>1</th>\n",
              "      <td>aba9aac2-4495-4645-a60e-90328713c999</td>\n",
              "      <td>1</td>\n",
              "    </tr>\n",
              "    <tr>\n",
              "      <th>2</th>\n",
              "      <td>b345b5dc-c804-4d77-a39f-1f4e65d1f1ad</td>\n",
              "      <td>0</td>\n",
              "    </tr>\n",
              "    <tr>\n",
              "      <th>3</th>\n",
              "      <td>ce1b400e-afa1-4946-bdff-004b859eb61c</td>\n",
              "      <td>1</td>\n",
              "    </tr>\n",
              "    <tr>\n",
              "      <th>4</th>\n",
              "      <td>c4fbec0d-8e2e-4db2-9d4f-a6ccb9f51214</td>\n",
              "      <td>1</td>\n",
              "    </tr>\n",
              "    <tr>\n",
              "      <th>...</th>\n",
              "      <td>...</td>\n",
              "      <td>...</td>\n",
              "    </tr>\n",
              "    <tr>\n",
              "      <th>26530</th>\n",
              "      <td>636ccded-66ad-4538-8006-c0b9f84c6256</td>\n",
              "      <td>0</td>\n",
              "    </tr>\n",
              "    <tr>\n",
              "      <th>26531</th>\n",
              "      <td>11e19741-bd28-4459-8ea3-184f1664000f</td>\n",
              "      <td>0</td>\n",
              "    </tr>\n",
              "    <tr>\n",
              "      <th>26532</th>\n",
              "      <td>36a4c7b0-d6b1-4528-93db-311be96ec1c6</td>\n",
              "      <td>1</td>\n",
              "    </tr>\n",
              "    <tr>\n",
              "      <th>26533</th>\n",
              "      <td>89c85fa5-2b3d-4131-844c-e151a65ca240</td>\n",
              "      <td>1</td>\n",
              "    </tr>\n",
              "    <tr>\n",
              "      <th>26534</th>\n",
              "      <td>bd4e9eee-f28e-4a53-b4a1-277426efbcee</td>\n",
              "      <td>0</td>\n",
              "    </tr>\n",
              "  </tbody>\n",
              "</table>\n",
              "<p>26535 rows × 2 columns</p>\n",
              "</div>\n",
              "    <div class=\"colab-df-buttons\">\n",
              "\n",
              "  <div class=\"colab-df-container\">\n",
              "    <button class=\"colab-df-convert\" onclick=\"convertToInteractive('df-dae3a686-857a-4eb0-bae3-2bf7a2767769')\"\n",
              "            title=\"Convert this dataframe to an interactive table.\"\n",
              "            style=\"display:none;\">\n",
              "\n",
              "  <svg xmlns=\"http://www.w3.org/2000/svg\" height=\"24px\" viewBox=\"0 -960 960 960\">\n",
              "    <path d=\"M120-120v-720h720v720H120Zm60-500h600v-160H180v160Zm220 220h160v-160H400v160Zm0 220h160v-160H400v160ZM180-400h160v-160H180v160Zm440 0h160v-160H620v160ZM180-180h160v-160H180v160Zm440 0h160v-160H620v160Z\"/>\n",
              "  </svg>\n",
              "    </button>\n",
              "\n",
              "  <style>\n",
              "    .colab-df-container {\n",
              "      display:flex;\n",
              "      gap: 12px;\n",
              "    }\n",
              "\n",
              "    .colab-df-convert {\n",
              "      background-color: #E8F0FE;\n",
              "      border: none;\n",
              "      border-radius: 50%;\n",
              "      cursor: pointer;\n",
              "      display: none;\n",
              "      fill: #1967D2;\n",
              "      height: 32px;\n",
              "      padding: 0 0 0 0;\n",
              "      width: 32px;\n",
              "    }\n",
              "\n",
              "    .colab-df-convert:hover {\n",
              "      background-color: #E2EBFA;\n",
              "      box-shadow: 0px 1px 2px rgba(60, 64, 67, 0.3), 0px 1px 3px 1px rgba(60, 64, 67, 0.15);\n",
              "      fill: #174EA6;\n",
              "    }\n",
              "\n",
              "    .colab-df-buttons div {\n",
              "      margin-bottom: 4px;\n",
              "    }\n",
              "\n",
              "    [theme=dark] .colab-df-convert {\n",
              "      background-color: #3B4455;\n",
              "      fill: #D2E3FC;\n",
              "    }\n",
              "\n",
              "    [theme=dark] .colab-df-convert:hover {\n",
              "      background-color: #434B5C;\n",
              "      box-shadow: 0px 1px 3px 1px rgba(0, 0, 0, 0.15);\n",
              "      filter: drop-shadow(0px 1px 2px rgba(0, 0, 0, 0.3));\n",
              "      fill: #FFFFFF;\n",
              "    }\n",
              "  </style>\n",
              "\n",
              "    <script>\n",
              "      const buttonEl =\n",
              "        document.querySelector('#df-dae3a686-857a-4eb0-bae3-2bf7a2767769 button.colab-df-convert');\n",
              "      buttonEl.style.display =\n",
              "        google.colab.kernel.accessAllowed ? 'block' : 'none';\n",
              "\n",
              "      async function convertToInteractive(key) {\n",
              "        const element = document.querySelector('#df-dae3a686-857a-4eb0-bae3-2bf7a2767769');\n",
              "        const dataTable =\n",
              "          await google.colab.kernel.invokeFunction('convertToInteractive',\n",
              "                                                    [key], {});\n",
              "        if (!dataTable) return;\n",
              "\n",
              "        const docLinkHtml = 'Like what you see? Visit the ' +\n",
              "          '<a target=\"_blank\" href=https://colab.research.google.com/notebooks/data_table.ipynb>data table notebook</a>'\n",
              "          + ' to learn more about interactive tables.';\n",
              "        element.innerHTML = '';\n",
              "        dataTable['output_type'] = 'display_data';\n",
              "        await google.colab.output.renderOutput(dataTable, element);\n",
              "        const docLink = document.createElement('div');\n",
              "        docLink.innerHTML = docLinkHtml;\n",
              "        element.appendChild(docLink);\n",
              "      }\n",
              "    </script>\n",
              "  </div>\n",
              "\n",
              "\n",
              "<div id=\"df-bd77f14f-6b91-4314-8f0c-645a8bd8a60a\">\n",
              "  <button class=\"colab-df-quickchart\" onclick=\"quickchart('df-bd77f14f-6b91-4314-8f0c-645a8bd8a60a')\"\n",
              "            title=\"Suggest charts.\"\n",
              "            style=\"display:none;\">\n",
              "\n",
              "<svg xmlns=\"http://www.w3.org/2000/svg\" height=\"24px\"viewBox=\"0 0 24 24\"\n",
              "     width=\"24px\">\n",
              "    <g>\n",
              "        <path d=\"M19 3H5c-1.1 0-2 .9-2 2v14c0 1.1.9 2 2 2h14c1.1 0 2-.9 2-2V5c0-1.1-.9-2-2-2zM9 17H7v-7h2v7zm4 0h-2V7h2v10zm4 0h-2v-4h2v4z\"/>\n",
              "    </g>\n",
              "</svg>\n",
              "  </button>\n",
              "\n",
              "<style>\n",
              "  .colab-df-quickchart {\n",
              "      --bg-color: #E8F0FE;\n",
              "      --fill-color: #1967D2;\n",
              "      --hover-bg-color: #E2EBFA;\n",
              "      --hover-fill-color: #174EA6;\n",
              "      --disabled-fill-color: #AAA;\n",
              "      --disabled-bg-color: #DDD;\n",
              "  }\n",
              "\n",
              "  [theme=dark] .colab-df-quickchart {\n",
              "      --bg-color: #3B4455;\n",
              "      --fill-color: #D2E3FC;\n",
              "      --hover-bg-color: #434B5C;\n",
              "      --hover-fill-color: #FFFFFF;\n",
              "      --disabled-bg-color: #3B4455;\n",
              "      --disabled-fill-color: #666;\n",
              "  }\n",
              "\n",
              "  .colab-df-quickchart {\n",
              "    background-color: var(--bg-color);\n",
              "    border: none;\n",
              "    border-radius: 50%;\n",
              "    cursor: pointer;\n",
              "    display: none;\n",
              "    fill: var(--fill-color);\n",
              "    height: 32px;\n",
              "    padding: 0;\n",
              "    width: 32px;\n",
              "  }\n",
              "\n",
              "  .colab-df-quickchart:hover {\n",
              "    background-color: var(--hover-bg-color);\n",
              "    box-shadow: 0 1px 2px rgba(60, 64, 67, 0.3), 0 1px 3px 1px rgba(60, 64, 67, 0.15);\n",
              "    fill: var(--button-hover-fill-color);\n",
              "  }\n",
              "\n",
              "  .colab-df-quickchart-complete:disabled,\n",
              "  .colab-df-quickchart-complete:disabled:hover {\n",
              "    background-color: var(--disabled-bg-color);\n",
              "    fill: var(--disabled-fill-color);\n",
              "    box-shadow: none;\n",
              "  }\n",
              "\n",
              "  .colab-df-spinner {\n",
              "    border: 2px solid var(--fill-color);\n",
              "    border-color: transparent;\n",
              "    border-bottom-color: var(--fill-color);\n",
              "    animation:\n",
              "      spin 1s steps(1) infinite;\n",
              "  }\n",
              "\n",
              "  @keyframes spin {\n",
              "    0% {\n",
              "      border-color: transparent;\n",
              "      border-bottom-color: var(--fill-color);\n",
              "      border-left-color: var(--fill-color);\n",
              "    }\n",
              "    20% {\n",
              "      border-color: transparent;\n",
              "      border-left-color: var(--fill-color);\n",
              "      border-top-color: var(--fill-color);\n",
              "    }\n",
              "    30% {\n",
              "      border-color: transparent;\n",
              "      border-left-color: var(--fill-color);\n",
              "      border-top-color: var(--fill-color);\n",
              "      border-right-color: var(--fill-color);\n",
              "    }\n",
              "    40% {\n",
              "      border-color: transparent;\n",
              "      border-right-color: var(--fill-color);\n",
              "      border-top-color: var(--fill-color);\n",
              "    }\n",
              "    60% {\n",
              "      border-color: transparent;\n",
              "      border-right-color: var(--fill-color);\n",
              "    }\n",
              "    80% {\n",
              "      border-color: transparent;\n",
              "      border-right-color: var(--fill-color);\n",
              "      border-bottom-color: var(--fill-color);\n",
              "    }\n",
              "    90% {\n",
              "      border-color: transparent;\n",
              "      border-bottom-color: var(--fill-color);\n",
              "    }\n",
              "  }\n",
              "</style>\n",
              "\n",
              "  <script>\n",
              "    async function quickchart(key) {\n",
              "      const quickchartButtonEl =\n",
              "        document.querySelector('#' + key + ' button');\n",
              "      quickchartButtonEl.disabled = true;  // To prevent multiple clicks.\n",
              "      quickchartButtonEl.classList.add('colab-df-spinner');\n",
              "      try {\n",
              "        const charts = await google.colab.kernel.invokeFunction(\n",
              "            'suggestCharts', [key], {});\n",
              "      } catch (error) {\n",
              "        console.error('Error during call to suggestCharts:', error);\n",
              "      }\n",
              "      quickchartButtonEl.classList.remove('colab-df-spinner');\n",
              "      quickchartButtonEl.classList.add('colab-df-quickchart-complete');\n",
              "    }\n",
              "    (() => {\n",
              "      let quickchartButtonEl =\n",
              "        document.querySelector('#df-bd77f14f-6b91-4314-8f0c-645a8bd8a60a button');\n",
              "      quickchartButtonEl.style.display =\n",
              "        google.colab.kernel.accessAllowed ? 'block' : 'none';\n",
              "    })();\n",
              "  </script>\n",
              "</div>\n",
              "    </div>\n",
              "  </div>\n"
            ]
          },
          "metadata": {},
          "execution_count": 69
        }
      ]
    }
  ],
  "metadata": {
    "colab": {
      "provenance": [],
      "collapsed_sections": [
        "y3elMSE6amPX"
      ]
    },
    "kernelspec": {
      "display_name": "Python 3",
      "name": "python3"
    },
    "language_info": {
      "name": "python"
    }
  },
  "nbformat": 4,
  "nbformat_minor": 0
}