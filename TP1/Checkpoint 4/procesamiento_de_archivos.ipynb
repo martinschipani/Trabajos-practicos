{
  "nbformat": 4,
  "nbformat_minor": 0,
  "metadata": {
    "colab": {
      "provenance": []
    },
    "kernelspec": {
      "name": "python3",
      "display_name": "Python 3"
    },
    "language_info": {
      "name": "python"
    }
  },
  "cells": [
    {
      "cell_type": "markdown",
      "source": [
        "#Trabajo Práctico 1 : Reservas de Hotel"
      ],
      "metadata": {
        "id": "2KqoxgtJ0KC2"
      }
    },
    {
      "cell_type": "markdown",
      "source": [
        "## Preprocesamientio de datos"
      ],
      "metadata": {
        "id": "ZuYIq3w70ZFS"
      }
    },
    {
      "cell_type": "code",
      "execution_count": 95,
      "metadata": {
        "id": "kfpK54rx0I0f"
      },
      "outputs": [],
      "source": [
        "import numpy as np\n",
        "import pandas as pd\n",
        "\n",
        "import matplotlib.pyplot as plt\n",
        "import seaborn as sns\n",
        "import scipy.stats as st\n",
        "\n",
        "import warnings\n",
        "warnings.simplefilter(action= 'ignore', category=FutureWarning)"
      ]
    },
    {
      "cell_type": "markdown",
      "source": [
        "### Dataset Train"
      ],
      "metadata": {
        "id": "1BmxWmBx1Ven"
      }
    },
    {
      "cell_type": "code",
      "source": [
        "ds_hotel_train = pd.read_csv('hotels_train.csv')\n",
        "df_hotel_train = ds_hotel_train.copy()\n",
        "\n",
        "ds_hotel_test = pd.read_csv('hotels_test.csv')\n",
        "df_hotel_test = ds_hotel_test.copy()"
      ],
      "metadata": {
        "id": "NQYBx3Kw1a_A"
      },
      "execution_count": 96,
      "outputs": []
    },
    {
      "cell_type": "code",
      "source": [
        "print(\"El dataframe tiene \"f\" {df_hotel_train.shape[0]} \"\"filas y \"f\"{df_hotel_train.shape[1]} \"\"columnas.\")"
      ],
      "metadata": {
        "colab": {
          "base_uri": "https://localhost:8080/"
        },
        "id": "CN0M8Wf61rbg",
        "outputId": "095d5b8a-d559-4a1f-d864-bd981b6692dc"
      },
      "execution_count": 97,
      "outputs": [
        {
          "output_type": "stream",
          "name": "stdout",
          "text": [
            "El dataframe tiene  61913 filas y 31 columnas.\n"
          ]
        }
      ]
    },
    {
      "cell_type": "code",
      "source": [
        "df_hotel_train[df_hotel_train.duplicated(keep = False)]"
      ],
      "metadata": {
        "colab": {
          "base_uri": "https://localhost:8080/",
          "height": 99
        },
        "id": "Z7QiJm262PSV",
        "outputId": "8c7bc6d2-995d-4964-fe24-4420a552ef0d"
      },
      "execution_count": 98,
      "outputs": [
        {
          "output_type": "execute_result",
          "data": {
            "text/plain": [
              "Empty DataFrame\n",
              "Columns: [hotel, lead_time, arrival_date_year, arrival_date_month, arrival_date_week_number, arrival_date_day_of_month, stays_in_weekend_nights, stays_in_week_nights, adults, children, babies, meal, country, market_segment, distribution_channel, is_repeated_guest, previous_cancellations, previous_bookings_not_canceled, reserved_room_type, assigned_room_type, booking_changes, deposit_type, agent, company, days_in_waiting_list, customer_type, adr, required_car_parking_spaces, total_of_special_requests, id, is_canceled]\n",
              "Index: []\n",
              "\n",
              "[0 rows x 31 columns]"
            ],
            "text/html": [
              "\n",
              "  <div id=\"df-9ec7cc08-1876-4688-88c6-d33199997dcd\" class=\"colab-df-container\">\n",
              "    <div>\n",
              "<style scoped>\n",
              "    .dataframe tbody tr th:only-of-type {\n",
              "        vertical-align: middle;\n",
              "    }\n",
              "\n",
              "    .dataframe tbody tr th {\n",
              "        vertical-align: top;\n",
              "    }\n",
              "\n",
              "    .dataframe thead th {\n",
              "        text-align: right;\n",
              "    }\n",
              "</style>\n",
              "<table border=\"1\" class=\"dataframe\">\n",
              "  <thead>\n",
              "    <tr style=\"text-align: right;\">\n",
              "      <th></th>\n",
              "      <th>hotel</th>\n",
              "      <th>lead_time</th>\n",
              "      <th>arrival_date_year</th>\n",
              "      <th>arrival_date_month</th>\n",
              "      <th>arrival_date_week_number</th>\n",
              "      <th>arrival_date_day_of_month</th>\n",
              "      <th>stays_in_weekend_nights</th>\n",
              "      <th>stays_in_week_nights</th>\n",
              "      <th>adults</th>\n",
              "      <th>children</th>\n",
              "      <th>...</th>\n",
              "      <th>deposit_type</th>\n",
              "      <th>agent</th>\n",
              "      <th>company</th>\n",
              "      <th>days_in_waiting_list</th>\n",
              "      <th>customer_type</th>\n",
              "      <th>adr</th>\n",
              "      <th>required_car_parking_spaces</th>\n",
              "      <th>total_of_special_requests</th>\n",
              "      <th>id</th>\n",
              "      <th>is_canceled</th>\n",
              "    </tr>\n",
              "  </thead>\n",
              "  <tbody>\n",
              "  </tbody>\n",
              "</table>\n",
              "<p>0 rows × 31 columns</p>\n",
              "</div>\n",
              "    <div class=\"colab-df-buttons\">\n",
              "\n",
              "  <div class=\"colab-df-container\">\n",
              "    <button class=\"colab-df-convert\" onclick=\"convertToInteractive('df-9ec7cc08-1876-4688-88c6-d33199997dcd')\"\n",
              "            title=\"Convert this dataframe to an interactive table.\"\n",
              "            style=\"display:none;\">\n",
              "\n",
              "  <svg xmlns=\"http://www.w3.org/2000/svg\" height=\"24px\" viewBox=\"0 -960 960 960\">\n",
              "    <path d=\"M120-120v-720h720v720H120Zm60-500h600v-160H180v160Zm220 220h160v-160H400v160Zm0 220h160v-160H400v160ZM180-400h160v-160H180v160Zm440 0h160v-160H620v160ZM180-180h160v-160H180v160Zm440 0h160v-160H620v160Z\"/>\n",
              "  </svg>\n",
              "    </button>\n",
              "\n",
              "  <style>\n",
              "    .colab-df-container {\n",
              "      display:flex;\n",
              "      gap: 12px;\n",
              "    }\n",
              "\n",
              "    .colab-df-convert {\n",
              "      background-color: #E8F0FE;\n",
              "      border: none;\n",
              "      border-radius: 50%;\n",
              "      cursor: pointer;\n",
              "      display: none;\n",
              "      fill: #1967D2;\n",
              "      height: 32px;\n",
              "      padding: 0 0 0 0;\n",
              "      width: 32px;\n",
              "    }\n",
              "\n",
              "    .colab-df-convert:hover {\n",
              "      background-color: #E2EBFA;\n",
              "      box-shadow: 0px 1px 2px rgba(60, 64, 67, 0.3), 0px 1px 3px 1px rgba(60, 64, 67, 0.15);\n",
              "      fill: #174EA6;\n",
              "    }\n",
              "\n",
              "    .colab-df-buttons div {\n",
              "      margin-bottom: 4px;\n",
              "    }\n",
              "\n",
              "    [theme=dark] .colab-df-convert {\n",
              "      background-color: #3B4455;\n",
              "      fill: #D2E3FC;\n",
              "    }\n",
              "\n",
              "    [theme=dark] .colab-df-convert:hover {\n",
              "      background-color: #434B5C;\n",
              "      box-shadow: 0px 1px 3px 1px rgba(0, 0, 0, 0.15);\n",
              "      filter: drop-shadow(0px 1px 2px rgba(0, 0, 0, 0.3));\n",
              "      fill: #FFFFFF;\n",
              "    }\n",
              "  </style>\n",
              "\n",
              "    <script>\n",
              "      const buttonEl =\n",
              "        document.querySelector('#df-9ec7cc08-1876-4688-88c6-d33199997dcd button.colab-df-convert');\n",
              "      buttonEl.style.display =\n",
              "        google.colab.kernel.accessAllowed ? 'block' : 'none';\n",
              "\n",
              "      async function convertToInteractive(key) {\n",
              "        const element = document.querySelector('#df-9ec7cc08-1876-4688-88c6-d33199997dcd');\n",
              "        const dataTable =\n",
              "          await google.colab.kernel.invokeFunction('convertToInteractive',\n",
              "                                                    [key], {});\n",
              "        if (!dataTable) return;\n",
              "\n",
              "        const docLinkHtml = 'Like what you see? Visit the ' +\n",
              "          '<a target=\"_blank\" href=https://colab.research.google.com/notebooks/data_table.ipynb>data table notebook</a>'\n",
              "          + ' to learn more about interactive tables.';\n",
              "        element.innerHTML = '';\n",
              "        dataTable['output_type'] = 'display_data';\n",
              "        await google.colab.output.renderOutput(dataTable, element);\n",
              "        const docLink = document.createElement('div');\n",
              "        docLink.innerHTML = docLinkHtml;\n",
              "        element.appendChild(docLink);\n",
              "      }\n",
              "    </script>\n",
              "  </div>\n",
              "\n",
              "    </div>\n",
              "  </div>\n"
            ]
          },
          "metadata": {},
          "execution_count": 98
        }
      ]
    },
    {
      "cell_type": "code",
      "source": [
        "df_hotel_train.isna().sum()"
      ],
      "metadata": {
        "colab": {
          "base_uri": "https://localhost:8080/"
        },
        "id": "kkjlQRjT2ckT",
        "outputId": "b31f9455-7b67-426e-e45e-0f81500e96a6"
      },
      "execution_count": 99,
      "outputs": [
        {
          "output_type": "execute_result",
          "data": {
            "text/plain": [
              "hotel                                 0\n",
              "lead_time                             0\n",
              "arrival_date_year                     0\n",
              "arrival_date_month                    0\n",
              "arrival_date_week_number              0\n",
              "arrival_date_day_of_month             0\n",
              "stays_in_weekend_nights               0\n",
              "stays_in_week_nights                  0\n",
              "adults                                0\n",
              "children                              4\n",
              "babies                                0\n",
              "meal                                  0\n",
              "country                             221\n",
              "market_segment                        0\n",
              "distribution_channel                  0\n",
              "is_repeated_guest                     0\n",
              "previous_cancellations                0\n",
              "previous_bookings_not_canceled        0\n",
              "reserved_room_type                    0\n",
              "assigned_room_type                    0\n",
              "booking_changes                       0\n",
              "deposit_type                          0\n",
              "agent                              7890\n",
              "company                           58761\n",
              "days_in_waiting_list                  0\n",
              "customer_type                         0\n",
              "adr                                   0\n",
              "required_car_parking_spaces           0\n",
              "total_of_special_requests             0\n",
              "id                                    0\n",
              "is_canceled                           0\n",
              "dtype: int64"
            ]
          },
          "metadata": {},
          "execution_count": 99
        }
      ]
    },
    {
      "cell_type": "code",
      "source": [
        "#COUNTRY\n",
        "df_hotel_train.loc[df_hotel_train['country'].isnull(), 'country'] = 'PRT'\n",
        "\n",
        "#AGENT\n",
        "df_hotel_train.loc[df_hotel_train['agent'].isnull(), 'agent'] = 0\n",
        "df_hotel_train['agent'] = df_hotel_train['agent'].astype(int)\n",
        "\n",
        "#COMPANY\n",
        "df_hotel_train.drop('company', axis = 'columns', inplace = True)\n",
        "df_hotel_train.reset_index(drop = True)\n",
        "\n",
        "#ADULTS\n",
        "df_hotel_train.drop(df_hotel_train[df_hotel_train['adults'] == 0].index, axis = 'index', inplace = True)\n",
        "df_hotel_train.drop(df_hotel_train[df_hotel_train['adults'] > 3].index, axis = 'index', inplace = True)\n",
        "df_hotel_train.reset_index(drop = True)\n",
        "\n",
        "#ADR\n",
        "df_hotel_train.drop(df_hotel_train[df_hotel_train['adr'] <= 0].index, axis = 'index', inplace = True)\n",
        "df_hotel_train.reset_index(drop = True)\n",
        "\n",
        "media_adr = np.mean(df_hotel_train.adr)\n",
        "std_adr = np.std(df_hotel_train.adr)\n",
        "df_hotel_train['z_adr'] = (df_hotel_train.adr - media_adr)/std_adr\n",
        "df_hotel_train['z_adr'] = st.zscore(df_hotel_train.adr)\n",
        "df_hotel_train.drop(df_hotel_train[df_hotel_train['adr'] >= 400].index, axis = 'index', inplace = True)\n",
        "df_hotel_train.drop(df_hotel_train[df_hotel_train['z_adr'] > 3].index, axis = 'index', inplace = True)\n",
        "df_hotel_train.drop(df_hotel_train[df_hotel_train['z_adr'] < -2].index, axis = 'index', inplace = True)\n",
        "df_hotel_train.drop(labels='z_adr', inplace = True, axis = 1)\n",
        "df_hotel_train.reset_index(drop = True)\n",
        "\n",
        "#BABIES\n",
        "df_hotel_train.drop(df_hotel_train[df_hotel_train['babies'] >= 9].index, axis = 'index', inplace = True)\n",
        "df_hotel_train.reset_index(drop = True)\n",
        "\n",
        "#CHILDREN\n",
        "df_hotel_train.loc[df_hotel_train['children'].isnull(), 'children'] = 0\n",
        "df_hotel_train.loc[df_hotel_train['children'] < 0, 'children'] = 0\n",
        "df_hotel_train.drop(df_hotel_train[df_hotel_train['children'] >= 10].index, axis = 'index', inplace = True)\n",
        "df_hotel_train.reset_index(drop = True)\n",
        "\n",
        "#PREVIOUS_CANCELLATIONS\n",
        "df_hotel_train.drop(df_hotel_train[df_hotel_train['previous_cancellations'] >= 2].index, axis = 'index', inplace = True)\n",
        "df_hotel_train.reset_index(drop = True)\n",
        "\n",
        "#PREVIOUS_BOOKINGS_NOT_CANCELLED\n",
        "df_hotel_train.drop('previous_bookings_not_canceled', axis = 'columns', inplace = True)\n",
        "df_hotel_train.reset_index(drop = True)\n",
        "\n",
        "#REQUIRED_CAR_PARKING_SPACES\n",
        "df_hotel_train.loc[(df_hotel_train['adults'] == 2) & (df_hotel_train['required_car_parking_spaces'] == 3), 'required_car_parking_spaces'] = 2\n",
        "df_hotel_train.loc[(df_hotel_train['adults'] == 2) & (df_hotel_train['required_car_parking_spaces'] == 8), 'required_car_parking_spaces'] = 2\n",
        "\n",
        "#TOTAL_OF_SPECIAL_REQUESTS\n",
        "df_hotel_train.loc[(df_hotel_train['total_of_special_requests'] >= 4), 'total_of_special_requests'] = 1"
      ],
      "metadata": {
        "id": "i0kpWrBq2o5G"
      },
      "execution_count": 100,
      "outputs": []
    },
    {
      "cell_type": "code",
      "source": [
        "df_hotel_train['total_days'] = df_hotel_train['stays_in_week_nights'] + df_hotel_train['stays_in_weekend_nights']\n",
        "df_hotel_train.drop(df_hotel_train[(df_hotel_train['assigned_room_type'] == 'K') & (df_hotel_train['adr'] > 160)].index, axis = 'index', inplace = True)\n",
        "df_hotel_train.drop(df_hotel_train[(df_hotel_train['assigned_room_type'] == 'I') & (df_hotel_train['adr'] > 210)].index, axis = 'index', inplace = True)\n",
        "df_hotel_train.drop(df_hotel_train[(df_hotel_train['assigned_room_type'] == 'B') & (df_hotel_train['adr'] > 160)].index, axis = 'index', inplace = True)\n",
        "df_hotel_train.drop(df_hotel_train[(df_hotel_train['assigned_room_type'] == 'B') & (df_hotel_train['adr'] < 30)].index, axis = 'index', inplace = True)\n",
        "df_hotel_train.drop('assigned_room_type', axis = 'columns', inplace = True)\n",
        "df_hotel_train.reset_index(drop = True)"
      ],
      "metadata": {
        "colab": {
          "base_uri": "https://localhost:8080/",
          "height": 947
        },
        "id": "bE3eIRdhBEoI",
        "outputId": "eb7cdd42-046b-4d88-a8a4-27fe70021be5"
      },
      "execution_count": 101,
      "outputs": [
        {
          "output_type": "execute_result",
          "data": {
            "text/plain": [
              "              hotel  lead_time  arrival_date_year arrival_date_month  \\\n",
              "0        City Hotel         49               2016          September   \n",
              "1      Resort Hotel          4               2015            October   \n",
              "2        City Hotel         25               2016            October   \n",
              "3        City Hotel         26               2016           December   \n",
              "4        City Hotel        104               2017              March   \n",
              "...             ...        ...                ...                ...   \n",
              "59635  Resort Hotel         24               2017            January   \n",
              "59636    City Hotel          0               2016          September   \n",
              "59637    City Hotel         10               2017                May   \n",
              "59638  Resort Hotel        143               2015            October   \n",
              "59639    City Hotel         57               2016              April   \n",
              "\n",
              "       arrival_date_week_number  arrival_date_day_of_month  \\\n",
              "0                            37                          5   \n",
              "1                            44                         31   \n",
              "2                            42                         13   \n",
              "3                            51                         12   \n",
              "4                            12                         19   \n",
              "...                         ...                        ...   \n",
              "59635                         4                         27   \n",
              "59636                        36                          2   \n",
              "59637                        19                          8   \n",
              "59638                        41                         10   \n",
              "59639                        17                         17   \n",
              "\n",
              "       stays_in_weekend_nights  stays_in_week_nights  adults  children  ...  \\\n",
              "0                            1                     2       1       0.0  ...   \n",
              "1                            0                     1       2       0.0  ...   \n",
              "2                            0                     1       2       2.0  ...   \n",
              "3                            2                     5       2       0.0  ...   \n",
              "4                            2                     5       2       0.0  ...   \n",
              "...                        ...                   ...     ...       ...  ...   \n",
              "59635                        0                     2       2       0.0  ...   \n",
              "59636                        0                     1       1       0.0  ...   \n",
              "59637                        1                     2       1       0.0  ...   \n",
              "59638                        2                     5       2       0.0  ...   \n",
              "59639                        2                     5       2       0.0  ...   \n",
              "\n",
              "       deposit_type agent days_in_waiting_list    customer_type     adr  \\\n",
              "0        No Deposit     9                    0        Transient  115.50   \n",
              "1        No Deposit     0                    0        Transient   42.00   \n",
              "2        No Deposit     9                    0        Transient  229.00   \n",
              "3        Non Refund   154                    0        Transient   75.00   \n",
              "4        No Deposit    20                    0  Transient-Party   75.00   \n",
              "...             ...   ...                  ...              ...     ...   \n",
              "59635    No Deposit   240                    0        Transient   48.00   \n",
              "59636    No Deposit     0                    0        Transient  149.00   \n",
              "59637    No Deposit     0                    0        Transient   95.00   \n",
              "59638    Non Refund    96                    0        Transient   36.05   \n",
              "59639    No Deposit     9                    0        Transient  143.29   \n",
              "\n",
              "       required_car_parking_spaces  total_of_special_requests  \\\n",
              "0                                0                          1   \n",
              "1                                1                          0   \n",
              "2                                0                          2   \n",
              "3                                0                          0   \n",
              "4                                0                          1   \n",
              "...                            ...                        ...   \n",
              "59635                            0                          1   \n",
              "59636                            0                          0   \n",
              "59637                            0                          0   \n",
              "59638                            0                          0   \n",
              "59639                            0                          0   \n",
              "\n",
              "                                         id  is_canceled total_days  \n",
              "0      7aa4cc6b-b92c-4061-b21d-4f9e0cac4689            1          3  \n",
              "1      b1428f80-c56c-4ae4-91a9-6962edae08b1            0          1  \n",
              "2      2226c018-ea20-4c4e-8f71-ea66aee70d7c            0          1  \n",
              "3      314f56dc-2e4d-4298-9bdd-27bb008bffff            1          7  \n",
              "4      28c75445-c603-413a-babf-ad377018b592            0          7  \n",
              "...                                     ...          ...        ...  \n",
              "59635  32bffef5-5404-4e86-9f39-fd2282e1ad7f            1          2  \n",
              "59636  cc922a1c-356e-42a5-a984-0b1af03c2f5c            0          1  \n",
              "59637  76fb0e83-59df-43ee-9c33-aec51030ed45            0          3  \n",
              "59638  01906859-1094-4e37-b13e-b015b594d159            1          7  \n",
              "59639  7137e599-4442-41fb-b147-4aba9f344e38            1          7  \n",
              "\n",
              "[59640 rows x 29 columns]"
            ],
            "text/html": [
              "\n",
              "  <div id=\"df-f719206b-83d9-4ec5-8d31-0d2bcbfd6270\" class=\"colab-df-container\">\n",
              "    <div>\n",
              "<style scoped>\n",
              "    .dataframe tbody tr th:only-of-type {\n",
              "        vertical-align: middle;\n",
              "    }\n",
              "\n",
              "    .dataframe tbody tr th {\n",
              "        vertical-align: top;\n",
              "    }\n",
              "\n",
              "    .dataframe thead th {\n",
              "        text-align: right;\n",
              "    }\n",
              "</style>\n",
              "<table border=\"1\" class=\"dataframe\">\n",
              "  <thead>\n",
              "    <tr style=\"text-align: right;\">\n",
              "      <th></th>\n",
              "      <th>hotel</th>\n",
              "      <th>lead_time</th>\n",
              "      <th>arrival_date_year</th>\n",
              "      <th>arrival_date_month</th>\n",
              "      <th>arrival_date_week_number</th>\n",
              "      <th>arrival_date_day_of_month</th>\n",
              "      <th>stays_in_weekend_nights</th>\n",
              "      <th>stays_in_week_nights</th>\n",
              "      <th>adults</th>\n",
              "      <th>children</th>\n",
              "      <th>...</th>\n",
              "      <th>deposit_type</th>\n",
              "      <th>agent</th>\n",
              "      <th>days_in_waiting_list</th>\n",
              "      <th>customer_type</th>\n",
              "      <th>adr</th>\n",
              "      <th>required_car_parking_spaces</th>\n",
              "      <th>total_of_special_requests</th>\n",
              "      <th>id</th>\n",
              "      <th>is_canceled</th>\n",
              "      <th>total_days</th>\n",
              "    </tr>\n",
              "  </thead>\n",
              "  <tbody>\n",
              "    <tr>\n",
              "      <th>0</th>\n",
              "      <td>City Hotel</td>\n",
              "      <td>49</td>\n",
              "      <td>2016</td>\n",
              "      <td>September</td>\n",
              "      <td>37</td>\n",
              "      <td>5</td>\n",
              "      <td>1</td>\n",
              "      <td>2</td>\n",
              "      <td>1</td>\n",
              "      <td>0.0</td>\n",
              "      <td>...</td>\n",
              "      <td>No Deposit</td>\n",
              "      <td>9</td>\n",
              "      <td>0</td>\n",
              "      <td>Transient</td>\n",
              "      <td>115.50</td>\n",
              "      <td>0</td>\n",
              "      <td>1</td>\n",
              "      <td>7aa4cc6b-b92c-4061-b21d-4f9e0cac4689</td>\n",
              "      <td>1</td>\n",
              "      <td>3</td>\n",
              "    </tr>\n",
              "    <tr>\n",
              "      <th>1</th>\n",
              "      <td>Resort Hotel</td>\n",
              "      <td>4</td>\n",
              "      <td>2015</td>\n",
              "      <td>October</td>\n",
              "      <td>44</td>\n",
              "      <td>31</td>\n",
              "      <td>0</td>\n",
              "      <td>1</td>\n",
              "      <td>2</td>\n",
              "      <td>0.0</td>\n",
              "      <td>...</td>\n",
              "      <td>No Deposit</td>\n",
              "      <td>0</td>\n",
              "      <td>0</td>\n",
              "      <td>Transient</td>\n",
              "      <td>42.00</td>\n",
              "      <td>1</td>\n",
              "      <td>0</td>\n",
              "      <td>b1428f80-c56c-4ae4-91a9-6962edae08b1</td>\n",
              "      <td>0</td>\n",
              "      <td>1</td>\n",
              "    </tr>\n",
              "    <tr>\n",
              "      <th>2</th>\n",
              "      <td>City Hotel</td>\n",
              "      <td>25</td>\n",
              "      <td>2016</td>\n",
              "      <td>October</td>\n",
              "      <td>42</td>\n",
              "      <td>13</td>\n",
              "      <td>0</td>\n",
              "      <td>1</td>\n",
              "      <td>2</td>\n",
              "      <td>2.0</td>\n",
              "      <td>...</td>\n",
              "      <td>No Deposit</td>\n",
              "      <td>9</td>\n",
              "      <td>0</td>\n",
              "      <td>Transient</td>\n",
              "      <td>229.00</td>\n",
              "      <td>0</td>\n",
              "      <td>2</td>\n",
              "      <td>2226c018-ea20-4c4e-8f71-ea66aee70d7c</td>\n",
              "      <td>0</td>\n",
              "      <td>1</td>\n",
              "    </tr>\n",
              "    <tr>\n",
              "      <th>3</th>\n",
              "      <td>City Hotel</td>\n",
              "      <td>26</td>\n",
              "      <td>2016</td>\n",
              "      <td>December</td>\n",
              "      <td>51</td>\n",
              "      <td>12</td>\n",
              "      <td>2</td>\n",
              "      <td>5</td>\n",
              "      <td>2</td>\n",
              "      <td>0.0</td>\n",
              "      <td>...</td>\n",
              "      <td>Non Refund</td>\n",
              "      <td>154</td>\n",
              "      <td>0</td>\n",
              "      <td>Transient</td>\n",
              "      <td>75.00</td>\n",
              "      <td>0</td>\n",
              "      <td>0</td>\n",
              "      <td>314f56dc-2e4d-4298-9bdd-27bb008bffff</td>\n",
              "      <td>1</td>\n",
              "      <td>7</td>\n",
              "    </tr>\n",
              "    <tr>\n",
              "      <th>4</th>\n",
              "      <td>City Hotel</td>\n",
              "      <td>104</td>\n",
              "      <td>2017</td>\n",
              "      <td>March</td>\n",
              "      <td>12</td>\n",
              "      <td>19</td>\n",
              "      <td>2</td>\n",
              "      <td>5</td>\n",
              "      <td>2</td>\n",
              "      <td>0.0</td>\n",
              "      <td>...</td>\n",
              "      <td>No Deposit</td>\n",
              "      <td>20</td>\n",
              "      <td>0</td>\n",
              "      <td>Transient-Party</td>\n",
              "      <td>75.00</td>\n",
              "      <td>0</td>\n",
              "      <td>1</td>\n",
              "      <td>28c75445-c603-413a-babf-ad377018b592</td>\n",
              "      <td>0</td>\n",
              "      <td>7</td>\n",
              "    </tr>\n",
              "    <tr>\n",
              "      <th>...</th>\n",
              "      <td>...</td>\n",
              "      <td>...</td>\n",
              "      <td>...</td>\n",
              "      <td>...</td>\n",
              "      <td>...</td>\n",
              "      <td>...</td>\n",
              "      <td>...</td>\n",
              "      <td>...</td>\n",
              "      <td>...</td>\n",
              "      <td>...</td>\n",
              "      <td>...</td>\n",
              "      <td>...</td>\n",
              "      <td>...</td>\n",
              "      <td>...</td>\n",
              "      <td>...</td>\n",
              "      <td>...</td>\n",
              "      <td>...</td>\n",
              "      <td>...</td>\n",
              "      <td>...</td>\n",
              "      <td>...</td>\n",
              "      <td>...</td>\n",
              "    </tr>\n",
              "    <tr>\n",
              "      <th>59635</th>\n",
              "      <td>Resort Hotel</td>\n",
              "      <td>24</td>\n",
              "      <td>2017</td>\n",
              "      <td>January</td>\n",
              "      <td>4</td>\n",
              "      <td>27</td>\n",
              "      <td>0</td>\n",
              "      <td>2</td>\n",
              "      <td>2</td>\n",
              "      <td>0.0</td>\n",
              "      <td>...</td>\n",
              "      <td>No Deposit</td>\n",
              "      <td>240</td>\n",
              "      <td>0</td>\n",
              "      <td>Transient</td>\n",
              "      <td>48.00</td>\n",
              "      <td>0</td>\n",
              "      <td>1</td>\n",
              "      <td>32bffef5-5404-4e86-9f39-fd2282e1ad7f</td>\n",
              "      <td>1</td>\n",
              "      <td>2</td>\n",
              "    </tr>\n",
              "    <tr>\n",
              "      <th>59636</th>\n",
              "      <td>City Hotel</td>\n",
              "      <td>0</td>\n",
              "      <td>2016</td>\n",
              "      <td>September</td>\n",
              "      <td>36</td>\n",
              "      <td>2</td>\n",
              "      <td>0</td>\n",
              "      <td>1</td>\n",
              "      <td>1</td>\n",
              "      <td>0.0</td>\n",
              "      <td>...</td>\n",
              "      <td>No Deposit</td>\n",
              "      <td>0</td>\n",
              "      <td>0</td>\n",
              "      <td>Transient</td>\n",
              "      <td>149.00</td>\n",
              "      <td>0</td>\n",
              "      <td>0</td>\n",
              "      <td>cc922a1c-356e-42a5-a984-0b1af03c2f5c</td>\n",
              "      <td>0</td>\n",
              "      <td>1</td>\n",
              "    </tr>\n",
              "    <tr>\n",
              "      <th>59637</th>\n",
              "      <td>City Hotel</td>\n",
              "      <td>10</td>\n",
              "      <td>2017</td>\n",
              "      <td>May</td>\n",
              "      <td>19</td>\n",
              "      <td>8</td>\n",
              "      <td>1</td>\n",
              "      <td>2</td>\n",
              "      <td>1</td>\n",
              "      <td>0.0</td>\n",
              "      <td>...</td>\n",
              "      <td>No Deposit</td>\n",
              "      <td>0</td>\n",
              "      <td>0</td>\n",
              "      <td>Transient</td>\n",
              "      <td>95.00</td>\n",
              "      <td>0</td>\n",
              "      <td>0</td>\n",
              "      <td>76fb0e83-59df-43ee-9c33-aec51030ed45</td>\n",
              "      <td>0</td>\n",
              "      <td>3</td>\n",
              "    </tr>\n",
              "    <tr>\n",
              "      <th>59638</th>\n",
              "      <td>Resort Hotel</td>\n",
              "      <td>143</td>\n",
              "      <td>2015</td>\n",
              "      <td>October</td>\n",
              "      <td>41</td>\n",
              "      <td>10</td>\n",
              "      <td>2</td>\n",
              "      <td>5</td>\n",
              "      <td>2</td>\n",
              "      <td>0.0</td>\n",
              "      <td>...</td>\n",
              "      <td>Non Refund</td>\n",
              "      <td>96</td>\n",
              "      <td>0</td>\n",
              "      <td>Transient</td>\n",
              "      <td>36.05</td>\n",
              "      <td>0</td>\n",
              "      <td>0</td>\n",
              "      <td>01906859-1094-4e37-b13e-b015b594d159</td>\n",
              "      <td>1</td>\n",
              "      <td>7</td>\n",
              "    </tr>\n",
              "    <tr>\n",
              "      <th>59639</th>\n",
              "      <td>City Hotel</td>\n",
              "      <td>57</td>\n",
              "      <td>2016</td>\n",
              "      <td>April</td>\n",
              "      <td>17</td>\n",
              "      <td>17</td>\n",
              "      <td>2</td>\n",
              "      <td>5</td>\n",
              "      <td>2</td>\n",
              "      <td>0.0</td>\n",
              "      <td>...</td>\n",
              "      <td>No Deposit</td>\n",
              "      <td>9</td>\n",
              "      <td>0</td>\n",
              "      <td>Transient</td>\n",
              "      <td>143.29</td>\n",
              "      <td>0</td>\n",
              "      <td>0</td>\n",
              "      <td>7137e599-4442-41fb-b147-4aba9f344e38</td>\n",
              "      <td>1</td>\n",
              "      <td>7</td>\n",
              "    </tr>\n",
              "  </tbody>\n",
              "</table>\n",
              "<p>59640 rows × 29 columns</p>\n",
              "</div>\n",
              "    <div class=\"colab-df-buttons\">\n",
              "\n",
              "  <div class=\"colab-df-container\">\n",
              "    <button class=\"colab-df-convert\" onclick=\"convertToInteractive('df-f719206b-83d9-4ec5-8d31-0d2bcbfd6270')\"\n",
              "            title=\"Convert this dataframe to an interactive table.\"\n",
              "            style=\"display:none;\">\n",
              "\n",
              "  <svg xmlns=\"http://www.w3.org/2000/svg\" height=\"24px\" viewBox=\"0 -960 960 960\">\n",
              "    <path d=\"M120-120v-720h720v720H120Zm60-500h600v-160H180v160Zm220 220h160v-160H400v160Zm0 220h160v-160H400v160ZM180-400h160v-160H180v160Zm440 0h160v-160H620v160ZM180-180h160v-160H180v160Zm440 0h160v-160H620v160Z\"/>\n",
              "  </svg>\n",
              "    </button>\n",
              "\n",
              "  <style>\n",
              "    .colab-df-container {\n",
              "      display:flex;\n",
              "      gap: 12px;\n",
              "    }\n",
              "\n",
              "    .colab-df-convert {\n",
              "      background-color: #E8F0FE;\n",
              "      border: none;\n",
              "      border-radius: 50%;\n",
              "      cursor: pointer;\n",
              "      display: none;\n",
              "      fill: #1967D2;\n",
              "      height: 32px;\n",
              "      padding: 0 0 0 0;\n",
              "      width: 32px;\n",
              "    }\n",
              "\n",
              "    .colab-df-convert:hover {\n",
              "      background-color: #E2EBFA;\n",
              "      box-shadow: 0px 1px 2px rgba(60, 64, 67, 0.3), 0px 1px 3px 1px rgba(60, 64, 67, 0.15);\n",
              "      fill: #174EA6;\n",
              "    }\n",
              "\n",
              "    .colab-df-buttons div {\n",
              "      margin-bottom: 4px;\n",
              "    }\n",
              "\n",
              "    [theme=dark] .colab-df-convert {\n",
              "      background-color: #3B4455;\n",
              "      fill: #D2E3FC;\n",
              "    }\n",
              "\n",
              "    [theme=dark] .colab-df-convert:hover {\n",
              "      background-color: #434B5C;\n",
              "      box-shadow: 0px 1px 3px 1px rgba(0, 0, 0, 0.15);\n",
              "      filter: drop-shadow(0px 1px 2px rgba(0, 0, 0, 0.3));\n",
              "      fill: #FFFFFF;\n",
              "    }\n",
              "  </style>\n",
              "\n",
              "    <script>\n",
              "      const buttonEl =\n",
              "        document.querySelector('#df-f719206b-83d9-4ec5-8d31-0d2bcbfd6270 button.colab-df-convert');\n",
              "      buttonEl.style.display =\n",
              "        google.colab.kernel.accessAllowed ? 'block' : 'none';\n",
              "\n",
              "      async function convertToInteractive(key) {\n",
              "        const element = document.querySelector('#df-f719206b-83d9-4ec5-8d31-0d2bcbfd6270');\n",
              "        const dataTable =\n",
              "          await google.colab.kernel.invokeFunction('convertToInteractive',\n",
              "                                                    [key], {});\n",
              "        if (!dataTable) return;\n",
              "\n",
              "        const docLinkHtml = 'Like what you see? Visit the ' +\n",
              "          '<a target=\"_blank\" href=https://colab.research.google.com/notebooks/data_table.ipynb>data table notebook</a>'\n",
              "          + ' to learn more about interactive tables.';\n",
              "        element.innerHTML = '';\n",
              "        dataTable['output_type'] = 'display_data';\n",
              "        await google.colab.output.renderOutput(dataTable, element);\n",
              "        const docLink = document.createElement('div');\n",
              "        docLink.innerHTML = docLinkHtml;\n",
              "        element.appendChild(docLink);\n",
              "      }\n",
              "    </script>\n",
              "  </div>\n",
              "\n",
              "\n",
              "<div id=\"df-568550b3-5582-4654-b1b3-fae3d08c9b56\">\n",
              "  <button class=\"colab-df-quickchart\" onclick=\"quickchart('df-568550b3-5582-4654-b1b3-fae3d08c9b56')\"\n",
              "            title=\"Suggest charts.\"\n",
              "            style=\"display:none;\">\n",
              "\n",
              "<svg xmlns=\"http://www.w3.org/2000/svg\" height=\"24px\"viewBox=\"0 0 24 24\"\n",
              "     width=\"24px\">\n",
              "    <g>\n",
              "        <path d=\"M19 3H5c-1.1 0-2 .9-2 2v14c0 1.1.9 2 2 2h14c1.1 0 2-.9 2-2V5c0-1.1-.9-2-2-2zM9 17H7v-7h2v7zm4 0h-2V7h2v10zm4 0h-2v-4h2v4z\"/>\n",
              "    </g>\n",
              "</svg>\n",
              "  </button>\n",
              "\n",
              "<style>\n",
              "  .colab-df-quickchart {\n",
              "      --bg-color: #E8F0FE;\n",
              "      --fill-color: #1967D2;\n",
              "      --hover-bg-color: #E2EBFA;\n",
              "      --hover-fill-color: #174EA6;\n",
              "      --disabled-fill-color: #AAA;\n",
              "      --disabled-bg-color: #DDD;\n",
              "  }\n",
              "\n",
              "  [theme=dark] .colab-df-quickchart {\n",
              "      --bg-color: #3B4455;\n",
              "      --fill-color: #D2E3FC;\n",
              "      --hover-bg-color: #434B5C;\n",
              "      --hover-fill-color: #FFFFFF;\n",
              "      --disabled-bg-color: #3B4455;\n",
              "      --disabled-fill-color: #666;\n",
              "  }\n",
              "\n",
              "  .colab-df-quickchart {\n",
              "    background-color: var(--bg-color);\n",
              "    border: none;\n",
              "    border-radius: 50%;\n",
              "    cursor: pointer;\n",
              "    display: none;\n",
              "    fill: var(--fill-color);\n",
              "    height: 32px;\n",
              "    padding: 0;\n",
              "    width: 32px;\n",
              "  }\n",
              "\n",
              "  .colab-df-quickchart:hover {\n",
              "    background-color: var(--hover-bg-color);\n",
              "    box-shadow: 0 1px 2px rgba(60, 64, 67, 0.3), 0 1px 3px 1px rgba(60, 64, 67, 0.15);\n",
              "    fill: var(--button-hover-fill-color);\n",
              "  }\n",
              "\n",
              "  .colab-df-quickchart-complete:disabled,\n",
              "  .colab-df-quickchart-complete:disabled:hover {\n",
              "    background-color: var(--disabled-bg-color);\n",
              "    fill: var(--disabled-fill-color);\n",
              "    box-shadow: none;\n",
              "  }\n",
              "\n",
              "  .colab-df-spinner {\n",
              "    border: 2px solid var(--fill-color);\n",
              "    border-color: transparent;\n",
              "    border-bottom-color: var(--fill-color);\n",
              "    animation:\n",
              "      spin 1s steps(1) infinite;\n",
              "  }\n",
              "\n",
              "  @keyframes spin {\n",
              "    0% {\n",
              "      border-color: transparent;\n",
              "      border-bottom-color: var(--fill-color);\n",
              "      border-left-color: var(--fill-color);\n",
              "    }\n",
              "    20% {\n",
              "      border-color: transparent;\n",
              "      border-left-color: var(--fill-color);\n",
              "      border-top-color: var(--fill-color);\n",
              "    }\n",
              "    30% {\n",
              "      border-color: transparent;\n",
              "      border-left-color: var(--fill-color);\n",
              "      border-top-color: var(--fill-color);\n",
              "      border-right-color: var(--fill-color);\n",
              "    }\n",
              "    40% {\n",
              "      border-color: transparent;\n",
              "      border-right-color: var(--fill-color);\n",
              "      border-top-color: var(--fill-color);\n",
              "    }\n",
              "    60% {\n",
              "      border-color: transparent;\n",
              "      border-right-color: var(--fill-color);\n",
              "    }\n",
              "    80% {\n",
              "      border-color: transparent;\n",
              "      border-right-color: var(--fill-color);\n",
              "      border-bottom-color: var(--fill-color);\n",
              "    }\n",
              "    90% {\n",
              "      border-color: transparent;\n",
              "      border-bottom-color: var(--fill-color);\n",
              "    }\n",
              "  }\n",
              "</style>\n",
              "\n",
              "  <script>\n",
              "    async function quickchart(key) {\n",
              "      const quickchartButtonEl =\n",
              "        document.querySelector('#' + key + ' button');\n",
              "      quickchartButtonEl.disabled = true;  // To prevent multiple clicks.\n",
              "      quickchartButtonEl.classList.add('colab-df-spinner');\n",
              "      try {\n",
              "        const charts = await google.colab.kernel.invokeFunction(\n",
              "            'suggestCharts', [key], {});\n",
              "      } catch (error) {\n",
              "        console.error('Error during call to suggestCharts:', error);\n",
              "      }\n",
              "      quickchartButtonEl.classList.remove('colab-df-spinner');\n",
              "      quickchartButtonEl.classList.add('colab-df-quickchart-complete');\n",
              "    }\n",
              "    (() => {\n",
              "      let quickchartButtonEl =\n",
              "        document.querySelector('#df-568550b3-5582-4654-b1b3-fae3d08c9b56 button');\n",
              "      quickchartButtonEl.style.display =\n",
              "        google.colab.kernel.accessAllowed ? 'block' : 'none';\n",
              "    })();\n",
              "  </script>\n",
              "</div>\n",
              "    </div>\n",
              "  </div>\n"
            ]
          },
          "metadata": {},
          "execution_count": 101
        }
      ]
    },
    {
      "cell_type": "code",
      "source": [
        "#ARRIVAL_DATE_MONTH\n",
        "meses_a_numeros = {\n",
        "    'January': 1,\n",
        "    'February': 2,\n",
        "    'March': 3,\n",
        "    'April': 4,\n",
        "    'May': 5,\n",
        "    'June': 6,\n",
        "    'July': 7,\n",
        "    'August': 8,\n",
        "    'September': 9,\n",
        "    'October': 10,\n",
        "    'November': 11,\n",
        "    'December': 12\n",
        "}\n",
        "df_hotel_train.arrival_date_month = df_hotel_train.arrival_date_month.map(meses_a_numeros)"
      ],
      "metadata": {
        "id": "GJ2PPLAHGQGD"
      },
      "execution_count": 102,
      "outputs": []
    },
    {
      "cell_type": "code",
      "source": [
        "#ID\n",
        "df_hotel_train.drop('id', axis = 'columns', inplace = True)"
      ],
      "metadata": {
        "id": "MABPm5AIOpfv"
      },
      "execution_count": 103,
      "outputs": []
    },
    {
      "cell_type": "code",
      "source": [
        "df_hotel_train.isna().sum()"
      ],
      "metadata": {
        "colab": {
          "base_uri": "https://localhost:8080/"
        },
        "id": "CMMTcCetCR8T",
        "outputId": "387ddc77-bb47-452b-8749-873ea1b7398b"
      },
      "execution_count": 104,
      "outputs": [
        {
          "output_type": "execute_result",
          "data": {
            "text/plain": [
              "hotel                          0\n",
              "lead_time                      0\n",
              "arrival_date_year              0\n",
              "arrival_date_month             0\n",
              "arrival_date_week_number       0\n",
              "arrival_date_day_of_month      0\n",
              "stays_in_weekend_nights        0\n",
              "stays_in_week_nights           0\n",
              "adults                         0\n",
              "children                       0\n",
              "babies                         0\n",
              "meal                           0\n",
              "country                        0\n",
              "market_segment                 0\n",
              "distribution_channel           0\n",
              "is_repeated_guest              0\n",
              "previous_cancellations         0\n",
              "reserved_room_type             0\n",
              "booking_changes                0\n",
              "deposit_type                   0\n",
              "agent                          0\n",
              "days_in_waiting_list           0\n",
              "customer_type                  0\n",
              "adr                            0\n",
              "required_car_parking_spaces    0\n",
              "total_of_special_requests      0\n",
              "is_canceled                    0\n",
              "total_days                     0\n",
              "dtype: int64"
            ]
          },
          "metadata": {},
          "execution_count": 104
        }
      ]
    },
    {
      "cell_type": "code",
      "source": [
        "print(\"El dataframe tiene \"f\" {df_hotel_train.shape[0]} \"\"filas y \"f\"{df_hotel_train.shape[1]} \"\"columnas.\")"
      ],
      "metadata": {
        "colab": {
          "base_uri": "https://localhost:8080/"
        },
        "id": "rcxpIi-zCpvf",
        "outputId": "83e4deaa-4585-47e8-9306-b3a2f9156050"
      },
      "execution_count": 105,
      "outputs": [
        {
          "output_type": "stream",
          "name": "stdout",
          "text": [
            "El dataframe tiene  59640 filas y 28 columnas.\n"
          ]
        }
      ]
    },
    {
      "cell_type": "markdown",
      "source": [
        "### Dataset Test"
      ],
      "metadata": {
        "id": "nYzwZWqWCvR8"
      }
    },
    {
      "cell_type": "code",
      "source": [
        "print(\"El dataframe tiene \"f\" {df_hotel_test.shape[0]} \"\"filas y \"f\"{df_hotel_test.shape[1]} \"\"columnas.\")"
      ],
      "metadata": {
        "colab": {
          "base_uri": "https://localhost:8080/"
        },
        "id": "yaOtUe7JDfot",
        "outputId": "6090905b-4141-4d0e-ab7b-caf1c278b0b4"
      },
      "execution_count": 106,
      "outputs": [
        {
          "output_type": "stream",
          "name": "stdout",
          "text": [
            "El dataframe tiene  26535 filas y 31 columnas.\n"
          ]
        }
      ]
    },
    {
      "cell_type": "code",
      "source": [
        "df_hotel_test.isna().sum()"
      ],
      "metadata": {
        "colab": {
          "base_uri": "https://localhost:8080/"
        },
        "id": "_U9K4VB7Dtuq",
        "outputId": "4aa8d027-6884-42f9-a426-5b7f6608a49c"
      },
      "execution_count": 107,
      "outputs": [
        {
          "output_type": "execute_result",
          "data": {
            "text/plain": [
              "hotel                                 0\n",
              "lead_time                             0\n",
              "arrival_date_year                     0\n",
              "arrival_date_month                    0\n",
              "arrival_date_week_number              0\n",
              "arrival_date_day_of_month             0\n",
              "stays_in_weekend_nights               0\n",
              "stays_in_week_nights                  0\n",
              "adults                                0\n",
              "children                              0\n",
              "babies                                0\n",
              "meal                                  0\n",
              "country                              95\n",
              "market_segment                        0\n",
              "distribution_channel                  0\n",
              "is_repeated_guest                     0\n",
              "previous_cancellations                0\n",
              "previous_bookings_not_canceled        0\n",
              "reserved_room_type                    0\n",
              "assigned_room_type                    0\n",
              "booking_changes                       0\n",
              "deposit_type                          0\n",
              "agent                              3363\n",
              "company                           25218\n",
              "days_in_waiting_list                  0\n",
              "customer_type                         0\n",
              "adr                                   0\n",
              "required_car_parking_spaces           0\n",
              "total_of_special_requests             0\n",
              "reservation_status_date               0\n",
              "id                                    0\n",
              "dtype: int64"
            ]
          },
          "metadata": {},
          "execution_count": 107
        }
      ]
    },
    {
      "cell_type": "code",
      "source": [
        "#AGENT\n",
        "df_hotel_test.fillna({'agent':0}, inplace = True)\n",
        "\n",
        "#ASSIGNED_ROOM_TYPE\n",
        "df_hotel_test.drop('assigned_room_type', axis = 'columns', inplace = True)"
      ],
      "metadata": {
        "id": "lRRbf-ueEl1h"
      },
      "execution_count": 108,
      "outputs": []
    },
    {
      "cell_type": "code",
      "source": [
        "#ARRIVAL_DATE_MONTH\n",
        "meses_a_numeros = {\n",
        "    'January': 1,\n",
        "    'February': 2,\n",
        "    'March': 3,\n",
        "    'April': 4,\n",
        "    'May': 5,\n",
        "    'June': 6,\n",
        "    'July': 7,\n",
        "    'August': 8,\n",
        "    'September': 9,\n",
        "    'October': 10,\n",
        "    'November': 11,\n",
        "    'December': 12\n",
        "}\n",
        "df_hotel_test.arrival_date_month = df_hotel_test.arrival_date_month.map(meses_a_numeros)"
      ],
      "metadata": {
        "id": "mI3bifU_Fbz7"
      },
      "execution_count": 109,
      "outputs": []
    },
    {
      "cell_type": "code",
      "source": [
        "#RESERVED_ROOM_TYPE\n",
        "habitacion_train = df_hotel_train.reserved_room_type.unique().tolist()\n",
        "habitacion_test = df_hotel_test.reserved_room_type.unique().tolist()\n",
        "habitacion_train_test = set(habitacion_train).difference(set(habitacion_test))\n",
        "habitacion_test_train = set(habitacion_test).difference(set(habitacion_train))\n",
        "dif_habitacion_test_train = {x:'A' for x in habitacion_test_train}\n",
        "dif_habitacion_train_test = {x:'A' for x in habitacion_train_test}\n",
        "df_hotel_train['reserved_room_type'].replace(dif_habitacion_train_test, inplace = True)\n",
        "df_hotel_test['reserved_room_type'].replace(dif_habitacion_test_train, inplace = True)"
      ],
      "metadata": {
        "id": "x8VpuXxDGeig"
      },
      "execution_count": 110,
      "outputs": []
    },
    {
      "cell_type": "code",
      "source": [
        "dormitorio_letra_a_numero = {\n",
        "    'A': 1,\n",
        "    'B': 2,\n",
        "    'C': 3,\n",
        "    'D': 4,\n",
        "    'E': 5,\n",
        "    'F': 6,\n",
        "    'G': 7,\n",
        "    'H': 8,\n",
        "    'I': 9,\n",
        "    'K': 10,\n",
        "    'L': 11,\n",
        "    'P': 12\n",
        "}\n",
        "df_hotel_test.reserved_room_type = df_hotel_test.reserved_room_type.map(dormitorio_letra_a_numero)"
      ],
      "metadata": {
        "id": "MeRwhn5LI1r7"
      },
      "execution_count": 111,
      "outputs": []
    },
    {
      "cell_type": "code",
      "source": [
        "dormitorio_letra_a_numero = {\n",
        "    'A': 1,\n",
        "    'B': 2,\n",
        "    'C': 3,\n",
        "    'D': 4,\n",
        "    'E': 5,\n",
        "    'F': 6,\n",
        "    'G': 7,\n",
        "    'H': 8,\n",
        "    'I': 9,\n",
        "    'K': 10,\n",
        "    'L': 11,\n",
        "    'P': 12\n",
        "}\n",
        "df_hotel_train.reserved_room_type = df_hotel_train.reserved_room_type.map(dormitorio_letra_a_numero)"
      ],
      "metadata": {
        "id": "bLUzGwb1Jo5Q"
      },
      "execution_count": 112,
      "outputs": []
    },
    {
      "cell_type": "code",
      "source": [
        "#DISTRIBUTION_CHANNEL\n",
        "\n",
        "distribution_channel_train = df_hotel_train.distribution_channel.unique().tolist()\n",
        "distribution_channel_test = df_hotel_test.distribution_channel.unique().tolist()\n",
        "distribution_channel_train_test = set(distribution_channel_train).difference(set(distribution_channel_test))\n",
        "distribution_channel_test_train = set(distribution_channel_test).difference(set(distribution_channel_train))\n",
        "dif_distribution_channel_test_train = {x:'TA/TO' for x in distribution_channel_test_train}\n",
        "dif_distribution_channel_train_test = {x:'TA/TO' for x in distribution_channel_train_test}\n",
        "df_hotel_train['distribution_channel'].replace(dif_distribution_channel_train_test, inplace = True)\n",
        "df_hotel_test['distribution_channel'].replace(dif_distribution_channel_test_train, inplace = True)"
      ],
      "metadata": {
        "id": "uqL1wGdLKSHj"
      },
      "execution_count": 113,
      "outputs": []
    },
    {
      "cell_type": "code",
      "source": [
        "#COUNTRY\n",
        "country_top_train = df_hotel_train['country'].value_counts()\n",
        "top_20_country_train = country_top_train.head(20).index.tolist()\n",
        "df_hotel_train['country'] = df_hotel_train['country'].apply(lambda x: x if x in top_20_country_train else 'other')\n",
        "df_hotel_test['country'] = df_hotel_test['country'].apply(lambda x: x if x in top_20_country_train else 'other')"
      ],
      "metadata": {
        "id": "l7soNkyxMnFA"
      },
      "execution_count": 114,
      "outputs": []
    },
    {
      "cell_type": "code",
      "source": [
        "#MARKET_SEGMENT\n",
        "\n",
        "market_segment_train = df_hotel_train.market_segment.unique().tolist()\n",
        "market_segment_test = df_hotel_test.market_segment.unique().tolist()\n",
        "market_segment_train_test = set(market_segment_train).difference(set(market_segment_test))\n",
        "market_segment_test_train = set(market_segment_test).difference(set(market_segment_train))\n",
        "dif_market_segment_test_train = {x:'Online TA' for x in market_segment_test_train}\n",
        "dif_market_segment_train_test = {x:'Online TA' for x in market_segment_train_test}\n",
        "df_hotel_train['market_segment'].replace(dif_market_segment_train_test, inplace = True)\n",
        "df_hotel_test['market_segment'].replace(dif_market_segment_test_train, inplace = True)"
      ],
      "metadata": {
        "id": "audoidVHMK1L"
      },
      "execution_count": 115,
      "outputs": []
    },
    {
      "cell_type": "code",
      "source": [
        "#ID\n",
        "df_hotel_test.drop('id', axis = 'columns', inplace = True)"
      ],
      "metadata": {
        "id": "JnRGiYvKOdMA"
      },
      "execution_count": 116,
      "outputs": []
    },
    {
      "cell_type": "code",
      "source": [
        "#COMPANY\n",
        "df_hotel_test.drop('company', axis = 'columns', inplace = True)\n",
        "\n",
        "#AGENT\n",
        "#AGENT\n",
        "df_hotel_test.loc[df_hotel_test['agent'].isnull(), 'agent'] = 0\n",
        "df_hotel_test['agent'] = df_hotel_test['agent'].astype(int)\n",
        "\n",
        "#COUNTRY\n",
        "df_hotel_test.loc[df_hotel_test['country'].isnull(), 'country'] = 'PRT'\n",
        "\n",
        "#CHILDREN\n",
        "df_hotel_test.loc[df_hotel_test['children'] < 0, 'children'] = 0\n",
        "df_hotel_test['children'] = df_hotel_test['children'].astype(int)\n",
        "\n",
        "#PREVIOUS_BOOKINGS_NOT_CANCELED\n",
        "df_hotel_test.drop('previous_bookings_not_canceled', axis = 'columns', inplace = True)\n",
        "\n",
        "#STAYS_IN_WEEK_NIGHTS & STAYS_IN_WEEKEND_NIGHTS\n",
        "df_hotel_test['total_days'] = df_hotel_test['stays_in_week_nights'] + df_hotel_test['stays_in_weekend_nights']\n",
        "\n",
        "#RESERVATION_STATUS_DATE\n",
        "df_hotel_test.drop('reservation_status_date', axis = 'columns', inplace = True)\n"
      ],
      "metadata": {
        "id": "MCQtQ9SpOvJe"
      },
      "execution_count": 117,
      "outputs": []
    },
    {
      "cell_type": "code",
      "source": [
        "columns_modificar_train = df_hotel_train.dtypes[(df_hotel_train.dtypes != 'int64') & (df_hotel_train.dtypes != 'float64')].index\n",
        "print(columns_modificar_train.tolist())"
      ],
      "metadata": {
        "colab": {
          "base_uri": "https://localhost:8080/"
        },
        "id": "q1Mqv_J5QYLT",
        "outputId": "559f8436-c7be-444b-99fa-94b7cf9c9e49"
      },
      "execution_count": 118,
      "outputs": [
        {
          "output_type": "stream",
          "name": "stdout",
          "text": [
            "['hotel', 'meal', 'country', 'market_segment', 'distribution_channel', 'deposit_type', 'customer_type']\n"
          ]
        }
      ]
    },
    {
      "cell_type": "code",
      "source": [
        "columns_modificar_test = df_hotel_test.dtypes[(df_hotel_test.dtypes != 'int64') & (df_hotel_test.dtypes != 'float64')].index\n",
        "print(columns_modificar_test.tolist())"
      ],
      "metadata": {
        "colab": {
          "base_uri": "https://localhost:8080/"
        },
        "id": "X0lEkLwZRVWG",
        "outputId": "85c2d1d6-1794-441a-e93c-9339222a9e28"
      },
      "execution_count": 119,
      "outputs": [
        {
          "output_type": "stream",
          "name": "stdout",
          "text": [
            "['hotel', 'meal', 'country', 'market_segment', 'distribution_channel', 'deposit_type', 'customer_type']\n"
          ]
        }
      ]
    },
    {
      "cell_type": "markdown",
      "source": [
        "### One hot Enconding"
      ],
      "metadata": {
        "id": "t0tvgzCTSRdS"
      }
    },
    {
      "cell_type": "code",
      "source": [
        "df_hotel_train = pd.get_dummies(df_hotel_train, columns = columns_modificar_train, drop_first = True)\n",
        "df_hotel_test = pd.get_dummies(df_hotel_test, columns = columns_modificar_test, drop_first = True)"
      ],
      "metadata": {
        "id": "QzL-EqoKSUyf"
      },
      "execution_count": 120,
      "outputs": []
    },
    {
      "cell_type": "code",
      "source": [
        "faltan_columnas = list(sorted(set(df_hotel_test.columns) - set(df_hotel_train.columns)))\n",
        "agregar_columnas = list(sorted(set(df_hotel_train.columns) - set(df_hotel_test.columns)))\n",
        "print(faltan_columnas)\n",
        "print(agregar_columnas)"
      ],
      "metadata": {
        "colab": {
          "base_uri": "https://localhost:8080/"
        },
        "id": "vfAN99rYSzLi",
        "outputId": "b5babb6b-43a3-482e-8104-58234b56c462"
      },
      "execution_count": 122,
      "outputs": [
        {
          "output_type": "stream",
          "name": "stdout",
          "text": [
            "[]\n",
            "['is_canceled']\n"
          ]
        }
      ]
    },
    {
      "cell_type": "code",
      "source": [
        "df_hotel_test.isna().sum()"
      ],
      "metadata": {
        "colab": {
          "base_uri": "https://localhost:8080/"
        },
        "id": "mlMOO1BfSA_G",
        "outputId": "9c5c4143-436c-4feb-83a6-2311009c9b8c"
      },
      "execution_count": 123,
      "outputs": [
        {
          "output_type": "execute_result",
          "data": {
            "text/plain": [
              "lead_time                        0\n",
              "arrival_date_year                0\n",
              "arrival_date_month               0\n",
              "arrival_date_week_number         0\n",
              "arrival_date_day_of_month        0\n",
              "stays_in_weekend_nights          0\n",
              "stays_in_week_nights             0\n",
              "adults                           0\n",
              "children                         0\n",
              "babies                           0\n",
              "is_repeated_guest                0\n",
              "previous_cancellations           0\n",
              "reserved_room_type               0\n",
              "booking_changes                  0\n",
              "agent                            0\n",
              "days_in_waiting_list             0\n",
              "adr                              0\n",
              "required_car_parking_spaces      0\n",
              "total_of_special_requests        0\n",
              "total_days                       0\n",
              "hotel_Resort Hotel               0\n",
              "meal_FB                          0\n",
              "meal_HB                          0\n",
              "meal_SC                          0\n",
              "meal_Undefined                   0\n",
              "country_BEL                      0\n",
              "country_BRA                      0\n",
              "country_CHE                      0\n",
              "country_CHN                      0\n",
              "country_CN                       0\n",
              "country_DEU                      0\n",
              "country_ESP                      0\n",
              "country_FRA                      0\n",
              "country_GBR                      0\n",
              "country_IRL                      0\n",
              "country_ISR                      0\n",
              "country_ITA                      0\n",
              "country_NLD                      0\n",
              "country_NOR                      0\n",
              "country_POL                      0\n",
              "country_PRT                      0\n",
              "country_RUS                      0\n",
              "country_SWE                      0\n",
              "country_USA                      0\n",
              "country_other                    0\n",
              "market_segment_Complementary     0\n",
              "market_segment_Corporate         0\n",
              "market_segment_Direct            0\n",
              "market_segment_Groups            0\n",
              "market_segment_Offline TA/TO     0\n",
              "market_segment_Online TA         0\n",
              "distribution_channel_Direct      0\n",
              "distribution_channel_GDS         0\n",
              "distribution_channel_TA/TO       0\n",
              "deposit_type_Non Refund          0\n",
              "deposit_type_Refundable          0\n",
              "customer_type_Group              0\n",
              "customer_type_Transient          0\n",
              "customer_type_Transient-Party    0\n",
              "dtype: int64"
            ]
          },
          "metadata": {},
          "execution_count": 123
        }
      ]
    },
    {
      "cell_type": "code",
      "source": [
        "df_hotel_train.isna().sum()"
      ],
      "metadata": {
        "colab": {
          "base_uri": "https://localhost:8080/"
        },
        "id": "25Bg_zYpE0O4",
        "outputId": "fcf71de5-4d6d-4187-d40b-8e527ce125ef"
      },
      "execution_count": 124,
      "outputs": [
        {
          "output_type": "execute_result",
          "data": {
            "text/plain": [
              "lead_time                        0\n",
              "arrival_date_year                0\n",
              "arrival_date_month               0\n",
              "arrival_date_week_number         0\n",
              "arrival_date_day_of_month        0\n",
              "stays_in_weekend_nights          0\n",
              "stays_in_week_nights             0\n",
              "adults                           0\n",
              "children                         0\n",
              "babies                           0\n",
              "is_repeated_guest                0\n",
              "previous_cancellations           0\n",
              "reserved_room_type               0\n",
              "booking_changes                  0\n",
              "agent                            0\n",
              "days_in_waiting_list             0\n",
              "adr                              0\n",
              "required_car_parking_spaces      0\n",
              "total_of_special_requests        0\n",
              "is_canceled                      0\n",
              "total_days                       0\n",
              "hotel_Resort Hotel               0\n",
              "meal_FB                          0\n",
              "meal_HB                          0\n",
              "meal_SC                          0\n",
              "meal_Undefined                   0\n",
              "country_BEL                      0\n",
              "country_BRA                      0\n",
              "country_CHE                      0\n",
              "country_CHN                      0\n",
              "country_CN                       0\n",
              "country_DEU                      0\n",
              "country_ESP                      0\n",
              "country_FRA                      0\n",
              "country_GBR                      0\n",
              "country_IRL                      0\n",
              "country_ISR                      0\n",
              "country_ITA                      0\n",
              "country_NLD                      0\n",
              "country_NOR                      0\n",
              "country_POL                      0\n",
              "country_PRT                      0\n",
              "country_RUS                      0\n",
              "country_SWE                      0\n",
              "country_USA                      0\n",
              "country_other                    0\n",
              "market_segment_Complementary     0\n",
              "market_segment_Corporate         0\n",
              "market_segment_Direct            0\n",
              "market_segment_Groups            0\n",
              "market_segment_Offline TA/TO     0\n",
              "market_segment_Online TA         0\n",
              "distribution_channel_Direct      0\n",
              "distribution_channel_GDS         0\n",
              "distribution_channel_TA/TO       0\n",
              "deposit_type_Non Refund          0\n",
              "deposit_type_Refundable          0\n",
              "customer_type_Group              0\n",
              "customer_type_Transient          0\n",
              "customer_type_Transient-Party    0\n",
              "dtype: int64"
            ]
          },
          "metadata": {},
          "execution_count": 124
        }
      ]
    },
    {
      "cell_type": "code",
      "source": [
        "df_hotel_train.to_csv('df_hotel_train_clean.csv', index = False)"
      ],
      "metadata": {
        "id": "Yhd8Y5gHC1rU"
      },
      "execution_count": 125,
      "outputs": []
    },
    {
      "cell_type": "code",
      "source": [
        "df_hotel_test.to_csv('df_hotel_test_clean.csv', index = False)"
      ],
      "metadata": {
        "id": "IpONTicUDZ83"
      },
      "execution_count": 126,
      "outputs": []
    }
  ]
}